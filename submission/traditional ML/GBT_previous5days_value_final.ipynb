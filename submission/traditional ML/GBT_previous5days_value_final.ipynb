{
 "cells": [
  {
   "cell_type": "code",
   "execution_count": 1,
   "id": "65fb2379-97e8-4d36-b81b-9929029e99d3",
   "metadata": {},
   "outputs": [],
   "source": [
    "import numpy as np\n",
    "import pandas as pd\n",
    "df1 = pd.read_csv('BTC-USD_day_yfin.csv')"
   ]
  },
  {
   "cell_type": "code",
   "execution_count": 73,
   "id": "fab917a2-2d73-4c74-af63-72851145439f",
   "metadata": {},
   "outputs": [
    {
     "data": {
      "text/html": [
       "<div>\n",
       "<style scoped>\n",
       "    .dataframe tbody tr th:only-of-type {\n",
       "        vertical-align: middle;\n",
       "    }\n",
       "\n",
       "    .dataframe tbody tr th {\n",
       "        vertical-align: top;\n",
       "    }\n",
       "\n",
       "    .dataframe thead th {\n",
       "        text-align: right;\n",
       "    }\n",
       "</style>\n",
       "<table border=\"1\" class=\"dataframe\">\n",
       "  <thead>\n",
       "    <tr style=\"text-align: right;\">\n",
       "      <th></th>\n",
       "      <th>Date</th>\n",
       "      <th>Open</th>\n",
       "      <th>High</th>\n",
       "      <th>Low</th>\n",
       "      <th>Close</th>\n",
       "      <th>Adj Close</th>\n",
       "      <th>Volume</th>\n",
       "    </tr>\n",
       "  </thead>\n",
       "  <tbody>\n",
       "    <tr>\n",
       "      <th>0</th>\n",
       "      <td>2018-01-01</td>\n",
       "      <td>14112.200195</td>\n",
       "      <td>14112.200195</td>\n",
       "      <td>13154.700195</td>\n",
       "      <td>13657.200195</td>\n",
       "      <td>13657.200195</td>\n",
       "      <td>10291200000</td>\n",
       "    </tr>\n",
       "    <tr>\n",
       "      <th>1</th>\n",
       "      <td>2018-01-02</td>\n",
       "      <td>13625.000000</td>\n",
       "      <td>15444.599609</td>\n",
       "      <td>13163.599609</td>\n",
       "      <td>14982.099609</td>\n",
       "      <td>14982.099609</td>\n",
       "      <td>16846600192</td>\n",
       "    </tr>\n",
       "    <tr>\n",
       "      <th>2</th>\n",
       "      <td>2018-01-03</td>\n",
       "      <td>14978.200195</td>\n",
       "      <td>15572.799805</td>\n",
       "      <td>14844.500000</td>\n",
       "      <td>15201.000000</td>\n",
       "      <td>15201.000000</td>\n",
       "      <td>16871900160</td>\n",
       "    </tr>\n",
       "    <tr>\n",
       "      <th>3</th>\n",
       "      <td>2018-01-04</td>\n",
       "      <td>15270.700195</td>\n",
       "      <td>15739.700195</td>\n",
       "      <td>14522.200195</td>\n",
       "      <td>15599.200195</td>\n",
       "      <td>15599.200195</td>\n",
       "      <td>21783199744</td>\n",
       "    </tr>\n",
       "    <tr>\n",
       "      <th>4</th>\n",
       "      <td>2018-01-05</td>\n",
       "      <td>15477.200195</td>\n",
       "      <td>17705.199219</td>\n",
       "      <td>15202.799805</td>\n",
       "      <td>17429.500000</td>\n",
       "      <td>17429.500000</td>\n",
       "      <td>23840899072</td>\n",
       "    </tr>\n",
       "  </tbody>\n",
       "</table>\n",
       "</div>"
      ],
      "text/plain": [
       "         Date          Open          High           Low         Close  \\\n",
       "0  2018-01-01  14112.200195  14112.200195  13154.700195  13657.200195   \n",
       "1  2018-01-02  13625.000000  15444.599609  13163.599609  14982.099609   \n",
       "2  2018-01-03  14978.200195  15572.799805  14844.500000  15201.000000   \n",
       "3  2018-01-04  15270.700195  15739.700195  14522.200195  15599.200195   \n",
       "4  2018-01-05  15477.200195  17705.199219  15202.799805  17429.500000   \n",
       "\n",
       "      Adj Close       Volume  \n",
       "0  13657.200195  10291200000  \n",
       "1  14982.099609  16846600192  \n",
       "2  15201.000000  16871900160  \n",
       "3  15599.200195  21783199744  \n",
       "4  17429.500000  23840899072  "
      ]
     },
     "execution_count": 73,
     "metadata": {},
     "output_type": "execute_result"
    }
   ],
   "source": [
    "df1.head()"
   ]
  },
  {
   "cell_type": "code",
   "execution_count": 74,
   "id": "1ab51fea-6c03-4d94-bc1d-761ffc6bf55c",
   "metadata": {},
   "outputs": [],
   "source": [
    "df1['Price'] = df1['Adj Close']\n",
    "df2 = df1[['Date','Price']]\n",
    "df2 = df2.iloc[::-1]"
   ]
  },
  {
   "cell_type": "code",
   "execution_count": 75,
   "id": "4ebe78a8-bec2-4055-b8f5-a01e83ad1bbb",
   "metadata": {},
   "outputs": [],
   "source": [
    "lag = 5\n",
    "for i in range (1,lag+1):\n",
    "    df2['price_l'+str(i)] = df2['Price'][i:]\n",
    "    df2['price_l'+str(i)] = df2['price_l'+str(i)].shift(-i)\n"
   ]
  },
  {
   "cell_type": "code",
   "execution_count": 76,
   "id": "8a7de877-11d6-4376-b727-4f8df76d76c5",
   "metadata": {},
   "outputs": [],
   "source": [
    "df2 = df2.head(len(df2)-lag)"
   ]
  },
  {
   "cell_type": "code",
   "execution_count": 77,
   "id": "f124e22e-c3ce-4f71-b007-2f54580be2e2",
   "metadata": {},
   "outputs": [],
   "source": [
    "test = df2.head(365)\n",
    "train = df2.tail(2190-365)\n",
    "x_test = test.drop(columns = ['Date', 'Price'])\n",
    "x_train = train.drop(columns = ['Date', 'Price'])\n",
    "y_test = test['Price']\n",
    "y_train = train['Price']\n"
   ]
  },
  {
   "cell_type": "code",
   "execution_count": 78,
   "id": "4ba77dc9-9f9f-4530-a1c5-ca07d67aa014",
   "metadata": {},
   "outputs": [],
   "source": [
    "from sklearn.ensemble import GradientBoostingRegressor as GBTReg\n",
    "from sklearn.model_selection import RepeatedKFold\n",
    "from sklearn.model_selection import GridSearchCV\n",
    "\n",
    "model = GBTReg(loss = 'squared_error')\n",
    "grid = dict()\n",
    "grid['n_estimators'] = [10, 100, 200]\n",
    "grid['learning_rate'] = [0.01, 0.1, 0.3]\n",
    "grid['max_depth'] = [3, 5, 9, 13]\n",
    "\n",
    "cv = RepeatedKFold(n_splits=5, n_repeats=3)\n",
    "grid_search = GridSearchCV(estimator=model, param_grid=grid, cv=cv)\n",
    "grid_result = grid_search.fit(x_train, y_train)"
   ]
  },
  {
   "cell_type": "code",
   "execution_count": 79,
   "id": "bb6791cd-d238-4bd4-99a1-602ed08df0ef",
   "metadata": {},
   "outputs": [
    {
     "name": "stdout",
     "output_type": "stream",
     "text": [
      "{'learning_rate': 0.1, 'max_depth': 3, 'n_estimators': 100}\n"
     ]
    }
   ],
   "source": [
    "print(grid_search.best_params_)"
   ]
  },
  {
   "cell_type": "code",
   "execution_count": 80,
   "id": "6c148af5-e7e3-4370-9712-f0f02a2b22ab",
   "metadata": {},
   "outputs": [],
   "source": [
    "gbt_reg_best = GBTReg(loss = 'squared_error',learning_rate = 0.1, max_depth = 3, n_estimators = 100)\n",
    "gbt_reg_best.fit(x_train,y_train)\n",
    "preds = gbt_reg_best.predict(x_test)"
   ]
  },
  {
   "cell_type": "code",
   "execution_count": 81,
   "id": "9b2d0ba7-d132-4296-816e-d155b03c99e8",
   "metadata": {},
   "outputs": [
    {
     "data": {
      "text/html": [
       "<div>\n",
       "<style scoped>\n",
       "    .dataframe tbody tr th:only-of-type {\n",
       "        vertical-align: middle;\n",
       "    }\n",
       "\n",
       "    .dataframe tbody tr th {\n",
       "        vertical-align: top;\n",
       "    }\n",
       "\n",
       "    .dataframe thead th {\n",
       "        text-align: right;\n",
       "    }\n",
       "</style>\n",
       "<table border=\"1\" class=\"dataframe\">\n",
       "  <thead>\n",
       "    <tr style=\"text-align: right;\">\n",
       "      <th></th>\n",
       "      <th>price_l1</th>\n",
       "      <th>price_l2</th>\n",
       "      <th>price_l3</th>\n",
       "      <th>price_l4</th>\n",
       "      <th>price_l5</th>\n",
       "      <th>Price</th>\n",
       "      <th>Pred</th>\n",
       "    </tr>\n",
       "  </thead>\n",
       "  <tbody>\n",
       "    <tr>\n",
       "      <th>2190</th>\n",
       "      <td>42156.902344</td>\n",
       "      <td>42099.402344</td>\n",
       "      <td>42627.855469</td>\n",
       "      <td>43442.855469</td>\n",
       "      <td>42520.402344</td>\n",
       "      <td>42265.187500</td>\n",
       "      <td>41591.225833</td>\n",
       "    </tr>\n",
       "    <tr>\n",
       "      <th>2189</th>\n",
       "      <td>42099.402344</td>\n",
       "      <td>42627.855469</td>\n",
       "      <td>43442.855469</td>\n",
       "      <td>42520.402344</td>\n",
       "      <td>43613.140625</td>\n",
       "      <td>42156.902344</td>\n",
       "      <td>41591.225833</td>\n",
       "    </tr>\n",
       "    <tr>\n",
       "      <th>2188</th>\n",
       "      <td>42627.855469</td>\n",
       "      <td>43442.855469</td>\n",
       "      <td>42520.402344</td>\n",
       "      <td>43613.140625</td>\n",
       "      <td>43016.117188</td>\n",
       "      <td>42099.402344</td>\n",
       "      <td>42554.817409</td>\n",
       "    </tr>\n",
       "    <tr>\n",
       "      <th>2187</th>\n",
       "      <td>43442.855469</td>\n",
       "      <td>42520.402344</td>\n",
       "      <td>43613.140625</td>\n",
       "      <td>43016.117188</td>\n",
       "      <td>43739.542969</td>\n",
       "      <td>42627.855469</td>\n",
       "      <td>42927.921359</td>\n",
       "    </tr>\n",
       "    <tr>\n",
       "      <th>2186</th>\n",
       "      <td>42520.402344</td>\n",
       "      <td>43613.140625</td>\n",
       "      <td>43016.117188</td>\n",
       "      <td>43739.542969</td>\n",
       "      <td>43997.902344</td>\n",
       "      <td>43442.855469</td>\n",
       "      <td>42554.817409</td>\n",
       "    </tr>\n",
       "    <tr>\n",
       "      <th>...</th>\n",
       "      <td>...</td>\n",
       "      <td>...</td>\n",
       "      <td>...</td>\n",
       "      <td>...</td>\n",
       "      <td>...</td>\n",
       "      <td>...</td>\n",
       "      <td>...</td>\n",
       "    </tr>\n",
       "    <tr>\n",
       "      <th>1830</th>\n",
       "      <td>16863.238281</td>\n",
       "      <td>16679.857422</td>\n",
       "      <td>16688.470703</td>\n",
       "      <td>16625.080078</td>\n",
       "      <td>16547.496094</td>\n",
       "      <td>16836.736328</td>\n",
       "      <td>16898.810466</td>\n",
       "    </tr>\n",
       "    <tr>\n",
       "      <th>1829</th>\n",
       "      <td>16679.857422</td>\n",
       "      <td>16688.470703</td>\n",
       "      <td>16625.080078</td>\n",
       "      <td>16547.496094</td>\n",
       "      <td>16602.585938</td>\n",
       "      <td>16863.238281</td>\n",
       "      <td>16677.997561</td>\n",
       "    </tr>\n",
       "    <tr>\n",
       "      <th>1828</th>\n",
       "      <td>16688.470703</td>\n",
       "      <td>16625.080078</td>\n",
       "      <td>16547.496094</td>\n",
       "      <td>16602.585938</td>\n",
       "      <td>16642.341797</td>\n",
       "      <td>16679.857422</td>\n",
       "      <td>16677.997561</td>\n",
       "    </tr>\n",
       "    <tr>\n",
       "      <th>1827</th>\n",
       "      <td>16625.080078</td>\n",
       "      <td>16547.496094</td>\n",
       "      <td>16602.585938</td>\n",
       "      <td>16642.341797</td>\n",
       "      <td>16552.572266</td>\n",
       "      <td>16688.470703</td>\n",
       "      <td>16677.997561</td>\n",
       "    </tr>\n",
       "    <tr>\n",
       "      <th>1826</th>\n",
       "      <td>16547.496094</td>\n",
       "      <td>16602.585938</td>\n",
       "      <td>16642.341797</td>\n",
       "      <td>16552.572266</td>\n",
       "      <td>16717.173828</td>\n",
       "      <td>16625.080078</td>\n",
       "      <td>16559.297774</td>\n",
       "    </tr>\n",
       "  </tbody>\n",
       "</table>\n",
       "<p>365 rows × 7 columns</p>\n",
       "</div>"
      ],
      "text/plain": [
       "          price_l1      price_l2      price_l3      price_l4      price_l5  \\\n",
       "2190  42156.902344  42099.402344  42627.855469  43442.855469  42520.402344   \n",
       "2189  42099.402344  42627.855469  43442.855469  42520.402344  43613.140625   \n",
       "2188  42627.855469  43442.855469  42520.402344  43613.140625  43016.117188   \n",
       "2187  43442.855469  42520.402344  43613.140625  43016.117188  43739.542969   \n",
       "2186  42520.402344  43613.140625  43016.117188  43739.542969  43997.902344   \n",
       "...            ...           ...           ...           ...           ...   \n",
       "1830  16863.238281  16679.857422  16688.470703  16625.080078  16547.496094   \n",
       "1829  16679.857422  16688.470703  16625.080078  16547.496094  16602.585938   \n",
       "1828  16688.470703  16625.080078  16547.496094  16602.585938  16642.341797   \n",
       "1827  16625.080078  16547.496094  16602.585938  16642.341797  16552.572266   \n",
       "1826  16547.496094  16602.585938  16642.341797  16552.572266  16717.173828   \n",
       "\n",
       "             Price          Pred  \n",
       "2190  42265.187500  41591.225833  \n",
       "2189  42156.902344  41591.225833  \n",
       "2188  42099.402344  42554.817409  \n",
       "2187  42627.855469  42927.921359  \n",
       "2186  43442.855469  42554.817409  \n",
       "...            ...           ...  \n",
       "1830  16836.736328  16898.810466  \n",
       "1829  16863.238281  16677.997561  \n",
       "1828  16679.857422  16677.997561  \n",
       "1827  16688.470703  16677.997561  \n",
       "1826  16625.080078  16559.297774  \n",
       "\n",
       "[365 rows x 7 columns]"
      ]
     },
     "execution_count": 81,
     "metadata": {},
     "output_type": "execute_result"
    }
   ],
   "source": [
    "df4 = x_test\n",
    "df4['Price'] = y_test\n",
    "df4['Pred'] = preds\n",
    "df4"
   ]
  },
  {
   "cell_type": "code",
   "execution_count": 82,
   "id": "65d21880-ac37-4000-a0be-3931309762c5",
   "metadata": {},
   "outputs": [
    {
     "data": {
      "text/plain": [
       "901394.561692624"
      ]
     },
     "execution_count": 82,
     "metadata": {},
     "output_type": "execute_result"
    }
   ],
   "source": [
    "sum((df4['Pred']-df4['Price'])**2)/365\n"
   ]
  },
  {
   "cell_type": "code",
   "execution_count": 83,
   "id": "fae59453-deeb-434d-9e2d-487444bab890",
   "metadata": {},
   "outputs": [
    {
     "data": {
      "text/plain": [
       "430132.64581044327"
      ]
     },
     "execution_count": 83,
     "metadata": {},
     "output_type": "execute_result"
    }
   ],
   "source": [
    "sum((df4['price_l1']-df4['Price'])**2)/365"
   ]
  },
  {
   "cell_type": "code",
   "execution_count": 84,
   "id": "ecb88aef-3a9f-4d74-b145-1d023d21da07",
   "metadata": {},
   "outputs": [
    {
     "data": {
      "text/plain": [
       "0.024701918461533284"
      ]
     },
     "execution_count": 84,
     "metadata": {},
     "output_type": "execute_result"
    }
   ],
   "source": [
    "mae_percent = sum(abs(df4['Pred']-df4['Price'])/df4['Price'])/len(df4)\n",
    "mae_percent"
   ]
  },
  {
   "cell_type": "code",
   "execution_count": 85,
   "id": "eb7ccf6f-8b6c-42bd-bbd2-a09cf7f6113b",
   "metadata": {},
   "outputs": [
    {
     "data": {
      "text/plain": [
       "0.015177906985802537"
      ]
     },
     "execution_count": 85,
     "metadata": {},
     "output_type": "execute_result"
    }
   ],
   "source": [
    "mae_percent2 = sum(abs(df4['price_l1']-df4['Price'])/df4['Price'])/len(df4)\n",
    "mae_percent2"
   ]
  },
  {
   "cell_type": "code",
   "execution_count": 86,
   "id": "100bbcfd-5955-49b5-b02a-758b249ad287",
   "metadata": {},
   "outputs": [
    {
     "data": {
      "text/html": [
       "<div>\n",
       "<style scoped>\n",
       "    .dataframe tbody tr th:only-of-type {\n",
       "        vertical-align: middle;\n",
       "    }\n",
       "\n",
       "    .dataframe tbody tr th {\n",
       "        vertical-align: top;\n",
       "    }\n",
       "\n",
       "    .dataframe thead th {\n",
       "        text-align: right;\n",
       "    }\n",
       "</style>\n",
       "<table border=\"1\" class=\"dataframe\">\n",
       "  <thead>\n",
       "    <tr style=\"text-align: right;\">\n",
       "      <th></th>\n",
       "      <th>price_l1</th>\n",
       "      <th>price_l2</th>\n",
       "      <th>price_l3</th>\n",
       "      <th>price_l4</th>\n",
       "      <th>price_l5</th>\n",
       "      <th>Price</th>\n",
       "      <th>Pred</th>\n",
       "      <th>Date</th>\n",
       "    </tr>\n",
       "  </thead>\n",
       "  <tbody>\n",
       "    <tr>\n",
       "      <th>2190</th>\n",
       "      <td>42156.902344</td>\n",
       "      <td>42099.402344</td>\n",
       "      <td>42627.855469</td>\n",
       "      <td>43442.855469</td>\n",
       "      <td>42520.402344</td>\n",
       "      <td>42265.187500</td>\n",
       "      <td>41591.225833</td>\n",
       "      <td>2023-12-31</td>\n",
       "    </tr>\n",
       "    <tr>\n",
       "      <th>2189</th>\n",
       "      <td>42099.402344</td>\n",
       "      <td>42627.855469</td>\n",
       "      <td>43442.855469</td>\n",
       "      <td>42520.402344</td>\n",
       "      <td>43613.140625</td>\n",
       "      <td>42156.902344</td>\n",
       "      <td>41591.225833</td>\n",
       "      <td>2023-12-30</td>\n",
       "    </tr>\n",
       "    <tr>\n",
       "      <th>2188</th>\n",
       "      <td>42627.855469</td>\n",
       "      <td>43442.855469</td>\n",
       "      <td>42520.402344</td>\n",
       "      <td>43613.140625</td>\n",
       "      <td>43016.117188</td>\n",
       "      <td>42099.402344</td>\n",
       "      <td>42554.817409</td>\n",
       "      <td>2023-12-29</td>\n",
       "    </tr>\n",
       "    <tr>\n",
       "      <th>2187</th>\n",
       "      <td>43442.855469</td>\n",
       "      <td>42520.402344</td>\n",
       "      <td>43613.140625</td>\n",
       "      <td>43016.117188</td>\n",
       "      <td>43739.542969</td>\n",
       "      <td>42627.855469</td>\n",
       "      <td>42927.921359</td>\n",
       "      <td>2023-12-28</td>\n",
       "    </tr>\n",
       "    <tr>\n",
       "      <th>2186</th>\n",
       "      <td>42520.402344</td>\n",
       "      <td>43613.140625</td>\n",
       "      <td>43016.117188</td>\n",
       "      <td>43739.542969</td>\n",
       "      <td>43997.902344</td>\n",
       "      <td>43442.855469</td>\n",
       "      <td>42554.817409</td>\n",
       "      <td>2023-12-27</td>\n",
       "    </tr>\n",
       "    <tr>\n",
       "      <th>...</th>\n",
       "      <td>...</td>\n",
       "      <td>...</td>\n",
       "      <td>...</td>\n",
       "      <td>...</td>\n",
       "      <td>...</td>\n",
       "      <td>...</td>\n",
       "      <td>...</td>\n",
       "      <td>...</td>\n",
       "    </tr>\n",
       "    <tr>\n",
       "      <th>1830</th>\n",
       "      <td>16863.238281</td>\n",
       "      <td>16679.857422</td>\n",
       "      <td>16688.470703</td>\n",
       "      <td>16625.080078</td>\n",
       "      <td>16547.496094</td>\n",
       "      <td>16836.736328</td>\n",
       "      <td>16898.810466</td>\n",
       "      <td>2023-01-05</td>\n",
       "    </tr>\n",
       "    <tr>\n",
       "      <th>1829</th>\n",
       "      <td>16679.857422</td>\n",
       "      <td>16688.470703</td>\n",
       "      <td>16625.080078</td>\n",
       "      <td>16547.496094</td>\n",
       "      <td>16602.585938</td>\n",
       "      <td>16863.238281</td>\n",
       "      <td>16677.997561</td>\n",
       "      <td>2023-01-04</td>\n",
       "    </tr>\n",
       "    <tr>\n",
       "      <th>1828</th>\n",
       "      <td>16688.470703</td>\n",
       "      <td>16625.080078</td>\n",
       "      <td>16547.496094</td>\n",
       "      <td>16602.585938</td>\n",
       "      <td>16642.341797</td>\n",
       "      <td>16679.857422</td>\n",
       "      <td>16677.997561</td>\n",
       "      <td>2023-01-03</td>\n",
       "    </tr>\n",
       "    <tr>\n",
       "      <th>1827</th>\n",
       "      <td>16625.080078</td>\n",
       "      <td>16547.496094</td>\n",
       "      <td>16602.585938</td>\n",
       "      <td>16642.341797</td>\n",
       "      <td>16552.572266</td>\n",
       "      <td>16688.470703</td>\n",
       "      <td>16677.997561</td>\n",
       "      <td>2023-01-02</td>\n",
       "    </tr>\n",
       "    <tr>\n",
       "      <th>1826</th>\n",
       "      <td>16547.496094</td>\n",
       "      <td>16602.585938</td>\n",
       "      <td>16642.341797</td>\n",
       "      <td>16552.572266</td>\n",
       "      <td>16717.173828</td>\n",
       "      <td>16625.080078</td>\n",
       "      <td>16559.297774</td>\n",
       "      <td>2023-01-01</td>\n",
       "    </tr>\n",
       "  </tbody>\n",
       "</table>\n",
       "<p>365 rows × 8 columns</p>\n",
       "</div>"
      ],
      "text/plain": [
       "          price_l1      price_l2      price_l3      price_l4      price_l5  \\\n",
       "2190  42156.902344  42099.402344  42627.855469  43442.855469  42520.402344   \n",
       "2189  42099.402344  42627.855469  43442.855469  42520.402344  43613.140625   \n",
       "2188  42627.855469  43442.855469  42520.402344  43613.140625  43016.117188   \n",
       "2187  43442.855469  42520.402344  43613.140625  43016.117188  43739.542969   \n",
       "2186  42520.402344  43613.140625  43016.117188  43739.542969  43997.902344   \n",
       "...            ...           ...           ...           ...           ...   \n",
       "1830  16863.238281  16679.857422  16688.470703  16625.080078  16547.496094   \n",
       "1829  16679.857422  16688.470703  16625.080078  16547.496094  16602.585938   \n",
       "1828  16688.470703  16625.080078  16547.496094  16602.585938  16642.341797   \n",
       "1827  16625.080078  16547.496094  16602.585938  16642.341797  16552.572266   \n",
       "1826  16547.496094  16602.585938  16642.341797  16552.572266  16717.173828   \n",
       "\n",
       "             Price          Pred        Date  \n",
       "2190  42265.187500  41591.225833  2023-12-31  \n",
       "2189  42156.902344  41591.225833  2023-12-30  \n",
       "2188  42099.402344  42554.817409  2023-12-29  \n",
       "2187  42627.855469  42927.921359  2023-12-28  \n",
       "2186  43442.855469  42554.817409  2023-12-27  \n",
       "...            ...           ...         ...  \n",
       "1830  16836.736328  16898.810466  2023-01-05  \n",
       "1829  16863.238281  16677.997561  2023-01-04  \n",
       "1828  16679.857422  16677.997561  2023-01-03  \n",
       "1827  16688.470703  16677.997561  2023-01-02  \n",
       "1826  16625.080078  16559.297774  2023-01-01  \n",
       "\n",
       "[365 rows x 8 columns]"
      ]
     },
     "execution_count": 86,
     "metadata": {},
     "output_type": "execute_result"
    }
   ],
   "source": [
    "df4['Date'] = test['Date']\n",
    "df4"
   ]
  },
  {
   "cell_type": "code",
   "execution_count": 87,
   "id": "7c7836b0-f510-4ea8-b605-a563af32c59b",
   "metadata": {},
   "outputs": [
    {
     "data": {
      "image/png": "[encoded data removed]",
      "text/plain": [
       "<Figure size 640x480 with 1 Axes>"
      ]
     },
     "metadata": {},
     "output_type": "display_data"
    }
   ],
   "source": [
    "import matplotlib.pyplot as plt\n",
    "df4 = df4.iloc[::-1]\n",
    "df4.plot(x=\"Date\", y=[\"Pred\",\"Price\"])\n",
    "plt.xticks([])\n",
    "plt.show()"
   ]
  },
  {
   "cell_type": "code",
   "execution_count": 88,
   "id": "e01e6088-0614-4816-a6e2-7732f3a171ae",
   "metadata": {},
   "outputs": [
    {
     "data": {
      "image/png": "[encoded data removed]",
      "text/plain": [
       "<Figure size 640x480 with 1 Axes>"
      ]
     },
     "metadata": {},
     "output_type": "display_data"
    }
   ],
   "source": [
    "df4.plot(x=\"Date\", y=[\"price_l1\",\"Price\"])\n",
    "plt.xticks([])\n",
    "plt.show()"
   ]
  },
  {
   "cell_type": "code",
   "execution_count": null,
   "id": "031d104e-3278-4643-9e97-f9743ea11d1e",
   "metadata": {},
   "outputs": [],
   "source": []
  }
 ],
 "metadata": {
  "kernelspec": {
   "display_name": "Python 3 (ipykernel)",
   "language": "python",
   "name": "python3"
  },
  "language_info": {
   "codemirror_mode": {
    "name": "ipython",
    "version": 3
   },
   "file_extension": ".py",
   "mimetype": "text/x-python",
   "name": "python",
   "nbconvert_exporter": "python",
   "pygments_lexer": "ipython3",
   "version": "3.11.5"
  }
 },
 "nbformat": 4,
 "nbformat_minor": 5
}
