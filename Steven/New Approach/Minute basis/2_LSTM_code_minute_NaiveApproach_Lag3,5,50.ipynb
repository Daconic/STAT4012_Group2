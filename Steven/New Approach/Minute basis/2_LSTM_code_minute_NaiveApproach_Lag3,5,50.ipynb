{
  "nbformat": 4,
  "nbformat_minor": 0,
  "metadata": {
    "colab": {
      "provenance": []
    },
    "kernelspec": {
      "name": "python3",
      "display_name": "Python 3"
    },
    "language_info": {
      "name": "python"
    }
  },
  "cells": [
    {
      "cell_type": "code",
      "source": [
        "import pandas as pd\n",
        "import numpy as np\n",
        "import tensorflow as tf\n",
        "from tensorflow.keras import Sequential\n",
        "from tensorflow.keras.layers import LSTM, Dense\n",
        "from tensorflow.keras.optimizers import Adam\n",
        "import datetime"
      ],
      "metadata": {
        "id": "R2QrYNQGfcmY"
      },
      "execution_count": null,
      "outputs": []
    },
    {
      "cell_type": "markdown",
      "source": [
        "## Import data"
      ],
      "metadata": {
        "id": "xzoAYBt0EwlX"
      }
    },
    {
      "cell_type": "code",
      "source": [
        "df = pd.read_csv('/content/2021-2022_bit.csv')"
      ],
      "metadata": {
        "id": "juevLiuE4o9Y"
      },
      "execution_count": null,
      "outputs": []
    },
    {
      "cell_type": "code",
      "source": [
        "df = df.iloc[:,1:].copy()"
      ],
      "metadata": {
        "id": "raNuXP5vf5kE"
      },
      "execution_count": null,
      "outputs": []
    },
    {
      "cell_type": "code",
      "source": [
        "# reverse the data\n",
        "df = df[::-1]"
      ],
      "metadata": {
        "id": "8wcxs6LaLAw3"
      },
      "execution_count": null,
      "outputs": []
    },
    {
      "cell_type": "code",
      "source": [
        "df.info()"
      ],
      "metadata": {
        "colab": {
          "base_uri": "https://localhost:8080/"
        },
        "id": "qYK3cx0Z5Unr",
        "outputId": "ab9ce54c-5087-470b-8a83-252b0f1f3b86"
      },
      "execution_count": null,
      "outputs": [
        {
          "output_type": "stream",
          "name": "stdout",
          "text": [
            "<class 'pandas.core.frame.DataFrame'>\n",
            "RangeIndex: 226079 entries, 226078 to 0\n",
            "Data columns (total 6 columns):\n",
            " #   Column      Non-Null Count   Dtype  \n",
            "---  ------      --------------   -----  \n",
            " 0   Date        226079 non-null  object \n",
            " 1   Open        226079 non-null  float64\n",
            " 2   High        226079 non-null  float64\n",
            " 3   Low         226079 non-null  float64\n",
            " 4   Close       226079 non-null  float64\n",
            " 5   Volume BTC  226079 non-null  float64\n",
            "dtypes: float64(5), object(1)\n",
            "memory usage: 10.3+ MB\n"
          ]
        }
      ]
    },
    {
      "cell_type": "code",
      "source": [
        "df.columns = ['date', 'open', 'high', 'low', 'close', 'vol']"
      ],
      "metadata": {
        "id": "ku30KrxM5WVe"
      },
      "execution_count": null,
      "outputs": []
    },
    {
      "cell_type": "code",
      "source": [
        "df['date'] = pd.to_datetime(df['date'])"
      ],
      "metadata": {
        "id": "KKEKuVZG5bvQ"
      },
      "execution_count": null,
      "outputs": []
    },
    {
      "cell_type": "code",
      "source": [
        "df = df.set_index('date')"
      ],
      "metadata": {
        "id": "QTDrHmF855x4"
      },
      "execution_count": null,
      "outputs": []
    },
    {
      "cell_type": "code",
      "source": [
        "df.info()"
      ],
      "metadata": {
        "colab": {
          "base_uri": "https://localhost:8080/"
        },
        "id": "_fu3114eFGw2",
        "outputId": "2553ba5e-189e-4aac-8781-192214c5c630"
      },
      "execution_count": null,
      "outputs": [
        {
          "output_type": "stream",
          "name": "stdout",
          "text": [
            "<class 'pandas.core.frame.DataFrame'>\n",
            "DatetimeIndex: 226079 entries, 2021-08-01 00:01:00 to 2022-01-04 23:59:00\n",
            "Data columns (total 5 columns):\n",
            " #   Column  Non-Null Count   Dtype  \n",
            "---  ------  --------------   -----  \n",
            " 0   open    226079 non-null  float64\n",
            " 1   high    226079 non-null  float64\n",
            " 2   low     226079 non-null  float64\n",
            " 3   close   226079 non-null  float64\n",
            " 4   vol     226079 non-null  float64\n",
            "dtypes: float64(5)\n",
            "memory usage: 10.3 MB\n"
          ]
        }
      ]
    },
    {
      "cell_type": "code",
      "source": [
        "df[df.isnull()]"
      ],
      "metadata": {
        "colab": {
          "base_uri": "https://localhost:8080/",
          "height": 455
        },
        "id": "zAnRO4jEiIHL",
        "outputId": "6f7b48dd-7c94-462d-92e6-fd387a27ab8d"
      },
      "execution_count": null,
      "outputs": [
        {
          "output_type": "execute_result",
          "data": {
            "text/plain": [
              "                     open  high  low  close  vol\n",
              "date                                            \n",
              "2021-08-01 00:01:00   NaN   NaN  NaN    NaN  NaN\n",
              "2021-08-01 00:02:00   NaN   NaN  NaN    NaN  NaN\n",
              "2021-08-01 00:03:00   NaN   NaN  NaN    NaN  NaN\n",
              "2021-08-01 00:04:00   NaN   NaN  NaN    NaN  NaN\n",
              "2021-08-01 00:05:00   NaN   NaN  NaN    NaN  NaN\n",
              "...                   ...   ...  ...    ...  ...\n",
              "2022-01-04 23:55:00   NaN   NaN  NaN    NaN  NaN\n",
              "2022-01-04 23:56:00   NaN   NaN  NaN    NaN  NaN\n",
              "2022-01-04 23:57:00   NaN   NaN  NaN    NaN  NaN\n",
              "2022-01-04 23:58:00   NaN   NaN  NaN    NaN  NaN\n",
              "2022-01-04 23:59:00   NaN   NaN  NaN    NaN  NaN\n",
              "\n",
              "[226079 rows x 5 columns]"
            ],
            "text/html": [
              "\n",
              "  <div id=\"df-89ca049c-81d7-49c4-93ed-22ab3bae2c58\" class=\"colab-df-container\">\n",
              "    <div>\n",
              "<style scoped>\n",
              "    .dataframe tbody tr th:only-of-type {\n",
              "        vertical-align: middle;\n",
              "    }\n",
              "\n",
              "    .dataframe tbody tr th {\n",
              "        vertical-align: top;\n",
              "    }\n",
              "\n",
              "    .dataframe thead th {\n",
              "        text-align: right;\n",
              "    }\n",
              "</style>\n",
              "<table border=\"1\" class=\"dataframe\">\n",
              "  <thead>\n",
              "    <tr style=\"text-align: right;\">\n",
              "      <th></th>\n",
              "      <th>open</th>\n",
              "      <th>high</th>\n",
              "      <th>low</th>\n",
              "      <th>close</th>\n",
              "      <th>vol</th>\n",
              "    </tr>\n",
              "    <tr>\n",
              "      <th>date</th>\n",
              "      <th></th>\n",
              "      <th></th>\n",
              "      <th></th>\n",
              "      <th></th>\n",
              "      <th></th>\n",
              "    </tr>\n",
              "  </thead>\n",
              "  <tbody>\n",
              "    <tr>\n",
              "      <th>2021-08-01 00:01:00</th>\n",
              "      <td>NaN</td>\n",
              "      <td>NaN</td>\n",
              "      <td>NaN</td>\n",
              "      <td>NaN</td>\n",
              "      <td>NaN</td>\n",
              "    </tr>\n",
              "    <tr>\n",
              "      <th>2021-08-01 00:02:00</th>\n",
              "      <td>NaN</td>\n",
              "      <td>NaN</td>\n",
              "      <td>NaN</td>\n",
              "      <td>NaN</td>\n",
              "      <td>NaN</td>\n",
              "    </tr>\n",
              "    <tr>\n",
              "      <th>2021-08-01 00:03:00</th>\n",
              "      <td>NaN</td>\n",
              "      <td>NaN</td>\n",
              "      <td>NaN</td>\n",
              "      <td>NaN</td>\n",
              "      <td>NaN</td>\n",
              "    </tr>\n",
              "    <tr>\n",
              "      <th>2021-08-01 00:04:00</th>\n",
              "      <td>NaN</td>\n",
              "      <td>NaN</td>\n",
              "      <td>NaN</td>\n",
              "      <td>NaN</td>\n",
              "      <td>NaN</td>\n",
              "    </tr>\n",
              "    <tr>\n",
              "      <th>2021-08-01 00:05:00</th>\n",
              "      <td>NaN</td>\n",
              "      <td>NaN</td>\n",
              "      <td>NaN</td>\n",
              "      <td>NaN</td>\n",
              "      <td>NaN</td>\n",
              "    </tr>\n",
              "    <tr>\n",
              "      <th>...</th>\n",
              "      <td>...</td>\n",
              "      <td>...</td>\n",
              "      <td>...</td>\n",
              "      <td>...</td>\n",
              "      <td>...</td>\n",
              "    </tr>\n",
              "    <tr>\n",
              "      <th>2022-01-04 23:55:00</th>\n",
              "      <td>NaN</td>\n",
              "      <td>NaN</td>\n",
              "      <td>NaN</td>\n",
              "      <td>NaN</td>\n",
              "      <td>NaN</td>\n",
              "    </tr>\n",
              "    <tr>\n",
              "      <th>2022-01-04 23:56:00</th>\n",
              "      <td>NaN</td>\n",
              "      <td>NaN</td>\n",
              "      <td>NaN</td>\n",
              "      <td>NaN</td>\n",
              "      <td>NaN</td>\n",
              "    </tr>\n",
              "    <tr>\n",
              "      <th>2022-01-04 23:57:00</th>\n",
              "      <td>NaN</td>\n",
              "      <td>NaN</td>\n",
              "      <td>NaN</td>\n",
              "      <td>NaN</td>\n",
              "      <td>NaN</td>\n",
              "    </tr>\n",
              "    <tr>\n",
              "      <th>2022-01-04 23:58:00</th>\n",
              "      <td>NaN</td>\n",
              "      <td>NaN</td>\n",
              "      <td>NaN</td>\n",
              "      <td>NaN</td>\n",
              "      <td>NaN</td>\n",
              "    </tr>\n",
              "    <tr>\n",
              "      <th>2022-01-04 23:59:00</th>\n",
              "      <td>NaN</td>\n",
              "      <td>NaN</td>\n",
              "      <td>NaN</td>\n",
              "      <td>NaN</td>\n",
              "      <td>NaN</td>\n",
              "    </tr>\n",
              "  </tbody>\n",
              "</table>\n",
              "<p>226079 rows × 5 columns</p>\n",
              "</div>\n",
              "    <div class=\"colab-df-buttons\">\n",
              "\n",
              "  <div class=\"colab-df-container\">\n",
              "    <button class=\"colab-df-convert\" onclick=\"convertToInteractive('df-89ca049c-81d7-49c4-93ed-22ab3bae2c58')\"\n",
              "            title=\"Convert this dataframe to an interactive table.\"\n",
              "            style=\"display:none;\">\n",
              "\n",
              "  <svg xmlns=\"http://www.w3.org/2000/svg\" height=\"24px\" viewBox=\"0 -960 960 960\">\n",
              "    <path d=\"M120-120v-720h720v720H120Zm60-500h600v-160H180v160Zm220 220h160v-160H400v160Zm0 220h160v-160H400v160ZM180-400h160v-160H180v160Zm440 0h160v-160H620v160ZM180-180h160v-160H180v160Zm440 0h160v-160H620v160Z\"/>\n",
              "  </svg>\n",
              "    </button>\n",
              "\n",
              "  <style>\n",
              "    .colab-df-container {\n",
              "      display:flex;\n",
              "      gap: 12px;\n",
              "    }\n",
              "\n",
              "    .colab-df-convert {\n",
              "      background-color: #E8F0FE;\n",
              "      border: none;\n",
              "      border-radius: 50%;\n",
              "      cursor: pointer;\n",
              "      display: none;\n",
              "      fill: #1967D2;\n",
              "      height: 32px;\n",
              "      padding: 0 0 0 0;\n",
              "      width: 32px;\n",
              "    }\n",
              "\n",
              "    .colab-df-convert:hover {\n",
              "      background-color: #E2EBFA;\n",
              "      box-shadow: 0px 1px 2px rgba(60, 64, 67, 0.3), 0px 1px 3px 1px rgba(60, 64, 67, 0.15);\n",
              "      fill: #174EA6;\n",
              "    }\n",
              "\n",
              "    .colab-df-buttons div {\n",
              "      margin-bottom: 4px;\n",
              "    }\n",
              "\n",
              "    [theme=dark] .colab-df-convert {\n",
              "      background-color: #3B4455;\n",
              "      fill: #D2E3FC;\n",
              "    }\n",
              "\n",
              "    [theme=dark] .colab-df-convert:hover {\n",
              "      background-color: #434B5C;\n",
              "      box-shadow: 0px 1px 3px 1px rgba(0, 0, 0, 0.15);\n",
              "      filter: drop-shadow(0px 1px 2px rgba(0, 0, 0, 0.3));\n",
              "      fill: #FFFFFF;\n",
              "    }\n",
              "  </style>\n",
              "\n",
              "    <script>\n",
              "      const buttonEl =\n",
              "        document.querySelector('#df-89ca049c-81d7-49c4-93ed-22ab3bae2c58 button.colab-df-convert');\n",
              "      buttonEl.style.display =\n",
              "        google.colab.kernel.accessAllowed ? 'block' : 'none';\n",
              "\n",
              "      async function convertToInteractive(key) {\n",
              "        const element = document.querySelector('#df-89ca049c-81d7-49c4-93ed-22ab3bae2c58');\n",
              "        const dataTable =\n",
              "          await google.colab.kernel.invokeFunction('convertToInteractive',\n",
              "                                                    [key], {});\n",
              "        if (!dataTable) return;\n",
              "\n",
              "        const docLinkHtml = 'Like what you see? Visit the ' +\n",
              "          '<a target=\"_blank\" href=https://colab.research.google.com/notebooks/data_table.ipynb>data table notebook</a>'\n",
              "          + ' to learn more about interactive tables.';\n",
              "        element.innerHTML = '';\n",
              "        dataTable['output_type'] = 'display_data';\n",
              "        await google.colab.output.renderOutput(dataTable, element);\n",
              "        const docLink = document.createElement('div');\n",
              "        docLink.innerHTML = docLinkHtml;\n",
              "        element.appendChild(docLink);\n",
              "      }\n",
              "    </script>\n",
              "  </div>\n",
              "\n",
              "\n",
              "<div id=\"df-25534bcb-9613-4bd7-b3bd-55dfb8967c89\">\n",
              "  <button class=\"colab-df-quickchart\" onclick=\"quickchart('df-25534bcb-9613-4bd7-b3bd-55dfb8967c89')\"\n",
              "            title=\"Suggest charts\"\n",
              "            style=\"display:none;\">\n",
              "\n",
              "<svg xmlns=\"http://www.w3.org/2000/svg\" height=\"24px\"viewBox=\"0 0 24 24\"\n",
              "     width=\"24px\">\n",
              "    <g>\n",
              "        <path d=\"M19 3H5c-1.1 0-2 .9-2 2v14c0 1.1.9 2 2 2h14c1.1 0 2-.9 2-2V5c0-1.1-.9-2-2-2zM9 17H7v-7h2v7zm4 0h-2V7h2v10zm4 0h-2v-4h2v4z\"/>\n",
              "    </g>\n",
              "</svg>\n",
              "  </button>\n",
              "\n",
              "<style>\n",
              "  .colab-df-quickchart {\n",
              "      --bg-color: #E8F0FE;\n",
              "      --fill-color: #1967D2;\n",
              "      --hover-bg-color: #E2EBFA;\n",
              "      --hover-fill-color: #174EA6;\n",
              "      --disabled-fill-color: #AAA;\n",
              "      --disabled-bg-color: #DDD;\n",
              "  }\n",
              "\n",
              "  [theme=dark] .colab-df-quickchart {\n",
              "      --bg-color: #3B4455;\n",
              "      --fill-color: #D2E3FC;\n",
              "      --hover-bg-color: #434B5C;\n",
              "      --hover-fill-color: #FFFFFF;\n",
              "      --disabled-bg-color: #3B4455;\n",
              "      --disabled-fill-color: #666;\n",
              "  }\n",
              "\n",
              "  .colab-df-quickchart {\n",
              "    background-color: var(--bg-color);\n",
              "    border: none;\n",
              "    border-radius: 50%;\n",
              "    cursor: pointer;\n",
              "    display: none;\n",
              "    fill: var(--fill-color);\n",
              "    height: 32px;\n",
              "    padding: 0;\n",
              "    width: 32px;\n",
              "  }\n",
              "\n",
              "  .colab-df-quickchart:hover {\n",
              "    background-color: var(--hover-bg-color);\n",
              "    box-shadow: 0 1px 2px rgba(60, 64, 67, 0.3), 0 1px 3px 1px rgba(60, 64, 67, 0.15);\n",
              "    fill: var(--button-hover-fill-color);\n",
              "  }\n",
              "\n",
              "  .colab-df-quickchart-complete:disabled,\n",
              "  .colab-df-quickchart-complete:disabled:hover {\n",
              "    background-color: var(--disabled-bg-color);\n",
              "    fill: var(--disabled-fill-color);\n",
              "    box-shadow: none;\n",
              "  }\n",
              "\n",
              "  .colab-df-spinner {\n",
              "    border: 2px solid var(--fill-color);\n",
              "    border-color: transparent;\n",
              "    border-bottom-color: var(--fill-color);\n",
              "    animation:\n",
              "      spin 1s steps(1) infinite;\n",
              "  }\n",
              "\n",
              "  @keyframes spin {\n",
              "    0% {\n",
              "      border-color: transparent;\n",
              "      border-bottom-color: var(--fill-color);\n",
              "      border-left-color: var(--fill-color);\n",
              "    }\n",
              "    20% {\n",
              "      border-color: transparent;\n",
              "      border-left-color: var(--fill-color);\n",
              "      border-top-color: var(--fill-color);\n",
              "    }\n",
              "    30% {\n",
              "      border-color: transparent;\n",
              "      border-left-color: var(--fill-color);\n",
              "      border-top-color: var(--fill-color);\n",
              "      border-right-color: var(--fill-color);\n",
              "    }\n",
              "    40% {\n",
              "      border-color: transparent;\n",
              "      border-right-color: var(--fill-color);\n",
              "      border-top-color: var(--fill-color);\n",
              "    }\n",
              "    60% {\n",
              "      border-color: transparent;\n",
              "      border-right-color: var(--fill-color);\n",
              "    }\n",
              "    80% {\n",
              "      border-color: transparent;\n",
              "      border-right-color: var(--fill-color);\n",
              "      border-bottom-color: var(--fill-color);\n",
              "    }\n",
              "    90% {\n",
              "      border-color: transparent;\n",
              "      border-bottom-color: var(--fill-color);\n",
              "    }\n",
              "  }\n",
              "</style>\n",
              "\n",
              "  <script>\n",
              "    async function quickchart(key) {\n",
              "      const quickchartButtonEl =\n",
              "        document.querySelector('#' + key + ' button');\n",
              "      quickchartButtonEl.disabled = true;  // To prevent multiple clicks.\n",
              "      quickchartButtonEl.classList.add('colab-df-spinner');\n",
              "      try {\n",
              "        const charts = await google.colab.kernel.invokeFunction(\n",
              "            'suggestCharts', [key], {});\n",
              "      } catch (error) {\n",
              "        console.error('Error during call to suggestCharts:', error);\n",
              "      }\n",
              "      quickchartButtonEl.classList.remove('colab-df-spinner');\n",
              "      quickchartButtonEl.classList.add('colab-df-quickchart-complete');\n",
              "    }\n",
              "    (() => {\n",
              "      let quickchartButtonEl =\n",
              "        document.querySelector('#df-25534bcb-9613-4bd7-b3bd-55dfb8967c89 button');\n",
              "      quickchartButtonEl.style.display =\n",
              "        google.colab.kernel.accessAllowed ? 'block' : 'none';\n",
              "    })();\n",
              "  </script>\n",
              "</div>\n",
              "    </div>\n",
              "  </div>\n"
            ],
            "application/vnd.google.colaboratory.intrinsic+json": {
              "type": "dataframe"
            }
          },
          "metadata": {},
          "execution_count": 35
        }
      ]
    },
    {
      "cell_type": "code",
      "source": [
        "# Prepare the volume and price differences, normalize volume\n",
        "BTC_vol = df[\"vol\"].values\n",
        "df_diff = df.diff().dropna()\n",
        "df_diff[\"vol\"] = np.log(1 + BTC_vol[:-1])"
      ],
      "metadata": {
        "id": "ETS0M1kIiZcu"
      },
      "execution_count": null,
      "outputs": []
    },
    {
      "cell_type": "code",
      "source": [
        "df_aligned = df.loc[df_diff.index]"
      ],
      "metadata": {
        "id": "Ep8gIFCpcKMe"
      },
      "execution_count": null,
      "outputs": []
    },
    {
      "cell_type": "code",
      "source": [
        "# Train data\n",
        "# Period : From start of 2018 to end of 2022\n",
        "mask_train = (df_diff.index >= \"2021-10-01\") & (df_diff.index < \"2021-12-31\")\n",
        "df_train = df_diff.loc[mask_train].copy()\n",
        "train_close = df_aligned.loc[mask_train, \"close\"].values\n",
        "df_train[\"Relative_Close\"] = train_close / train_close[0]"
      ],
      "metadata": {
        "id": "aUxVIPBAmH19"
      },
      "execution_count": null,
      "outputs": []
    },
    {
      "cell_type": "code",
      "source": [
        "# Test data\n",
        "# Period : Whole 2023\n",
        "mask_test = (df_diff.index >= \"2021-12-31\") & (df_diff.index < \"2022-01-01\")  # December 2018 for testing\n",
        "df_test = df_diff.loc[mask_test].copy()\n",
        "test_close = df_aligned.loc[mask_test, \"close\"].values\n",
        "df_test[\"Relative_Close\"] = test_close / train_close[0]\n"
      ],
      "metadata": {
        "id": "Je1yKe4mkSeK"
      },
      "execution_count": null,
      "outputs": []
    },
    {
      "cell_type": "code",
      "source": [
        "df_train.head()"
      ],
      "metadata": {
        "id": "hMUDlKGgbsWi",
        "colab": {
          "base_uri": "https://localhost:8080/",
          "height": 237
        },
        "outputId": "8a176fda-17a5-44bd-9889-284851d3c5d4"
      },
      "execution_count": null,
      "outputs": [
        {
          "output_type": "execute_result",
          "data": {
            "text/plain": [
              "                      open   high     low  close       vol  Relative_Close\n",
              "date                                                                      \n",
              "2021-10-01 00:00:00  49.39   0.00   35.28   0.00  0.172721        1.000000\n",
              "2021-10-01 00:01:00   0.00  43.23   14.11  41.79  0.138222        1.000953\n",
              "2021-10-01 00:02:00  41.79  85.12  -27.83  86.56  1.004677        1.002928\n",
              "2021-10-01 00:03:00  86.56  16.26  127.39  14.35  2.271787        1.003256\n",
              "2021-10-01 00:04:00  14.35  12.35   24.08  14.26  1.217967        1.003581"
            ],
            "text/html": [
              "\n",
              "  <div id=\"df-a937945f-ca23-4d84-ab18-38d316fbcf97\" class=\"colab-df-container\">\n",
              "    <div>\n",
              "<style scoped>\n",
              "    .dataframe tbody tr th:only-of-type {\n",
              "        vertical-align: middle;\n",
              "    }\n",
              "\n",
              "    .dataframe tbody tr th {\n",
              "        vertical-align: top;\n",
              "    }\n",
              "\n",
              "    .dataframe thead th {\n",
              "        text-align: right;\n",
              "    }\n",
              "</style>\n",
              "<table border=\"1\" class=\"dataframe\">\n",
              "  <thead>\n",
              "    <tr style=\"text-align: right;\">\n",
              "      <th></th>\n",
              "      <th>open</th>\n",
              "      <th>high</th>\n",
              "      <th>low</th>\n",
              "      <th>close</th>\n",
              "      <th>vol</th>\n",
              "      <th>Relative_Close</th>\n",
              "    </tr>\n",
              "    <tr>\n",
              "      <th>date</th>\n",
              "      <th></th>\n",
              "      <th></th>\n",
              "      <th></th>\n",
              "      <th></th>\n",
              "      <th></th>\n",
              "      <th></th>\n",
              "    </tr>\n",
              "  </thead>\n",
              "  <tbody>\n",
              "    <tr>\n",
              "      <th>2021-10-01 00:00:00</th>\n",
              "      <td>49.39</td>\n",
              "      <td>0.00</td>\n",
              "      <td>35.28</td>\n",
              "      <td>0.00</td>\n",
              "      <td>0.172721</td>\n",
              "      <td>1.000000</td>\n",
              "    </tr>\n",
              "    <tr>\n",
              "      <th>2021-10-01 00:01:00</th>\n",
              "      <td>0.00</td>\n",
              "      <td>43.23</td>\n",
              "      <td>14.11</td>\n",
              "      <td>41.79</td>\n",
              "      <td>0.138222</td>\n",
              "      <td>1.000953</td>\n",
              "    </tr>\n",
              "    <tr>\n",
              "      <th>2021-10-01 00:02:00</th>\n",
              "      <td>41.79</td>\n",
              "      <td>85.12</td>\n",
              "      <td>-27.83</td>\n",
              "      <td>86.56</td>\n",
              "      <td>1.004677</td>\n",
              "      <td>1.002928</td>\n",
              "    </tr>\n",
              "    <tr>\n",
              "      <th>2021-10-01 00:03:00</th>\n",
              "      <td>86.56</td>\n",
              "      <td>16.26</td>\n",
              "      <td>127.39</td>\n",
              "      <td>14.35</td>\n",
              "      <td>2.271787</td>\n",
              "      <td>1.003256</td>\n",
              "    </tr>\n",
              "    <tr>\n",
              "      <th>2021-10-01 00:04:00</th>\n",
              "      <td>14.35</td>\n",
              "      <td>12.35</td>\n",
              "      <td>24.08</td>\n",
              "      <td>14.26</td>\n",
              "      <td>1.217967</td>\n",
              "      <td>1.003581</td>\n",
              "    </tr>\n",
              "  </tbody>\n",
              "</table>\n",
              "</div>\n",
              "    <div class=\"colab-df-buttons\">\n",
              "\n",
              "  <div class=\"colab-df-container\">\n",
              "    <button class=\"colab-df-convert\" onclick=\"convertToInteractive('df-a937945f-ca23-4d84-ab18-38d316fbcf97')\"\n",
              "            title=\"Convert this dataframe to an interactive table.\"\n",
              "            style=\"display:none;\">\n",
              "\n",
              "  <svg xmlns=\"http://www.w3.org/2000/svg\" height=\"24px\" viewBox=\"0 -960 960 960\">\n",
              "    <path d=\"M120-120v-720h720v720H120Zm60-500h600v-160H180v160Zm220 220h160v-160H400v160Zm0 220h160v-160H400v160ZM180-400h160v-160H180v160Zm440 0h160v-160H620v160ZM180-180h160v-160H180v160Zm440 0h160v-160H620v160Z\"/>\n",
              "  </svg>\n",
              "    </button>\n",
              "\n",
              "  <style>\n",
              "    .colab-df-container {\n",
              "      display:flex;\n",
              "      gap: 12px;\n",
              "    }\n",
              "\n",
              "    .colab-df-convert {\n",
              "      background-color: #E8F0FE;\n",
              "      border: none;\n",
              "      border-radius: 50%;\n",
              "      cursor: pointer;\n",
              "      display: none;\n",
              "      fill: #1967D2;\n",
              "      height: 32px;\n",
              "      padding: 0 0 0 0;\n",
              "      width: 32px;\n",
              "    }\n",
              "\n",
              "    .colab-df-convert:hover {\n",
              "      background-color: #E2EBFA;\n",
              "      box-shadow: 0px 1px 2px rgba(60, 64, 67, 0.3), 0px 1px 3px 1px rgba(60, 64, 67, 0.15);\n",
              "      fill: #174EA6;\n",
              "    }\n",
              "\n",
              "    .colab-df-buttons div {\n",
              "      margin-bottom: 4px;\n",
              "    }\n",
              "\n",
              "    [theme=dark] .colab-df-convert {\n",
              "      background-color: #3B4455;\n",
              "      fill: #D2E3FC;\n",
              "    }\n",
              "\n",
              "    [theme=dark] .colab-df-convert:hover {\n",
              "      background-color: #434B5C;\n",
              "      box-shadow: 0px 1px 3px 1px rgba(0, 0, 0, 0.15);\n",
              "      filter: drop-shadow(0px 1px 2px rgba(0, 0, 0, 0.3));\n",
              "      fill: #FFFFFF;\n",
              "    }\n",
              "  </style>\n",
              "\n",
              "    <script>\n",
              "      const buttonEl =\n",
              "        document.querySelector('#df-a937945f-ca23-4d84-ab18-38d316fbcf97 button.colab-df-convert');\n",
              "      buttonEl.style.display =\n",
              "        google.colab.kernel.accessAllowed ? 'block' : 'none';\n",
              "\n",
              "      async function convertToInteractive(key) {\n",
              "        const element = document.querySelector('#df-a937945f-ca23-4d84-ab18-38d316fbcf97');\n",
              "        const dataTable =\n",
              "          await google.colab.kernel.invokeFunction('convertToInteractive',\n",
              "                                                    [key], {});\n",
              "        if (!dataTable) return;\n",
              "\n",
              "        const docLinkHtml = 'Like what you see? Visit the ' +\n",
              "          '<a target=\"_blank\" href=https://colab.research.google.com/notebooks/data_table.ipynb>data table notebook</a>'\n",
              "          + ' to learn more about interactive tables.';\n",
              "        element.innerHTML = '';\n",
              "        dataTable['output_type'] = 'display_data';\n",
              "        await google.colab.output.renderOutput(dataTable, element);\n",
              "        const docLink = document.createElement('div');\n",
              "        docLink.innerHTML = docLinkHtml;\n",
              "        element.appendChild(docLink);\n",
              "      }\n",
              "    </script>\n",
              "  </div>\n",
              "\n",
              "\n",
              "<div id=\"df-1770356f-5434-4771-8300-691e856da5ee\">\n",
              "  <button class=\"colab-df-quickchart\" onclick=\"quickchart('df-1770356f-5434-4771-8300-691e856da5ee')\"\n",
              "            title=\"Suggest charts\"\n",
              "            style=\"display:none;\">\n",
              "\n",
              "<svg xmlns=\"http://www.w3.org/2000/svg\" height=\"24px\"viewBox=\"0 0 24 24\"\n",
              "     width=\"24px\">\n",
              "    <g>\n",
              "        <path d=\"M19 3H5c-1.1 0-2 .9-2 2v14c0 1.1.9 2 2 2h14c1.1 0 2-.9 2-2V5c0-1.1-.9-2-2-2zM9 17H7v-7h2v7zm4 0h-2V7h2v10zm4 0h-2v-4h2v4z\"/>\n",
              "    </g>\n",
              "</svg>\n",
              "  </button>\n",
              "\n",
              "<style>\n",
              "  .colab-df-quickchart {\n",
              "      --bg-color: #E8F0FE;\n",
              "      --fill-color: #1967D2;\n",
              "      --hover-bg-color: #E2EBFA;\n",
              "      --hover-fill-color: #174EA6;\n",
              "      --disabled-fill-color: #AAA;\n",
              "      --disabled-bg-color: #DDD;\n",
              "  }\n",
              "\n",
              "  [theme=dark] .colab-df-quickchart {\n",
              "      --bg-color: #3B4455;\n",
              "      --fill-color: #D2E3FC;\n",
              "      --hover-bg-color: #434B5C;\n",
              "      --hover-fill-color: #FFFFFF;\n",
              "      --disabled-bg-color: #3B4455;\n",
              "      --disabled-fill-color: #666;\n",
              "  }\n",
              "\n",
              "  .colab-df-quickchart {\n",
              "    background-color: var(--bg-color);\n",
              "    border: none;\n",
              "    border-radius: 50%;\n",
              "    cursor: pointer;\n",
              "    display: none;\n",
              "    fill: var(--fill-color);\n",
              "    height: 32px;\n",
              "    padding: 0;\n",
              "    width: 32px;\n",
              "  }\n",
              "\n",
              "  .colab-df-quickchart:hover {\n",
              "    background-color: var(--hover-bg-color);\n",
              "    box-shadow: 0 1px 2px rgba(60, 64, 67, 0.3), 0 1px 3px 1px rgba(60, 64, 67, 0.15);\n",
              "    fill: var(--button-hover-fill-color);\n",
              "  }\n",
              "\n",
              "  .colab-df-quickchart-complete:disabled,\n",
              "  .colab-df-quickchart-complete:disabled:hover {\n",
              "    background-color: var(--disabled-bg-color);\n",
              "    fill: var(--disabled-fill-color);\n",
              "    box-shadow: none;\n",
              "  }\n",
              "\n",
              "  .colab-df-spinner {\n",
              "    border: 2px solid var(--fill-color);\n",
              "    border-color: transparent;\n",
              "    border-bottom-color: var(--fill-color);\n",
              "    animation:\n",
              "      spin 1s steps(1) infinite;\n",
              "  }\n",
              "\n",
              "  @keyframes spin {\n",
              "    0% {\n",
              "      border-color: transparent;\n",
              "      border-bottom-color: var(--fill-color);\n",
              "      border-left-color: var(--fill-color);\n",
              "    }\n",
              "    20% {\n",
              "      border-color: transparent;\n",
              "      border-left-color: var(--fill-color);\n",
              "      border-top-color: var(--fill-color);\n",
              "    }\n",
              "    30% {\n",
              "      border-color: transparent;\n",
              "      border-left-color: var(--fill-color);\n",
              "      border-top-color: var(--fill-color);\n",
              "      border-right-color: var(--fill-color);\n",
              "    }\n",
              "    40% {\n",
              "      border-color: transparent;\n",
              "      border-right-color: var(--fill-color);\n",
              "      border-top-color: var(--fill-color);\n",
              "    }\n",
              "    60% {\n",
              "      border-color: transparent;\n",
              "      border-right-color: var(--fill-color);\n",
              "    }\n",
              "    80% {\n",
              "      border-color: transparent;\n",
              "      border-right-color: var(--fill-color);\n",
              "      border-bottom-color: var(--fill-color);\n",
              "    }\n",
              "    90% {\n",
              "      border-color: transparent;\n",
              "      border-bottom-color: var(--fill-color);\n",
              "    }\n",
              "  }\n",
              "</style>\n",
              "\n",
              "  <script>\n",
              "    async function quickchart(key) {\n",
              "      const quickchartButtonEl =\n",
              "        document.querySelector('#' + key + ' button');\n",
              "      quickchartButtonEl.disabled = true;  // To prevent multiple clicks.\n",
              "      quickchartButtonEl.classList.add('colab-df-spinner');\n",
              "      try {\n",
              "        const charts = await google.colab.kernel.invokeFunction(\n",
              "            'suggestCharts', [key], {});\n",
              "      } catch (error) {\n",
              "        console.error('Error during call to suggestCharts:', error);\n",
              "      }\n",
              "      quickchartButtonEl.classList.remove('colab-df-spinner');\n",
              "      quickchartButtonEl.classList.add('colab-df-quickchart-complete');\n",
              "    }\n",
              "    (() => {\n",
              "      let quickchartButtonEl =\n",
              "        document.querySelector('#df-1770356f-5434-4771-8300-691e856da5ee button');\n",
              "      quickchartButtonEl.style.display =\n",
              "        google.colab.kernel.accessAllowed ? 'block' : 'none';\n",
              "    })();\n",
              "  </script>\n",
              "</div>\n",
              "    </div>\n",
              "  </div>\n"
            ],
            "application/vnd.google.colaboratory.intrinsic+json": {
              "type": "dataframe",
              "variable_name": "df_train"
            }
          },
          "metadata": {},
          "execution_count": 14
        }
      ]
    },
    {
      "cell_type": "code",
      "source": [
        "df_test.head()"
      ],
      "metadata": {
        "id": "Htg3EESZIAft",
        "colab": {
          "base_uri": "https://localhost:8080/",
          "height": 237
        },
        "outputId": "3bae74d1-d3b7-4983-a6c0-0f325fa0d256"
      },
      "execution_count": null,
      "outputs": [
        {
          "output_type": "execute_result",
          "data": {
            "text/plain": [
              "                      open   high    low  close       vol  Relative_Close\n",
              "date                                                                     \n",
              "2021-12-31 00:00:00  -8.94 -23.58 -30.65 -30.65  0.108346        1.074458\n",
              "2021-12-31 00:01:00 -30.65  67.03   0.00  95.45  0.035732        1.076636\n",
              "2021-12-31 00:02:00  95.45  76.63  88.21  72.93  0.090812        1.078300\n",
              "2021-12-31 00:03:00  72.93  19.19  27.12 -53.05  0.887851        1.077090\n",
              "2021-12-31 00:04:00 -53.05 -58.71  -2.89  19.46  0.722145        1.077534"
            ],
            "text/html": [
              "\n",
              "  <div id=\"df-c27cc121-b3d5-4b2d-973c-6cc6ad046f9d\" class=\"colab-df-container\">\n",
              "    <div>\n",
              "<style scoped>\n",
              "    .dataframe tbody tr th:only-of-type {\n",
              "        vertical-align: middle;\n",
              "    }\n",
              "\n",
              "    .dataframe tbody tr th {\n",
              "        vertical-align: top;\n",
              "    }\n",
              "\n",
              "    .dataframe thead th {\n",
              "        text-align: right;\n",
              "    }\n",
              "</style>\n",
              "<table border=\"1\" class=\"dataframe\">\n",
              "  <thead>\n",
              "    <tr style=\"text-align: right;\">\n",
              "      <th></th>\n",
              "      <th>open</th>\n",
              "      <th>high</th>\n",
              "      <th>low</th>\n",
              "      <th>close</th>\n",
              "      <th>vol</th>\n",
              "      <th>Relative_Close</th>\n",
              "    </tr>\n",
              "    <tr>\n",
              "      <th>date</th>\n",
              "      <th></th>\n",
              "      <th></th>\n",
              "      <th></th>\n",
              "      <th></th>\n",
              "      <th></th>\n",
              "      <th></th>\n",
              "    </tr>\n",
              "  </thead>\n",
              "  <tbody>\n",
              "    <tr>\n",
              "      <th>2021-12-31 00:00:00</th>\n",
              "      <td>-8.94</td>\n",
              "      <td>-23.58</td>\n",
              "      <td>-30.65</td>\n",
              "      <td>-30.65</td>\n",
              "      <td>0.108346</td>\n",
              "      <td>1.074458</td>\n",
              "    </tr>\n",
              "    <tr>\n",
              "      <th>2021-12-31 00:01:00</th>\n",
              "      <td>-30.65</td>\n",
              "      <td>67.03</td>\n",
              "      <td>0.00</td>\n",
              "      <td>95.45</td>\n",
              "      <td>0.035732</td>\n",
              "      <td>1.076636</td>\n",
              "    </tr>\n",
              "    <tr>\n",
              "      <th>2021-12-31 00:02:00</th>\n",
              "      <td>95.45</td>\n",
              "      <td>76.63</td>\n",
              "      <td>88.21</td>\n",
              "      <td>72.93</td>\n",
              "      <td>0.090812</td>\n",
              "      <td>1.078300</td>\n",
              "    </tr>\n",
              "    <tr>\n",
              "      <th>2021-12-31 00:03:00</th>\n",
              "      <td>72.93</td>\n",
              "      <td>19.19</td>\n",
              "      <td>27.12</td>\n",
              "      <td>-53.05</td>\n",
              "      <td>0.887851</td>\n",
              "      <td>1.077090</td>\n",
              "    </tr>\n",
              "    <tr>\n",
              "      <th>2021-12-31 00:04:00</th>\n",
              "      <td>-53.05</td>\n",
              "      <td>-58.71</td>\n",
              "      <td>-2.89</td>\n",
              "      <td>19.46</td>\n",
              "      <td>0.722145</td>\n",
              "      <td>1.077534</td>\n",
              "    </tr>\n",
              "  </tbody>\n",
              "</table>\n",
              "</div>\n",
              "    <div class=\"colab-df-buttons\">\n",
              "\n",
              "  <div class=\"colab-df-container\">\n",
              "    <button class=\"colab-df-convert\" onclick=\"convertToInteractive('df-c27cc121-b3d5-4b2d-973c-6cc6ad046f9d')\"\n",
              "            title=\"Convert this dataframe to an interactive table.\"\n",
              "            style=\"display:none;\">\n",
              "\n",
              "  <svg xmlns=\"http://www.w3.org/2000/svg\" height=\"24px\" viewBox=\"0 -960 960 960\">\n",
              "    <path d=\"M120-120v-720h720v720H120Zm60-500h600v-160H180v160Zm220 220h160v-160H400v160Zm0 220h160v-160H400v160ZM180-400h160v-160H180v160Zm440 0h160v-160H620v160ZM180-180h160v-160H180v160Zm440 0h160v-160H620v160Z\"/>\n",
              "  </svg>\n",
              "    </button>\n",
              "\n",
              "  <style>\n",
              "    .colab-df-container {\n",
              "      display:flex;\n",
              "      gap: 12px;\n",
              "    }\n",
              "\n",
              "    .colab-df-convert {\n",
              "      background-color: #E8F0FE;\n",
              "      border: none;\n",
              "      border-radius: 50%;\n",
              "      cursor: pointer;\n",
              "      display: none;\n",
              "      fill: #1967D2;\n",
              "      height: 32px;\n",
              "      padding: 0 0 0 0;\n",
              "      width: 32px;\n",
              "    }\n",
              "\n",
              "    .colab-df-convert:hover {\n",
              "      background-color: #E2EBFA;\n",
              "      box-shadow: 0px 1px 2px rgba(60, 64, 67, 0.3), 0px 1px 3px 1px rgba(60, 64, 67, 0.15);\n",
              "      fill: #174EA6;\n",
              "    }\n",
              "\n",
              "    .colab-df-buttons div {\n",
              "      margin-bottom: 4px;\n",
              "    }\n",
              "\n",
              "    [theme=dark] .colab-df-convert {\n",
              "      background-color: #3B4455;\n",
              "      fill: #D2E3FC;\n",
              "    }\n",
              "\n",
              "    [theme=dark] .colab-df-convert:hover {\n",
              "      background-color: #434B5C;\n",
              "      box-shadow: 0px 1px 3px 1px rgba(0, 0, 0, 0.15);\n",
              "      filter: drop-shadow(0px 1px 2px rgba(0, 0, 0, 0.3));\n",
              "      fill: #FFFFFF;\n",
              "    }\n",
              "  </style>\n",
              "\n",
              "    <script>\n",
              "      const buttonEl =\n",
              "        document.querySelector('#df-c27cc121-b3d5-4b2d-973c-6cc6ad046f9d button.colab-df-convert');\n",
              "      buttonEl.style.display =\n",
              "        google.colab.kernel.accessAllowed ? 'block' : 'none';\n",
              "\n",
              "      async function convertToInteractive(key) {\n",
              "        const element = document.querySelector('#df-c27cc121-b3d5-4b2d-973c-6cc6ad046f9d');\n",
              "        const dataTable =\n",
              "          await google.colab.kernel.invokeFunction('convertToInteractive',\n",
              "                                                    [key], {});\n",
              "        if (!dataTable) return;\n",
              "\n",
              "        const docLinkHtml = 'Like what you see? Visit the ' +\n",
              "          '<a target=\"_blank\" href=https://colab.research.google.com/notebooks/data_table.ipynb>data table notebook</a>'\n",
              "          + ' to learn more about interactive tables.';\n",
              "        element.innerHTML = '';\n",
              "        dataTable['output_type'] = 'display_data';\n",
              "        await google.colab.output.renderOutput(dataTable, element);\n",
              "        const docLink = document.createElement('div');\n",
              "        docLink.innerHTML = docLinkHtml;\n",
              "        element.appendChild(docLink);\n",
              "      }\n",
              "    </script>\n",
              "  </div>\n",
              "\n",
              "\n",
              "<div id=\"df-6a67484a-b5a3-4b8a-a409-76345f74baec\">\n",
              "  <button class=\"colab-df-quickchart\" onclick=\"quickchart('df-6a67484a-b5a3-4b8a-a409-76345f74baec')\"\n",
              "            title=\"Suggest charts\"\n",
              "            style=\"display:none;\">\n",
              "\n",
              "<svg xmlns=\"http://www.w3.org/2000/svg\" height=\"24px\"viewBox=\"0 0 24 24\"\n",
              "     width=\"24px\">\n",
              "    <g>\n",
              "        <path d=\"M19 3H5c-1.1 0-2 .9-2 2v14c0 1.1.9 2 2 2h14c1.1 0 2-.9 2-2V5c0-1.1-.9-2-2-2zM9 17H7v-7h2v7zm4 0h-2V7h2v10zm4 0h-2v-4h2v4z\"/>\n",
              "    </g>\n",
              "</svg>\n",
              "  </button>\n",
              "\n",
              "<style>\n",
              "  .colab-df-quickchart {\n",
              "      --bg-color: #E8F0FE;\n",
              "      --fill-color: #1967D2;\n",
              "      --hover-bg-color: #E2EBFA;\n",
              "      --hover-fill-color: #174EA6;\n",
              "      --disabled-fill-color: #AAA;\n",
              "      --disabled-bg-color: #DDD;\n",
              "  }\n",
              "\n",
              "  [theme=dark] .colab-df-quickchart {\n",
              "      --bg-color: #3B4455;\n",
              "      --fill-color: #D2E3FC;\n",
              "      --hover-bg-color: #434B5C;\n",
              "      --hover-fill-color: #FFFFFF;\n",
              "      --disabled-bg-color: #3B4455;\n",
              "      --disabled-fill-color: #666;\n",
              "  }\n",
              "\n",
              "  .colab-df-quickchart {\n",
              "    background-color: var(--bg-color);\n",
              "    border: none;\n",
              "    border-radius: 50%;\n",
              "    cursor: pointer;\n",
              "    display: none;\n",
              "    fill: var(--fill-color);\n",
              "    height: 32px;\n",
              "    padding: 0;\n",
              "    width: 32px;\n",
              "  }\n",
              "\n",
              "  .colab-df-quickchart:hover {\n",
              "    background-color: var(--hover-bg-color);\n",
              "    box-shadow: 0 1px 2px rgba(60, 64, 67, 0.3), 0 1px 3px 1px rgba(60, 64, 67, 0.15);\n",
              "    fill: var(--button-hover-fill-color);\n",
              "  }\n",
              "\n",
              "  .colab-df-quickchart-complete:disabled,\n",
              "  .colab-df-quickchart-complete:disabled:hover {\n",
              "    background-color: var(--disabled-bg-color);\n",
              "    fill: var(--disabled-fill-color);\n",
              "    box-shadow: none;\n",
              "  }\n",
              "\n",
              "  .colab-df-spinner {\n",
              "    border: 2px solid var(--fill-color);\n",
              "    border-color: transparent;\n",
              "    border-bottom-color: var(--fill-color);\n",
              "    animation:\n",
              "      spin 1s steps(1) infinite;\n",
              "  }\n",
              "\n",
              "  @keyframes spin {\n",
              "    0% {\n",
              "      border-color: transparent;\n",
              "      border-bottom-color: var(--fill-color);\n",
              "      border-left-color: var(--fill-color);\n",
              "    }\n",
              "    20% {\n",
              "      border-color: transparent;\n",
              "      border-left-color: var(--fill-color);\n",
              "      border-top-color: var(--fill-color);\n",
              "    }\n",
              "    30% {\n",
              "      border-color: transparent;\n",
              "      border-left-color: var(--fill-color);\n",
              "      border-top-color: var(--fill-color);\n",
              "      border-right-color: var(--fill-color);\n",
              "    }\n",
              "    40% {\n",
              "      border-color: transparent;\n",
              "      border-right-color: var(--fill-color);\n",
              "      border-top-color: var(--fill-color);\n",
              "    }\n",
              "    60% {\n",
              "      border-color: transparent;\n",
              "      border-right-color: var(--fill-color);\n",
              "    }\n",
              "    80% {\n",
              "      border-color: transparent;\n",
              "      border-right-color: var(--fill-color);\n",
              "      border-bottom-color: var(--fill-color);\n",
              "    }\n",
              "    90% {\n",
              "      border-color: transparent;\n",
              "      border-bottom-color: var(--fill-color);\n",
              "    }\n",
              "  }\n",
              "</style>\n",
              "\n",
              "  <script>\n",
              "    async function quickchart(key) {\n",
              "      const quickchartButtonEl =\n",
              "        document.querySelector('#' + key + ' button');\n",
              "      quickchartButtonEl.disabled = true;  // To prevent multiple clicks.\n",
              "      quickchartButtonEl.classList.add('colab-df-spinner');\n",
              "      try {\n",
              "        const charts = await google.colab.kernel.invokeFunction(\n",
              "            'suggestCharts', [key], {});\n",
              "      } catch (error) {\n",
              "        console.error('Error during call to suggestCharts:', error);\n",
              "      }\n",
              "      quickchartButtonEl.classList.remove('colab-df-spinner');\n",
              "      quickchartButtonEl.classList.add('colab-df-quickchart-complete');\n",
              "    }\n",
              "    (() => {\n",
              "      let quickchartButtonEl =\n",
              "        document.querySelector('#df-6a67484a-b5a3-4b8a-a409-76345f74baec button');\n",
              "      quickchartButtonEl.style.display =\n",
              "        google.colab.kernel.accessAllowed ? 'block' : 'none';\n",
              "    })();\n",
              "  </script>\n",
              "</div>\n",
              "    </div>\n",
              "  </div>\n"
            ],
            "application/vnd.google.colaboratory.intrinsic+json": {
              "type": "dataframe",
              "variable_name": "df_test",
              "summary": "{\n  \"name\": \"df_test\",\n  \"rows\": 1440,\n  \"fields\": [\n    {\n      \"column\": \"date\",\n      \"properties\": {\n        \"dtype\": \"date\",\n        \"min\": \"2021-12-31 00:00:00\",\n        \"max\": \"2021-12-31 23:59:00\",\n        \"num_unique_values\": 1440,\n        \"samples\": [\n          \"2021-12-31 02:48:00\",\n          \"2021-12-31 10:05:00\",\n          \"2021-12-31 09:08:00\"\n        ],\n        \"semantic_type\": \"\",\n        \"description\": \"\"\n      }\n    },\n    {\n      \"column\": \"open\",\n      \"properties\": {\n        \"dtype\": \"number\",\n        \"std\": 37.979785253429824,\n        \"min\": -309.20000000000437,\n        \"max\": 263.9100000000035,\n        \"num_unique_values\": 1353,\n        \"samples\": [\n          71.41000000000349,\n          -11.569999999999709,\n          34.7699999999968\n        ],\n        \"semantic_type\": \"\",\n        \"description\": \"\"\n      }\n    },\n    {\n      \"column\": \"high\",\n      \"properties\": {\n        \"dtype\": \"number\",\n        \"std\": 33.58473220652488,\n        \"min\": -248.12999999999738,\n        \"max\": 299.4100000000035,\n        \"num_unique_values\": 1249,\n        \"samples\": [\n          34.30000000000291,\n          83.12000000000262,\n          3.8099999999976717\n        ],\n        \"semantic_type\": \"\",\n        \"description\": \"\"\n      }\n    },\n    {\n      \"column\": \"low\",\n      \"properties\": {\n        \"dtype\": \"number\",\n        \"std\": 37.250919884477874,\n        \"min\": -352.8700000000026,\n        \"max\": 274.4599999999991,\n        \"num_unique_values\": 1274,\n        \"samples\": [\n          -27.80999999999767,\n          25.2699999999968,\n          4.290000000000873\n        ],\n        \"semantic_type\": \"\",\n        \"description\": \"\"\n      }\n    },\n    {\n      \"column\": \"close\",\n      \"properties\": {\n        \"dtype\": \"number\",\n        \"std\": 37.987526733042934,\n        \"min\": -309.20000000000437,\n        \"max\": 263.9100000000035,\n        \"num_unique_values\": 1353,\n        \"samples\": [\n          17.330000000001746,\n          -10.010000000002037,\n          14.230000000003201\n        ],\n        \"semantic_type\": \"\",\n        \"description\": \"\"\n      }\n    },\n    {\n      \"column\": \"vol\",\n      \"properties\": {\n        \"dtype\": \"number\",\n        \"std\": 0.5769469660041092,\n        \"min\": 0.0,\n        \"max\": 3.9299714591201105,\n        \"num_unique_values\": 1424,\n        \"samples\": [\n          1.9992586808519717,\n          0.051442082818003124,\n          0.19898720190902994\n        ],\n        \"semantic_type\": \"\",\n        \"description\": \"\"\n      }\n    },\n    {\n      \"column\": \"Relative_Close\",\n      \"properties\": {\n        \"dtype\": \"number\",\n        \"std\": 0.016456952462704174,\n        \"min\": 1.04283793230585,\n        \"max\": 1.1079359198066714,\n        \"num_unique_values\": 1382,\n        \"samples\": [\n          1.0808798432492024,\n          1.0944417623695872,\n          1.0798960439953567\n        ],\n        \"semantic_type\": \"\",\n        \"description\": \"\"\n      }\n    }\n  ]\n}"
            }
          },
          "metadata": {},
          "execution_count": 15
        }
      ]
    },
    {
      "cell_type": "code",
      "source": [
        "# Generate dataset function\n",
        "def generate_dataset(df, seq_len):\n",
        "    X_list, y_list = [], []\n",
        "    for i in range(len(df) - seq_len):\n",
        "        X_list.append(df.iloc[i:(i+seq_len), :].values)\n",
        "        y_list.append(df[\"close\"].iloc[i + seq_len])\n",
        "    return np.array(X_list), np.array(y_list)"
      ],
      "metadata": {
        "id": "3KTZcEMynYFl"
      },
      "execution_count": null,
      "outputs": []
    },
    {
      "cell_type": "markdown",
      "source": [
        "### LAG = 5"
      ],
      "metadata": {
        "id": "DODXAGky_6Zd"
      }
    },
    {
      "cell_type": "code",
      "source": [
        "LAG = 5"
      ],
      "metadata": {
        "id": "Xl7CvtO2naEe"
      },
      "execution_count": null,
      "outputs": []
    },
    {
      "cell_type": "code",
      "source": [
        "# Prepare training and test datasets\n",
        "X_train, y_train = generate_dataset(df_train, LAG)\n",
        "X_test, y_test = generate_dataset(pd.concat((df_train.iloc[-LAG:], df_test)), LAG)"
      ],
      "metadata": {
        "id": "x84Ixv8WncfL"
      },
      "execution_count": null,
      "outputs": []
    },
    {
      "cell_type": "code",
      "source": [
        "# Model architecture\n",
        "tf.keras.utils.set_random_seed(4002)\n",
        "\n",
        "model = Sequential([\n",
        "    LSTM(50, activation='relu', input_shape=(X_train.shape[1], X_train.shape[2])),\n",
        "    Dense(1)\n",
        "])\n",
        "\n",
        "model.compile(optimizer='adam', loss='mse')"
      ],
      "metadata": {
        "id": "uDgr10M7neKe"
      },
      "execution_count": null,
      "outputs": []
    },
    {
      "cell_type": "code",
      "source": [
        "# Train the model\n",
        "model.fit(X_train, y_train, epochs=20, validation_split=0.2, verbose=1)"
      ],
      "metadata": {
        "colab": {
          "base_uri": "https://localhost:8080/"
        },
        "id": "d_cCcTMbnep8",
        "outputId": "6cd4b84c-b82b-4ced-9ed8-8bcd2f64da9d"
      },
      "execution_count": null,
      "outputs": [
        {
          "output_type": "stream",
          "name": "stdout",
          "text": [
            "Epoch 1/20\n",
            "3276/3276 [==============================] - 19s 5ms/step - loss: 3046.9412 - val_loss: 1557.3982\n",
            "Epoch 2/20\n",
            "3276/3276 [==============================] - 16s 5ms/step - loss: 3041.7810 - val_loss: 1559.9789\n",
            "Epoch 3/20\n",
            "3276/3276 [==============================] - 16s 5ms/step - loss: 3036.5896 - val_loss: 1555.1101\n",
            "Epoch 4/20\n",
            "3276/3276 [==============================] - 18s 6ms/step - loss: 3037.6938 - val_loss: 1556.5785\n",
            "Epoch 5/20\n",
            "3276/3276 [==============================] - 17s 5ms/step - loss: 3035.2117 - val_loss: 1557.4156\n",
            "Epoch 6/20\n",
            "3276/3276 [==============================] - 16s 5ms/step - loss: 3009.2217 - val_loss: 1559.2483\n",
            "Epoch 7/20\n",
            "3276/3276 [==============================] - 19s 6ms/step - loss: 3010.4485 - val_loss: 1557.1094\n",
            "Epoch 8/20\n",
            "3276/3276 [==============================] - 17s 5ms/step - loss: 3023.2427 - val_loss: 1555.3612\n",
            "Epoch 9/20\n",
            "3276/3276 [==============================] - 16s 5ms/step - loss: 3022.6052 - val_loss: 1553.1786\n",
            "Epoch 10/20\n",
            "3276/3276 [==============================] - 16s 5ms/step - loss: 3034.5334 - val_loss: 1556.1187\n",
            "Epoch 11/20\n",
            "3276/3276 [==============================] - 16s 5ms/step - loss: 3033.0068 - val_loss: 1552.4596\n",
            "Epoch 12/20\n",
            "3276/3276 [==============================] - 16s 5ms/step - loss: 3030.0234 - val_loss: 1556.8317\n",
            "Epoch 13/20\n",
            "3276/3276 [==============================] - 18s 5ms/step - loss: 3032.0063 - val_loss: 1557.1879\n",
            "Epoch 14/20\n",
            "3276/3276 [==============================] - 16s 5ms/step - loss: 3017.3416 - val_loss: 1559.1306\n",
            "Epoch 15/20\n",
            "3276/3276 [==============================] - 17s 5ms/step - loss: 3013.9292 - val_loss: 1556.8077\n",
            "Epoch 16/20\n",
            "3276/3276 [==============================] - 17s 5ms/step - loss: 3026.4785 - val_loss: 1558.7234\n",
            "Epoch 17/20\n",
            "3276/3276 [==============================] - 18s 6ms/step - loss: 3010.8936 - val_loss: 1557.9569\n",
            "Epoch 18/20\n",
            "3276/3276 [==============================] - 16s 5ms/step - loss: 3019.2324 - val_loss: 1559.3972\n",
            "Epoch 19/20\n",
            "3276/3276 [==============================] - 18s 5ms/step - loss: 3013.4829 - val_loss: 1559.6755\n",
            "Epoch 20/20\n",
            "3276/3276 [==============================] - 16s 5ms/step - loss: 2995.6394 - val_loss: 1565.3652\n"
          ]
        },
        {
          "output_type": "execute_result",
          "data": {
            "text/plain": [
              "<keras.src.callbacks.History at 0x7c67a09f5c90>"
            ]
          },
          "metadata": {},
          "execution_count": 20
        }
      ]
    },
    {
      "cell_type": "code",
      "source": [
        "# Predict\n",
        "predictions = model.predict(X_test)"
      ],
      "metadata": {
        "colab": {
          "base_uri": "https://localhost:8080/"
        },
        "id": "yxlt2UkgneuJ",
        "outputId": "abcb73d5-d460-44f5-dcd7-783b9f109be7"
      },
      "execution_count": null,
      "outputs": [
        {
          "output_type": "stream",
          "name": "stdout",
          "text": [
            "45/45 [==============================] - 0s 3ms/step\n"
          ]
        }
      ]
    },
    {
      "cell_type": "code",
      "source": [
        "# Evaluate\n",
        "from sklearn.metrics import mean_squared_error\n",
        "mse = mean_squared_error(y_test, predictions)\n",
        "print(f'Test MSE: {mse}')"
      ],
      "metadata": {
        "id": "h75Z23YGq_fw",
        "colab": {
          "base_uri": "https://localhost:8080/"
        },
        "outputId": "d5feaf2f-0e79-40ef-c65a-aec0bd0715cd"
      },
      "execution_count": null,
      "outputs": [
        {
          "output_type": "stream",
          "name": "stdout",
          "text": [
            "Test MSE: 1447.7574393095827\n"
          ]
        }
      ]
    },
    {
      "cell_type": "markdown",
      "source": [
        "### LAG = 50"
      ],
      "metadata": {
        "id": "Guo4MaTO_-1c"
      }
    },
    {
      "cell_type": "code",
      "source": [
        "LAG = 50"
      ],
      "metadata": {
        "id": "fQvkvJ7L_96Z"
      },
      "execution_count": null,
      "outputs": []
    },
    {
      "cell_type": "code",
      "source": [
        "# Prepare training and test datasets\n",
        "X_train, y_train = generate_dataset(df_train, LAG)\n",
        "X_test, y_test = generate_dataset(pd.concat((df_train.iloc[-LAG:], df_test)), LAG)"
      ],
      "metadata": {
        "id": "fKHpclJ7_96Z"
      },
      "execution_count": null,
      "outputs": []
    },
    {
      "cell_type": "code",
      "source": [
        "# Model architecture\n",
        "tf.keras.utils.set_random_seed(4002)\n",
        "\n",
        "model = Sequential([\n",
        "    LSTM(50, activation='relu', input_shape=(X_train.shape[1], X_train.shape[2])),\n",
        "    Dense(1)\n",
        "])\n",
        "\n",
        "model.compile(optimizer='adam', loss='mse')"
      ],
      "metadata": {
        "id": "huYhhRnO_96Z"
      },
      "execution_count": null,
      "outputs": []
    },
    {
      "cell_type": "code",
      "source": [
        "# Train the model\n",
        "model.fit(X_train, y_train, epochs=20, validation_split=0.2, verbose=1)"
      ],
      "metadata": {
        "colab": {
          "base_uri": "https://localhost:8080/"
        },
        "outputId": "05f55222-502e-49e5-fc0d-02fb25844526",
        "id": "W8AJqXJo_96Z"
      },
      "execution_count": null,
      "outputs": [
        {
          "output_type": "stream",
          "name": "stdout",
          "text": [
            "Epoch 1/20\n",
            "3275/3275 [==============================] - 85s 25ms/step - loss: 5881704.5000 - val_loss: 4459.2368\n",
            "Epoch 2/20\n",
            "3275/3275 [==============================] - 75s 23ms/step - loss: 400093708288.0000 - val_loss: 11526.9014\n",
            "Epoch 3/20\n",
            "3275/3275 [==============================] - 75s 23ms/step - loss: 452758.2500 - val_loss: 101430.3594\n",
            "Epoch 4/20\n",
            "3275/3275 [==============================] - 79s 24ms/step - loss: 267479.9062 - val_loss: 4148.8315\n",
            "Epoch 5/20\n",
            "3275/3275 [==============================] - 75s 23ms/step - loss: 14822.4629 - val_loss: 4100.6479\n",
            "Epoch 6/20\n",
            "3275/3275 [==============================] - 77s 23ms/step - loss: 11788.5371 - val_loss: 3499.8462\n",
            "Epoch 7/20\n",
            "3275/3275 [==============================] - 75s 23ms/step - loss: 18548.2207 - val_loss: 2773.3567\n",
            "Epoch 8/20\n",
            "3275/3275 [==============================] - 76s 23ms/step - loss: 3864.5286 - val_loss: 3013.7363\n",
            "Epoch 9/20\n",
            "3275/3275 [==============================] - 76s 23ms/step - loss: 3294.5945 - val_loss: 1834.8724\n",
            "Epoch 10/20\n",
            "3275/3275 [==============================] - 77s 24ms/step - loss: 3231.5339 - val_loss: 1565.2997\n",
            "Epoch 11/20\n",
            "3275/3275 [==============================] - 75s 23ms/step - loss: 91372.9609 - val_loss: 1695.3640\n",
            "Epoch 12/20\n",
            "3275/3275 [==============================] - 75s 23ms/step - loss: 3292.1438 - val_loss: 1646.5631\n",
            "Epoch 13/20\n",
            "3275/3275 [==============================] - 75s 23ms/step - loss: 51805.6289 - val_loss: 2226.1921\n",
            "Epoch 14/20\n",
            "3275/3275 [==============================] - 76s 23ms/step - loss: 3570.6116 - val_loss: 1649.0017\n",
            "Epoch 15/20\n",
            "3275/3275 [==============================] - 77s 24ms/step - loss: 3182.3086 - val_loss: 1604.1478\n",
            "Epoch 16/20\n",
            "3275/3275 [==============================] - 76s 23ms/step - loss: 3212.0959 - val_loss: 1586.3356\n",
            "Epoch 17/20\n",
            "3275/3275 [==============================] - 75s 23ms/step - loss: 3841.4998 - val_loss: 1588.0916\n",
            "Epoch 18/20\n",
            "3275/3275 [==============================] - 75s 23ms/step - loss: 16027.2500 - val_loss: 1571.2555\n",
            "Epoch 19/20\n",
            "3275/3275 [==============================] - 77s 24ms/step - loss: 3286.3809 - val_loss: 1611.3925\n",
            "Epoch 20/20\n",
            "3275/3275 [==============================] - 79s 24ms/step - loss: 3328.8589 - val_loss: 1663.9470\n"
          ]
        },
        {
          "output_type": "execute_result",
          "data": {
            "text/plain": [
              "<keras.src.callbacks.History at 0x7c679dbba620>"
            ]
          },
          "metadata": {},
          "execution_count": 26
        }
      ]
    },
    {
      "cell_type": "code",
      "source": [
        "# Predict\n",
        "predictions = model.predict(X_test)"
      ],
      "metadata": {
        "colab": {
          "base_uri": "https://localhost:8080/"
        },
        "outputId": "cccb18c6-f1e4-41ee-8fa0-5f5e5faa0255",
        "id": "sGx4Gva7_96a"
      },
      "execution_count": null,
      "outputs": [
        {
          "output_type": "stream",
          "name": "stdout",
          "text": [
            "45/45 [==============================] - 1s 8ms/step\n"
          ]
        }
      ]
    },
    {
      "cell_type": "code",
      "source": [
        "# Evaluate\n",
        "from sklearn.metrics import mean_squared_error\n",
        "mse = mean_squared_error(y_test, predictions)\n",
        "print(f'Test MSE: {mse}')"
      ],
      "metadata": {
        "colab": {
          "base_uri": "https://localhost:8080/"
        },
        "outputId": "29c5ee18-175a-423f-e64d-6a13bdccfe65",
        "id": "B6oGBvvF_96a"
      },
      "execution_count": null,
      "outputs": [
        {
          "output_type": "stream",
          "name": "stdout",
          "text": [
            "Test MSE: 1586.4653692194706\n"
          ]
        }
      ]
    },
    {
      "cell_type": "code",
      "source": [],
      "metadata": {
        "id": "Tj_9U8Ab_96a"
      },
      "execution_count": null,
      "outputs": []
    },
    {
      "cell_type": "code",
      "source": [
        "LAG = 3"
      ],
      "metadata": {
        "id": "u7_E1qVxNLwO"
      },
      "execution_count": null,
      "outputs": []
    },
    {
      "cell_type": "code",
      "source": [
        "# Prepare training and test datasets\n",
        "X_train, y_train = generate_dataset(df_train, LAG)\n",
        "X_test, y_test = generate_dataset(pd.concat((df_train.iloc[-LAG:], df_test)), LAG)"
      ],
      "metadata": {
        "id": "0HwQpbZMNLwP"
      },
      "execution_count": null,
      "outputs": []
    },
    {
      "cell_type": "code",
      "source": [
        "# Model architecture\n",
        "tf.keras.utils.set_random_seed(4002)\n",
        "\n",
        "model = Sequential([\n",
        "    LSTM(50, activation='relu', input_shape=(X_train.shape[1], X_train.shape[2])),\n",
        "    Dense(1)\n",
        "])\n",
        "\n",
        "model.compile(optimizer='adam', loss='mse')"
      ],
      "metadata": {
        "id": "1GCXkrzjNLwP"
      },
      "execution_count": null,
      "outputs": []
    },
    {
      "cell_type": "code",
      "source": [
        "# Train the model\n",
        "model.fit(X_train, y_train, epochs=20, validation_split=0.2, verbose=1)"
      ],
      "metadata": {
        "colab": {
          "base_uri": "https://localhost:8080/"
        },
        "outputId": "2a7bd643-3dcf-4364-a8eb-ddcd84d5f71b",
        "id": "3zqVYM69NLwP"
      },
      "execution_count": null,
      "outputs": [
        {
          "output_type": "stream",
          "name": "stdout",
          "text": [
            "Epoch 1/20\n",
            "3276/3276 [==============================] - 19s 5ms/step - loss: 3039.3218 - val_loss: 1554.2931\n",
            "Epoch 2/20\n",
            "3276/3276 [==============================] - 13s 4ms/step - loss: 3034.7227 - val_loss: 1556.8706\n",
            "Epoch 3/20\n",
            "3276/3276 [==============================] - 13s 4ms/step - loss: 3025.0264 - val_loss: 1559.4854\n",
            "Epoch 4/20\n",
            "3276/3276 [==============================] - 13s 4ms/step - loss: 3013.3279 - val_loss: 1557.5371\n",
            "Epoch 5/20\n",
            "3276/3276 [==============================] - 13s 4ms/step - loss: 3021.2957 - val_loss: 1556.1709\n",
            "Epoch 6/20\n",
            "3276/3276 [==============================] - 15s 4ms/step - loss: 3017.9131 - val_loss: 1557.9049\n",
            "Epoch 7/20\n",
            "3276/3276 [==============================] - 14s 4ms/step - loss: 3011.8406 - val_loss: 1553.6736\n",
            "Epoch 8/20\n",
            "3276/3276 [==============================] - 15s 5ms/step - loss: 3012.8276 - val_loss: 1562.1426\n",
            "Epoch 9/20\n",
            "3276/3276 [==============================] - 14s 4ms/step - loss: 3003.8630 - val_loss: 1560.0449\n",
            "Epoch 10/20\n",
            "3276/3276 [==============================] - 15s 4ms/step - loss: 2999.6274 - val_loss: 1559.3069\n",
            "Epoch 11/20\n",
            "3276/3276 [==============================] - 14s 4ms/step - loss: 2990.1399 - val_loss: 1565.8209\n",
            "Epoch 12/20\n",
            "3276/3276 [==============================] - 14s 4ms/step - loss: 2974.5771 - val_loss: 1564.9135\n",
            "Epoch 13/20\n",
            "3276/3276 [==============================] - 14s 4ms/step - loss: 3001.0242 - val_loss: 1561.6282\n",
            "Epoch 14/20\n",
            "3276/3276 [==============================] - 13s 4ms/step - loss: 3007.5076 - val_loss: 1561.3894\n",
            "Epoch 15/20\n",
            "3276/3276 [==============================] - 14s 4ms/step - loss: 2982.7708 - val_loss: 1561.1764\n",
            "Epoch 16/20\n",
            "3276/3276 [==============================] - 14s 4ms/step - loss: 2988.7402 - val_loss: 1563.4227\n",
            "Epoch 17/20\n",
            "3276/3276 [==============================] - 15s 5ms/step - loss: 2980.4109 - val_loss: 1560.9794\n",
            "Epoch 18/20\n",
            "3276/3276 [==============================] - 16s 5ms/step - loss: 2993.8062 - val_loss: 1568.2030\n",
            "Epoch 19/20\n",
            "3276/3276 [==============================] - 15s 4ms/step - loss: 2982.8333 - val_loss: 1564.1702\n",
            "Epoch 20/20\n",
            "3276/3276 [==============================] - 14s 4ms/step - loss: 2970.9412 - val_loss: 1566.2552\n"
          ]
        },
        {
          "output_type": "execute_result",
          "data": {
            "text/plain": [
              "<keras.src.callbacks.History at 0x7c679da6c8b0>"
            ]
          },
          "metadata": {},
          "execution_count": 32
        }
      ]
    },
    {
      "cell_type": "code",
      "source": [
        "# Predict\n",
        "predictions = model.predict(X_test)"
      ],
      "metadata": {
        "colab": {
          "base_uri": "https://localhost:8080/"
        },
        "id": "qGQK6hzRNLwP",
        "outputId": "dc59d767-53dd-4324-d986-14837aac1acf"
      },
      "execution_count": null,
      "outputs": [
        {
          "output_type": "stream",
          "name": "stdout",
          "text": [
            "45/45 [==============================] - 0s 2ms/step\n"
          ]
        }
      ]
    },
    {
      "cell_type": "code",
      "source": [
        "# Evaluate\n",
        "from sklearn.metrics import mean_squared_error\n",
        "mse = mean_squared_error(y_test, predictions)\n",
        "print(f'Test MSE: {mse}')"
      ],
      "metadata": {
        "colab": {
          "base_uri": "https://localhost:8080/"
        },
        "id": "ELmyH2tvNLwP",
        "outputId": "e5e58d10-fe64-4914-e463-f5a0f2b4f35b"
      },
      "execution_count": null,
      "outputs": [
        {
          "output_type": "stream",
          "name": "stdout",
          "text": [
            "Test MSE: 1457.6206009779517\n"
          ]
        }
      ]
    },
    {
      "cell_type": "code",
      "source": [],
      "metadata": {
        "id": "LETGPrPwNPfT"
      },
      "execution_count": null,
      "outputs": []
    }
  ]
}