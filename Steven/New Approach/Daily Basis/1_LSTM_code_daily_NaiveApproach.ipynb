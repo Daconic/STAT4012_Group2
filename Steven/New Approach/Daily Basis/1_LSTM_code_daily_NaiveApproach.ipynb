{
  "nbformat": 4,
  "nbformat_minor": 0,
  "metadata": {
    "colab": {
      "provenance": []
    },
    "kernelspec": {
      "name": "python3",
      "display_name": "Python 3"
    },
    "language_info": {
      "name": "python"
    }
  },
  "cells": [
    {
      "cell_type": "code",
      "source": [
        "import pandas as pd\n",
        "import numpy as np\n",
        "import tensorflow as tf\n",
        "from tensorflow.keras import Sequential\n",
        "from tensorflow.keras.layers import LSTM, Dense\n",
        "from tensorflow.keras.optimizers import Adam\n",
        "import yfinance as yf\n",
        "import datetime"
      ],
      "metadata": {
        "id": "R2QrYNQGfcmY"
      },
      "execution_count": null,
      "outputs": []
    },
    {
      "cell_type": "markdown",
      "source": [
        "## Import data"
      ],
      "metadata": {
        "id": "xzoAYBt0EwlX"
      }
    },
    {
      "cell_type": "code",
      "source": [
        "start_date = datetime.datetime(2018, 1, 1)\n",
        "end_date = datetime.datetime(2024, 1, 1)\n",
        "btc_info = yf.Ticker(\"BTC-USD\")\n",
        "\n",
        "# pass the parameters as the taken dates for start and end\n",
        "df = btc_info.history(start = start_date, end = end_date)"
      ],
      "metadata": {
        "id": "zX4dnnQlEixP"
      },
      "execution_count": null,
      "outputs": []
    },
    {
      "cell_type": "code",
      "source": [
        "df.head()"
      ],
      "metadata": {
        "colab": {
          "base_uri": "https://localhost:8080/",
          "height": 237
        },
        "id": "raNuXP5vf5kE",
        "outputId": "3d521055-bc98-41ef-ec1f-6a1c70ebed1e"
      },
      "execution_count": null,
      "outputs": [
        {
          "output_type": "execute_result",
          "data": {
            "text/plain": [
              "                                   Open          High           Low  \\\n",
              "Date                                                                  \n",
              "2018-01-01 00:00:00+00:00  14112.200195  14112.200195  13154.700195   \n",
              "2018-01-02 00:00:00+00:00  13625.000000  15444.599609  13163.599609   \n",
              "2018-01-03 00:00:00+00:00  14978.200195  15572.799805  14844.500000   \n",
              "2018-01-04 00:00:00+00:00  15270.700195  15739.700195  14522.200195   \n",
              "2018-01-05 00:00:00+00:00  15477.200195  17705.199219  15202.799805   \n",
              "\n",
              "                                  Close       Volume  Dividends  Stock Splits  \n",
              "Date                                                                           \n",
              "2018-01-01 00:00:00+00:00  13657.200195  10291200000        0.0           0.0  \n",
              "2018-01-02 00:00:00+00:00  14982.099609  16846600192        0.0           0.0  \n",
              "2018-01-03 00:00:00+00:00  15201.000000  16871900160        0.0           0.0  \n",
              "2018-01-04 00:00:00+00:00  15599.200195  21783199744        0.0           0.0  \n",
              "2018-01-05 00:00:00+00:00  17429.500000  23840899072        0.0           0.0  "
            ],
            "text/html": [
              "\n",
              "  <div id=\"df-459385b7-f955-4d37-952f-a72643877b54\" class=\"colab-df-container\">\n",
              "    <div>\n",
              "<style scoped>\n",
              "    .dataframe tbody tr th:only-of-type {\n",
              "        vertical-align: middle;\n",
              "    }\n",
              "\n",
              "    .dataframe tbody tr th {\n",
              "        vertical-align: top;\n",
              "    }\n",
              "\n",
              "    .dataframe thead th {\n",
              "        text-align: right;\n",
              "    }\n",
              "</style>\n",
              "<table border=\"1\" class=\"dataframe\">\n",
              "  <thead>\n",
              "    <tr style=\"text-align: right;\">\n",
              "      <th></th>\n",
              "      <th>Open</th>\n",
              "      <th>High</th>\n",
              "      <th>Low</th>\n",
              "      <th>Close</th>\n",
              "      <th>Volume</th>\n",
              "      <th>Dividends</th>\n",
              "      <th>Stock Splits</th>\n",
              "    </tr>\n",
              "    <tr>\n",
              "      <th>Date</th>\n",
              "      <th></th>\n",
              "      <th></th>\n",
              "      <th></th>\n",
              "      <th></th>\n",
              "      <th></th>\n",
              "      <th></th>\n",
              "      <th></th>\n",
              "    </tr>\n",
              "  </thead>\n",
              "  <tbody>\n",
              "    <tr>\n",
              "      <th>2018-01-01 00:00:00+00:00</th>\n",
              "      <td>14112.200195</td>\n",
              "      <td>14112.200195</td>\n",
              "      <td>13154.700195</td>\n",
              "      <td>13657.200195</td>\n",
              "      <td>10291200000</td>\n",
              "      <td>0.0</td>\n",
              "      <td>0.0</td>\n",
              "    </tr>\n",
              "    <tr>\n",
              "      <th>2018-01-02 00:00:00+00:00</th>\n",
              "      <td>13625.000000</td>\n",
              "      <td>15444.599609</td>\n",
              "      <td>13163.599609</td>\n",
              "      <td>14982.099609</td>\n",
              "      <td>16846600192</td>\n",
              "      <td>0.0</td>\n",
              "      <td>0.0</td>\n",
              "    </tr>\n",
              "    <tr>\n",
              "      <th>2018-01-03 00:00:00+00:00</th>\n",
              "      <td>14978.200195</td>\n",
              "      <td>15572.799805</td>\n",
              "      <td>14844.500000</td>\n",
              "      <td>15201.000000</td>\n",
              "      <td>16871900160</td>\n",
              "      <td>0.0</td>\n",
              "      <td>0.0</td>\n",
              "    </tr>\n",
              "    <tr>\n",
              "      <th>2018-01-04 00:00:00+00:00</th>\n",
              "      <td>15270.700195</td>\n",
              "      <td>15739.700195</td>\n",
              "      <td>14522.200195</td>\n",
              "      <td>15599.200195</td>\n",
              "      <td>21783199744</td>\n",
              "      <td>0.0</td>\n",
              "      <td>0.0</td>\n",
              "    </tr>\n",
              "    <tr>\n",
              "      <th>2018-01-05 00:00:00+00:00</th>\n",
              "      <td>15477.200195</td>\n",
              "      <td>17705.199219</td>\n",
              "      <td>15202.799805</td>\n",
              "      <td>17429.500000</td>\n",
              "      <td>23840899072</td>\n",
              "      <td>0.0</td>\n",
              "      <td>0.0</td>\n",
              "    </tr>\n",
              "  </tbody>\n",
              "</table>\n",
              "</div>\n",
              "    <div class=\"colab-df-buttons\">\n",
              "\n",
              "  <div class=\"colab-df-container\">\n",
              "    <button class=\"colab-df-convert\" onclick=\"convertToInteractive('df-459385b7-f955-4d37-952f-a72643877b54')\"\n",
              "            title=\"Convert this dataframe to an interactive table.\"\n",
              "            style=\"display:none;\">\n",
              "\n",
              "  <svg xmlns=\"http://www.w3.org/2000/svg\" height=\"24px\" viewBox=\"0 -960 960 960\">\n",
              "    <path d=\"M120-120v-720h720v720H120Zm60-500h600v-160H180v160Zm220 220h160v-160H400v160Zm0 220h160v-160H400v160ZM180-400h160v-160H180v160Zm440 0h160v-160H620v160ZM180-180h160v-160H180v160Zm440 0h160v-160H620v160Z\"/>\n",
              "  </svg>\n",
              "    </button>\n",
              "\n",
              "  <style>\n",
              "    .colab-df-container {\n",
              "      display:flex;\n",
              "      gap: 12px;\n",
              "    }\n",
              "\n",
              "    .colab-df-convert {\n",
              "      background-color: #E8F0FE;\n",
              "      border: none;\n",
              "      border-radius: 50%;\n",
              "      cursor: pointer;\n",
              "      display: none;\n",
              "      fill: #1967D2;\n",
              "      height: 32px;\n",
              "      padding: 0 0 0 0;\n",
              "      width: 32px;\n",
              "    }\n",
              "\n",
              "    .colab-df-convert:hover {\n",
              "      background-color: #E2EBFA;\n",
              "      box-shadow: 0px 1px 2px rgba(60, 64, 67, 0.3), 0px 1px 3px 1px rgba(60, 64, 67, 0.15);\n",
              "      fill: #174EA6;\n",
              "    }\n",
              "\n",
              "    .colab-df-buttons div {\n",
              "      margin-bottom: 4px;\n",
              "    }\n",
              "\n",
              "    [theme=dark] .colab-df-convert {\n",
              "      background-color: #3B4455;\n",
              "      fill: #D2E3FC;\n",
              "    }\n",
              "\n",
              "    [theme=dark] .colab-df-convert:hover {\n",
              "      background-color: #434B5C;\n",
              "      box-shadow: 0px 1px 3px 1px rgba(0, 0, 0, 0.15);\n",
              "      filter: drop-shadow(0px 1px 2px rgba(0, 0, 0, 0.3));\n",
              "      fill: #FFFFFF;\n",
              "    }\n",
              "  </style>\n",
              "\n",
              "    <script>\n",
              "      const buttonEl =\n",
              "        document.querySelector('#df-459385b7-f955-4d37-952f-a72643877b54 button.colab-df-convert');\n",
              "      buttonEl.style.display =\n",
              "        google.colab.kernel.accessAllowed ? 'block' : 'none';\n",
              "\n",
              "      async function convertToInteractive(key) {\n",
              "        const element = document.querySelector('#df-459385b7-f955-4d37-952f-a72643877b54');\n",
              "        const dataTable =\n",
              "          await google.colab.kernel.invokeFunction('convertToInteractive',\n",
              "                                                    [key], {});\n",
              "        if (!dataTable) return;\n",
              "\n",
              "        const docLinkHtml = 'Like what you see? Visit the ' +\n",
              "          '<a target=\"_blank\" href=https://colab.research.google.com/notebooks/data_table.ipynb>data table notebook</a>'\n",
              "          + ' to learn more about interactive tables.';\n",
              "        element.innerHTML = '';\n",
              "        dataTable['output_type'] = 'display_data';\n",
              "        await google.colab.output.renderOutput(dataTable, element);\n",
              "        const docLink = document.createElement('div');\n",
              "        docLink.innerHTML = docLinkHtml;\n",
              "        element.appendChild(docLink);\n",
              "      }\n",
              "    </script>\n",
              "  </div>\n",
              "\n",
              "\n",
              "<div id=\"df-fcd474e7-575c-49c7-8450-f69408b336dd\">\n",
              "  <button class=\"colab-df-quickchart\" onclick=\"quickchart('df-fcd474e7-575c-49c7-8450-f69408b336dd')\"\n",
              "            title=\"Suggest charts\"\n",
              "            style=\"display:none;\">\n",
              "\n",
              "<svg xmlns=\"http://www.w3.org/2000/svg\" height=\"24px\"viewBox=\"0 0 24 24\"\n",
              "     width=\"24px\">\n",
              "    <g>\n",
              "        <path d=\"M19 3H5c-1.1 0-2 .9-2 2v14c0 1.1.9 2 2 2h14c1.1 0 2-.9 2-2V5c0-1.1-.9-2-2-2zM9 17H7v-7h2v7zm4 0h-2V7h2v10zm4 0h-2v-4h2v4z\"/>\n",
              "    </g>\n",
              "</svg>\n",
              "  </button>\n",
              "\n",
              "<style>\n",
              "  .colab-df-quickchart {\n",
              "      --bg-color: #E8F0FE;\n",
              "      --fill-color: #1967D2;\n",
              "      --hover-bg-color: #E2EBFA;\n",
              "      --hover-fill-color: #174EA6;\n",
              "      --disabled-fill-color: #AAA;\n",
              "      --disabled-bg-color: #DDD;\n",
              "  }\n",
              "\n",
              "  [theme=dark] .colab-df-quickchart {\n",
              "      --bg-color: #3B4455;\n",
              "      --fill-color: #D2E3FC;\n",
              "      --hover-bg-color: #434B5C;\n",
              "      --hover-fill-color: #FFFFFF;\n",
              "      --disabled-bg-color: #3B4455;\n",
              "      --disabled-fill-color: #666;\n",
              "  }\n",
              "\n",
              "  .colab-df-quickchart {\n",
              "    background-color: var(--bg-color);\n",
              "    border: none;\n",
              "    border-radius: 50%;\n",
              "    cursor: pointer;\n",
              "    display: none;\n",
              "    fill: var(--fill-color);\n",
              "    height: 32px;\n",
              "    padding: 0;\n",
              "    width: 32px;\n",
              "  }\n",
              "\n",
              "  .colab-df-quickchart:hover {\n",
              "    background-color: var(--hover-bg-color);\n",
              "    box-shadow: 0 1px 2px rgba(60, 64, 67, 0.3), 0 1px 3px 1px rgba(60, 64, 67, 0.15);\n",
              "    fill: var(--button-hover-fill-color);\n",
              "  }\n",
              "\n",
              "  .colab-df-quickchart-complete:disabled,\n",
              "  .colab-df-quickchart-complete:disabled:hover {\n",
              "    background-color: var(--disabled-bg-color);\n",
              "    fill: var(--disabled-fill-color);\n",
              "    box-shadow: none;\n",
              "  }\n",
              "\n",
              "  .colab-df-spinner {\n",
              "    border: 2px solid var(--fill-color);\n",
              "    border-color: transparent;\n",
              "    border-bottom-color: var(--fill-color);\n",
              "    animation:\n",
              "      spin 1s steps(1) infinite;\n",
              "  }\n",
              "\n",
              "  @keyframes spin {\n",
              "    0% {\n",
              "      border-color: transparent;\n",
              "      border-bottom-color: var(--fill-color);\n",
              "      border-left-color: var(--fill-color);\n",
              "    }\n",
              "    20% {\n",
              "      border-color: transparent;\n",
              "      border-left-color: var(--fill-color);\n",
              "      border-top-color: var(--fill-color);\n",
              "    }\n",
              "    30% {\n",
              "      border-color: transparent;\n",
              "      border-left-color: var(--fill-color);\n",
              "      border-top-color: var(--fill-color);\n",
              "      border-right-color: var(--fill-color);\n",
              "    }\n",
              "    40% {\n",
              "      border-color: transparent;\n",
              "      border-right-color: var(--fill-color);\n",
              "      border-top-color: var(--fill-color);\n",
              "    }\n",
              "    60% {\n",
              "      border-color: transparent;\n",
              "      border-right-color: var(--fill-color);\n",
              "    }\n",
              "    80% {\n",
              "      border-color: transparent;\n",
              "      border-right-color: var(--fill-color);\n",
              "      border-bottom-color: var(--fill-color);\n",
              "    }\n",
              "    90% {\n",
              "      border-color: transparent;\n",
              "      border-bottom-color: var(--fill-color);\n",
              "    }\n",
              "  }\n",
              "</style>\n",
              "\n",
              "  <script>\n",
              "    async function quickchart(key) {\n",
              "      const quickchartButtonEl =\n",
              "        document.querySelector('#' + key + ' button');\n",
              "      quickchartButtonEl.disabled = true;  // To prevent multiple clicks.\n",
              "      quickchartButtonEl.classList.add('colab-df-spinner');\n",
              "      try {\n",
              "        const charts = await google.colab.kernel.invokeFunction(\n",
              "            'suggestCharts', [key], {});\n",
              "      } catch (error) {\n",
              "        console.error('Error during call to suggestCharts:', error);\n",
              "      }\n",
              "      quickchartButtonEl.classList.remove('colab-df-spinner');\n",
              "      quickchartButtonEl.classList.add('colab-df-quickchart-complete');\n",
              "    }\n",
              "    (() => {\n",
              "      let quickchartButtonEl =\n",
              "        document.querySelector('#df-fcd474e7-575c-49c7-8450-f69408b336dd button');\n",
              "      quickchartButtonEl.style.display =\n",
              "        google.colab.kernel.accessAllowed ? 'block' : 'none';\n",
              "    })();\n",
              "  </script>\n",
              "</div>\n",
              "    </div>\n",
              "  </div>\n"
            ],
            "application/vnd.google.colaboratory.intrinsic+json": {
              "type": "dataframe",
              "variable_name": "df",
              "summary": "{\n  \"name\": \"df\",\n  \"rows\": 2191,\n  \"fields\": [\n    {\n      \"column\": \"Date\",\n      \"properties\": {\n        \"dtype\": \"date\",\n        \"min\": \"2018-01-01 00:00:00+00:00\",\n        \"max\": \"2023-12-31 00:00:00+00:00\",\n        \"num_unique_values\": 2191,\n        \"samples\": [\n          \"2019-01-18 00:00:00+00:00\",\n          \"2019-09-25 00:00:00+00:00\",\n          \"2022-07-29 00:00:00+00:00\"\n        ],\n        \"semantic_type\": \"\",\n        \"description\": \"\"\n      }\n    },\n    {\n      \"column\": \"Open\",\n      \"properties\": {\n        \"dtype\": \"number\",\n        \"std\": 16008.262626440397,\n        \"min\": 3236.274658203125,\n        \"max\": 67549.734375,\n        \"num_unique_values\": 2191,\n        \"samples\": [\n          3677.990478515625,\n          8603.4287109375,\n          23845.212890625\n        ],\n        \"semantic_type\": \"\",\n        \"description\": \"\"\n      }\n    },\n    {\n      \"column\": \"High\",\n      \"properties\": {\n        \"dtype\": \"number\",\n        \"std\": 16405.804320154017,\n        \"min\": 3275.3779296875,\n        \"max\": 68789.625,\n        \"num_unique_values\": 2190,\n        \"samples\": [\n          6601.2099609375,\n          21668.845703125,\n          32013.40234375\n        ],\n        \"semantic_type\": \"\",\n        \"description\": \"\"\n      }\n    },\n    {\n      \"column\": \"Low\",\n      \"properties\": {\n        \"dtype\": \"number\",\n        \"std\": 15559.05901323902,\n        \"min\": 3191.303466796875,\n        \"max\": 66382.0625,\n        \"num_unique_values\": 2190,\n        \"samples\": [\n          6517.4501953125,\n          20856.73046875,\n          29944.802734375\n        ],\n        \"semantic_type\": \"\",\n        \"description\": \"\"\n      }\n    },\n    {\n      \"column\": \"Close\",\n      \"properties\": {\n        \"dtype\": \"number\",\n        \"std\": 16009.61669833044,\n        \"min\": 3236.76171875,\n        \"max\": 67566.828125,\n        \"num_unique_values\": 2190,\n        \"samples\": [\n          6476.7099609375,\n          21534.12109375,\n          28936.35546875\n        ],\n        \"semantic_type\": \"\",\n        \"description\": \"\"\n      }\n    },\n    {\n      \"column\": \"Volume\",\n      \"properties\": {\n        \"dtype\": \"number\",\n        \"std\": 18689149977,\n        \"min\": 2923670016,\n        \"max\": 350967941479,\n        \"num_unique_values\": 2191,\n        \"samples\": [\n          5002961727,\n          21744728353,\n          35887249746\n        ],\n        \"semantic_type\": \"\",\n        \"description\": \"\"\n      }\n    },\n    {\n      \"column\": \"Dividends\",\n      \"properties\": {\n        \"dtype\": \"number\",\n        \"std\": 0.0,\n        \"min\": 0.0,\n        \"max\": 0.0,\n        \"num_unique_values\": 1,\n        \"samples\": [\n          0.0\n        ],\n        \"semantic_type\": \"\",\n        \"description\": \"\"\n      }\n    },\n    {\n      \"column\": \"Stock Splits\",\n      \"properties\": {\n        \"dtype\": \"number\",\n        \"std\": 0.0,\n        \"min\": 0.0,\n        \"max\": 0.0,\n        \"num_unique_values\": 1,\n        \"samples\": [\n          0.0\n        ],\n        \"semantic_type\": \"\",\n        \"description\": \"\"\n      }\n    }\n  ]\n}"
            }
          },
          "metadata": {},
          "execution_count": 6
        }
      ]
    },
    {
      "cell_type": "code",
      "source": [
        "df = df.drop(columns=['Dividends', 'Stock Splits'])"
      ],
      "metadata": {
        "id": "NzzS4vAdE3XW"
      },
      "execution_count": null,
      "outputs": []
    },
    {
      "cell_type": "code",
      "source": [
        "df.columns = ['open', 'high', 'low', 'close', 'vol']"
      ],
      "metadata": {
        "id": "Gxm7YVdYg-YC"
      },
      "execution_count": null,
      "outputs": []
    },
    {
      "cell_type": "code",
      "source": [
        "df.info()"
      ],
      "metadata": {
        "colab": {
          "base_uri": "https://localhost:8080/"
        },
        "id": "_fu3114eFGw2",
        "outputId": "bb147345-93b3-40a7-d326-9e5b24de349a"
      },
      "execution_count": null,
      "outputs": [
        {
          "output_type": "stream",
          "name": "stdout",
          "text": [
            "<class 'pandas.core.frame.DataFrame'>\n",
            "DatetimeIndex: 2191 entries, 2018-01-01 00:00:00+00:00 to 2023-12-31 00:00:00+00:00\n",
            "Data columns (total 5 columns):\n",
            " #   Column  Non-Null Count  Dtype  \n",
            "---  ------  --------------  -----  \n",
            " 0   open    2191 non-null   float64\n",
            " 1   high    2191 non-null   float64\n",
            " 2   low     2191 non-null   float64\n",
            " 3   close   2191 non-null   float64\n",
            " 4   vol     2191 non-null   int64  \n",
            "dtypes: float64(4), int64(1)\n",
            "memory usage: 102.7 KB\n"
          ]
        }
      ]
    },
    {
      "cell_type": "code",
      "source": [
        "# Prepare the volume and price differences, normalize volume\n",
        "BTC_vol = df[\"vol\"].values\n",
        "df_diff = df.diff().dropna()\n",
        "df_diff[\"vol\"] = np.log(1 + BTC_vol[:-1])"
      ],
      "metadata": {
        "id": "ETS0M1kIiZcu"
      },
      "execution_count": null,
      "outputs": []
    },
    {
      "cell_type": "code",
      "source": [
        "df_aligned = df.loc[df_diff.index]"
      ],
      "metadata": {
        "id": "Ep8gIFCpcKMe"
      },
      "execution_count": null,
      "outputs": []
    },
    {
      "cell_type": "code",
      "source": [
        "# Train data\n",
        "# Period : From start of 2018 to end of 2022\n",
        "mask_train = (df_diff.index >= \"2018-01-01\") & (df_diff.index < \"2023-01-01\")\n",
        "df_train = df_diff.loc[mask_train].copy()\n",
        "train_close = df_aligned.loc[mask_train, \"close\"].values\n",
        "df_train[\"Relative_Close\"] = train_close / train_close[0]"
      ],
      "metadata": {
        "id": "aUxVIPBAmH19"
      },
      "execution_count": null,
      "outputs": []
    },
    {
      "cell_type": "code",
      "source": [
        "# Test data\n",
        "# Period : Whole 2023\n",
        "mask_test = (df_diff.index >= \"2023-01-01\") & (df_diff.index < \"2024-01-01\")  # December 2018 for testing\n",
        "df_test = df_diff.loc[mask_test].copy()\n",
        "test_close = df_aligned.loc[mask_test, \"close\"].values\n",
        "df_test[\"Relative_Close\"] = test_close / train_close[0]\n"
      ],
      "metadata": {
        "id": "Je1yKe4mkSeK"
      },
      "execution_count": null,
      "outputs": []
    },
    {
      "cell_type": "code",
      "source": [
        "df_train.head()"
      ],
      "metadata": {
        "id": "hMUDlKGgbsWi"
      },
      "execution_count": null,
      "outputs": []
    },
    {
      "cell_type": "code",
      "source": [
        "df_test.head()"
      ],
      "metadata": {
        "id": "Htg3EESZIAft"
      },
      "execution_count": null,
      "outputs": []
    },
    {
      "cell_type": "code",
      "source": [
        "# Generate dataset function\n",
        "def generate_dataset(df, seq_len):\n",
        "    X_list, y_list = [], []\n",
        "    for i in range(len(df) - seq_len):\n",
        "        X_list.append(df.iloc[i:(i+seq_len), :].values)\n",
        "        y_list.append(df[\"close\"].iloc[i + seq_len])\n",
        "    return np.array(X_list), np.array(y_list)"
      ],
      "metadata": {
        "id": "3KTZcEMynYFl"
      },
      "execution_count": null,
      "outputs": []
    },
    {
      "cell_type": "code",
      "source": [
        "LAG = 30"
      ],
      "metadata": {
        "id": "Xl7CvtO2naEe"
      },
      "execution_count": null,
      "outputs": []
    },
    {
      "cell_type": "code",
      "source": [
        "# Prepare training and test datasets\n",
        "X_train, y_train = generate_dataset(df_train, LAG)\n",
        "X_test, y_test = generate_dataset(pd.concat((df_train.iloc[-LAG:], df_test)), LAG)"
      ],
      "metadata": {
        "id": "x84Ixv8WncfL"
      },
      "execution_count": null,
      "outputs": []
    },
    {
      "cell_type": "code",
      "source": [
        "# Model architecture\n",
        "tf.keras.utils.set_random_seed(4002)\n",
        "\n",
        "model = Sequential([\n",
        "    LSTM(50, activation='relu', input_shape=(X_train.shape[1], X_train.shape[2])),\n",
        "    Dense(1)\n",
        "])\n",
        "\n",
        "model.compile(optimizer='adam', loss='mse')"
      ],
      "metadata": {
        "id": "uDgr10M7neKe"
      },
      "execution_count": null,
      "outputs": []
    },
    {
      "cell_type": "code",
      "source": [
        "# Train the model\n",
        "model.fit(X_train, y_train, epochs=20, validation_split=0.2, verbose=1)"
      ],
      "metadata": {
        "colab": {
          "base_uri": "https://localhost:8080/"
        },
        "id": "d_cCcTMbnep8",
        "outputId": "f44db1ed-26d4-404e-96d9-c1997a6bcaff"
      },
      "execution_count": null,
      "outputs": [
        {
          "output_type": "stream",
          "name": "stdout",
          "text": [
            "Epoch 1/20\n",
            "45/45 [==============================] - 3s 19ms/step - loss: 1053101.6250 - val_loss: 1042088.3750\n",
            "Epoch 2/20\n",
            "45/45 [==============================] - 1s 13ms/step - loss: 1036544.0000 - val_loss: 1054578.7500\n",
            "Epoch 3/20\n",
            "45/45 [==============================] - 1s 22ms/step - loss: 1035534.8125 - val_loss: 1065354.5000\n",
            "Epoch 4/20\n",
            "45/45 [==============================] - 1s 20ms/step - loss: 1017603.5000 - val_loss: 1072262.3750\n",
            "Epoch 5/20\n",
            "45/45 [==============================] - 1s 20ms/step - loss: 1029645.8125 - val_loss: 1072782.7500\n",
            "Epoch 6/20\n",
            "45/45 [==============================] - 1s 14ms/step - loss: 1026412.3750 - val_loss: 1043494.3125\n",
            "Epoch 7/20\n",
            "45/45 [==============================] - 1s 14ms/step - loss: 1023574.6250 - val_loss: 1031291.1875\n",
            "Epoch 8/20\n",
            "45/45 [==============================] - 1s 14ms/step - loss: 991631.3125 - val_loss: 1056316.5000\n",
            "Epoch 9/20\n",
            "45/45 [==============================] - 1s 13ms/step - loss: 992313.6875 - val_loss: 1047305.4375\n",
            "Epoch 10/20\n",
            "45/45 [==============================] - 1s 13ms/step - loss: 986292.5625 - val_loss: 1040055.3750\n",
            "Epoch 11/20\n",
            "45/45 [==============================] - 1s 14ms/step - loss: 981437.2500 - val_loss: 1033574.5000\n",
            "Epoch 12/20\n",
            "45/45 [==============================] - 1s 13ms/step - loss: 986265.3125 - val_loss: 1045770.9375\n",
            "Epoch 13/20\n",
            "45/45 [==============================] - 1s 13ms/step - loss: 997110.5625 - val_loss: 1052378.0000\n",
            "Epoch 14/20\n",
            "45/45 [==============================] - 1s 14ms/step - loss: 999760.5625 - val_loss: 1056053.8750\n",
            "Epoch 15/20\n",
            "45/45 [==============================] - 1s 14ms/step - loss: 1008516.8125 - val_loss: 1067367.6250\n",
            "Epoch 16/20\n",
            "45/45 [==============================] - 1s 14ms/step - loss: 988978.8750 - val_loss: 1063448.7500\n",
            "Epoch 17/20\n",
            "45/45 [==============================] - 1s 14ms/step - loss: 990517.1875 - val_loss: 1074370.6250\n",
            "Epoch 18/20\n",
            "45/45 [==============================] - 1s 13ms/step - loss: 1003757.8750 - val_loss: 1068258.2500\n",
            "Epoch 19/20\n",
            "45/45 [==============================] - 1s 13ms/step - loss: 1002268.0625 - val_loss: 1074569.7500\n",
            "Epoch 20/20\n",
            "45/45 [==============================] - 1s 14ms/step - loss: 992529.5625 - val_loss: 1060355.3750\n"
          ]
        },
        {
          "output_type": "execute_result",
          "data": {
            "text/plain": [
              "<keras.src.callbacks.History at 0x7b78386ed4e0>"
            ]
          },
          "metadata": {},
          "execution_count": 27
        }
      ]
    },
    {
      "cell_type": "code",
      "source": [
        "# Predict\n",
        "predictions = model.predict(X_test)"
      ],
      "metadata": {
        "colab": {
          "base_uri": "https://localhost:8080/"
        },
        "id": "yxlt2UkgneuJ",
        "outputId": "f8696ad5-647f-47f2-e9a3-71109fa0cc86"
      },
      "execution_count": null,
      "outputs": [
        {
          "output_type": "stream",
          "name": "stdout",
          "text": [
            "12/12 [==============================] - 0s 4ms/step\n"
          ]
        }
      ]
    },
    {
      "cell_type": "code",
      "source": [
        "# Evaluate\n",
        "from sklearn.metrics import mean_squared_error\n",
        "mse = mean_squared_error(y_test, predictions)\n",
        "print(f'Test MSE: {mse}')"
      ],
      "metadata": {
        "id": "h75Z23YGq_fw",
        "colab": {
          "base_uri": "https://localhost:8080/"
        },
        "outputId": "87a7ad2d-a16e-4a2a-8dd3-f5a971d28685"
      },
      "execution_count": null,
      "outputs": [
        {
          "output_type": "stream",
          "name": "stdout",
          "text": [
            "Test MSE: 439152.70355785725\n"
          ]
        }
      ]
    }
  ]
}