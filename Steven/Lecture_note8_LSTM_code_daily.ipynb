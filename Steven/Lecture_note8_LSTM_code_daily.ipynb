{
  "nbformat": 4,
  "nbformat_minor": 0,
  "metadata": {
    "colab": {
      "provenance": []
    },
    "kernelspec": {
      "name": "python3",
      "display_name": "Python 3"
    },
    "language_info": {
      "name": "python"
    }
  },
  "cells": [
    {
      "cell_type": "markdown",
      "source": [
        "# Original code from the class\n",
        "- Divides the data into a training set (last quarter of 2018) and a test set (first day of 2019) based on date ranges."
      ],
      "metadata": {
        "id": "Me3HjyWtoRGV"
      }
    },
    {
      "cell_type": "code",
      "execution_count": null,
      "metadata": {
        "id": "dY4GwPYGbzXU"
      },
      "outputs": [],
      "source": [
        "# import pandas as pd\n",
        "# import numpy as np\n",
        "\n",
        "# df = pd.read_csv(\"Bitstamp_BTCUSD_2018_minute.csv\", header=1)\n",
        "# df.index = df.date\n",
        "# df.drop([\"unix\", \"date\", \"symbol\", \"Volume USD\"], axis=1, inplace=True)\n",
        "# df = df.iloc[::-1] # Reverse the order of dates\n",
        "\n",
        "# BTC_vol = df[\"Volume BTC\"].values\n",
        "# df_diff = df.diff()\n",
        "# df_diff[\"Volume BTC\"] = np.log(1 + BTC_vol)\n",
        "\n",
        "# # Select the last quarter as the training dataset\n",
        "# date_index = pd.to_datetime(df_diff.index)\n",
        "# mask_train = pd.Series(date_index).between(\"2018-10-01\", \"2018-12-31\",\n",
        "#     inclusive=\"left\")\n",
        "# df_train = df_diff.loc[mask_train.values].copy(deep=True)\n",
        "# y_close_train = df.close.loc[mask_train.values]\n",
        "# train_close = df.loc[mask_train.values].close.values\n",
        "# df_train[\"Relative_Close\"] = train_close / train_close[0]\n",
        "\n",
        "# # Select the first day as the test dataset\n",
        "# mask_test = pd.Series(date_index).between(\"2018-12-31\", \"2019-01-01\",\n",
        "#     inclusive=\"left\")\n",
        "# df_test = df_diff.loc[mask_test.values].copy(deep=True)\n",
        "# test_close = df.loc[mask_test.values].close.values\n",
        "# df_test[\"Relative_Close\"] = test_close / train_close[0]\n",
        "# y_close_test = df.close[mask_test.values]\n",
        "\n",
        "# print(df_train.columns.values)\n",
        "\n",
        "# def generate_dataset(df, seq_len):\n",
        "#     X_list, y_list = [], []\n",
        "#     for i in range(len(df.index) - seq_len):\n",
        "#         X_list.append(np.array(df.iloc[i:i+seq_len,:]))\n",
        "#         y_list.append(df.close.values[i+seq_len])\n",
        "#     return np.array(X_list), np.array(y_list)"
      ]
    },
    {
      "cell_type": "code",
      "source": [
        "# LAG = 5\n",
        "# # Add LAG number of observations in training dataset to test dataset\n",
        "# df_test_LAG = pd.concat((df_train.iloc[-LAG:,:], df_test), axis=0)\n",
        "\n",
        "# X_train, y_train = generate_dataset(df_train, seq_len=LAG)\n",
        "# X_test, y_test = generate_dataset(df_test_LAG, seq_len=LAG)\n",
        "\n",
        "# print(np.mean(y_train))\n",
        "# print(np.mean((y_train - np.mean(y_train))**2))\n",
        "# print(np.mean((y_test - np.mean(y_train))**2))\n",
        "\n",
        "# import tensorflow as tf\n",
        "# from tensorflow.keras import Sequential\n",
        "# from tensorflow.keras.layers import LSTM, Dense\n",
        "# from tensorflow.keras.optimizers import Adam\n",
        "\n",
        "# tf.keras.utils.set_random_seed(4002)\n",
        "\n",
        "# model = Sequential()\n",
        "# model.add(LSTM(8, return_sequences=True))\n",
        "# model.add(LSTM(8, dropout=0.2))\n",
        "\n",
        "# model.add(Dense(1))\n",
        "# model.@@compile@@(optimizer=Adam(learning_rate=0.001), loss='mse')\n",
        "# model.fit(X_train, y_train, batch_size=64, epochs=30, shuffle=True)\n",
        "\n",
        "# LSTM_pred = np.squeeze(model.predict(X_test))\n",
        "# print(np.mean((LSTM_pred - y_test)**2))"
      ],
      "metadata": {
        "id": "ShgCJxZOcgqA"
      },
      "execution_count": null,
      "outputs": []
    },
    {
      "cell_type": "markdown",
      "source": [
        "## Changed to daily basis"
      ],
      "metadata": {
        "id": "fethM3JNfYDQ"
      }
    },
    {
      "cell_type": "code",
      "source": [
        "import pandas as pd\n",
        "import numpy as np\n",
        "import tensorflow as tf\n",
        "from tensorflow.keras import Sequential\n",
        "from tensorflow.keras.layers import LSTM, Dense\n",
        "from tensorflow.keras.optimizers import Adam"
      ],
      "metadata": {
        "id": "R2QrYNQGfcmY"
      },
      "execution_count": null,
      "outputs": []
    },
    {
      "cell_type": "code",
      "source": [
        "df = pd.read_csv('/content/Bitcoin Historical Data3 2 (1).csv')"
      ],
      "metadata": {
        "id": "ywhH86rlfo-Y"
      },
      "execution_count": null,
      "outputs": []
    },
    {
      "cell_type": "code",
      "source": [
        "df.head()"
      ],
      "metadata": {
        "colab": {
          "base_uri": "https://localhost:8080/",
          "height": 206
        },
        "id": "raNuXP5vf5kE",
        "outputId": "bce14d27-8834-4256-eeda-8648911c26f2"
      },
      "execution_count": null,
      "outputs": [
        {
          "output_type": "execute_result",
          "data": {
            "text/plain": [
              "         Date     Price      Open      High       Low     Vol. Change %\n",
              "0  03/10/2024  69,437.1  68,360.7  69,676.4  68,250.3   37.43K    1.57%\n",
              "1  03/09/2024  68,366.5  68,178.5  68,576.9  67,923.9   30.71K    0.29%\n",
              "2  03/08/2024  68,172.0  66,854.4  69,904.0  66,170.7  112.67K    1.97%\n",
              "3  03/07/2024  66,855.3  66,074.6  67,985.5  65,602.6   77.47K    1.17%\n",
              "4  03/06/2024  66,080.4  63,794.7  67,604.9  62,848.7  117.91K    3.59%"
            ],
            "text/html": [
              "\n",
              "  <div id=\"df-60dcf6b5-002d-4e9f-b3c0-94aa7f7a04a0\" class=\"colab-df-container\">\n",
              "    <div>\n",
              "<style scoped>\n",
              "    .dataframe tbody tr th:only-of-type {\n",
              "        vertical-align: middle;\n",
              "    }\n",
              "\n",
              "    .dataframe tbody tr th {\n",
              "        vertical-align: top;\n",
              "    }\n",
              "\n",
              "    .dataframe thead th {\n",
              "        text-align: right;\n",
              "    }\n",
              "</style>\n",
              "<table border=\"1\" class=\"dataframe\">\n",
              "  <thead>\n",
              "    <tr style=\"text-align: right;\">\n",
              "      <th></th>\n",
              "      <th>Date</th>\n",
              "      <th>Price</th>\n",
              "      <th>Open</th>\n",
              "      <th>High</th>\n",
              "      <th>Low</th>\n",
              "      <th>Vol.</th>\n",
              "      <th>Change %</th>\n",
              "    </tr>\n",
              "  </thead>\n",
              "  <tbody>\n",
              "    <tr>\n",
              "      <th>0</th>\n",
              "      <td>03/10/2024</td>\n",
              "      <td>69,437.1</td>\n",
              "      <td>68,360.7</td>\n",
              "      <td>69,676.4</td>\n",
              "      <td>68,250.3</td>\n",
              "      <td>37.43K</td>\n",
              "      <td>1.57%</td>\n",
              "    </tr>\n",
              "    <tr>\n",
              "      <th>1</th>\n",
              "      <td>03/09/2024</td>\n",
              "      <td>68,366.5</td>\n",
              "      <td>68,178.5</td>\n",
              "      <td>68,576.9</td>\n",
              "      <td>67,923.9</td>\n",
              "      <td>30.71K</td>\n",
              "      <td>0.29%</td>\n",
              "    </tr>\n",
              "    <tr>\n",
              "      <th>2</th>\n",
              "      <td>03/08/2024</td>\n",
              "      <td>68,172.0</td>\n",
              "      <td>66,854.4</td>\n",
              "      <td>69,904.0</td>\n",
              "      <td>66,170.7</td>\n",
              "      <td>112.67K</td>\n",
              "      <td>1.97%</td>\n",
              "    </tr>\n",
              "    <tr>\n",
              "      <th>3</th>\n",
              "      <td>03/07/2024</td>\n",
              "      <td>66,855.3</td>\n",
              "      <td>66,074.6</td>\n",
              "      <td>67,985.5</td>\n",
              "      <td>65,602.6</td>\n",
              "      <td>77.47K</td>\n",
              "      <td>1.17%</td>\n",
              "    </tr>\n",
              "    <tr>\n",
              "      <th>4</th>\n",
              "      <td>03/06/2024</td>\n",
              "      <td>66,080.4</td>\n",
              "      <td>63,794.7</td>\n",
              "      <td>67,604.9</td>\n",
              "      <td>62,848.7</td>\n",
              "      <td>117.91K</td>\n",
              "      <td>3.59%</td>\n",
              "    </tr>\n",
              "  </tbody>\n",
              "</table>\n",
              "</div>\n",
              "    <div class=\"colab-df-buttons\">\n",
              "\n",
              "  <div class=\"colab-df-container\">\n",
              "    <button class=\"colab-df-convert\" onclick=\"convertToInteractive('df-60dcf6b5-002d-4e9f-b3c0-94aa7f7a04a0')\"\n",
              "            title=\"Convert this dataframe to an interactive table.\"\n",
              "            style=\"display:none;\">\n",
              "\n",
              "  <svg xmlns=\"http://www.w3.org/2000/svg\" height=\"24px\" viewBox=\"0 -960 960 960\">\n",
              "    <path d=\"M120-120v-720h720v720H120Zm60-500h600v-160H180v160Zm220 220h160v-160H400v160Zm0 220h160v-160H400v160ZM180-400h160v-160H180v160Zm440 0h160v-160H620v160ZM180-180h160v-160H180v160Zm440 0h160v-160H620v160Z\"/>\n",
              "  </svg>\n",
              "    </button>\n",
              "\n",
              "  <style>\n",
              "    .colab-df-container {\n",
              "      display:flex;\n",
              "      gap: 12px;\n",
              "    }\n",
              "\n",
              "    .colab-df-convert {\n",
              "      background-color: #E8F0FE;\n",
              "      border: none;\n",
              "      border-radius: 50%;\n",
              "      cursor: pointer;\n",
              "      display: none;\n",
              "      fill: #1967D2;\n",
              "      height: 32px;\n",
              "      padding: 0 0 0 0;\n",
              "      width: 32px;\n",
              "    }\n",
              "\n",
              "    .colab-df-convert:hover {\n",
              "      background-color: #E2EBFA;\n",
              "      box-shadow: 0px 1px 2px rgba(60, 64, 67, 0.3), 0px 1px 3px 1px rgba(60, 64, 67, 0.15);\n",
              "      fill: #174EA6;\n",
              "    }\n",
              "\n",
              "    .colab-df-buttons div {\n",
              "      margin-bottom: 4px;\n",
              "    }\n",
              "\n",
              "    [theme=dark] .colab-df-convert {\n",
              "      background-color: #3B4455;\n",
              "      fill: #D2E3FC;\n",
              "    }\n",
              "\n",
              "    [theme=dark] .colab-df-convert:hover {\n",
              "      background-color: #434B5C;\n",
              "      box-shadow: 0px 1px 3px 1px rgba(0, 0, 0, 0.15);\n",
              "      filter: drop-shadow(0px 1px 2px rgba(0, 0, 0, 0.3));\n",
              "      fill: #FFFFFF;\n",
              "    }\n",
              "  </style>\n",
              "\n",
              "    <script>\n",
              "      const buttonEl =\n",
              "        document.querySelector('#df-60dcf6b5-002d-4e9f-b3c0-94aa7f7a04a0 button.colab-df-convert');\n",
              "      buttonEl.style.display =\n",
              "        google.colab.kernel.accessAllowed ? 'block' : 'none';\n",
              "\n",
              "      async function convertToInteractive(key) {\n",
              "        const element = document.querySelector('#df-60dcf6b5-002d-4e9f-b3c0-94aa7f7a04a0');\n",
              "        const dataTable =\n",
              "          await google.colab.kernel.invokeFunction('convertToInteractive',\n",
              "                                                    [key], {});\n",
              "        if (!dataTable) return;\n",
              "\n",
              "        const docLinkHtml = 'Like what you see? Visit the ' +\n",
              "          '<a target=\"_blank\" href=https://colab.research.google.com/notebooks/data_table.ipynb>data table notebook</a>'\n",
              "          + ' to learn more about interactive tables.';\n",
              "        element.innerHTML = '';\n",
              "        dataTable['output_type'] = 'display_data';\n",
              "        await google.colab.output.renderOutput(dataTable, element);\n",
              "        const docLink = document.createElement('div');\n",
              "        docLink.innerHTML = docLinkHtml;\n",
              "        element.appendChild(docLink);\n",
              "      }\n",
              "    </script>\n",
              "  </div>\n",
              "\n",
              "\n",
              "<div id=\"df-e469c73a-93bc-4996-8d3d-bb0cbb3202fc\">\n",
              "  <button class=\"colab-df-quickchart\" onclick=\"quickchart('df-e469c73a-93bc-4996-8d3d-bb0cbb3202fc')\"\n",
              "            title=\"Suggest charts\"\n",
              "            style=\"display:none;\">\n",
              "\n",
              "<svg xmlns=\"http://www.w3.org/2000/svg\" height=\"24px\"viewBox=\"0 0 24 24\"\n",
              "     width=\"24px\">\n",
              "    <g>\n",
              "        <path d=\"M19 3H5c-1.1 0-2 .9-2 2v14c0 1.1.9 2 2 2h14c1.1 0 2-.9 2-2V5c0-1.1-.9-2-2-2zM9 17H7v-7h2v7zm4 0h-2V7h2v10zm4 0h-2v-4h2v4z\"/>\n",
              "    </g>\n",
              "</svg>\n",
              "  </button>\n",
              "\n",
              "<style>\n",
              "  .colab-df-quickchart {\n",
              "      --bg-color: #E8F0FE;\n",
              "      --fill-color: #1967D2;\n",
              "      --hover-bg-color: #E2EBFA;\n",
              "      --hover-fill-color: #174EA6;\n",
              "      --disabled-fill-color: #AAA;\n",
              "      --disabled-bg-color: #DDD;\n",
              "  }\n",
              "\n",
              "  [theme=dark] .colab-df-quickchart {\n",
              "      --bg-color: #3B4455;\n",
              "      --fill-color: #D2E3FC;\n",
              "      --hover-bg-color: #434B5C;\n",
              "      --hover-fill-color: #FFFFFF;\n",
              "      --disabled-bg-color: #3B4455;\n",
              "      --disabled-fill-color: #666;\n",
              "  }\n",
              "\n",
              "  .colab-df-quickchart {\n",
              "    background-color: var(--bg-color);\n",
              "    border: none;\n",
              "    border-radius: 50%;\n",
              "    cursor: pointer;\n",
              "    display: none;\n",
              "    fill: var(--fill-color);\n",
              "    height: 32px;\n",
              "    padding: 0;\n",
              "    width: 32px;\n",
              "  }\n",
              "\n",
              "  .colab-df-quickchart:hover {\n",
              "    background-color: var(--hover-bg-color);\n",
              "    box-shadow: 0 1px 2px rgba(60, 64, 67, 0.3), 0 1px 3px 1px rgba(60, 64, 67, 0.15);\n",
              "    fill: var(--button-hover-fill-color);\n",
              "  }\n",
              "\n",
              "  .colab-df-quickchart-complete:disabled,\n",
              "  .colab-df-quickchart-complete:disabled:hover {\n",
              "    background-color: var(--disabled-bg-color);\n",
              "    fill: var(--disabled-fill-color);\n",
              "    box-shadow: none;\n",
              "  }\n",
              "\n",
              "  .colab-df-spinner {\n",
              "    border: 2px solid var(--fill-color);\n",
              "    border-color: transparent;\n",
              "    border-bottom-color: var(--fill-color);\n",
              "    animation:\n",
              "      spin 1s steps(1) infinite;\n",
              "  }\n",
              "\n",
              "  @keyframes spin {\n",
              "    0% {\n",
              "      border-color: transparent;\n",
              "      border-bottom-color: var(--fill-color);\n",
              "      border-left-color: var(--fill-color);\n",
              "    }\n",
              "    20% {\n",
              "      border-color: transparent;\n",
              "      border-left-color: var(--fill-color);\n",
              "      border-top-color: var(--fill-color);\n",
              "    }\n",
              "    30% {\n",
              "      border-color: transparent;\n",
              "      border-left-color: var(--fill-color);\n",
              "      border-top-color: var(--fill-color);\n",
              "      border-right-color: var(--fill-color);\n",
              "    }\n",
              "    40% {\n",
              "      border-color: transparent;\n",
              "      border-right-color: var(--fill-color);\n",
              "      border-top-color: var(--fill-color);\n",
              "    }\n",
              "    60% {\n",
              "      border-color: transparent;\n",
              "      border-right-color: var(--fill-color);\n",
              "    }\n",
              "    80% {\n",
              "      border-color: transparent;\n",
              "      border-right-color: var(--fill-color);\n",
              "      border-bottom-color: var(--fill-color);\n",
              "    }\n",
              "    90% {\n",
              "      border-color: transparent;\n",
              "      border-bottom-color: var(--fill-color);\n",
              "    }\n",
              "  }\n",
              "</style>\n",
              "\n",
              "  <script>\n",
              "    async function quickchart(key) {\n",
              "      const quickchartButtonEl =\n",
              "        document.querySelector('#' + key + ' button');\n",
              "      quickchartButtonEl.disabled = true;  // To prevent multiple clicks.\n",
              "      quickchartButtonEl.classList.add('colab-df-spinner');\n",
              "      try {\n",
              "        const charts = await google.colab.kernel.invokeFunction(\n",
              "            'suggestCharts', [key], {});\n",
              "      } catch (error) {\n",
              "        console.error('Error during call to suggestCharts:', error);\n",
              "      }\n",
              "      quickchartButtonEl.classList.remove('colab-df-spinner');\n",
              "      quickchartButtonEl.classList.add('colab-df-quickchart-complete');\n",
              "    }\n",
              "    (() => {\n",
              "      let quickchartButtonEl =\n",
              "        document.querySelector('#df-e469c73a-93bc-4996-8d3d-bb0cbb3202fc button');\n",
              "      quickchartButtonEl.style.display =\n",
              "        google.colab.kernel.accessAllowed ? 'block' : 'none';\n",
              "    })();\n",
              "  </script>\n",
              "</div>\n",
              "    </div>\n",
              "  </div>\n"
            ],
            "application/vnd.google.colaboratory.intrinsic+json": {
              "type": "dataframe",
              "variable_name": "df",
              "summary": "{\n  \"name\": \"df\",\n  \"rows\": 4985,\n  \"fields\": [\n    {\n      \"column\": \"Date\",\n      \"properties\": {\n        \"dtype\": \"object\",\n        \"num_unique_values\": 4985,\n        \"samples\": [\n          \"02/11/2020\",\n          \"08/26/2016\",\n          \"12/01/2022\"\n        ],\n        \"semantic_type\": \"\",\n        \"description\": \"\"\n      }\n    },\n    {\n      \"column\": \"Price\",\n      \"properties\": {\n        \"dtype\": \"string\",\n        \"num_unique_values\": 4030,\n        \"samples\": [\n          \"32,088.9\",\n          \"29,178.6\",\n          \"35,468.0\"\n        ],\n        \"semantic_type\": \"\",\n        \"description\": \"\"\n      }\n    },\n    {\n      \"column\": \"Open\",\n      \"properties\": {\n        \"dtype\": \"string\",\n        \"num_unique_values\": 4023,\n        \"samples\": [\n          \"8,961.0\",\n          \"16,715.8\",\n          \"574.2\"\n        ],\n        \"semantic_type\": \"\",\n        \"description\": \"\"\n      }\n    },\n    {\n      \"column\": \"High\",\n      \"properties\": {\n        \"dtype\": \"string\",\n        \"num_unique_values\": 4018,\n        \"samples\": [\n          \"59,795.6\",\n          \"18,751.5\",\n          \"629.3\"\n        ],\n        \"semantic_type\": \"\",\n        \"description\": \"\"\n      }\n    },\n    {\n      \"column\": \"Low\",\n      \"properties\": {\n        \"dtype\": \"string\",\n        \"num_unique_values\": 4027,\n        \"samples\": [\n          \"2,875.9\",\n          \"46,217.5\",\n          \"4,292.6\"\n        ],\n        \"semantic_type\": \"\",\n        \"description\": \"\"\n      }\n    },\n    {\n      \"column\": \"Vol.\",\n      \"properties\": {\n        \"dtype\": \"string\",\n        \"num_unique_values\": 4413,\n        \"samples\": [\n          \"30.77K\",\n          \"132.60K\",\n          \"71.56K\"\n        ],\n        \"semantic_type\": \"\",\n        \"description\": \"\"\n      }\n    },\n    {\n      \"column\": \"Change %\",\n      \"properties\": {\n        \"dtype\": \"category\",\n        \"num_unique_values\": 1546,\n        \"samples\": [\n          \"-38.83%\",\n          \"-2.95%\",\n          \"5.43%\"\n        ],\n        \"semantic_type\": \"\",\n        \"description\": \"\"\n      }\n    }\n  ]\n}"
            }
          },
          "metadata": {},
          "execution_count": 5
        }
      ]
    },
    {
      "cell_type": "code",
      "source": [
        "df.columns = ['date', 'close', 'open', 'high', 'low', 'vol', 'change']"
      ],
      "metadata": {
        "id": "Gxm7YVdYg-YC"
      },
      "execution_count": null,
      "outputs": []
    },
    {
      "cell_type": "markdown",
      "source": [
        "### Data preprocessing"
      ],
      "metadata": {
        "id": "2GBkPus9hw67"
      }
    },
    {
      "cell_type": "code",
      "source": [
        "def percentage_to_decimal(s):\n",
        "    return float(s.strip('%')) / 100"
      ],
      "metadata": {
        "id": "vRXqhV3LhvZp"
      },
      "execution_count": null,
      "outputs": []
    },
    {
      "cell_type": "code",
      "source": [
        "def convert_volume(volume):\n",
        "\n",
        "    volume_str = str(volume)\n",
        "\n",
        "    if 'K' in volume_str:\n",
        "        return float(volume_str.replace('K', '')) * 1e3\n",
        "    elif 'M' in volume_str:\n",
        "        return float(volume_str.replace('M', '')) * 1e6\n",
        "    elif 'B' in volume_str:\n",
        "        return float(volume_str.replace('B', '')) * 1e9\n",
        "    else:\n",
        "        return float(volume_str)"
      ],
      "metadata": {
        "id": "BbLaxKRah0KT"
      },
      "execution_count": null,
      "outputs": []
    },
    {
      "cell_type": "code",
      "source": [
        "df['vol'] = df['vol'].apply(convert_volume)\n",
        "df['close'] = df['close'].replace(',', '', regex=True).astype(float)\n",
        "df['open'] = df['open'].replace(',', '', regex=True).astype(float)\n",
        "df['high'] = df['high'].replace(',', '', regex=True).astype(float)\n",
        "df['low'] = df['low'].replace(',', '', regex=True).astype(float)\n",
        "df['change'] = df['change'].apply(percentage_to_decimal)"
      ],
      "metadata": {
        "id": "VKhVbHWnf7qp"
      },
      "execution_count": null,
      "outputs": []
    },
    {
      "cell_type": "code",
      "source": [
        "df.info()"
      ],
      "metadata": {
        "colab": {
          "base_uri": "https://localhost:8080/"
        },
        "id": "MJNdtQ4Wfvfa",
        "outputId": "305724e6-80ec-4e59-feb1-bd4ea88d5992"
      },
      "execution_count": null,
      "outputs": [
        {
          "output_type": "stream",
          "name": "stdout",
          "text": [
            "<class 'pandas.core.frame.DataFrame'>\n",
            "RangeIndex: 4985 entries, 0 to 4984\n",
            "Data columns (total 7 columns):\n",
            " #   Column  Non-Null Count  Dtype  \n",
            "---  ------  --------------  -----  \n",
            " 0   date    4985 non-null   object \n",
            " 1   close   4985 non-null   float64\n",
            " 2   open    4985 non-null   float64\n",
            " 3   high    4985 non-null   float64\n",
            " 4   low     4985 non-null   float64\n",
            " 5   vol     4979 non-null   float64\n",
            " 6   change  4985 non-null   float64\n",
            "dtypes: float64(6), object(1)\n",
            "memory usage: 272.7+ KB\n"
          ]
        }
      ]
    },
    {
      "cell_type": "code",
      "source": [
        "df.index = pd.to_datetime(df['date'])"
      ],
      "metadata": {
        "id": "kE1aLzvtf7GP"
      },
      "execution_count": null,
      "outputs": []
    },
    {
      "cell_type": "code",
      "source": [
        "df.head()"
      ],
      "metadata": {
        "colab": {
          "base_uri": "https://localhost:8080/",
          "height": 237
        },
        "id": "Mc-A50qdiFSr",
        "outputId": "d6f28120-712e-45b1-a94a-22185a9d0db4"
      },
      "execution_count": null,
      "outputs": [
        {
          "output_type": "execute_result",
          "data": {
            "text/plain": [
              "                  date    close     open     high      low       vol  change\n",
              "date                                                                        \n",
              "2024-03-10  03/10/2024  69437.1  68360.7  69676.4  68250.3   37430.0  0.0157\n",
              "2024-03-09  03/09/2024  68366.5  68178.5  68576.9  67923.9   30710.0  0.0029\n",
              "2024-03-08  03/08/2024  68172.0  66854.4  69904.0  66170.7  112670.0  0.0197\n",
              "2024-03-07  03/07/2024  66855.3  66074.6  67985.5  65602.6   77470.0  0.0117\n",
              "2024-03-06  03/06/2024  66080.4  63794.7  67604.9  62848.7  117910.0  0.0359"
            ],
            "text/html": [
              "\n",
              "  <div id=\"df-85a799f1-500e-4658-b777-07904f759630\" class=\"colab-df-container\">\n",
              "    <div>\n",
              "<style scoped>\n",
              "    .dataframe tbody tr th:only-of-type {\n",
              "        vertical-align: middle;\n",
              "    }\n",
              "\n",
              "    .dataframe tbody tr th {\n",
              "        vertical-align: top;\n",
              "    }\n",
              "\n",
              "    .dataframe thead th {\n",
              "        text-align: right;\n",
              "    }\n",
              "</style>\n",
              "<table border=\"1\" class=\"dataframe\">\n",
              "  <thead>\n",
              "    <tr style=\"text-align: right;\">\n",
              "      <th></th>\n",
              "      <th>date</th>\n",
              "      <th>close</th>\n",
              "      <th>open</th>\n",
              "      <th>high</th>\n",
              "      <th>low</th>\n",
              "      <th>vol</th>\n",
              "      <th>change</th>\n",
              "    </tr>\n",
              "    <tr>\n",
              "      <th>date</th>\n",
              "      <th></th>\n",
              "      <th></th>\n",
              "      <th></th>\n",
              "      <th></th>\n",
              "      <th></th>\n",
              "      <th></th>\n",
              "      <th></th>\n",
              "    </tr>\n",
              "  </thead>\n",
              "  <tbody>\n",
              "    <tr>\n",
              "      <th>2024-03-10</th>\n",
              "      <td>03/10/2024</td>\n",
              "      <td>69437.1</td>\n",
              "      <td>68360.7</td>\n",
              "      <td>69676.4</td>\n",
              "      <td>68250.3</td>\n",
              "      <td>37430.0</td>\n",
              "      <td>0.0157</td>\n",
              "    </tr>\n",
              "    <tr>\n",
              "      <th>2024-03-09</th>\n",
              "      <td>03/09/2024</td>\n",
              "      <td>68366.5</td>\n",
              "      <td>68178.5</td>\n",
              "      <td>68576.9</td>\n",
              "      <td>67923.9</td>\n",
              "      <td>30710.0</td>\n",
              "      <td>0.0029</td>\n",
              "    </tr>\n",
              "    <tr>\n",
              "      <th>2024-03-08</th>\n",
              "      <td>03/08/2024</td>\n",
              "      <td>68172.0</td>\n",
              "      <td>66854.4</td>\n",
              "      <td>69904.0</td>\n",
              "      <td>66170.7</td>\n",
              "      <td>112670.0</td>\n",
              "      <td>0.0197</td>\n",
              "    </tr>\n",
              "    <tr>\n",
              "      <th>2024-03-07</th>\n",
              "      <td>03/07/2024</td>\n",
              "      <td>66855.3</td>\n",
              "      <td>66074.6</td>\n",
              "      <td>67985.5</td>\n",
              "      <td>65602.6</td>\n",
              "      <td>77470.0</td>\n",
              "      <td>0.0117</td>\n",
              "    </tr>\n",
              "    <tr>\n",
              "      <th>2024-03-06</th>\n",
              "      <td>03/06/2024</td>\n",
              "      <td>66080.4</td>\n",
              "      <td>63794.7</td>\n",
              "      <td>67604.9</td>\n",
              "      <td>62848.7</td>\n",
              "      <td>117910.0</td>\n",
              "      <td>0.0359</td>\n",
              "    </tr>\n",
              "  </tbody>\n",
              "</table>\n",
              "</div>\n",
              "    <div class=\"colab-df-buttons\">\n",
              "\n",
              "  <div class=\"colab-df-container\">\n",
              "    <button class=\"colab-df-convert\" onclick=\"convertToInteractive('df-85a799f1-500e-4658-b777-07904f759630')\"\n",
              "            title=\"Convert this dataframe to an interactive table.\"\n",
              "            style=\"display:none;\">\n",
              "\n",
              "  <svg xmlns=\"http://www.w3.org/2000/svg\" height=\"24px\" viewBox=\"0 -960 960 960\">\n",
              "    <path d=\"M120-120v-720h720v720H120Zm60-500h600v-160H180v160Zm220 220h160v-160H400v160Zm0 220h160v-160H400v160ZM180-400h160v-160H180v160Zm440 0h160v-160H620v160ZM180-180h160v-160H180v160Zm440 0h160v-160H620v160Z\"/>\n",
              "  </svg>\n",
              "    </button>\n",
              "\n",
              "  <style>\n",
              "    .colab-df-container {\n",
              "      display:flex;\n",
              "      gap: 12px;\n",
              "    }\n",
              "\n",
              "    .colab-df-convert {\n",
              "      background-color: #E8F0FE;\n",
              "      border: none;\n",
              "      border-radius: 50%;\n",
              "      cursor: pointer;\n",
              "      display: none;\n",
              "      fill: #1967D2;\n",
              "      height: 32px;\n",
              "      padding: 0 0 0 0;\n",
              "      width: 32px;\n",
              "    }\n",
              "\n",
              "    .colab-df-convert:hover {\n",
              "      background-color: #E2EBFA;\n",
              "      box-shadow: 0px 1px 2px rgba(60, 64, 67, 0.3), 0px 1px 3px 1px rgba(60, 64, 67, 0.15);\n",
              "      fill: #174EA6;\n",
              "    }\n",
              "\n",
              "    .colab-df-buttons div {\n",
              "      margin-bottom: 4px;\n",
              "    }\n",
              "\n",
              "    [theme=dark] .colab-df-convert {\n",
              "      background-color: #3B4455;\n",
              "      fill: #D2E3FC;\n",
              "    }\n",
              "\n",
              "    [theme=dark] .colab-df-convert:hover {\n",
              "      background-color: #434B5C;\n",
              "      box-shadow: 0px 1px 3px 1px rgba(0, 0, 0, 0.15);\n",
              "      filter: drop-shadow(0px 1px 2px rgba(0, 0, 0, 0.3));\n",
              "      fill: #FFFFFF;\n",
              "    }\n",
              "  </style>\n",
              "\n",
              "    <script>\n",
              "      const buttonEl =\n",
              "        document.querySelector('#df-85a799f1-500e-4658-b777-07904f759630 button.colab-df-convert');\n",
              "      buttonEl.style.display =\n",
              "        google.colab.kernel.accessAllowed ? 'block' : 'none';\n",
              "\n",
              "      async function convertToInteractive(key) {\n",
              "        const element = document.querySelector('#df-85a799f1-500e-4658-b777-07904f759630');\n",
              "        const dataTable =\n",
              "          await google.colab.kernel.invokeFunction('convertToInteractive',\n",
              "                                                    [key], {});\n",
              "        if (!dataTable) return;\n",
              "\n",
              "        const docLinkHtml = 'Like what you see? Visit the ' +\n",
              "          '<a target=\"_blank\" href=https://colab.research.google.com/notebooks/data_table.ipynb>data table notebook</a>'\n",
              "          + ' to learn more about interactive tables.';\n",
              "        element.innerHTML = '';\n",
              "        dataTable['output_type'] = 'display_data';\n",
              "        await google.colab.output.renderOutput(dataTable, element);\n",
              "        const docLink = document.createElement('div');\n",
              "        docLink.innerHTML = docLinkHtml;\n",
              "        element.appendChild(docLink);\n",
              "      }\n",
              "    </script>\n",
              "  </div>\n",
              "\n",
              "\n",
              "<div id=\"df-e3da0eda-94be-4f20-91a5-de814feea881\">\n",
              "  <button class=\"colab-df-quickchart\" onclick=\"quickchart('df-e3da0eda-94be-4f20-91a5-de814feea881')\"\n",
              "            title=\"Suggest charts\"\n",
              "            style=\"display:none;\">\n",
              "\n",
              "<svg xmlns=\"http://www.w3.org/2000/svg\" height=\"24px\"viewBox=\"0 0 24 24\"\n",
              "     width=\"24px\">\n",
              "    <g>\n",
              "        <path d=\"M19 3H5c-1.1 0-2 .9-2 2v14c0 1.1.9 2 2 2h14c1.1 0 2-.9 2-2V5c0-1.1-.9-2-2-2zM9 17H7v-7h2v7zm4 0h-2V7h2v10zm4 0h-2v-4h2v4z\"/>\n",
              "    </g>\n",
              "</svg>\n",
              "  </button>\n",
              "\n",
              "<style>\n",
              "  .colab-df-quickchart {\n",
              "      --bg-color: #E8F0FE;\n",
              "      --fill-color: #1967D2;\n",
              "      --hover-bg-color: #E2EBFA;\n",
              "      --hover-fill-color: #174EA6;\n",
              "      --disabled-fill-color: #AAA;\n",
              "      --disabled-bg-color: #DDD;\n",
              "  }\n",
              "\n",
              "  [theme=dark] .colab-df-quickchart {\n",
              "      --bg-color: #3B4455;\n",
              "      --fill-color: #D2E3FC;\n",
              "      --hover-bg-color: #434B5C;\n",
              "      --hover-fill-color: #FFFFFF;\n",
              "      --disabled-bg-color: #3B4455;\n",
              "      --disabled-fill-color: #666;\n",
              "  }\n",
              "\n",
              "  .colab-df-quickchart {\n",
              "    background-color: var(--bg-color);\n",
              "    border: none;\n",
              "    border-radius: 50%;\n",
              "    cursor: pointer;\n",
              "    display: none;\n",
              "    fill: var(--fill-color);\n",
              "    height: 32px;\n",
              "    padding: 0;\n",
              "    width: 32px;\n",
              "  }\n",
              "\n",
              "  .colab-df-quickchart:hover {\n",
              "    background-color: var(--hover-bg-color);\n",
              "    box-shadow: 0 1px 2px rgba(60, 64, 67, 0.3), 0 1px 3px 1px rgba(60, 64, 67, 0.15);\n",
              "    fill: var(--button-hover-fill-color);\n",
              "  }\n",
              "\n",
              "  .colab-df-quickchart-complete:disabled,\n",
              "  .colab-df-quickchart-complete:disabled:hover {\n",
              "    background-color: var(--disabled-bg-color);\n",
              "    fill: var(--disabled-fill-color);\n",
              "    box-shadow: none;\n",
              "  }\n",
              "\n",
              "  .colab-df-spinner {\n",
              "    border: 2px solid var(--fill-color);\n",
              "    border-color: transparent;\n",
              "    border-bottom-color: var(--fill-color);\n",
              "    animation:\n",
              "      spin 1s steps(1) infinite;\n",
              "  }\n",
              "\n",
              "  @keyframes spin {\n",
              "    0% {\n",
              "      border-color: transparent;\n",
              "      border-bottom-color: var(--fill-color);\n",
              "      border-left-color: var(--fill-color);\n",
              "    }\n",
              "    20% {\n",
              "      border-color: transparent;\n",
              "      border-left-color: var(--fill-color);\n",
              "      border-top-color: var(--fill-color);\n",
              "    }\n",
              "    30% {\n",
              "      border-color: transparent;\n",
              "      border-left-color: var(--fill-color);\n",
              "      border-top-color: var(--fill-color);\n",
              "      border-right-color: var(--fill-color);\n",
              "    }\n",
              "    40% {\n",
              "      border-color: transparent;\n",
              "      border-right-color: var(--fill-color);\n",
              "      border-top-color: var(--fill-color);\n",
              "    }\n",
              "    60% {\n",
              "      border-color: transparent;\n",
              "      border-right-color: var(--fill-color);\n",
              "    }\n",
              "    80% {\n",
              "      border-color: transparent;\n",
              "      border-right-color: var(--fill-color);\n",
              "      border-bottom-color: var(--fill-color);\n",
              "    }\n",
              "    90% {\n",
              "      border-color: transparent;\n",
              "      border-bottom-color: var(--fill-color);\n",
              "    }\n",
              "  }\n",
              "</style>\n",
              "\n",
              "  <script>\n",
              "    async function quickchart(key) {\n",
              "      const quickchartButtonEl =\n",
              "        document.querySelector('#' + key + ' button');\n",
              "      quickchartButtonEl.disabled = true;  // To prevent multiple clicks.\n",
              "      quickchartButtonEl.classList.add('colab-df-spinner');\n",
              "      try {\n",
              "        const charts = await google.colab.kernel.invokeFunction(\n",
              "            'suggestCharts', [key], {});\n",
              "      } catch (error) {\n",
              "        console.error('Error during call to suggestCharts:', error);\n",
              "      }\n",
              "      quickchartButtonEl.classList.remove('colab-df-spinner');\n",
              "      quickchartButtonEl.classList.add('colab-df-quickchart-complete');\n",
              "    }\n",
              "    (() => {\n",
              "      let quickchartButtonEl =\n",
              "        document.querySelector('#df-e3da0eda-94be-4f20-91a5-de814feea881 button');\n",
              "      quickchartButtonEl.style.display =\n",
              "        google.colab.kernel.accessAllowed ? 'block' : 'none';\n",
              "    })();\n",
              "  </script>\n",
              "</div>\n",
              "    </div>\n",
              "  </div>\n"
            ],
            "application/vnd.google.colaboratory.intrinsic+json": {
              "type": "dataframe",
              "variable_name": "df",
              "repr_error": "cannot insert date, already exists"
            }
          },
          "metadata": {},
          "execution_count": 12
        }
      ]
    },
    {
      "cell_type": "code",
      "source": [
        "df.drop([\"date\"], axis=1, inplace=True)"
      ],
      "metadata": {
        "id": "DSe_xYO2iHwW"
      },
      "execution_count": null,
      "outputs": []
    },
    {
      "cell_type": "code",
      "source": [
        "# Reverse the dataset order so it starts with the earliest date\n",
        "df = df.iloc[::-1]"
      ],
      "metadata": {
        "id": "ibkCz8kFiMyH"
      },
      "execution_count": null,
      "outputs": []
    },
    {
      "cell_type": "code",
      "source": [
        "# We will use data above 2017, because there are some null values in the past\n",
        "df = df[df.index.year > 2017]"
      ],
      "metadata": {
        "id": "7daGSZ3jj-BD"
      },
      "execution_count": null,
      "outputs": []
    },
    {
      "cell_type": "code",
      "source": [
        "# Prepare the volume and price differences, normalize volume\n",
        "BTC_vol = df[\"vol\"].values\n",
        "df_diff = df.diff().dropna()\n",
        "df_diff[\"vol\"] = np.log(1 + BTC_vol[:-1])  # Shifted by 1 to align with diff"
      ],
      "metadata": {
        "id": "ETS0M1kIiZcu"
      },
      "execution_count": null,
      "outputs": []
    },
    {
      "cell_type": "code",
      "source": [
        "# Assuming df_diff has been created by df.diff().dropna() or similar\n",
        "# First, align the index of df to match df_diff after dropping NaN values\n",
        "df_aligned = df.loc[df_diff.index]\n",
        "\n",
        "# Now, proceed with mask creation and selection\n",
        "mask_train = df_diff.index < \"2018-12-01\"\n",
        "df_train = df_diff.loc[mask_train].copy()\n",
        "\n",
        "# Use df_aligned to ensure the indexes match\n",
        "train_close = df_aligned.loc[mask_train, \"close\"].values\n",
        "\n",
        "# Since indexes are aligned, this operation should now work without error\n",
        "df_train[\"Relative_Close\"] = train_close / train_close[0]"
      ],
      "metadata": {
        "id": "aUxVIPBAmH19"
      },
      "execution_count": null,
      "outputs": []
    },
    {
      "cell_type": "code",
      "source": [
        "mask_test = (df_diff.index >= \"2018-12-01\") & (df_diff.index < \"2019-01-01\")  # December 2018 for testing\n",
        "df_test = df_diff.loc[mask_test].copy()\n",
        "test_close = df_aligned.loc[mask_test, \"close\"].values\n",
        "df_test[\"Relative_Close\"] = test_close / train_close[0]"
      ],
      "metadata": {
        "id": "Je1yKe4mkSeK"
      },
      "execution_count": null,
      "outputs": []
    },
    {
      "cell_type": "code",
      "source": [
        "# Generate dataset function\n",
        "def generate_dataset(df, seq_len):\n",
        "    X_list, y_list = [], []\n",
        "    for i in range(len(df) - seq_len):\n",
        "        X_list.append(df.iloc[i:(i+seq_len), :].values)\n",
        "        y_list.append(df[\"close\"].iloc[i + seq_len])\n",
        "    return np.array(X_list), np.array(y_list)"
      ],
      "metadata": {
        "id": "3KTZcEMynYFl"
      },
      "execution_count": null,
      "outputs": []
    },
    {
      "cell_type": "code",
      "source": [
        "LAG = 3 # Example: Use the past # days to predict the next day"
      ],
      "metadata": {
        "id": "Xl7CvtO2naEe"
      },
      "execution_count": null,
      "outputs": []
    },
    {
      "cell_type": "code",
      "source": [
        "# Prepare training and test datasets\n",
        "X_train, y_train = generate_dataset(df_train, LAG)\n",
        "X_test, y_test = generate_dataset(pd.concat((df_train.iloc[-LAG:], df_test)), LAG)"
      ],
      "metadata": {
        "id": "x84Ixv8WncfL"
      },
      "execution_count": null,
      "outputs": []
    },
    {
      "cell_type": "code",
      "source": [
        "X_train"
      ],
      "metadata": {
        "colab": {
          "base_uri": "https://localhost:8080/"
        },
        "id": "1xty18TCya-P",
        "outputId": "ab5b9c08-f666-445d-b8ca-cd21c3877fda"
      },
      "execution_count": null,
      "outputs": [
        {
          "output_type": "execute_result",
          "data": {
            "text/plain": [
              "array([[[ 1.30920000e+03, -4.05600000e+02,  1.38460000e+03, ...,\n",
              "          1.12699745e+01,  1.26700000e-01,  1.00000000e+00],\n",
              "        [ 4.02500000e+02,  1.30920000e+03,  1.28900000e+02, ...,\n",
              "          1.18330578e+01, -7.01000000e-02,  1.02728055e+00],\n",
              "        [ 2.35000000e+01,  4.02400000e+02, -2.63000000e+01, ...,\n",
              "          1.15762852e+01, -2.58000000e-02,  1.02887333e+00]],\n",
              "\n",
              "       [[ 4.02500000e+02,  1.30920000e+03,  1.28900000e+02, ...,\n",
              "          1.18330578e+01, -7.01000000e-02,  1.02728055e+00],\n",
              "        [ 2.35000000e+01,  4.02400000e+02, -2.63000000e+01, ...,\n",
              "          1.15762852e+01, -2.58000000e-02,  1.02887333e+00],\n",
              "        [ 1.77470000e+03,  2.36000000e+01,  1.71820000e+03, ...,\n",
              "          1.16170242e+01,  1.15400000e-01,  1.14915854e+00]],\n",
              "\n",
              "       [[ 2.35000000e+01,  4.02400000e+02, -2.63000000e+01, ...,\n",
              "          1.15762852e+01, -2.58000000e-02,  1.02887333e+00],\n",
              "        [ 1.77470000e+03,  2.36000000e+01,  1.71820000e+03, ...,\n",
              "          1.16170242e+01,  1.15400000e-01,  1.14915854e+00],\n",
              "        [ 2.17500000e+02,  1.77470000e+03,  1.25900000e+02, ...,\n",
              "          1.18633077e+01, -1.04100000e-01,  1.16390020e+00]],\n",
              "\n",
              "       ...,\n",
              "\n",
              "       [[ 1.41800000e+02, -4.77000000e+02, -2.96200000e+02, ...,\n",
              "          1.28550615e+01,  1.44800000e-01,  2.75326858e-01],\n",
              "        [-2.25200000e+02,  1.40700000e+02, -1.94000000e+01, ...,\n",
              "          1.33373957e+01, -9.16000000e-02,  2.60063304e-01],\n",
              "        [ 2.95000000e+01, -2.20700000e+02, -2.58400000e+02, ...,\n",
              "          1.32552163e+01,  6.31000000e-02,  2.62062749e-01]],\n",
              "\n",
              "       [[-2.25200000e+02,  1.40700000e+02, -1.94000000e+01, ...,\n",
              "          1.33373957e+01, -9.16000000e-02,  2.60063304e-01],\n",
              "        [ 2.95000000e+01, -2.20700000e+02, -2.58400000e+02, ...,\n",
              "          1.32552163e+01,  6.31000000e-02,  2.62062749e-01],\n",
              "        [ 3.98900000e+02,  2.61000000e+01,  4.71200000e+02, ...,\n",
              "          1.30330315e+01,  9.55000000e-02,  2.89099301e-01]],\n",
              "\n",
              "       [[ 2.95000000e+01, -2.20700000e+02, -2.58400000e+02, ...,\n",
              "          1.32552163e+01,  6.31000000e-02,  2.62062749e-01],\n",
              "        [ 3.98900000e+02,  2.61000000e+01,  4.71200000e+02, ...,\n",
              "          1.30330315e+01,  9.55000000e-02,  2.89099301e-01],\n",
              "        [ 3.11000000e+01,  3.99100000e+02,  4.83000000e+01, ...,\n",
              "          1.31863536e+01, -9.59000000e-02,  2.91207190e-01]]])"
            ]
          },
          "metadata": {},
          "execution_count": 36
        }
      ]
    },
    {
      "cell_type": "code",
      "source": [
        "np.mean(y_train)"
      ],
      "metadata": {
        "colab": {
          "base_uri": "https://localhost:8080/"
        },
        "id": "e1o8YEOhxxSc",
        "outputId": "92039b1b-91b1-4422-9cde-ee0162a7895a"
      },
      "execution_count": null,
      "outputs": [
        {
          "output_type": "execute_result",
          "data": {
            "text/plain": [
              "-33.75878787878788"
            ]
          },
          "metadata": {},
          "execution_count": 34
        }
      ]
    },
    {
      "cell_type": "code",
      "source": [
        "print(np.mean((y_train - np.mean(y_train))**2))"
      ],
      "metadata": {
        "colab": {
          "base_uri": "https://localhost:8080/"
        },
        "id": "0bU6skwAx3HA",
        "outputId": "935667a1-daf2-435e-aea0-73ff0775b0f0"
      },
      "execution_count": null,
      "outputs": [
        {
          "output_type": "stream",
          "name": "stdout",
          "text": [
            "152397.78175610647\n"
          ]
        }
      ]
    },
    {
      "cell_type": "code",
      "source": [
        "# Model architecture (unchanged from the minute-by-minute example)\n",
        "tf.keras.utils.set_random_seed(4002)\n",
        "model = Sequential([\n",
        "    LSTM(8, return_sequences=True, input_shape=(X_train.shape[1], X_train.shape[2])),\n",
        "    LSTM(8, dropout=0.2),\n",
        "    Dense(1)\n",
        "])\n",
        "\n",
        "model.compile(optimizer=Adam(learning_rate=0.001), loss='mse')"
      ],
      "metadata": {
        "id": "uDgr10M7neKe"
      },
      "execution_count": null,
      "outputs": []
    },
    {
      "cell_type": "code",
      "source": [
        "# Train the model\n",
        "model.fit(X_train, y_train, batch_size=64, epochs=30, shuffle=True)"
      ],
      "metadata": {
        "colab": {
          "base_uri": "https://localhost:8080/"
        },
        "id": "d_cCcTMbnep8",
        "outputId": "69eb7704-3caa-4a67-ca1f-18ab4aaa4fa5"
      },
      "execution_count": null,
      "outputs": [
        {
          "output_type": "stream",
          "name": "stdout",
          "text": [
            "Epoch 1/30\n",
            "6/6 [==============================] - 4s 7ms/step - loss: 153532.2812\n",
            "Epoch 2/30\n",
            "6/6 [==============================] - 0s 7ms/step - loss: 153528.8906\n",
            "Epoch 3/30\n",
            "6/6 [==============================] - 0s 6ms/step - loss: 153525.7188\n",
            "Epoch 4/30\n",
            "6/6 [==============================] - 0s 6ms/step - loss: 153522.0312\n",
            "Epoch 5/30\n",
            "6/6 [==============================] - 0s 6ms/step - loss: 153516.8750\n",
            "Epoch 6/30\n",
            "6/6 [==============================] - 0s 7ms/step - loss: 153518.9688\n",
            "Epoch 7/30\n",
            "6/6 [==============================] - 0s 7ms/step - loss: 153516.3750\n",
            "Epoch 8/30\n",
            "6/6 [==============================] - 0s 7ms/step - loss: 153517.0000\n",
            "Epoch 9/30\n",
            "6/6 [==============================] - 0s 6ms/step - loss: 153512.4688\n",
            "Epoch 10/30\n",
            "6/6 [==============================] - 0s 8ms/step - loss: 153513.0312\n",
            "Epoch 11/30\n",
            "6/6 [==============================] - 0s 6ms/step - loss: 153513.5312\n",
            "Epoch 12/30\n",
            "6/6 [==============================] - 0s 6ms/step - loss: 153513.4531\n",
            "Epoch 13/30\n",
            "6/6 [==============================] - 0s 7ms/step - loss: 153503.4531\n",
            "Epoch 14/30\n",
            "6/6 [==============================] - 0s 7ms/step - loss: 153507.8281\n",
            "Epoch 15/30\n",
            "6/6 [==============================] - 0s 7ms/step - loss: 153501.3750\n",
            "Epoch 16/30\n",
            "6/6 [==============================] - 0s 6ms/step - loss: 153495.5156\n",
            "Epoch 17/30\n",
            "6/6 [==============================] - 0s 8ms/step - loss: 153490.5312\n",
            "Epoch 18/30\n",
            "6/6 [==============================] - 0s 8ms/step - loss: 153493.3281\n",
            "Epoch 19/30\n",
            "6/6 [==============================] - 0s 8ms/step - loss: 153494.1250\n",
            "Epoch 20/30\n",
            "6/6 [==============================] - 0s 6ms/step - loss: 153491.9062\n",
            "Epoch 21/30\n",
            "6/6 [==============================] - 0s 7ms/step - loss: 153491.0000\n",
            "Epoch 22/30\n",
            "6/6 [==============================] - 0s 6ms/step - loss: 153491.3281\n",
            "Epoch 23/30\n",
            "6/6 [==============================] - 0s 7ms/step - loss: 153495.0312\n",
            "Epoch 24/30\n",
            "6/6 [==============================] - 0s 6ms/step - loss: 153489.1406\n",
            "Epoch 25/30\n",
            "6/6 [==============================] - 0s 6ms/step - loss: 153493.1406\n",
            "Epoch 26/30\n",
            "6/6 [==============================] - 0s 7ms/step - loss: 153477.7188\n",
            "Epoch 27/30\n",
            "6/6 [==============================] - 0s 6ms/step - loss: 153474.9219\n",
            "Epoch 28/30\n",
            "6/6 [==============================] - 0s 7ms/step - loss: 153474.0469\n",
            "Epoch 29/30\n",
            "6/6 [==============================] - 0s 6ms/step - loss: 153464.2031\n",
            "Epoch 30/30\n",
            "6/6 [==============================] - 0s 7ms/step - loss: 153463.9531\n"
          ]
        },
        {
          "output_type": "execute_result",
          "data": {
            "text/plain": [
              "<keras.src.callbacks.History at 0x793ff754cd30>"
            ]
          },
          "metadata": {},
          "execution_count": 102
        }
      ]
    },
    {
      "cell_type": "code",
      "source": [
        "# Predict and evaluate\n",
        "LSTM_pred = np.squeeze(model.predict(X_test))\n",
        "print(\"Test MSE:\", np.mean((LSTM_pred - y_test)**2))"
      ],
      "metadata": {
        "colab": {
          "base_uri": "https://localhost:8080/"
        },
        "id": "yxlt2UkgneuJ",
        "outputId": "ded738a0-31b9-46a7-b767-7a7855bef67c"
      },
      "execution_count": null,
      "outputs": [
        {
          "output_type": "stream",
          "name": "stdout",
          "text": [
            "1/1 [==============================] - 2s 2s/step\n",
            "Test MSE: 26747.62366026146\n"
          ]
        }
      ]
    },
    {
      "cell_type": "code",
      "source": [],
      "metadata": {
        "id": "h75Z23YGq_fw"
      },
      "execution_count": null,
      "outputs": []
    }
  ]
}