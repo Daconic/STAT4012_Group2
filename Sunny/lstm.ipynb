{
 "cells": [
  {
   "cell_type": "markdown",
   "metadata": {},
   "source": [
    "# Preprocessing"
   ]
  },
  {
   "cell_type": "markdown",
   "metadata": {},
   "source": [
    "## Minute"
   ]
  },
  {
   "cell_type": "code",
   "execution_count": 1,
   "metadata": {},
   "outputs": [],
   "source": [
    "import pandas as pd\n",
    "import pandas_ta as ta\n",
    "import numpy as np\n",
    "import datetime\n",
    "from matplotlib import pyplot as plt\n",
    "from sklearn.preprocessing import MinMaxScaler, StandardScaler\n",
    "\n",
    "# minute df_min\n",
    "df_min = pd.read_csv(\"data.csv\")\n",
    "df_min[\"Date\"] = pd.to_datetime(df_min.Date)\n",
    "df_min.index = df_min.Date\n",
    "df_min.drop([\"Timestamp\", \"Date\", \"Symbol\", \"Volume USD\"], axis=1, inplace=True)\n",
    "df_min.columns = ['open', 'high', 'low', 'close', 'Volume_BTC']\n",
    "df_min = df_min.iloc[::-1]\n",
    "df_min[\"Volume_BTC\"] = np.log(df_min[\"Volume_BTC\"].copy() + 1)\n",
    "df_min['RSI']=ta.rsi(df_min.close, length=15)\n",
    "df_min['EMA'] = ta.ema(df_min.close, length=30)"
   ]
  },
  {
   "cell_type": "code",
   "execution_count": 2,
   "metadata": {},
   "outputs": [
    {
     "data": {
      "text/html": [
       "<div>\n",
       "<style scoped>\n",
       "    .dataframe tbody tr th:only-of-type {\n",
       "        vertical-align: middle;\n",
       "    }\n",
       "\n",
       "    .dataframe tbody tr th {\n",
       "        vertical-align: top;\n",
       "    }\n",
       "\n",
       "    .dataframe thead th {\n",
       "        text-align: right;\n",
       "    }\n",
       "</style>\n",
       "<table border=\"1\" class=\"dataframe\">\n",
       "  <thead>\n",
       "    <tr style=\"text-align: right;\">\n",
       "      <th></th>\n",
       "      <th>open</th>\n",
       "      <th>high</th>\n",
       "      <th>low</th>\n",
       "      <th>close</th>\n",
       "      <th>Volume_BTC</th>\n",
       "      <th>RSI</th>\n",
       "      <th>EMA</th>\n",
       "    </tr>\n",
       "    <tr>\n",
       "      <th>Date</th>\n",
       "      <th></th>\n",
       "      <th></th>\n",
       "      <th></th>\n",
       "      <th></th>\n",
       "      <th></th>\n",
       "      <th></th>\n",
       "      <th></th>\n",
       "    </tr>\n",
       "  </thead>\n",
       "  <tbody>\n",
       "    <tr>\n",
       "      <th>2015-10-08 13:40:00</th>\n",
       "      <td>NaN</td>\n",
       "      <td>NaN</td>\n",
       "      <td>NaN</td>\n",
       "      <td>NaN</td>\n",
       "      <td>0.048790</td>\n",
       "      <td>NaN</td>\n",
       "      <td>NaN</td>\n",
       "    </tr>\n",
       "    <tr>\n",
       "      <th>2015-10-08 13:41:00</th>\n",
       "      <td>242.50</td>\n",
       "      <td>0.45</td>\n",
       "      <td>242.50</td>\n",
       "      <td>0.45</td>\n",
       "      <td>0.001000</td>\n",
       "      <td>NaN</td>\n",
       "      <td>NaN</td>\n",
       "    </tr>\n",
       "    <tr>\n",
       "      <th>2015-10-08 13:42:00</th>\n",
       "      <td>0.45</td>\n",
       "      <td>0.00</td>\n",
       "      <td>0.45</td>\n",
       "      <td>0.00</td>\n",
       "      <td>0.000000</td>\n",
       "      <td>NaN</td>\n",
       "      <td>NaN</td>\n",
       "    </tr>\n",
       "    <tr>\n",
       "      <th>2015-10-08 13:43:00</th>\n",
       "      <td>0.00</td>\n",
       "      <td>0.01</td>\n",
       "      <td>0.00</td>\n",
       "      <td>0.01</td>\n",
       "      <td>0.009950</td>\n",
       "      <td>NaN</td>\n",
       "      <td>NaN</td>\n",
       "    </tr>\n",
       "    <tr>\n",
       "      <th>2015-10-08 13:44:00</th>\n",
       "      <td>0.01</td>\n",
       "      <td>0.00</td>\n",
       "      <td>0.01</td>\n",
       "      <td>0.00</td>\n",
       "      <td>0.032943</td>\n",
       "      <td>NaN</td>\n",
       "      <td>NaN</td>\n",
       "    </tr>\n",
       "    <tr>\n",
       "      <th>...</th>\n",
       "      <td>...</td>\n",
       "      <td>...</td>\n",
       "      <td>...</td>\n",
       "      <td>...</td>\n",
       "      <td>...</td>\n",
       "      <td>...</td>\n",
       "      <td>...</td>\n",
       "    </tr>\n",
       "    <tr>\n",
       "      <th>2023-02-21 00:29:00</th>\n",
       "      <td>-0.01</td>\n",
       "      <td>2.97</td>\n",
       "      <td>0.00</td>\n",
       "      <td>2.98</td>\n",
       "      <td>0.086797</td>\n",
       "      <td>51.243897</td>\n",
       "      <td>24810.259226</td>\n",
       "    </tr>\n",
       "    <tr>\n",
       "      <th>2023-02-21 00:30:00</th>\n",
       "      <td>2.98</td>\n",
       "      <td>5.84</td>\n",
       "      <td>2.98</td>\n",
       "      <td>5.84</td>\n",
       "      <td>0.002201</td>\n",
       "      <td>54.754579</td>\n",
       "      <td>24810.764438</td>\n",
       "    </tr>\n",
       "    <tr>\n",
       "      <th>2023-02-21 00:31:00</th>\n",
       "      <td>5.84</td>\n",
       "      <td>3.87</td>\n",
       "      <td>3.22</td>\n",
       "      <td>3.87</td>\n",
       "      <td>0.086765</td>\n",
       "      <td>56.955197</td>\n",
       "      <td>24811.486732</td>\n",
       "    </tr>\n",
       "    <tr>\n",
       "      <th>2023-02-21 00:32:00</th>\n",
       "      <td>3.87</td>\n",
       "      <td>37.38</td>\n",
       "      <td>6.49</td>\n",
       "      <td>37.38</td>\n",
       "      <td>0.098124</td>\n",
       "      <td>71.367221</td>\n",
       "      <td>24814.574039</td>\n",
       "    </tr>\n",
       "    <tr>\n",
       "      <th>2023-02-21 00:33:00</th>\n",
       "      <td>37.38</td>\n",
       "      <td>0.00</td>\n",
       "      <td>37.38</td>\n",
       "      <td>0.00</td>\n",
       "      <td>0.000000</td>\n",
       "      <td>71.367221</td>\n",
       "      <td>24817.462166</td>\n",
       "    </tr>\n",
       "  </tbody>\n",
       "</table>\n",
       "<p>3766763 rows × 7 columns</p>\n",
       "</div>"
      ],
      "text/plain": [
       "                       open   high     low  close  Volume_BTC        RSI  \\\n",
       "Date                                                                       \n",
       "2015-10-08 13:40:00     NaN    NaN     NaN    NaN    0.048790        NaN   \n",
       "2015-10-08 13:41:00  242.50   0.45  242.50   0.45    0.001000        NaN   \n",
       "2015-10-08 13:42:00    0.45   0.00    0.45   0.00    0.000000        NaN   \n",
       "2015-10-08 13:43:00    0.00   0.01    0.00   0.01    0.009950        NaN   \n",
       "2015-10-08 13:44:00    0.01   0.00    0.01   0.00    0.032943        NaN   \n",
       "...                     ...    ...     ...    ...         ...        ...   \n",
       "2023-02-21 00:29:00   -0.01   2.97    0.00   2.98    0.086797  51.243897   \n",
       "2023-02-21 00:30:00    2.98   5.84    2.98   5.84    0.002201  54.754579   \n",
       "2023-02-21 00:31:00    5.84   3.87    3.22   3.87    0.086765  56.955197   \n",
       "2023-02-21 00:32:00    3.87  37.38    6.49  37.38    0.098124  71.367221   \n",
       "2023-02-21 00:33:00   37.38   0.00   37.38   0.00    0.000000  71.367221   \n",
       "\n",
       "                              EMA  \n",
       "Date                               \n",
       "2015-10-08 13:40:00           NaN  \n",
       "2015-10-08 13:41:00           NaN  \n",
       "2015-10-08 13:42:00           NaN  \n",
       "2015-10-08 13:43:00           NaN  \n",
       "2015-10-08 13:44:00           NaN  \n",
       "...                           ...  \n",
       "2023-02-21 00:29:00  24810.259226  \n",
       "2023-02-21 00:30:00  24810.764438  \n",
       "2023-02-21 00:31:00  24811.486732  \n",
       "2023-02-21 00:32:00  24814.574039  \n",
       "2023-02-21 00:33:00  24817.462166  \n",
       "\n",
       "[3766763 rows x 7 columns]"
      ]
     },
     "execution_count": 2,
     "metadata": {},
     "output_type": "execute_result"
    }
   ],
   "source": [
    "df_min_diff = df_min.diff()\n",
    "df_min_diff[\"Volume_BTC\"] = df_min[\"Volume_BTC\"].copy()\n",
    "df_min_diff[\"RSI\"] = df_min[\"RSI\"].copy()\n",
    "df_min_diff[\"EMA\"] = df_min[\"EMA\"].copy()\n",
    "df_min_diff"
   ]
  },
  {
   "cell_type": "markdown",
   "metadata": {},
   "source": [
    "## Daily"
   ]
  },
  {
   "cell_type": "code",
   "execution_count": 2,
   "metadata": {},
   "outputs": [],
   "source": [
    "import pandas as pd\n",
    "import pandas_ta as ta\n",
    "import numpy as np\n",
    "import datetime\n",
    "from matplotlib import pyplot as plt\n",
    "from sklearn.preprocessing import MinMaxScaler, StandardScaler\n",
    "import yfinance as yf\n",
    "start_date = datetime.datetime(2018, 1, 1)\n",
    "end_date = datetime.datetime(2024, 1, 1)\n",
    "btc_info = yf.Ticker(\"BTC-USD\")\n",
    "\n",
    "# pass the parameters as the taken dates for start and end\n",
    "df_day = btc_info.history(start = start_date, end = end_date) "
   ]
  },
  {
   "cell_type": "code",
   "execution_count": 118,
   "metadata": {},
   "outputs": [
    {
     "data": {
      "text/html": [
       "<div>\n",
       "<style scoped>\n",
       "    .dataframe tbody tr th:only-of-type {\n",
       "        vertical-align: middle;\n",
       "    }\n",
       "\n",
       "    .dataframe tbody tr th {\n",
       "        vertical-align: top;\n",
       "    }\n",
       "\n",
       "    .dataframe thead th {\n",
       "        text-align: right;\n",
       "    }\n",
       "</style>\n",
       "<table border=\"1\" class=\"dataframe\">\n",
       "  <thead>\n",
       "    <tr style=\"text-align: right;\">\n",
       "      <th></th>\n",
       "      <th>avg-block-size</th>\n",
       "      <th>avg-confirmation-time</th>\n",
       "      <th>blocks-size</th>\n",
       "      <th>cost-per-transaction-percent</th>\n",
       "      <th>cost-per-transaction</th>\n",
       "      <th>difficulty</th>\n",
       "      <th>estimated-transaction-volume-usd</th>\n",
       "      <th>estimated-transaction-volume</th>\n",
       "      <th>hash-rate</th>\n",
       "      <th>market-cap</th>\n",
       "      <th>...</th>\n",
       "      <th>n-transactions-per-block</th>\n",
       "      <th>n-transactions-total</th>\n",
       "      <th>n-transactions</th>\n",
       "      <th>n-unique-addresses</th>\n",
       "      <th>output-volume</th>\n",
       "      <th>total-bitcoins</th>\n",
       "      <th>trade-volume</th>\n",
       "      <th>transaction-fees-usd</th>\n",
       "      <th>transaction-fees</th>\n",
       "      <th>transactions-per-second</th>\n",
       "    </tr>\n",
       "    <tr>\n",
       "      <th>date</th>\n",
       "      <th></th>\n",
       "      <th></th>\n",
       "      <th></th>\n",
       "      <th></th>\n",
       "      <th></th>\n",
       "      <th></th>\n",
       "      <th></th>\n",
       "      <th></th>\n",
       "      <th></th>\n",
       "      <th></th>\n",
       "      <th></th>\n",
       "      <th></th>\n",
       "      <th></th>\n",
       "      <th></th>\n",
       "      <th></th>\n",
       "      <th></th>\n",
       "      <th></th>\n",
       "      <th></th>\n",
       "      <th></th>\n",
       "      <th></th>\n",
       "      <th></th>\n",
       "    </tr>\n",
       "  </thead>\n",
       "  <tbody>\n",
       "    <tr>\n",
       "      <th>2014-04-15</th>\n",
       "      <td>0.241621</td>\n",
       "      <td>NaN</td>\n",
       "      <td>17700.145907</td>\n",
       "      <td>4.312103</td>\n",
       "      <td>31.461496</td>\n",
       "      <td>6.119726e+09</td>\n",
       "      <td>6.737795e+07</td>\n",
       "      <td>146588.522890</td>\n",
       "      <td>5.932158e+04</td>\n",
       "      <td>5.814155e+09</td>\n",
       "      <td>...</td>\n",
       "      <td>400.049451</td>\n",
       "      <td>36853958.0</td>\n",
       "      <td>72809.0</td>\n",
       "      <td>156359.0</td>\n",
       "      <td>669588.742590</td>\n",
       "      <td>1.264937e+07</td>\n",
       "      <td>1.547115e+07</td>\n",
       "      <td>9.674245e+03</td>\n",
       "      <td>16.499545</td>\n",
       "      <td>NaN</td>\n",
       "    </tr>\n",
       "    <tr>\n",
       "      <th>2014-04-16</th>\n",
       "      <td>0.271066</td>\n",
       "      <td>NaN</td>\n",
       "      <td>17744.199359</td>\n",
       "      <td>2.176376</td>\n",
       "      <td>33.637923</td>\n",
       "      <td>6.119726e+09</td>\n",
       "      <td>1.235655e+08</td>\n",
       "      <td>236262.993009</td>\n",
       "      <td>4.532777e+04</td>\n",
       "      <td>6.617884e+09</td>\n",
       "      <td>...</td>\n",
       "      <td>431.408805</td>\n",
       "      <td>36926901.0</td>\n",
       "      <td>68594.0</td>\n",
       "      <td>149841.0</td>\n",
       "      <td>808972.686487</td>\n",
       "      <td>1.265370e+07</td>\n",
       "      <td>1.702180e+07</td>\n",
       "      <td>8.876057e+03</td>\n",
       "      <td>14.274446</td>\n",
       "      <td>NaN</td>\n",
       "    </tr>\n",
       "    <tr>\n",
       "      <th>2014-04-17</th>\n",
       "      <td>0.223713</td>\n",
       "      <td>NaN</td>\n",
       "      <td>17787.130813</td>\n",
       "      <td>3.960223</td>\n",
       "      <td>36.243881</td>\n",
       "      <td>6.978843e+09</td>\n",
       "      <td>6.833143e+07</td>\n",
       "      <td>129836.087704</td>\n",
       "      <td>6.036411e+04</td>\n",
       "      <td>6.661624e+09</td>\n",
       "      <td>...</td>\n",
       "      <td>385.739645</td>\n",
       "      <td>36995367.0</td>\n",
       "      <td>65190.0</td>\n",
       "      <td>131868.0</td>\n",
       "      <td>814063.297992</td>\n",
       "      <td>1.265771e+07</td>\n",
       "      <td>1.618354e+07</td>\n",
       "      <td>8.840666e+03</td>\n",
       "      <td>14.995538</td>\n",
       "      <td>NaN</td>\n",
       "    </tr>\n",
       "    <tr>\n",
       "      <th>2014-04-18</th>\n",
       "      <td>0.205560</td>\n",
       "      <td>NaN</td>\n",
       "      <td>17824.879464</td>\n",
       "      <td>6.280938</td>\n",
       "      <td>40.416473</td>\n",
       "      <td>6.978843e+09</td>\n",
       "      <td>4.413939e+07</td>\n",
       "      <td>88597.737449</td>\n",
       "      <td>5.411954e+04</td>\n",
       "      <td>6.308121e+09</td>\n",
       "      <td>...</td>\n",
       "      <td>356.225000</td>\n",
       "      <td>37060438.0</td>\n",
       "      <td>56996.0</td>\n",
       "      <td>128648.0</td>\n",
       "      <td>781666.572318</td>\n",
       "      <td>1.266182e+07</td>\n",
       "      <td>1.000750e+07</td>\n",
       "      <td>7.357991e+03</td>\n",
       "      <td>12.160113</td>\n",
       "      <td>NaN</td>\n",
       "    </tr>\n",
       "    <tr>\n",
       "      <th>2014-04-19</th>\n",
       "      <td>0.193319</td>\n",
       "      <td>NaN</td>\n",
       "      <td>17857.786874</td>\n",
       "      <td>7.890680</td>\n",
       "      <td>39.914189</td>\n",
       "      <td>6.978843e+09</td>\n",
       "      <td>3.141112e+07</td>\n",
       "      <td>65153.437509</td>\n",
       "      <td>5.654798e+04</td>\n",
       "      <td>6.106323e+09</td>\n",
       "      <td>...</td>\n",
       "      <td>336.572327</td>\n",
       "      <td>37117369.0</td>\n",
       "      <td>53515.0</td>\n",
       "      <td>118692.0</td>\n",
       "      <td>460095.566680</td>\n",
       "      <td>1.266583e+07</td>\n",
       "      <td>5.372537e+06</td>\n",
       "      <td>7.737646e+03</td>\n",
       "      <td>12.613149</td>\n",
       "      <td>NaN</td>\n",
       "    </tr>\n",
       "    <tr>\n",
       "      <th>...</th>\n",
       "      <td>...</td>\n",
       "      <td>...</td>\n",
       "      <td>...</td>\n",
       "      <td>...</td>\n",
       "      <td>...</td>\n",
       "      <td>...</td>\n",
       "      <td>...</td>\n",
       "      <td>...</td>\n",
       "      <td>...</td>\n",
       "      <td>...</td>\n",
       "      <td>...</td>\n",
       "      <td>...</td>\n",
       "      <td>...</td>\n",
       "      <td>...</td>\n",
       "      <td>...</td>\n",
       "      <td>...</td>\n",
       "      <td>...</td>\n",
       "      <td>...</td>\n",
       "      <td>...</td>\n",
       "      <td>...</td>\n",
       "      <td>...</td>\n",
       "    </tr>\n",
       "    <tr>\n",
       "      <th>2024-04-07</th>\n",
       "      <td>1.884625</td>\n",
       "      <td>41.076088</td>\n",
       "      <td>562982.133215</td>\n",
       "      <td>1.500297</td>\n",
       "      <td>142.915261</td>\n",
       "      <td>8.312700e+13</td>\n",
       "      <td>5.011808e+09</td>\n",
       "      <td>72211.397350</td>\n",
       "      <td>7.024851e+08</td>\n",
       "      <td>1.364788e+12</td>\n",
       "      <td>...</td>\n",
       "      <td>3094.882353</td>\n",
       "      <td>985002826.0</td>\n",
       "      <td>526130.0</td>\n",
       "      <td>652726.0</td>\n",
       "      <td>554943.049164</td>\n",
       "      <td>1.967582e+07</td>\n",
       "      <td>1.684330e+08</td>\n",
       "      <td>1.506788e+06</td>\n",
       "      <td>21.723003</td>\n",
       "      <td>2.850000</td>\n",
       "    </tr>\n",
       "    <tr>\n",
       "      <th>2024-04-08</th>\n",
       "      <td>1.937860</td>\n",
       "      <td>44.144762</td>\n",
       "      <td>563302.582414</td>\n",
       "      <td>0.635671</td>\n",
       "      <td>159.310532</td>\n",
       "      <td>8.312700e+13</td>\n",
       "      <td>1.141858e+10</td>\n",
       "      <td>159660.840237</td>\n",
       "      <td>6.528979e+08</td>\n",
       "      <td>1.399943e+12</td>\n",
       "      <td>...</td>\n",
       "      <td>2883.651899</td>\n",
       "      <td>985528264.0</td>\n",
       "      <td>455617.0</td>\n",
       "      <td>685180.0</td>\n",
       "      <td>982666.187226</td>\n",
       "      <td>1.967685e+07</td>\n",
       "      <td>1.995999e+08</td>\n",
       "      <td>2.366374e+06</td>\n",
       "      <td>33.119632</td>\n",
       "      <td>3.633333</td>\n",
       "    </tr>\n",
       "    <tr>\n",
       "      <th>2024-04-09</th>\n",
       "      <td>1.803056</td>\n",
       "      <td>71.778546</td>\n",
       "      <td>563608.974102</td>\n",
       "      <td>0.615871</td>\n",
       "      <td>148.461847</td>\n",
       "      <td>8.312700e+13</td>\n",
       "      <td>1.093957e+10</td>\n",
       "      <td>156080.237383</td>\n",
       "      <td>6.033108e+08</td>\n",
       "      <td>1.380335e+12</td>\n",
       "      <td>...</td>\n",
       "      <td>3108.294521</td>\n",
       "      <td>985984696.0</td>\n",
       "      <td>453811.0</td>\n",
       "      <td>683771.0</td>\n",
       "      <td>837041.011677</td>\n",
       "      <td>1.967780e+07</td>\n",
       "      <td>4.625718e+08</td>\n",
       "      <td>3.306938e+06</td>\n",
       "      <td>47.245769</td>\n",
       "      <td>2.900000</td>\n",
       "    </tr>\n",
       "    <tr>\n",
       "      <th>2024-04-10</th>\n",
       "      <td>1.719400</td>\n",
       "      <td>84.627117</td>\n",
       "      <td>563872.274493</td>\n",
       "      <td>0.818675</td>\n",
       "      <td>132.023279</td>\n",
       "      <td>8.345099e+13</td>\n",
       "      <td>8.679207e+09</td>\n",
       "      <td>125497.148402</td>\n",
       "      <td>6.264041e+08</td>\n",
       "      <td>1.361794e+12</td>\n",
       "      <td>...</td>\n",
       "      <td>3516.913907</td>\n",
       "      <td>986437741.0</td>\n",
       "      <td>531054.0</td>\n",
       "      <td>703704.0</td>\n",
       "      <td>773781.907529</td>\n",
       "      <td>1.967873e+07</td>\n",
       "      <td>4.856081e+08</td>\n",
       "      <td>4.853314e+06</td>\n",
       "      <td>69.836212</td>\n",
       "      <td>4.650000</td>\n",
       "    </tr>\n",
       "    <tr>\n",
       "      <th>2024-04-11</th>\n",
       "      <td>1.725664</td>\n",
       "      <td>47.992132</td>\n",
       "      <td>564131.542481</td>\n",
       "      <td>0.765793</td>\n",
       "      <td>137.661226</td>\n",
       "      <td>8.638856e+13</td>\n",
       "      <td>8.561053e+09</td>\n",
       "      <td>121485.191032</td>\n",
       "      <td>5.668606e+08</td>\n",
       "      <td>1.389101e+12</td>\n",
       "      <td>...</td>\n",
       "      <td>3607.886364</td>\n",
       "      <td>986969366.0</td>\n",
       "      <td>476241.0</td>\n",
       "      <td>631803.0</td>\n",
       "      <td>814237.496766</td>\n",
       "      <td>1.967961e+07</td>\n",
       "      <td>4.392559e+08</td>\n",
       "      <td>7.355170e+06</td>\n",
       "      <td>104.379272</td>\n",
       "      <td>3.533333</td>\n",
       "    </tr>\n",
       "  </tbody>\n",
       "</table>\n",
       "<p>3650 rows × 27 columns</p>\n",
       "</div>"
      ],
      "text/plain": [
       "            avg-block-size  avg-confirmation-time    blocks-size  \\\n",
       "date                                                               \n",
       "2014-04-15        0.241621                    NaN   17700.145907   \n",
       "2014-04-16        0.271066                    NaN   17744.199359   \n",
       "2014-04-17        0.223713                    NaN   17787.130813   \n",
       "2014-04-18        0.205560                    NaN   17824.879464   \n",
       "2014-04-19        0.193319                    NaN   17857.786874   \n",
       "...                    ...                    ...            ...   \n",
       "2024-04-07        1.884625              41.076088  562982.133215   \n",
       "2024-04-08        1.937860              44.144762  563302.582414   \n",
       "2024-04-09        1.803056              71.778546  563608.974102   \n",
       "2024-04-10        1.719400              84.627117  563872.274493   \n",
       "2024-04-11        1.725664              47.992132  564131.542481   \n",
       "\n",
       "            cost-per-transaction-percent  cost-per-transaction    difficulty  \\\n",
       "date                                                                           \n",
       "2014-04-15                      4.312103             31.461496  6.119726e+09   \n",
       "2014-04-16                      2.176376             33.637923  6.119726e+09   \n",
       "2014-04-17                      3.960223             36.243881  6.978843e+09   \n",
       "2014-04-18                      6.280938             40.416473  6.978843e+09   \n",
       "2014-04-19                      7.890680             39.914189  6.978843e+09   \n",
       "...                                  ...                   ...           ...   \n",
       "2024-04-07                      1.500297            142.915261  8.312700e+13   \n",
       "2024-04-08                      0.635671            159.310532  8.312700e+13   \n",
       "2024-04-09                      0.615871            148.461847  8.312700e+13   \n",
       "2024-04-10                      0.818675            132.023279  8.345099e+13   \n",
       "2024-04-11                      0.765793            137.661226  8.638856e+13   \n",
       "\n",
       "            estimated-transaction-volume-usd  estimated-transaction-volume  \\\n",
       "date                                                                         \n",
       "2014-04-15                      6.737795e+07                 146588.522890   \n",
       "2014-04-16                      1.235655e+08                 236262.993009   \n",
       "2014-04-17                      6.833143e+07                 129836.087704   \n",
       "2014-04-18                      4.413939e+07                  88597.737449   \n",
       "2014-04-19                      3.141112e+07                  65153.437509   \n",
       "...                                      ...                           ...   \n",
       "2024-04-07                      5.011808e+09                  72211.397350   \n",
       "2024-04-08                      1.141858e+10                 159660.840237   \n",
       "2024-04-09                      1.093957e+10                 156080.237383   \n",
       "2024-04-10                      8.679207e+09                 125497.148402   \n",
       "2024-04-11                      8.561053e+09                 121485.191032   \n",
       "\n",
       "               hash-rate    market-cap  ...  n-transactions-per-block  \\\n",
       "date                                    ...                             \n",
       "2014-04-15  5.932158e+04  5.814155e+09  ...                400.049451   \n",
       "2014-04-16  4.532777e+04  6.617884e+09  ...                431.408805   \n",
       "2014-04-17  6.036411e+04  6.661624e+09  ...                385.739645   \n",
       "2014-04-18  5.411954e+04  6.308121e+09  ...                356.225000   \n",
       "2014-04-19  5.654798e+04  6.106323e+09  ...                336.572327   \n",
       "...                  ...           ...  ...                       ...   \n",
       "2024-04-07  7.024851e+08  1.364788e+12  ...               3094.882353   \n",
       "2024-04-08  6.528979e+08  1.399943e+12  ...               2883.651899   \n",
       "2024-04-09  6.033108e+08  1.380335e+12  ...               3108.294521   \n",
       "2024-04-10  6.264041e+08  1.361794e+12  ...               3516.913907   \n",
       "2024-04-11  5.668606e+08  1.389101e+12  ...               3607.886364   \n",
       "\n",
       "            n-transactions-total  n-transactions  n-unique-addresses  \\\n",
       "date                                                                   \n",
       "2014-04-15            36853958.0         72809.0            156359.0   \n",
       "2014-04-16            36926901.0         68594.0            149841.0   \n",
       "2014-04-17            36995367.0         65190.0            131868.0   \n",
       "2014-04-18            37060438.0         56996.0            128648.0   \n",
       "2014-04-19            37117369.0         53515.0            118692.0   \n",
       "...                          ...             ...                 ...   \n",
       "2024-04-07           985002826.0        526130.0            652726.0   \n",
       "2024-04-08           985528264.0        455617.0            685180.0   \n",
       "2024-04-09           985984696.0        453811.0            683771.0   \n",
       "2024-04-10           986437741.0        531054.0            703704.0   \n",
       "2024-04-11           986969366.0        476241.0            631803.0   \n",
       "\n",
       "            output-volume  total-bitcoins  trade-volume  transaction-fees-usd  \\\n",
       "date                                                                            \n",
       "2014-04-15  669588.742590    1.264937e+07  1.547115e+07          9.674245e+03   \n",
       "2014-04-16  808972.686487    1.265370e+07  1.702180e+07          8.876057e+03   \n",
       "2014-04-17  814063.297992    1.265771e+07  1.618354e+07          8.840666e+03   \n",
       "2014-04-18  781666.572318    1.266182e+07  1.000750e+07          7.357991e+03   \n",
       "2014-04-19  460095.566680    1.266583e+07  5.372537e+06          7.737646e+03   \n",
       "...                   ...             ...           ...                   ...   \n",
       "2024-04-07  554943.049164    1.967582e+07  1.684330e+08          1.506788e+06   \n",
       "2024-04-08  982666.187226    1.967685e+07  1.995999e+08          2.366374e+06   \n",
       "2024-04-09  837041.011677    1.967780e+07  4.625718e+08          3.306938e+06   \n",
       "2024-04-10  773781.907529    1.967873e+07  4.856081e+08          4.853314e+06   \n",
       "2024-04-11  814237.496766    1.967961e+07  4.392559e+08          7.355170e+06   \n",
       "\n",
       "            transaction-fees  transactions-per-second  \n",
       "date                                                   \n",
       "2014-04-15         16.499545                      NaN  \n",
       "2014-04-16         14.274446                      NaN  \n",
       "2014-04-17         14.995538                      NaN  \n",
       "2014-04-18         12.160113                      NaN  \n",
       "2014-04-19         12.613149                      NaN  \n",
       "...                      ...                      ...  \n",
       "2024-04-07         21.723003                 2.850000  \n",
       "2024-04-08         33.119632                 3.633333  \n",
       "2024-04-09         47.245769                 2.900000  \n",
       "2024-04-10         69.836212                 4.650000  \n",
       "2024-04-11        104.379272                 3.533333  \n",
       "\n",
       "[3650 rows x 27 columns]"
      ]
     },
     "execution_count": 118,
     "metadata": {},
     "output_type": "execute_result"
    }
   ],
   "source": [
    "df_chart = pd.read_csv('BTC_new.csv')\n",
    "# df_chart.columns = ['date','open', 'high', 'low', 'close', 'adj_close', 'vol']\n",
    "# df_chart = df_chart.sort_values(by = ['date'], ascending=True)\n",
    "df_chart.index = pd.to_datetime(df_chart['date'])\n",
    "df_chart.drop(['date'], axis=1, inplace=True)\n",
    "df_chart"
   ]
  },
  {
   "cell_type": "code",
   "execution_count": 126,
   "metadata": {},
   "outputs": [],
   "source": [
    "df_combined = pd.concat([df_day, df_chart], axis = 1)"
   ]
  },
  {
   "cell_type": "code",
   "execution_count": 132,
   "metadata": {},
   "outputs": [],
   "source": [
    "df_merged = pd.read_csv(\"df_merged.csv\")"
   ]
  },
  {
   "cell_type": "code",
   "execution_count": 3,
   "metadata": {},
   "outputs": [],
   "source": [
    "fng_index = pd.read_csv(\"fng_index.csv\")\n",
    "fng_index[\"date\"] = pd.to_datetime(fng_index.date, format = \"%d-%m-%Y\")\n",
    "fng_index.set_index(\"date\", inplace = True)"
   ]
  },
  {
   "cell_type": "code",
   "execution_count": 5,
   "metadata": {},
   "outputs": [],
   "source": [
    "df_day = df_day.tz_localize(None)\n",
    "df_day = pd.concat([df_day, fng_index], axis=1)\n",
    "df_day.drop(columns = [\"Dividends\", \"Stock Splits\", \"fng_classification\"], inplace = True)\n",
    "df_day.columns = ['open', 'high', 'low', 'close', 'Volume_BTC', 'fng_value']\n",
    "df_day[\"Volume_BTC\"] = df_day[\"Volume_BTC\"]/df_day[\"close\"]\n",
    "df_day[\"Volume_BTC\"] = np.log(df_day[\"Volume_BTC\"] + 1)\n",
    "df_day['RSI']=ta.rsi(df_day.close, length=15)\n",
    "df_day['EMA'] = ta.ema(df_day.close, length=30)"
   ]
  },
  {
   "cell_type": "code",
   "execution_count": 6,
   "metadata": {},
   "outputs": [
    {
     "data": {
      "text/html": [
       "<div>\n",
       "<style scoped>\n",
       "    .dataframe tbody tr th:only-of-type {\n",
       "        vertical-align: middle;\n",
       "    }\n",
       "\n",
       "    .dataframe tbody tr th {\n",
       "        vertical-align: top;\n",
       "    }\n",
       "\n",
       "    .dataframe thead th {\n",
       "        text-align: right;\n",
       "    }\n",
       "</style>\n",
       "<table border=\"1\" class=\"dataframe\">\n",
       "  <thead>\n",
       "    <tr style=\"text-align: right;\">\n",
       "      <th></th>\n",
       "      <th>open</th>\n",
       "      <th>high</th>\n",
       "      <th>low</th>\n",
       "      <th>close</th>\n",
       "      <th>Volume_BTC</th>\n",
       "      <th>fng_value</th>\n",
       "      <th>RSI</th>\n",
       "      <th>EMA</th>\n",
       "    </tr>\n",
       "  </thead>\n",
       "  <tbody>\n",
       "    <tr>\n",
       "      <th>2018-01-01</th>\n",
       "      <td>14112.200195</td>\n",
       "      <td>14112.200195</td>\n",
       "      <td>13154.700195</td>\n",
       "      <td>13657.200195</td>\n",
       "      <td>13.532534</td>\n",
       "      <td>NaN</td>\n",
       "      <td>NaN</td>\n",
       "      <td>NaN</td>\n",
       "    </tr>\n",
       "    <tr>\n",
       "      <th>2018-01-02</th>\n",
       "      <td>13625.000000</td>\n",
       "      <td>15444.599609</td>\n",
       "      <td>13163.599609</td>\n",
       "      <td>14982.099609</td>\n",
       "      <td>13.932804</td>\n",
       "      <td>NaN</td>\n",
       "      <td>NaN</td>\n",
       "      <td>NaN</td>\n",
       "    </tr>\n",
       "    <tr>\n",
       "      <th>2018-01-03</th>\n",
       "      <td>14978.200195</td>\n",
       "      <td>15572.799805</td>\n",
       "      <td>14844.500000</td>\n",
       "      <td>15201.000000</td>\n",
       "      <td>13.919800</td>\n",
       "      <td>NaN</td>\n",
       "      <td>NaN</td>\n",
       "      <td>NaN</td>\n",
       "    </tr>\n",
       "    <tr>\n",
       "      <th>2018-01-04</th>\n",
       "      <td>15270.700195</td>\n",
       "      <td>15739.700195</td>\n",
       "      <td>14522.200195</td>\n",
       "      <td>15599.200195</td>\n",
       "      <td>14.149431</td>\n",
       "      <td>NaN</td>\n",
       "      <td>NaN</td>\n",
       "      <td>NaN</td>\n",
       "    </tr>\n",
       "    <tr>\n",
       "      <th>2018-01-05</th>\n",
       "      <td>15477.200195</td>\n",
       "      <td>17705.199219</td>\n",
       "      <td>15202.799805</td>\n",
       "      <td>17429.500000</td>\n",
       "      <td>14.128750</td>\n",
       "      <td>NaN</td>\n",
       "      <td>NaN</td>\n",
       "      <td>NaN</td>\n",
       "    </tr>\n",
       "    <tr>\n",
       "      <th>...</th>\n",
       "      <td>...</td>\n",
       "      <td>...</td>\n",
       "      <td>...</td>\n",
       "      <td>...</td>\n",
       "      <td>...</td>\n",
       "      <td>...</td>\n",
       "      <td>...</td>\n",
       "      <td>...</td>\n",
       "    </tr>\n",
       "    <tr>\n",
       "      <th>2024-04-06</th>\n",
       "      <td>NaN</td>\n",
       "      <td>NaN</td>\n",
       "      <td>NaN</td>\n",
       "      <td>NaN</td>\n",
       "      <td>NaN</td>\n",
       "      <td>75.0</td>\n",
       "      <td>51.750421</td>\n",
       "      <td>41886.577281</td>\n",
       "    </tr>\n",
       "    <tr>\n",
       "      <th>2024-04-07</th>\n",
       "      <td>NaN</td>\n",
       "      <td>NaN</td>\n",
       "      <td>NaN</td>\n",
       "      <td>NaN</td>\n",
       "      <td>NaN</td>\n",
       "      <td>78.0</td>\n",
       "      <td>51.750421</td>\n",
       "      <td>41886.577281</td>\n",
       "    </tr>\n",
       "    <tr>\n",
       "      <th>2024-04-08</th>\n",
       "      <td>NaN</td>\n",
       "      <td>NaN</td>\n",
       "      <td>NaN</td>\n",
       "      <td>NaN</td>\n",
       "      <td>NaN</td>\n",
       "      <td>76.0</td>\n",
       "      <td>51.750421</td>\n",
       "      <td>41886.577281</td>\n",
       "    </tr>\n",
       "    <tr>\n",
       "      <th>2024-04-09</th>\n",
       "      <td>NaN</td>\n",
       "      <td>NaN</td>\n",
       "      <td>NaN</td>\n",
       "      <td>NaN</td>\n",
       "      <td>NaN</td>\n",
       "      <td>80.0</td>\n",
       "      <td>51.750421</td>\n",
       "      <td>41886.577281</td>\n",
       "    </tr>\n",
       "    <tr>\n",
       "      <th>2024-04-10</th>\n",
       "      <td>NaN</td>\n",
       "      <td>NaN</td>\n",
       "      <td>NaN</td>\n",
       "      <td>NaN</td>\n",
       "      <td>NaN</td>\n",
       "      <td>78.0</td>\n",
       "      <td>51.750421</td>\n",
       "      <td>41886.577281</td>\n",
       "    </tr>\n",
       "  </tbody>\n",
       "</table>\n",
       "<p>2292 rows × 8 columns</p>\n",
       "</div>"
      ],
      "text/plain": [
       "                    open          high           low         close  \\\n",
       "2018-01-01  14112.200195  14112.200195  13154.700195  13657.200195   \n",
       "2018-01-02  13625.000000  15444.599609  13163.599609  14982.099609   \n",
       "2018-01-03  14978.200195  15572.799805  14844.500000  15201.000000   \n",
       "2018-01-04  15270.700195  15739.700195  14522.200195  15599.200195   \n",
       "2018-01-05  15477.200195  17705.199219  15202.799805  17429.500000   \n",
       "...                  ...           ...           ...           ...   \n",
       "2024-04-06           NaN           NaN           NaN           NaN   \n",
       "2024-04-07           NaN           NaN           NaN           NaN   \n",
       "2024-04-08           NaN           NaN           NaN           NaN   \n",
       "2024-04-09           NaN           NaN           NaN           NaN   \n",
       "2024-04-10           NaN           NaN           NaN           NaN   \n",
       "\n",
       "            Volume_BTC  fng_value        RSI           EMA  \n",
       "2018-01-01   13.532534        NaN        NaN           NaN  \n",
       "2018-01-02   13.932804        NaN        NaN           NaN  \n",
       "2018-01-03   13.919800        NaN        NaN           NaN  \n",
       "2018-01-04   14.149431        NaN        NaN           NaN  \n",
       "2018-01-05   14.128750        NaN        NaN           NaN  \n",
       "...                ...        ...        ...           ...  \n",
       "2024-04-06         NaN       75.0  51.750421  41886.577281  \n",
       "2024-04-07         NaN       78.0  51.750421  41886.577281  \n",
       "2024-04-08         NaN       76.0  51.750421  41886.577281  \n",
       "2024-04-09         NaN       80.0  51.750421  41886.577281  \n",
       "2024-04-10         NaN       78.0  51.750421  41886.577281  \n",
       "\n",
       "[2292 rows x 8 columns]"
      ]
     },
     "execution_count": 6,
     "metadata": {},
     "output_type": "execute_result"
    }
   ],
   "source": [
    "df_day"
   ]
  },
  {
   "cell_type": "code",
   "execution_count": 7,
   "metadata": {},
   "outputs": [],
   "source": [
    "df_day_diff = df_day.diff()\n",
    "df_day_diff[\"Volume_BTC\"] = df_day[\"Volume_BTC\"].copy()\n",
    "df_day_diff[\"RSI\"] = df_day[\"RSI\"].copy()\n",
    "df_day_diff[\"EMA\"] = df_day[\"EMA\"].copy()\n",
    "df_day_diff[\"fng_value\"] = df_day[\"fng_value\"].copy()\n",
    "df_day_diff[[\"open\", \"high\", \"low\", \"close\"]] = df_day_diff[[\"open\", \"high\", \"low\", \"close\"]]/df_day[[\"open\", \"high\", \"low\", \"close\"]].shift()\n",
    "df_day_diff[\"EMA_return\"] = ta.ema(df_day_diff.close, length = 10)"
   ]
  },
  {
   "cell_type": "code",
   "execution_count": 8,
   "metadata": {},
   "outputs": [
    {
     "data": {
      "text/html": [
       "<div>\n",
       "<style scoped>\n",
       "    .dataframe tbody tr th:only-of-type {\n",
       "        vertical-align: middle;\n",
       "    }\n",
       "\n",
       "    .dataframe tbody tr th {\n",
       "        vertical-align: top;\n",
       "    }\n",
       "\n",
       "    .dataframe thead th {\n",
       "        text-align: right;\n",
       "    }\n",
       "</style>\n",
       "<table border=\"1\" class=\"dataframe\">\n",
       "  <thead>\n",
       "    <tr style=\"text-align: right;\">\n",
       "      <th></th>\n",
       "      <th>open</th>\n",
       "      <th>high</th>\n",
       "      <th>low</th>\n",
       "      <th>close</th>\n",
       "      <th>Volume_BTC</th>\n",
       "      <th>fng_value</th>\n",
       "      <th>RSI</th>\n",
       "      <th>EMA</th>\n",
       "      <th>EMA_return</th>\n",
       "    </tr>\n",
       "  </thead>\n",
       "  <tbody>\n",
       "    <tr>\n",
       "      <th>2018-01-01</th>\n",
       "      <td>NaN</td>\n",
       "      <td>NaN</td>\n",
       "      <td>NaN</td>\n",
       "      <td>NaN</td>\n",
       "      <td>13.532534</td>\n",
       "      <td>NaN</td>\n",
       "      <td>NaN</td>\n",
       "      <td>NaN</td>\n",
       "      <td>NaN</td>\n",
       "    </tr>\n",
       "    <tr>\n",
       "      <th>2018-01-02</th>\n",
       "      <td>-0.034523</td>\n",
       "      <td>0.094415</td>\n",
       "      <td>0.000677</td>\n",
       "      <td>0.097011</td>\n",
       "      <td>13.932804</td>\n",
       "      <td>NaN</td>\n",
       "      <td>NaN</td>\n",
       "      <td>NaN</td>\n",
       "      <td>NaN</td>\n",
       "    </tr>\n",
       "    <tr>\n",
       "      <th>2018-01-03</th>\n",
       "      <td>0.099317</td>\n",
       "      <td>0.008301</td>\n",
       "      <td>0.127693</td>\n",
       "      <td>0.014611</td>\n",
       "      <td>13.919800</td>\n",
       "      <td>NaN</td>\n",
       "      <td>NaN</td>\n",
       "      <td>NaN</td>\n",
       "      <td>NaN</td>\n",
       "    </tr>\n",
       "    <tr>\n",
       "      <th>2018-01-04</th>\n",
       "      <td>0.019528</td>\n",
       "      <td>0.010717</td>\n",
       "      <td>-0.021712</td>\n",
       "      <td>0.026196</td>\n",
       "      <td>14.149431</td>\n",
       "      <td>NaN</td>\n",
       "      <td>NaN</td>\n",
       "      <td>NaN</td>\n",
       "      <td>NaN</td>\n",
       "    </tr>\n",
       "    <tr>\n",
       "      <th>2018-01-05</th>\n",
       "      <td>0.013523</td>\n",
       "      <td>0.124875</td>\n",
       "      <td>0.046866</td>\n",
       "      <td>0.117333</td>\n",
       "      <td>14.128750</td>\n",
       "      <td>NaN</td>\n",
       "      <td>NaN</td>\n",
       "      <td>NaN</td>\n",
       "      <td>NaN</td>\n",
       "    </tr>\n",
       "    <tr>\n",
       "      <th>...</th>\n",
       "      <td>...</td>\n",
       "      <td>...</td>\n",
       "      <td>...</td>\n",
       "      <td>...</td>\n",
       "      <td>...</td>\n",
       "      <td>...</td>\n",
       "      <td>...</td>\n",
       "      <td>...</td>\n",
       "      <td>...</td>\n",
       "    </tr>\n",
       "    <tr>\n",
       "      <th>2024-04-06</th>\n",
       "      <td>NaN</td>\n",
       "      <td>NaN</td>\n",
       "      <td>NaN</td>\n",
       "      <td>NaN</td>\n",
       "      <td>NaN</td>\n",
       "      <td>75.0</td>\n",
       "      <td>51.750421</td>\n",
       "      <td>41886.577281</td>\n",
       "      <td>-0.001882</td>\n",
       "    </tr>\n",
       "    <tr>\n",
       "      <th>2024-04-07</th>\n",
       "      <td>NaN</td>\n",
       "      <td>NaN</td>\n",
       "      <td>NaN</td>\n",
       "      <td>NaN</td>\n",
       "      <td>NaN</td>\n",
       "      <td>78.0</td>\n",
       "      <td>51.750421</td>\n",
       "      <td>41886.577281</td>\n",
       "      <td>-0.001882</td>\n",
       "    </tr>\n",
       "    <tr>\n",
       "      <th>2024-04-08</th>\n",
       "      <td>NaN</td>\n",
       "      <td>NaN</td>\n",
       "      <td>NaN</td>\n",
       "      <td>NaN</td>\n",
       "      <td>NaN</td>\n",
       "      <td>76.0</td>\n",
       "      <td>51.750421</td>\n",
       "      <td>41886.577281</td>\n",
       "      <td>-0.001882</td>\n",
       "    </tr>\n",
       "    <tr>\n",
       "      <th>2024-04-09</th>\n",
       "      <td>NaN</td>\n",
       "      <td>NaN</td>\n",
       "      <td>NaN</td>\n",
       "      <td>NaN</td>\n",
       "      <td>NaN</td>\n",
       "      <td>80.0</td>\n",
       "      <td>51.750421</td>\n",
       "      <td>41886.577281</td>\n",
       "      <td>-0.001882</td>\n",
       "    </tr>\n",
       "    <tr>\n",
       "      <th>2024-04-10</th>\n",
       "      <td>NaN</td>\n",
       "      <td>NaN</td>\n",
       "      <td>NaN</td>\n",
       "      <td>NaN</td>\n",
       "      <td>NaN</td>\n",
       "      <td>78.0</td>\n",
       "      <td>51.750421</td>\n",
       "      <td>41886.577281</td>\n",
       "      <td>-0.001882</td>\n",
       "    </tr>\n",
       "  </tbody>\n",
       "</table>\n",
       "<p>2292 rows × 9 columns</p>\n",
       "</div>"
      ],
      "text/plain": [
       "                open      high       low     close  Volume_BTC  fng_value  \\\n",
       "2018-01-01       NaN       NaN       NaN       NaN   13.532534        NaN   \n",
       "2018-01-02 -0.034523  0.094415  0.000677  0.097011   13.932804        NaN   \n",
       "2018-01-03  0.099317  0.008301  0.127693  0.014611   13.919800        NaN   \n",
       "2018-01-04  0.019528  0.010717 -0.021712  0.026196   14.149431        NaN   \n",
       "2018-01-05  0.013523  0.124875  0.046866  0.117333   14.128750        NaN   \n",
       "...              ...       ...       ...       ...         ...        ...   \n",
       "2024-04-06       NaN       NaN       NaN       NaN         NaN       75.0   \n",
       "2024-04-07       NaN       NaN       NaN       NaN         NaN       78.0   \n",
       "2024-04-08       NaN       NaN       NaN       NaN         NaN       76.0   \n",
       "2024-04-09       NaN       NaN       NaN       NaN         NaN       80.0   \n",
       "2024-04-10       NaN       NaN       NaN       NaN         NaN       78.0   \n",
       "\n",
       "                  RSI           EMA  EMA_return  \n",
       "2018-01-01        NaN           NaN         NaN  \n",
       "2018-01-02        NaN           NaN         NaN  \n",
       "2018-01-03        NaN           NaN         NaN  \n",
       "2018-01-04        NaN           NaN         NaN  \n",
       "2018-01-05        NaN           NaN         NaN  \n",
       "...               ...           ...         ...  \n",
       "2024-04-06  51.750421  41886.577281   -0.001882  \n",
       "2024-04-07  51.750421  41886.577281   -0.001882  \n",
       "2024-04-08  51.750421  41886.577281   -0.001882  \n",
       "2024-04-09  51.750421  41886.577281   -0.001882  \n",
       "2024-04-10  51.750421  41886.577281   -0.001882  \n",
       "\n",
       "[2292 rows x 9 columns]"
      ]
     },
     "execution_count": 8,
     "metadata": {},
     "output_type": "execute_result"
    }
   ],
   "source": [
    "df_day_diff"
   ]
  },
  {
   "cell_type": "code",
   "execution_count": 10,
   "metadata": {},
   "outputs": [
    {
     "data": {
      "text/plain": [
       "[<matplotlib.lines.Line2D at 0x1c9877bb2d0>]"
      ]
     },
     "execution_count": 10,
     "metadata": {},
     "output_type": "execute_result"
    },
    {
     "data": {
      "image/png": "[encoded data removed]",
      "text/plain": [
       "<Figure size 640x480 with 1 Axes>"
      ]
     },
     "metadata": {},
     "output_type": "display_data"
    }
   ],
   "source": [
    "plt.plot(df_day_diff.close[:100])\n",
    "plt.plot(ta.ema(df_day_diff.close, length = 10)[:100])\n",
    "plt.plot(ta.ema(df_day_diff.close, length = 20)[:100])\n",
    "plt.plot(ta.ema(df_day_diff.close, length = 30)[:100])"
   ]
  },
  {
   "cell_type": "code",
   "execution_count": 7,
   "metadata": {},
   "outputs": [
    {
     "data": {
      "text/html": [
       "<div>\n",
       "<style scoped>\n",
       "    .dataframe tbody tr th:only-of-type {\n",
       "        vertical-align: middle;\n",
       "    }\n",
       "\n",
       "    .dataframe tbody tr th {\n",
       "        vertical-align: top;\n",
       "    }\n",
       "\n",
       "    .dataframe thead th {\n",
       "        text-align: right;\n",
       "    }\n",
       "</style>\n",
       "<table border=\"1\" class=\"dataframe\">\n",
       "  <thead>\n",
       "    <tr style=\"text-align: right;\">\n",
       "      <th></th>\n",
       "      <th>open</th>\n",
       "      <th>high</th>\n",
       "      <th>low</th>\n",
       "      <th>close</th>\n",
       "      <th>Volume_BTC</th>\n",
       "      <th>fng_value</th>\n",
       "      <th>RSI</th>\n",
       "      <th>EMA</th>\n",
       "    </tr>\n",
       "  </thead>\n",
       "  <tbody>\n",
       "    <tr>\n",
       "      <th>open</th>\n",
       "      <td>1.000000</td>\n",
       "      <td>0.540783</td>\n",
       "      <td>0.424348</td>\n",
       "      <td>-0.031448</td>\n",
       "      <td>-0.013775</td>\n",
       "      <td>0.524185</td>\n",
       "      <td>0.245026</td>\n",
       "      <td>-0.021312</td>\n",
       "    </tr>\n",
       "    <tr>\n",
       "      <th>high</th>\n",
       "      <td>0.540783</td>\n",
       "      <td>1.000000</td>\n",
       "      <td>0.435138</td>\n",
       "      <td>0.550930</td>\n",
       "      <td>0.011712</td>\n",
       "      <td>0.306515</td>\n",
       "      <td>0.296313</td>\n",
       "      <td>-0.026883</td>\n",
       "    </tr>\n",
       "    <tr>\n",
       "      <th>low</th>\n",
       "      <td>0.424348</td>\n",
       "      <td>0.435138</td>\n",
       "      <td>1.000000</td>\n",
       "      <td>0.588135</td>\n",
       "      <td>-0.066262</td>\n",
       "      <td>0.229803</td>\n",
       "      <td>0.250108</td>\n",
       "      <td>-0.022619</td>\n",
       "    </tr>\n",
       "    <tr>\n",
       "      <th>close</th>\n",
       "      <td>-0.031448</td>\n",
       "      <td>0.550930</td>\n",
       "      <td>0.588135</td>\n",
       "      <td>1.000000</td>\n",
       "      <td>-0.023683</td>\n",
       "      <td>-0.029484</td>\n",
       "      <td>0.265907</td>\n",
       "      <td>-0.025282</td>\n",
       "    </tr>\n",
       "    <tr>\n",
       "      <th>Volume_BTC</th>\n",
       "      <td>-0.013775</td>\n",
       "      <td>0.011712</td>\n",
       "      <td>-0.066262</td>\n",
       "      <td>-0.023683</td>\n",
       "      <td>1.000000</td>\n",
       "      <td>-0.011365</td>\n",
       "      <td>0.111532</td>\n",
       "      <td>-0.476316</td>\n",
       "    </tr>\n",
       "    <tr>\n",
       "      <th>fng_value</th>\n",
       "      <td>0.524185</td>\n",
       "      <td>0.306515</td>\n",
       "      <td>0.229803</td>\n",
       "      <td>-0.029484</td>\n",
       "      <td>-0.011365</td>\n",
       "      <td>1.000000</td>\n",
       "      <td>0.119223</td>\n",
       "      <td>-0.021740</td>\n",
       "    </tr>\n",
       "    <tr>\n",
       "      <th>RSI</th>\n",
       "      <td>0.245026</td>\n",
       "      <td>0.296313</td>\n",
       "      <td>0.250108</td>\n",
       "      <td>0.265907</td>\n",
       "      <td>0.111532</td>\n",
       "      <td>0.119223</td>\n",
       "      <td>1.000000</td>\n",
       "      <td>-0.000450</td>\n",
       "    </tr>\n",
       "    <tr>\n",
       "      <th>EMA</th>\n",
       "      <td>-0.021312</td>\n",
       "      <td>-0.026883</td>\n",
       "      <td>-0.022619</td>\n",
       "      <td>-0.025282</td>\n",
       "      <td>-0.476316</td>\n",
       "      <td>-0.021740</td>\n",
       "      <td>-0.000450</td>\n",
       "      <td>1.000000</td>\n",
       "    </tr>\n",
       "  </tbody>\n",
       "</table>\n",
       "</div>"
      ],
      "text/plain": [
       "                open      high       low     close  Volume_BTC  fng_value  \\\n",
       "open        1.000000  0.540783  0.424348 -0.031448   -0.013775   0.524185   \n",
       "high        0.540783  1.000000  0.435138  0.550930    0.011712   0.306515   \n",
       "low         0.424348  0.435138  1.000000  0.588135   -0.066262   0.229803   \n",
       "close      -0.031448  0.550930  0.588135  1.000000   -0.023683  -0.029484   \n",
       "Volume_BTC -0.013775  0.011712 -0.066262 -0.023683    1.000000  -0.011365   \n",
       "fng_value   0.524185  0.306515  0.229803 -0.029484   -0.011365   1.000000   \n",
       "RSI         0.245026  0.296313  0.250108  0.265907    0.111532   0.119223   \n",
       "EMA        -0.021312 -0.026883 -0.022619 -0.025282   -0.476316  -0.021740   \n",
       "\n",
       "                 RSI       EMA  \n",
       "open        0.245026 -0.021312  \n",
       "high        0.296313 -0.026883  \n",
       "low         0.250108 -0.022619  \n",
       "close       0.265907 -0.025282  \n",
       "Volume_BTC  0.111532 -0.476316  \n",
       "fng_value   0.119223 -0.021740  \n",
       "RSI         1.000000 -0.000450  \n",
       "EMA        -0.000450  1.000000  "
      ]
     },
     "execution_count": 7,
     "metadata": {},
     "output_type": "execute_result"
    }
   ],
   "source": [
    "df_day_diff.corr()"
   ]
  },
  {
   "cell_type": "markdown",
   "metadata": {},
   "source": [
    "## Train-Test Split (Daily)"
   ]
  },
  {
   "cell_type": "code",
   "execution_count": 13,
   "metadata": {},
   "outputs": [],
   "source": [
    "class preprocessing():\n",
    "    def __init__(self, df):\n",
    "        self.df = df\n",
    "    \n",
    "    def split(self, df, start, test_start, end):\n",
    "        \"\"\"Split df into df_train and df_test by training and testing period\"\"\"\n",
    "\n",
    "        date_index = pd.to_datetime(df.index)\n",
    "        mask_train = pd.Series(date_index).between(start, test_start, inclusive=\"left\")\n",
    "        df_train = df.loc[mask_train.values].copy(deep=True)\n",
    "\n",
    "        mask_test = pd.Series(date_index).between(test_start, end, inclusive=\"left\")\n",
    "        df_test = df.loc[mask_test.values].copy(deep=True)\n",
    "\n",
    "        return df_train, df_test\n",
    "    \n",
    "    def m_dist(self, df_train):\n",
    "        \"\"\"Compute Mahalanobis distance\"\"\"\n",
    "        \n",
    "        X = df_train.values\n",
    "        m = X.mean(axis = 0)\n",
    "        X_minus_m = X - m\n",
    "        S = np.cov(X.T)\n",
    "        S_inv = np.linalg.inv(S)\n",
    "        maha_dist = np.array([X_minus_m[i]@S_inv@X_minus_m[i] for i in range(X.shape[0])])\n",
    "        return maha_dist\n",
    "    \n",
    "    def outliers_indexing(self, df_train, quantile = 0.99):\n",
    "        \n",
    "        maha_dist = self.m_dist(df_train)\n",
    "        is_outlier =  (maha_dist > np.quantile(maha_dist, quantile))\n",
    "        return is_outlier\n",
    "\n",
    "    def transform(self, df_train, df_test, method = \"minmax\", y_name = \"close\"):\n",
    "        df_train = df_train.copy(deep=True)\n",
    "        df_test = df_test.copy(deep=True)\n",
    "        X_names = list(df_train.columns[df_train.columns != y_name])\n",
    "\n",
    "        if method == \"std\":\n",
    "            self.scaler_y = StandardScaler()\n",
    "            self.scaler = StandardScaler()\n",
    "        elif method == \"minmax\":\n",
    "            self.scaler_y = MinMaxScaler()\n",
    "            self.scaler = MinMaxScaler()\n",
    "        \n",
    "        self.scaler_y.fit(df_train[[y_name]])\n",
    "        self.scaler.fit(df_train[X_names])\n",
    "        df_train.loc[:, [y_name]] = self.scaler_y.transform(df_train[[y_name]])\n",
    "        df_train.loc[:, X_names] = self.scaler.transform(df_train[X_names])\n",
    "        df_test.loc[:, [y_name]] = self.scaler_y.transform(df_test[[y_name]])\n",
    "        df_test.loc[:, X_names] = self.scaler.transform(df_test[X_names])\n",
    "\n",
    "        return df_train, df_test\n",
    "    \n",
    "    def generate_dataset(self, df_train, seq_len, y_name = \"close\"):\n",
    "        X_list, y_list = [], []\n",
    "        for i in range(len(df_train.index) - seq_len):\n",
    "            if df_train.iloc[i:i + 1 + seq_len,:].isna().any(axis = None):\n",
    "                continue\n",
    "            X_list.append(np.array(df_train.iloc[i:i+seq_len,:]))\n",
    "            y_list.append(df_train[y_name].values[i+seq_len])\n",
    "        return np.array(X_list), np.array(y_list)\n",
    "    \n",
    "    def pipeline(self, \n",
    "                 split_args = {\"start\": \"2021-10-01\", \n",
    "                               \"test_start\": \"2021-12-31\", \n",
    "                               \"end\" :\"2022-01-01\"}, \n",
    "                 outliers_indexing_args = {\"quantile\": 0.99}, \n",
    "                 transform_args = {\"method\": \"minmax\", \n",
    "                                   \"y_name\": \"close\"}, LAG = 5):\n",
    "        self.df_train, self.df_test = self.split(self.df, **split_args)\n",
    "        self.is_outlier = self.outliers_indexing(self.df_train, **outliers_indexing_args)\n",
    "        self.df_train.iloc[self.is_outlier, :] = np.nan\n",
    "        self.df_train_transformed, self.df_test_transformed = self.transform(self.df_train, self.df_test, **transform_args)\n",
    "        \n",
    "        # Add LAG number of observations in training dataset to test dataset\n",
    "        df_test_LAG = pd.concat((self.df_train_transformed.iloc[-LAG:,:], self.df_test_transformed), axis=0)\n",
    "\n",
    "        self.X_train, self.y_train = self.generate_dataset(self.df_train_transformed, seq_len=LAG)\n",
    "        self.X_test, self.y_test = self.generate_dataset(df_test_LAG, seq_len=LAG)"
   ]
  },
  {
   "cell_type": "code",
   "execution_count": 11,
   "metadata": {},
   "outputs": [
    {
     "data": {
      "text/html": [
       "<div>\n",
       "<style scoped>\n",
       "    .dataframe tbody tr th:only-of-type {\n",
       "        vertical-align: middle;\n",
       "    }\n",
       "\n",
       "    .dataframe tbody tr th {\n",
       "        vertical-align: top;\n",
       "    }\n",
       "\n",
       "    .dataframe thead th {\n",
       "        text-align: right;\n",
       "    }\n",
       "</style>\n",
       "<table border=\"1\" class=\"dataframe\">\n",
       "  <thead>\n",
       "    <tr style=\"text-align: right;\">\n",
       "      <th></th>\n",
       "      <th>close</th>\n",
       "      <th>Volume_BTC</th>\n",
       "      <th>fng_value</th>\n",
       "      <th>RSI</th>\n",
       "      <th>EMA</th>\n",
       "      <th>EMA_return</th>\n",
       "    </tr>\n",
       "  </thead>\n",
       "  <tbody>\n",
       "    <tr>\n",
       "      <th>2018-01-01</th>\n",
       "      <td>NaN</td>\n",
       "      <td>13.532534</td>\n",
       "      <td>NaN</td>\n",
       "      <td>NaN</td>\n",
       "      <td>NaN</td>\n",
       "      <td>NaN</td>\n",
       "    </tr>\n",
       "    <tr>\n",
       "      <th>2018-01-02</th>\n",
       "      <td>0.097011</td>\n",
       "      <td>13.932804</td>\n",
       "      <td>NaN</td>\n",
       "      <td>NaN</td>\n",
       "      <td>NaN</td>\n",
       "      <td>NaN</td>\n",
       "    </tr>\n",
       "    <tr>\n",
       "      <th>2018-01-03</th>\n",
       "      <td>0.014611</td>\n",
       "      <td>13.919800</td>\n",
       "      <td>NaN</td>\n",
       "      <td>NaN</td>\n",
       "      <td>NaN</td>\n",
       "      <td>NaN</td>\n",
       "    </tr>\n",
       "    <tr>\n",
       "      <th>2018-01-04</th>\n",
       "      <td>0.026196</td>\n",
       "      <td>14.149431</td>\n",
       "      <td>NaN</td>\n",
       "      <td>NaN</td>\n",
       "      <td>NaN</td>\n",
       "      <td>NaN</td>\n",
       "    </tr>\n",
       "    <tr>\n",
       "      <th>2018-01-05</th>\n",
       "      <td>0.117333</td>\n",
       "      <td>14.128750</td>\n",
       "      <td>NaN</td>\n",
       "      <td>NaN</td>\n",
       "      <td>NaN</td>\n",
       "      <td>NaN</td>\n",
       "    </tr>\n",
       "    <tr>\n",
       "      <th>...</th>\n",
       "      <td>...</td>\n",
       "      <td>...</td>\n",
       "      <td>...</td>\n",
       "      <td>...</td>\n",
       "      <td>...</td>\n",
       "      <td>...</td>\n",
       "    </tr>\n",
       "    <tr>\n",
       "      <th>2024-04-06</th>\n",
       "      <td>NaN</td>\n",
       "      <td>NaN</td>\n",
       "      <td>75.0</td>\n",
       "      <td>51.750421</td>\n",
       "      <td>41886.577281</td>\n",
       "      <td>-0.001882</td>\n",
       "    </tr>\n",
       "    <tr>\n",
       "      <th>2024-04-07</th>\n",
       "      <td>NaN</td>\n",
       "      <td>NaN</td>\n",
       "      <td>78.0</td>\n",
       "      <td>51.750421</td>\n",
       "      <td>41886.577281</td>\n",
       "      <td>-0.001882</td>\n",
       "    </tr>\n",
       "    <tr>\n",
       "      <th>2024-04-08</th>\n",
       "      <td>NaN</td>\n",
       "      <td>NaN</td>\n",
       "      <td>76.0</td>\n",
       "      <td>51.750421</td>\n",
       "      <td>41886.577281</td>\n",
       "      <td>-0.001882</td>\n",
       "    </tr>\n",
       "    <tr>\n",
       "      <th>2024-04-09</th>\n",
       "      <td>NaN</td>\n",
       "      <td>NaN</td>\n",
       "      <td>80.0</td>\n",
       "      <td>51.750421</td>\n",
       "      <td>41886.577281</td>\n",
       "      <td>-0.001882</td>\n",
       "    </tr>\n",
       "    <tr>\n",
       "      <th>2024-04-10</th>\n",
       "      <td>NaN</td>\n",
       "      <td>NaN</td>\n",
       "      <td>78.0</td>\n",
       "      <td>51.750421</td>\n",
       "      <td>41886.577281</td>\n",
       "      <td>-0.001882</td>\n",
       "    </tr>\n",
       "  </tbody>\n",
       "</table>\n",
       "<p>2292 rows × 6 columns</p>\n",
       "</div>"
      ],
      "text/plain": [
       "               close  Volume_BTC  fng_value        RSI           EMA  \\\n",
       "2018-01-01       NaN   13.532534        NaN        NaN           NaN   \n",
       "2018-01-02  0.097011   13.932804        NaN        NaN           NaN   \n",
       "2018-01-03  0.014611   13.919800        NaN        NaN           NaN   \n",
       "2018-01-04  0.026196   14.149431        NaN        NaN           NaN   \n",
       "2018-01-05  0.117333   14.128750        NaN        NaN           NaN   \n",
       "...              ...         ...        ...        ...           ...   \n",
       "2024-04-06       NaN         NaN       75.0  51.750421  41886.577281   \n",
       "2024-04-07       NaN         NaN       78.0  51.750421  41886.577281   \n",
       "2024-04-08       NaN         NaN       76.0  51.750421  41886.577281   \n",
       "2024-04-09       NaN         NaN       80.0  51.750421  41886.577281   \n",
       "2024-04-10       NaN         NaN       78.0  51.750421  41886.577281   \n",
       "\n",
       "            EMA_return  \n",
       "2018-01-01         NaN  \n",
       "2018-01-02         NaN  \n",
       "2018-01-03         NaN  \n",
       "2018-01-04         NaN  \n",
       "2018-01-05         NaN  \n",
       "...                ...  \n",
       "2024-04-06   -0.001882  \n",
       "2024-04-07   -0.001882  \n",
       "2024-04-08   -0.001882  \n",
       "2024-04-09   -0.001882  \n",
       "2024-04-10   -0.001882  \n",
       "\n",
       "[2292 rows x 6 columns]"
      ]
     },
     "execution_count": 11,
     "metadata": {},
     "output_type": "execute_result"
    }
   ],
   "source": [
    "df_day_diff[[\"close\", \"Volume_BTC\", \"fng_value\", \"RSI\", \"EMA\", \"EMA_return\"]]"
   ]
  },
  {
   "cell_type": "code",
   "execution_count": 205,
   "metadata": {},
   "outputs": [],
   "source": [
    "split_args = {\"start\": \"2018-01-01\", \n",
    "              \"test_start\": \"2023-01-01\", \n",
    "              \"end\" :\"2024-01-01\"}\n",
    "\n",
    "transform_args = {\"method\": \"std\", \n",
    "                  \"y_name\": \"close\"}\n",
    "df_input = df_day_diff[[\"close\", \"Volume_BTC\", \"fng_value\", \"RSI\", \"EMA\", \"EMA_return\"]]\n",
    "\n",
    "pp_day_5 = preprocessing(df_input)\n",
    "pp_day_5.pipeline(LAG = 5, split_args = split_args, transform_args = transform_args)\n",
    "\n",
    "pp_day_10 = preprocessing(df_input)\n",
    "pp_day_10.pipeline(LAG = 10, split_args = split_args, transform_args = transform_args)\n",
    "\n",
    "pp_day_30 = preprocessing(df_input)\n",
    "pp_day_30.pipeline(LAG = 30, split_args = split_args, transform_args = transform_args)\n",
    "\n",
    "pp_day_120 = preprocessing(df_input)\n",
    "pp_day_120.pipeline(LAG = 120, split_args = split_args, transform_args = transform_args)"
   ]
  },
  {
   "cell_type": "code",
   "execution_count": 207,
   "metadata": {},
   "outputs": [],
   "source": [
    "X_train_day_5 = pp_day_5.X_train\n",
    "X_test_day_5 = pp_day_5.X_test\n",
    "y_train_day_5 = pp_day_5.y_train\n",
    "y_test_day_5 = pp_day_5.y_test\n",
    "\n",
    "X_train_day_10 = pp_day_10.X_train\n",
    "X_test_day_10 = pp_day_10.X_test\n",
    "y_train_day_10 = pp_day_10.y_train\n",
    "y_test_day_10 = pp_day_10.y_test\n",
    "\n",
    "X_train_day_30 = pp_day_30.X_train\n",
    "X_test_day_30 = pp_day_30.X_test\n",
    "y_train_day_30 = pp_day_30.y_train\n",
    "y_test_day_30 = pp_day_30.y_test\n",
    "\n",
    "X_train_day_120 = pp_day_120.X_train\n",
    "X_test_day_120 = pp_day_120.X_test\n",
    "y_train_day_120 = pp_day_120.y_train\n",
    "y_test_day_120 = pp_day_120.y_test"
   ]
  },
  {
   "cell_type": "markdown",
   "metadata": {},
   "source": [
    "# Model"
   ]
  },
  {
   "cell_type": "code",
   "execution_count": 155,
   "metadata": {},
   "outputs": [
    {
     "name": "stdout",
     "output_type": "stream",
     "text": [
      "0.5209902385970642\n",
      "0.005115655311647604\n",
      "0.06618702001498293\n",
      "0.0043801554826098\n"
     ]
    }
   ],
   "source": [
    "print(np.mean(y_train))\n",
    "print(np.mean((y_train - np.mean(y_train))**2))\n",
    "print(np.mean((y_test - np.mean(y_train))**2)**0.5)\n",
    "print(np.mean((y_test - np.mean(y_test))**2))"
   ]
  },
  {
   "cell_type": "code",
   "execution_count": 265,
   "metadata": {},
   "outputs": [],
   "source": [
    "import tensorflow as tf\n",
    "from tensorflow.keras import Sequential\n",
    "from tensorflow.keras.layers import LSTM, Dense, Conv1D, MaxPooling1D, AveragePooling1D, Dropout, BatchNormalization\n",
    "from tensorflow.keras.optimizers import Adam\n",
    "import keras_tuner as kt"
   ]
  },
  {
   "cell_type": "code",
   "execution_count": 184,
   "metadata": {},
   "outputs": [],
   "source": [
    "metrics = [\n",
    "    tf.keras.metrics.MeanAbsoluteError(name='mae'),\n",
    "    tf.keras.metrics.RootMeanSquaredError(name='rmse')\n",
    "]\n",
    "callbacks = [tf.keras.callbacks.EarlyStopping(\n",
    "    monitor='val_rmse', min_delta=0, patience=5, verbose=1,\n",
    "    mode='min', baseline=None, restore_best_weights=True)]\n",
    "\n",
    "def model_builder_lstm(hp):\n",
    "    hp_lstm_depth = hp.Int('lstm_depth', min_value=2, max_value=8, step=2)\n",
    "    hp_lstm_size = hp.Choice('lstm_size', values = [8, 16, 32, 64, 128])\n",
    "    hp_lstm_dropout = hp.Choice('lstm_dropout', values = [0.2, 0.5, 0.8])\n",
    "\n",
    "    hp_dense_depth = hp.Int('dense_depth', min_value=1, max_value=7, step=2)\n",
    "    hp_dense_size = hp.Choice('dense_size', values = [8, 16, 32, 64, 128])\n",
    "    hp_dense_dropout = hp.Choice('dense_dropout', values = [0.2, 0.5, 0.8])\n",
    "\n",
    "    hp_lr = hp.Choice('learning_rate', values = [0.005, 0.001, 0.0005])\n",
    "    \n",
    "    model = Sequential()\n",
    "    for i in range(hp_lstm_depth-1):\n",
    "        model.add(LSTM(hp_lstm_size, return_sequences=True, dropout = hp_lstm_dropout))\n",
    "    model.add(LSTM(hp_lstm_size, return_sequences=False, dropout = hp_lstm_dropout))\n",
    "    \n",
    "    for i in range(hp_dense_depth):\n",
    "        model.add(Dense(hp_dense_size, activation = \"relu\"))\n",
    "        model.add(Dropout(hp_dense_dropout))\n",
    "    model.add(Dense(1))\n",
    "    \n",
    "    model.compile(\n",
    "        optimizer=Adam(learning_rate=hp_lr),\n",
    "        loss='mse',\n",
    "        metrics = metrics\n",
    "    )\n",
    "\n",
    "    return model"
   ]
  },
  {
   "cell_type": "code",
   "execution_count": 154,
   "metadata": {},
   "outputs": [],
   "source": [
    "def model_builder_conv_lstm(hp):\n",
    "    hp_conv_filters = hp.Choice('conv_filters', values = [8, 16, 32, 64, 128, 256])\n",
    "    hp_conv_kernel_size = hp.Int('kernel_size', min_value=3, max_value=7, step=2)\n",
    "    \n",
    "    hp_lstm_depth = hp.Int('lstm_depth', min_value=2, max_value=8, step=2)\n",
    "    hp_lstm_size = hp.Choice('lstm_size', values = [8, 16, 32, 64, 128, 256])\n",
    "    hp_lstm_dropout = hp.Choice('lstm_dropout', values = [0.2, 0.5, 0.8])\n",
    "\n",
    "    hp_dense_depth = hp.Int('dense_depth', min_value=1, max_value=7, step=2)\n",
    "    hp_dense_size = hp.Choice('dense_size', values = [8, 16, 32, 64, 128, 256])\n",
    "    hp_dense_dropout = hp.Choice('dense_dropout', values = [0.2, 0.5, 0.8])\n",
    "\n",
    "    hp_lr = hp.Choice('learning_rate', values = [0.005, 0.001, 0.0005])\n",
    "    \n",
    "    model = Sequential()\n",
    "    model.add(Conv1D(hp_conv_filters, hp_conv_kernel_size, padding = \"same\"))\n",
    "    model.add(MaxPooling1D(pool_size=2))\n",
    "\n",
    "    for i in range(hp_lstm_depth-1):\n",
    "        model.add(LSTM(hp_lstm_size, return_sequences=True, dropout = hp_lstm_dropout))\n",
    "    model.add(LSTM(hp_lstm_size, return_sequences=False, dropout = hp_lstm_dropout))\n",
    "    \n",
    "    for i in range(hp_dense_depth):\n",
    "        model.add(Dense(hp_dense_size, activation = \"relu\"))\n",
    "        model.add(Dropout(hp_dense_dropout))\n",
    "    model.add(Dense(1))\n",
    "    \n",
    "    model.compile(\n",
    "        optimizer=Adam(learning_rate=hp_lr),\n",
    "        loss='mse',\n",
    "        metrics = metrics\n",
    "    )\n",
    "\n",
    "    return model"
   ]
  },
  {
   "cell_type": "code",
   "execution_count": 197,
   "metadata": {},
   "outputs": [],
   "source": [
    "test_close = df_day[(df_day.index >= \"2023-01-01\")*(df_day.index < \"2024-01-01\")].close.copy()\n",
    "naive_pred = df_day[(df_day.index >= \"2022-12-31\")*(df_day.index < \"2023-12-31\")].close.values"
   ]
  },
  {
   "cell_type": "markdown",
   "metadata": {},
   "source": [
    "## Daily"
   ]
  },
  {
   "cell_type": "markdown",
   "metadata": {},
   "source": [
    "### Lag 5"
   ]
  },
  {
   "cell_type": "markdown",
   "metadata": {},
   "source": [
    "#### Lstm"
   ]
  },
  {
   "cell_type": "code",
   "execution_count": 163,
   "metadata": {},
   "outputs": [],
   "source": [
    "tuner_day_5 = kt.RandomSearch(\n",
    "    model_builder_lstm,\n",
    "    objective = 'val_loss',\n",
    "    max_trials = 50,  # Number of different configurations to try\n",
    "    executions_per_trial = 1,  # Number of models to train for each trial\n",
    "    seed = 4012,\n",
    "    overwrite = True\n",
    ")"
   ]
  },
  {
   "cell_type": "code",
   "execution_count": 164,
   "metadata": {},
   "outputs": [
    {
     "name": "stdout",
     "output_type": "stream",
     "text": [
      "Trial 50 Complete [00h 00m 23s]\n",
      "val_loss: 0.36974769830703735\n",
      "\n",
      "Best val_loss So Far: 0.3671029210090637\n",
      "Total elapsed time: 00h 11m 06s\n"
     ]
    }
   ],
   "source": [
    "callbacks = [tf.keras.callbacks.EarlyStopping(\n",
    "    monitor='val_rmse', min_delta=0, patience=5, verbose=1,\n",
    "    mode='min', baseline=None, restore_best_weights=True)]\n",
    "tuner_day_5.search(\n",
    "    X_train_day_5[:(len(X_train_day_5)-100)], y_train_day_5[:(len(y_train_day_5)-100)],\n",
    "    epochs=50,\n",
    "    validation_data = (X_train_day_5[-100:], y_train_day_5[-100:]),\n",
    "    callbacks=callbacks\n",
    ")"
   ]
  },
  {
   "cell_type": "code",
   "execution_count": 174,
   "metadata": {},
   "outputs": [
    {
     "name": "stdout",
     "output_type": "stream",
     "text": [
      "Epoch 1/10\n",
      "\u001b[1m28/28\u001b[0m \u001b[32m━━━━━━━━━━━━━━━━━━━━\u001b[0m\u001b[37m\u001b[0m \u001b[1m9s\u001b[0m 35ms/step - loss: 0.9641 - mae: 0.6624 - rmse: 0.9780\n",
      "Epoch 2/10\n",
      "\u001b[1m28/28\u001b[0m \u001b[32m━━━━━━━━━━━━━━━━━━━━\u001b[0m\u001b[37m\u001b[0m \u001b[1m1s\u001b[0m 36ms/step - loss: 0.9588 - mae: 0.6660 - rmse: 0.9785\n",
      "Epoch 3/10\n",
      "\u001b[1m28/28\u001b[0m \u001b[32m━━━━━━━━━━━━━━━━━━━━\u001b[0m\u001b[37m\u001b[0m \u001b[1m1s\u001b[0m 35ms/step - loss: 0.9589 - mae: 0.6661 - rmse: 0.9786\n",
      "Epoch 4/10\n",
      "\u001b[1m28/28\u001b[0m \u001b[32m━━━━━━━━━━━━━━━━━━━━\u001b[0m\u001b[37m\u001b[0m \u001b[1m1s\u001b[0m 35ms/step - loss: 0.9557 - mae: 0.6638 - rmse: 0.9768\n",
      "Epoch 5/10\n",
      "\u001b[1m28/28\u001b[0m \u001b[32m━━━━━━━━━━━━━━━━━━━━\u001b[0m\u001b[37m\u001b[0m \u001b[1m1s\u001b[0m 36ms/step - loss: 0.9536 - mae: 0.6616 - rmse: 0.9758\n",
      "Epoch 6/10\n",
      "\u001b[1m28/28\u001b[0m \u001b[32m━━━━━━━━━━━━━━━━━━━━\u001b[0m\u001b[37m\u001b[0m \u001b[1m1s\u001b[0m 35ms/step - loss: 0.9513 - mae: 0.6608 - rmse: 0.9746\n",
      "Epoch 7/10\n",
      "\u001b[1m28/28\u001b[0m \u001b[32m━━━━━━━━━━━━━━━━━━━━\u001b[0m\u001b[37m\u001b[0m \u001b[1m1s\u001b[0m 36ms/step - loss: 0.9486 - mae: 0.6591 - rmse: 0.9732\n",
      "Epoch 8/10\n",
      "\u001b[1m28/28\u001b[0m \u001b[32m━━━━━━━━━━━━━━━━━━━━\u001b[0m\u001b[37m\u001b[0m \u001b[1m1s\u001b[0m 36ms/step - loss: 0.9533 - mae: 0.6609 - rmse: 0.9756\n",
      "Epoch 9/10\n",
      "\u001b[1m28/28\u001b[0m \u001b[32m━━━━━━━━━━━━━━━━━━━━\u001b[0m\u001b[37m\u001b[0m \u001b[1m1s\u001b[0m 36ms/step - loss: 0.9475 - mae: 0.6581 - rmse: 0.9726\n",
      "Epoch 10/10\n",
      "\u001b[1m28/28\u001b[0m \u001b[32m━━━━━━━━━━━━━━━━━━━━\u001b[0m\u001b[37m\u001b[0m \u001b[1m1s\u001b[0m 36ms/step - loss: 0.9496 - mae: 0.6599 - rmse: 0.9737\n",
      "\u001b[1m12/12\u001b[0m \u001b[32m━━━━━━━━━━━━━━━━━━━━\u001b[0m\u001b[37m\u001b[0m \u001b[1m1s\u001b[0m 71ms/step\n",
      "naive: 430132.6457969352\n",
      "model_day_5: 427080.51342721295\n"
     ]
    }
   ],
   "source": [
    "tf.keras.utils.set_random_seed(4012)\n",
    "best_hps_day_5 = tuner_day_5.get_best_hyperparameters(num_trials=1)[0]\n",
    "model_day_5 = tuner_day_5.hypermodel.build(best_hps_day_5)\n",
    "model_day_5.fit(X_train_day_5, y_train_day_5,\n",
    "                batch_size=64, epochs=10)\n",
    "pred_return_day_5 = pp_day_5.scaler_y.inverse_transform(model_day_5.predict(X_test_day_5))[:,0]\n",
    "pred_close_day_5 = naive_pred*(pred_return_day_5+1)\n",
    "print(f\"naive: {np.mean((test_close - naive_pred)**2)}\")\n",
    "print(f\"model_day_5: {np.mean((test_close - pred_close_day_5)**2)}\")"
   ]
  },
  {
   "cell_type": "code",
   "execution_count": 179,
   "metadata": {},
   "outputs": [
    {
     "data": {
      "text/html": [
       "<pre style=\"white-space:pre;overflow-x:auto;line-height:normal;font-family:Menlo,'DejaVu Sans Mono',consolas,'Courier New',monospace\"><span style=\"font-weight: bold\">Model: \"sequential_6\"</span>\n",
       "</pre>\n"
      ],
      "text/plain": [
       "\u001b[1mModel: \"sequential_6\"\u001b[0m\n"
      ]
     },
     "metadata": {},
     "output_type": "display_data"
    },
    {
     "data": {
      "text/html": [
       "<pre style=\"white-space:pre;overflow-x:auto;line-height:normal;font-family:Menlo,'DejaVu Sans Mono',consolas,'Courier New',monospace\">┏━━━━━━━━━━━━━━━━━━━━━━━━━━━━━━━━━┳━━━━━━━━━━━━━━━━━━━━━━━━┳━━━━━━━━━━━━━━━┓\n",
       "┃<span style=\"font-weight: bold\"> Layer (type)                    </span>┃<span style=\"font-weight: bold\"> Output Shape           </span>┃<span style=\"font-weight: bold\">       Param # </span>┃\n",
       "┡━━━━━━━━━━━━━━━━━━━━━━━━━━━━━━━━━╇━━━━━━━━━━━━━━━━━━━━━━━━╇━━━━━━━━━━━━━━━┩\n",
       "│ lstm_38 (<span style=\"color: #0087ff; text-decoration-color: #0087ff\">LSTM</span>)                  │ (<span style=\"color: #00d7ff; text-decoration-color: #00d7ff\">None</span>, <span style=\"color: #00af00; text-decoration-color: #00af00\">5</span>, <span style=\"color: #00af00; text-decoration-color: #00af00\">256</span>)         │       <span style=\"color: #00af00; text-decoration-color: #00af00\">269,312</span> │\n",
       "├─────────────────────────────────┼────────────────────────┼───────────────┤\n",
       "│ lstm_39 (<span style=\"color: #0087ff; text-decoration-color: #0087ff\">LSTM</span>)                  │ (<span style=\"color: #00d7ff; text-decoration-color: #00d7ff\">None</span>, <span style=\"color: #00af00; text-decoration-color: #00af00\">5</span>, <span style=\"color: #00af00; text-decoration-color: #00af00\">256</span>)         │       <span style=\"color: #00af00; text-decoration-color: #00af00\">525,312</span> │\n",
       "├─────────────────────────────────┼────────────────────────┼───────────────┤\n",
       "│ lstm_40 (<span style=\"color: #0087ff; text-decoration-color: #0087ff\">LSTM</span>)                  │ (<span style=\"color: #00d7ff; text-decoration-color: #00d7ff\">None</span>, <span style=\"color: #00af00; text-decoration-color: #00af00\">5</span>, <span style=\"color: #00af00; text-decoration-color: #00af00\">256</span>)         │       <span style=\"color: #00af00; text-decoration-color: #00af00\">525,312</span> │\n",
       "├─────────────────────────────────┼────────────────────────┼───────────────┤\n",
       "│ lstm_41 (<span style=\"color: #0087ff; text-decoration-color: #0087ff\">LSTM</span>)                  │ (<span style=\"color: #00d7ff; text-decoration-color: #00d7ff\">None</span>, <span style=\"color: #00af00; text-decoration-color: #00af00\">5</span>, <span style=\"color: #00af00; text-decoration-color: #00af00\">256</span>)         │       <span style=\"color: #00af00; text-decoration-color: #00af00\">525,312</span> │\n",
       "├─────────────────────────────────┼────────────────────────┼───────────────┤\n",
       "│ lstm_42 (<span style=\"color: #0087ff; text-decoration-color: #0087ff\">LSTM</span>)                  │ (<span style=\"color: #00d7ff; text-decoration-color: #00d7ff\">None</span>, <span style=\"color: #00af00; text-decoration-color: #00af00\">5</span>, <span style=\"color: #00af00; text-decoration-color: #00af00\">256</span>)         │       <span style=\"color: #00af00; text-decoration-color: #00af00\">525,312</span> │\n",
       "├─────────────────────────────────┼────────────────────────┼───────────────┤\n",
       "│ lstm_43 (<span style=\"color: #0087ff; text-decoration-color: #0087ff\">LSTM</span>)                  │ (<span style=\"color: #00d7ff; text-decoration-color: #00d7ff\">None</span>, <span style=\"color: #00af00; text-decoration-color: #00af00\">256</span>)            │       <span style=\"color: #00af00; text-decoration-color: #00af00\">525,312</span> │\n",
       "├─────────────────────────────────┼────────────────────────┼───────────────┤\n",
       "│ dense_18 (<span style=\"color: #0087ff; text-decoration-color: #0087ff\">Dense</span>)                │ (<span style=\"color: #00d7ff; text-decoration-color: #00d7ff\">None</span>, <span style=\"color: #00af00; text-decoration-color: #00af00\">64</span>)             │        <span style=\"color: #00af00; text-decoration-color: #00af00\">16,448</span> │\n",
       "├─────────────────────────────────┼────────────────────────┼───────────────┤\n",
       "│ dropout_12 (<span style=\"color: #0087ff; text-decoration-color: #0087ff\">Dropout</span>)            │ (<span style=\"color: #00d7ff; text-decoration-color: #00d7ff\">None</span>, <span style=\"color: #00af00; text-decoration-color: #00af00\">64</span>)             │             <span style=\"color: #00af00; text-decoration-color: #00af00\">0</span> │\n",
       "├─────────────────────────────────┼────────────────────────┼───────────────┤\n",
       "│ dense_19 (<span style=\"color: #0087ff; text-decoration-color: #0087ff\">Dense</span>)                │ (<span style=\"color: #00d7ff; text-decoration-color: #00d7ff\">None</span>, <span style=\"color: #00af00; text-decoration-color: #00af00\">1</span>)              │            <span style=\"color: #00af00; text-decoration-color: #00af00\">65</span> │\n",
       "└─────────────────────────────────┴────────────────────────┴───────────────┘\n",
       "</pre>\n"
      ],
      "text/plain": [
       "┏━━━━━━━━━━━━━━━━━━━━━━━━━━━━━━━━━┳━━━━━━━━━━━━━━━━━━━━━━━━┳━━━━━━━━━━━━━━━┓\n",
       "┃\u001b[1m \u001b[0m\u001b[1mLayer (type)                   \u001b[0m\u001b[1m \u001b[0m┃\u001b[1m \u001b[0m\u001b[1mOutput Shape          \u001b[0m\u001b[1m \u001b[0m┃\u001b[1m \u001b[0m\u001b[1m      Param #\u001b[0m\u001b[1m \u001b[0m┃\n",
       "┡━━━━━━━━━━━━━━━━━━━━━━━━━━━━━━━━━╇━━━━━━━━━━━━━━━━━━━━━━━━╇━━━━━━━━━━━━━━━┩\n",
       "│ lstm_38 (\u001b[38;5;33mLSTM\u001b[0m)                  │ (\u001b[38;5;45mNone\u001b[0m, \u001b[38;5;34m5\u001b[0m, \u001b[38;5;34m256\u001b[0m)         │       \u001b[38;5;34m269,312\u001b[0m │\n",
       "├─────────────────────────────────┼────────────────────────┼───────────────┤\n",
       "│ lstm_39 (\u001b[38;5;33mLSTM\u001b[0m)                  │ (\u001b[38;5;45mNone\u001b[0m, \u001b[38;5;34m5\u001b[0m, \u001b[38;5;34m256\u001b[0m)         │       \u001b[38;5;34m525,312\u001b[0m │\n",
       "├─────────────────────────────────┼────────────────────────┼───────────────┤\n",
       "│ lstm_40 (\u001b[38;5;33mLSTM\u001b[0m)                  │ (\u001b[38;5;45mNone\u001b[0m, \u001b[38;5;34m5\u001b[0m, \u001b[38;5;34m256\u001b[0m)         │       \u001b[38;5;34m525,312\u001b[0m │\n",
       "├─────────────────────────────────┼────────────────────────┼───────────────┤\n",
       "│ lstm_41 (\u001b[38;5;33mLSTM\u001b[0m)                  │ (\u001b[38;5;45mNone\u001b[0m, \u001b[38;5;34m5\u001b[0m, \u001b[38;5;34m256\u001b[0m)         │       \u001b[38;5;34m525,312\u001b[0m │\n",
       "├─────────────────────────────────┼────────────────────────┼───────────────┤\n",
       "│ lstm_42 (\u001b[38;5;33mLSTM\u001b[0m)                  │ (\u001b[38;5;45mNone\u001b[0m, \u001b[38;5;34m5\u001b[0m, \u001b[38;5;34m256\u001b[0m)         │       \u001b[38;5;34m525,312\u001b[0m │\n",
       "├─────────────────────────────────┼────────────────────────┼───────────────┤\n",
       "│ lstm_43 (\u001b[38;5;33mLSTM\u001b[0m)                  │ (\u001b[38;5;45mNone\u001b[0m, \u001b[38;5;34m256\u001b[0m)            │       \u001b[38;5;34m525,312\u001b[0m │\n",
       "├─────────────────────────────────┼────────────────────────┼───────────────┤\n",
       "│ dense_18 (\u001b[38;5;33mDense\u001b[0m)                │ (\u001b[38;5;45mNone\u001b[0m, \u001b[38;5;34m64\u001b[0m)             │        \u001b[38;5;34m16,448\u001b[0m │\n",
       "├─────────────────────────────────┼────────────────────────┼───────────────┤\n",
       "│ dropout_12 (\u001b[38;5;33mDropout\u001b[0m)            │ (\u001b[38;5;45mNone\u001b[0m, \u001b[38;5;34m64\u001b[0m)             │             \u001b[38;5;34m0\u001b[0m │\n",
       "├─────────────────────────────────┼────────────────────────┼───────────────┤\n",
       "│ dense_19 (\u001b[38;5;33mDense\u001b[0m)                │ (\u001b[38;5;45mNone\u001b[0m, \u001b[38;5;34m1\u001b[0m)              │            \u001b[38;5;34m65\u001b[0m │\n",
       "└─────────────────────────────────┴────────────────────────┴───────────────┘\n"
      ]
     },
     "metadata": {},
     "output_type": "display_data"
    },
    {
     "data": {
      "text/html": [
       "<pre style=\"white-space:pre;overflow-x:auto;line-height:normal;font-family:Menlo,'DejaVu Sans Mono',consolas,'Courier New',monospace\"><span style=\"font-weight: bold\"> Total params: </span><span style=\"color: #00af00; text-decoration-color: #00af00\">8,737,157</span> (33.33 MB)\n",
       "</pre>\n"
      ],
      "text/plain": [
       "\u001b[1m Total params: \u001b[0m\u001b[38;5;34m8,737,157\u001b[0m (33.33 MB)\n"
      ]
     },
     "metadata": {},
     "output_type": "display_data"
    },
    {
     "data": {
      "text/html": [
       "<pre style=\"white-space:pre;overflow-x:auto;line-height:normal;font-family:Menlo,'DejaVu Sans Mono',consolas,'Courier New',monospace\"><span style=\"font-weight: bold\"> Trainable params: </span><span style=\"color: #00af00; text-decoration-color: #00af00\">2,912,385</span> (11.11 MB)\n",
       "</pre>\n"
      ],
      "text/plain": [
       "\u001b[1m Trainable params: \u001b[0m\u001b[38;5;34m2,912,385\u001b[0m (11.11 MB)\n"
      ]
     },
     "metadata": {},
     "output_type": "display_data"
    },
    {
     "data": {
      "text/html": [
       "<pre style=\"white-space:pre;overflow-x:auto;line-height:normal;font-family:Menlo,'DejaVu Sans Mono',consolas,'Courier New',monospace\"><span style=\"font-weight: bold\"> Non-trainable params: </span><span style=\"color: #00af00; text-decoration-color: #00af00\">0</span> (0.00 B)\n",
       "</pre>\n"
      ],
      "text/plain": [
       "\u001b[1m Non-trainable params: \u001b[0m\u001b[38;5;34m0\u001b[0m (0.00 B)\n"
      ]
     },
     "metadata": {},
     "output_type": "display_data"
    },
    {
     "data": {
      "text/html": [
       "<pre style=\"white-space:pre;overflow-x:auto;line-height:normal;font-family:Menlo,'DejaVu Sans Mono',consolas,'Courier New',monospace\"><span style=\"font-weight: bold\"> Optimizer params: </span><span style=\"color: #00af00; text-decoration-color: #00af00\">5,824,772</span> (22.22 MB)\n",
       "</pre>\n"
      ],
      "text/plain": [
       "\u001b[1m Optimizer params: \u001b[0m\u001b[38;5;34m5,824,772\u001b[0m (22.22 MB)\n"
      ]
     },
     "metadata": {},
     "output_type": "display_data"
    }
   ],
   "source": [
    "model_day_5.summary()"
   ]
  },
  {
   "cell_type": "markdown",
   "metadata": {},
   "source": [
    "### Lag 10"
   ]
  },
  {
   "cell_type": "markdown",
   "metadata": {},
   "source": [
    "#### Lstm"
   ]
  },
  {
   "cell_type": "markdown",
   "metadata": {},
   "source": [
    "### Lag 30"
   ]
  },
  {
   "cell_type": "markdown",
   "metadata": {},
   "source": [
    "#### Lstm"
   ]
  },
  {
   "cell_type": "code",
   "execution_count": 195,
   "metadata": {},
   "outputs": [],
   "source": [
    "tuner_day_30 = kt.RandomSearch(\n",
    "    model_builder_lstm,\n",
    "    objective = 'val_loss',\n",
    "    max_trials = 50,  # Number of different configurations to try\n",
    "    executions_per_trial = 1,  # Number of models to train for each trial\n",
    "    seed = 4012,\n",
    "    overwrite = True\n",
    ")"
   ]
  },
  {
   "cell_type": "code",
   "execution_count": 196,
   "metadata": {},
   "outputs": [
    {
     "name": "stdout",
     "output_type": "stream",
     "text": [
      "Trial 50 Complete [00h 00m 39s]\n",
      "val_loss: 0.3735334277153015\n",
      "\n",
      "Best val_loss So Far: 0.3689712584018707\n",
      "Total elapsed time: 00h 16m 35s\n"
     ]
    }
   ],
   "source": [
    "callbacks = [tf.keras.callbacks.EarlyStopping(\n",
    "    monitor='val_rmse', min_delta=0, patience=5, verbose=1,\n",
    "    mode='min', baseline=None, restore_best_weights=True)]\n",
    "tuner_day_30.search(\n",
    "    X_train_day_30[:(len(X_train_day_30)-100)], y_train_day_30[:(len(y_train_day_30)-100)],\n",
    "    epochs=50,\n",
    "    validation_data = (X_train_day_30[-100:], y_train_day_30[-100:]),\n",
    "    callbacks=callbacks\n",
    ")"
   ]
  },
  {
   "cell_type": "code",
   "execution_count": 202,
   "metadata": {},
   "outputs": [
    {
     "name": "stdout",
     "output_type": "stream",
     "text": [
      "Epoch 1/20\n",
      "\u001b[1m28/28\u001b[0m \u001b[32m━━━━━━━━━━━━━━━━━━━━\u001b[0m\u001b[37m\u001b[0m \u001b[1m12s\u001b[0m 53ms/step - loss: 0.8710 - mae: 0.6473 - rmse: 0.9586\n",
      "Epoch 2/20\n",
      "\u001b[1m28/28\u001b[0m \u001b[32m━━━━━━━━━━━━━━━━━━━━\u001b[0m\u001b[37m\u001b[0m \u001b[1m2s\u001b[0m 54ms/step - loss: 0.8710 - mae: 0.6416 - rmse: 0.9325\n",
      "Epoch 3/20\n",
      "\u001b[1m28/28\u001b[0m \u001b[32m━━━━━━━━━━━━━━━━━━━━\u001b[0m\u001b[37m\u001b[0m \u001b[1m2s\u001b[0m 53ms/step - loss: 0.8713 - mae: 0.6409 - rmse: 0.9327\n",
      "Epoch 4/20\n",
      "\u001b[1m28/28\u001b[0m \u001b[32m━━━━━━━━━━━━━━━━━━━━\u001b[0m\u001b[37m\u001b[0m \u001b[1m2s\u001b[0m 54ms/step - loss: 0.8733 - mae: 0.6436 - rmse: 0.9336\n",
      "Epoch 5/20\n",
      "\u001b[1m28/28\u001b[0m \u001b[32m━━━━━━━━━━━━━━━━━━━━\u001b[0m\u001b[37m\u001b[0m \u001b[1m2s\u001b[0m 53ms/step - loss: 0.8721 - mae: 0.6418 - rmse: 0.9331\n",
      "Epoch 6/20\n",
      "\u001b[1m28/28\u001b[0m \u001b[32m━━━━━━━━━━━━━━━━━━━━\u001b[0m\u001b[37m\u001b[0m \u001b[1m2s\u001b[0m 54ms/step - loss: 0.8657 - mae: 0.6419 - rmse: 0.9296\n",
      "Epoch 7/20\n",
      "\u001b[1m28/28\u001b[0m \u001b[32m━━━━━━━━━━━━━━━━━━━━\u001b[0m\u001b[37m\u001b[0m \u001b[1m2s\u001b[0m 54ms/step - loss: 0.8703 - mae: 0.6432 - rmse: 0.9321\n",
      "Epoch 8/20\n",
      "\u001b[1m28/28\u001b[0m \u001b[32m━━━━━━━━━━━━━━━━━━━━\u001b[0m\u001b[37m\u001b[0m \u001b[1m2s\u001b[0m 54ms/step - loss: 0.8744 - mae: 0.6447 - rmse: 0.9342\n",
      "Epoch 9/20\n",
      "\u001b[1m28/28\u001b[0m \u001b[32m━━━━━━━━━━━━━━━━━━━━\u001b[0m\u001b[37m\u001b[0m \u001b[1m2s\u001b[0m 54ms/step - loss: 0.8731 - mae: 0.6429 - rmse: 0.9336\n",
      "Epoch 10/20\n",
      "\u001b[1m28/28\u001b[0m \u001b[32m━━━━━━━━━━━━━━━━━━━━\u001b[0m\u001b[37m\u001b[0m \u001b[1m2s\u001b[0m 53ms/step - loss: 0.8747 - mae: 0.6441 - rmse: 0.9345\n",
      "Epoch 11/20\n",
      "\u001b[1m28/28\u001b[0m \u001b[32m━━━━━━━━━━━━━━━━━━━━\u001b[0m\u001b[37m\u001b[0m \u001b[1m2s\u001b[0m 54ms/step - loss: 0.8705 - mae: 0.6439 - rmse: 0.9322\n",
      "Epoch 12/20\n",
      "\u001b[1m28/28\u001b[0m \u001b[32m━━━━━━━━━━━━━━━━━━━━\u001b[0m\u001b[37m\u001b[0m \u001b[1m2s\u001b[0m 53ms/step - loss: 0.8688 - mae: 0.6421 - rmse: 0.9313\n",
      "Epoch 13/20\n",
      "\u001b[1m28/28\u001b[0m \u001b[32m━━━━━━━━━━━━━━━━━━━━\u001b[0m\u001b[37m\u001b[0m \u001b[1m2s\u001b[0m 54ms/step - loss: 0.8702 - mae: 0.6425 - rmse: 0.9321\n",
      "Epoch 14/20\n",
      "\u001b[1m28/28\u001b[0m \u001b[32m━━━━━━━━━━━━━━━━━━━━\u001b[0m\u001b[37m\u001b[0m \u001b[1m2s\u001b[0m 54ms/step - loss: 0.8671 - mae: 0.6437 - rmse: 0.9304\n",
      "Epoch 15/20\n",
      "\u001b[1m28/28\u001b[0m \u001b[32m━━━━━━━━━━━━━━━━━━━━\u001b[0m\u001b[37m\u001b[0m \u001b[1m2s\u001b[0m 54ms/step - loss: 0.8764 - mae: 0.6470 - rmse: 0.9355\n",
      "Epoch 16/20\n",
      "\u001b[1m28/28\u001b[0m \u001b[32m━━━━━━━━━━━━━━━━━━━━\u001b[0m\u001b[37m\u001b[0m \u001b[1m2s\u001b[0m 53ms/step - loss: 0.8684 - mae: 0.6426 - rmse: 0.9312\n",
      "Epoch 17/20\n",
      "\u001b[1m28/28\u001b[0m \u001b[32m━━━━━━━━━━━━━━━━━━━━\u001b[0m\u001b[37m\u001b[0m \u001b[1m2s\u001b[0m 54ms/step - loss: 0.8693 - mae: 0.6434 - rmse: 0.9317\n",
      "Epoch 18/20\n",
      "\u001b[1m28/28\u001b[0m \u001b[32m━━━━━━━━━━━━━━━━━━━━\u001b[0m\u001b[37m\u001b[0m \u001b[1m2s\u001b[0m 54ms/step - loss: 0.8773 - mae: 0.6475 - rmse: 0.9359\n",
      "Epoch 19/20\n",
      "\u001b[1m28/28\u001b[0m \u001b[32m━━━━━━━━━━━━━━━━━━━━\u001b[0m\u001b[37m\u001b[0m \u001b[1m2s\u001b[0m 54ms/step - loss: 0.8673 - mae: 0.6402 - rmse: 0.9305\n",
      "Epoch 20/20\n",
      "\u001b[1m28/28\u001b[0m \u001b[32m━━━━━━━━━━━━━━━━━━━━\u001b[0m\u001b[37m\u001b[0m \u001b[1m2s\u001b[0m 53ms/step - loss: 0.8701 - mae: 0.6419 - rmse: 0.9319\n",
      "\u001b[1m12/12\u001b[0m \u001b[32m━━━━━━━━━━━━━━━━━━━━\u001b[0m\u001b[37m\u001b[0m \u001b[1m2s\u001b[0m 94ms/step\n",
      "naive: 430132.6457969352\n",
      "model_day_30: 449759.11280886\n"
     ]
    }
   ],
   "source": [
    "tf.keras.utils.set_random_seed(4014)\n",
    "best_hps_day_30 = tuner_day_30.get_best_hyperparameters(num_trials=1)[0]\n",
    "model_day_30 = tuner_day_30.hypermodel.build(best_hps_day_30)\n",
    "model_day_30.fit(X_train_day_30, y_train_day_30,\n",
    "                batch_size=64, epochs=20)\n",
    "pred_return_day_30 = pp_day_30.scaler_y.inverse_transform(model_day_30.predict(X_test_day_30))[:,0]\n",
    "pred_close_day_30 = naive_pred*(pred_return_day_30+1)\n",
    "print(f\"naive: {np.mean((test_close - naive_pred)**2)}\")\n",
    "print(f\"model_day_30: {np.mean((test_close - pred_close_day_30)**2)}\")"
   ]
  },
  {
   "cell_type": "code",
   "execution_count": 201,
   "metadata": {},
   "outputs": [
    {
     "data": {
      "text/plain": [
       "{'lstm_depth': 8,\n",
       " 'lstm_size': 64,\n",
       " 'lstm_dropout': 0.2,\n",
       " 'dense_depth': 1,\n",
       " 'dense_size': 64,\n",
       " 'dense_dropout': 0.2,\n",
       " 'learning_rate': 0.0005}"
      ]
     },
     "execution_count": 201,
     "metadata": {},
     "output_type": "execute_result"
    }
   ],
   "source": [
    "best_hps_day_30.values"
   ]
  },
  {
   "cell_type": "code",
   "execution_count": 203,
   "metadata": {},
   "outputs": [
    {
     "name": "stdout",
     "output_type": "stream",
     "text": [
      "Epoch 1/100\n",
      "\u001b[1m27/27\u001b[0m \u001b[32m━━━━━━━━━━━━━━━━━━━━\u001b[0m\u001b[37m\u001b[0m \u001b[1m6s\u001b[0m 25ms/step - loss: 0.9592 - mae: 0.6574 - rmse: 0.9716 - val_loss: 0.4091 - val_mae: 0.4256 - val_rmse: 0.6905\n",
      "Epoch 2/100\n",
      "\u001b[1m27/27\u001b[0m \u001b[32m━━━━━━━━━━━━━━━━━━━━\u001b[0m\u001b[37m\u001b[0m \u001b[1m0s\u001b[0m 4ms/step - loss: 0.9656 - mae: 0.6745 - rmse: 0.9825 - val_loss: 0.4066 - val_mae: 0.4212 - val_rmse: 0.6884\n",
      "Epoch 3/100\n",
      "\u001b[1m27/27\u001b[0m \u001b[32m━━━━━━━━━━━━━━━━━━━━\u001b[0m\u001b[37m\u001b[0m \u001b[1m0s\u001b[0m 4ms/step - loss: 0.9643 - mae: 0.6721 - rmse: 0.9818 - val_loss: 0.4062 - val_mae: 0.4205 - val_rmse: 0.6880\n",
      "Epoch 4/100\n",
      "\u001b[1m27/27\u001b[0m \u001b[32m━━━━━━━━━━━━━━━━━━━━\u001b[0m\u001b[37m\u001b[0m \u001b[1m0s\u001b[0m 4ms/step - loss: 0.9621 - mae: 0.6724 - rmse: 0.9807 - val_loss: 0.4061 - val_mae: 0.4203 - val_rmse: 0.6879\n",
      "Epoch 5/100\n",
      "\u001b[1m27/27\u001b[0m \u001b[32m━━━━━━━━━━━━━━━━━━━━\u001b[0m\u001b[37m\u001b[0m \u001b[1m0s\u001b[0m 4ms/step - loss: 0.9627 - mae: 0.6726 - rmse: 0.9810 - val_loss: 0.4059 - val_mae: 0.4200 - val_rmse: 0.6878\n",
      "Epoch 6/100\n",
      "\u001b[1m27/27\u001b[0m \u001b[32m━━━━━━━━━━━━━━━━━━━━\u001b[0m\u001b[37m\u001b[0m \u001b[1m0s\u001b[0m 4ms/step - loss: 0.9626 - mae: 0.6714 - rmse: 0.9809 - val_loss: 0.4059 - val_mae: 0.4198 - val_rmse: 0.6877\n",
      "Epoch 7/100\n",
      "\u001b[1m27/27\u001b[0m \u001b[32m━━━━━━━━━━━━━━━━━━━━\u001b[0m\u001b[37m\u001b[0m \u001b[1m0s\u001b[0m 4ms/step - loss: 0.9596 - mae: 0.6708 - rmse: 0.9794 - val_loss: 0.4060 - val_mae: 0.4198 - val_rmse: 0.6878\n",
      "Epoch 8/100\n",
      "\u001b[1m27/27\u001b[0m \u001b[32m━━━━━━━━━━━━━━━━━━━━\u001b[0m\u001b[37m\u001b[0m \u001b[1m0s\u001b[0m 4ms/step - loss: 0.9624 - mae: 0.6723 - rmse: 0.9809 - val_loss: 0.4060 - val_mae: 0.4197 - val_rmse: 0.6878\n",
      "Epoch 9/100\n",
      "\u001b[1m27/27\u001b[0m \u001b[32m━━━━━━━━━━━━━━━━━━━━\u001b[0m\u001b[37m\u001b[0m \u001b[1m0s\u001b[0m 4ms/step - loss: 0.9634 - mae: 0.6718 - rmse: 0.9814 - val_loss: 0.4058 - val_mae: 0.4194 - val_rmse: 0.6876\n",
      "Epoch 10/100\n",
      "\u001b[1m27/27\u001b[0m \u001b[32m━━━━━━━━━━━━━━━━━━━━\u001b[0m\u001b[37m\u001b[0m \u001b[1m0s\u001b[0m 4ms/step - loss: 0.9611 - mae: 0.6716 - rmse: 0.9802 - val_loss: 0.4057 - val_mae: 0.4192 - val_rmse: 0.6876\n",
      "Epoch 11/100\n",
      "\u001b[1m27/27\u001b[0m \u001b[32m━━━━━━━━━━━━━━━━━━━━\u001b[0m\u001b[37m\u001b[0m \u001b[1m0s\u001b[0m 4ms/step - loss: 0.9614 - mae: 0.6710 - rmse: 0.9803 - val_loss: 0.4059 - val_mae: 0.4194 - val_rmse: 0.6877\n",
      "Epoch 12/100\n",
      "\u001b[1m27/27\u001b[0m \u001b[32m━━━━━━━━━━━━━━━━━━━━\u001b[0m\u001b[37m\u001b[0m \u001b[1m0s\u001b[0m 4ms/step - loss: 0.9617 - mae: 0.6710 - rmse: 0.9805 - val_loss: 0.4058 - val_mae: 0.4192 - val_rmse: 0.6877\n",
      "Epoch 13/100\n",
      "\u001b[1m27/27\u001b[0m \u001b[32m━━━━━━━━━━━━━━━━━━━━\u001b[0m\u001b[37m\u001b[0m \u001b[1m0s\u001b[0m 4ms/step - loss: 0.9618 - mae: 0.6714 - rmse: 0.9805 - val_loss: 0.4059 - val_mae: 0.4192 - val_rmse: 0.6877\n",
      "Epoch 14/100\n",
      "\u001b[1m27/27\u001b[0m \u001b[32m━━━━━━━━━━━━━━━━━━━━\u001b[0m\u001b[37m\u001b[0m \u001b[1m0s\u001b[0m 5ms/step - loss: 0.9612 - mae: 0.6708 - rmse: 0.9802 - val_loss: 0.4058 - val_mae: 0.4189 - val_rmse: 0.6877\n",
      "Epoch 15/100\n",
      "\u001b[1m27/27\u001b[0m \u001b[32m━━━━━━━━━━━━━━━━━━━━\u001b[0m\u001b[37m\u001b[0m \u001b[1m0s\u001b[0m 4ms/step - loss: 0.9623 - mae: 0.6726 - rmse: 0.9808 - val_loss: 0.4056 - val_mae: 0.4183 - val_rmse: 0.6875\n",
      "Epoch 16/100\n",
      "\u001b[1m27/27\u001b[0m \u001b[32m━━━━━━━━━━━━━━━━━━━━\u001b[0m\u001b[37m\u001b[0m \u001b[1m0s\u001b[0m 4ms/step - loss: 0.9611 - mae: 0.6717 - rmse: 0.9802 - val_loss: 0.4059 - val_mae: 0.4185 - val_rmse: 0.6877\n",
      "Epoch 17/100\n",
      "\u001b[1m27/27\u001b[0m \u001b[32m━━━━━━━━━━━━━━━━━━━━\u001b[0m\u001b[37m\u001b[0m \u001b[1m0s\u001b[0m 4ms/step - loss: 0.9617 - mae: 0.6723 - rmse: 0.9805 - val_loss: 0.4059 - val_mae: 0.4183 - val_rmse: 0.6878\n",
      "Epoch 18/100\n",
      "\u001b[1m27/27\u001b[0m \u001b[32m━━━━━━━━━━━━━━━━━━━━\u001b[0m\u001b[37m\u001b[0m \u001b[1m0s\u001b[0m 4ms/step - loss: 0.9615 - mae: 0.6734 - rmse: 0.9804 - val_loss: 0.4061 - val_mae: 0.4185 - val_rmse: 0.6880\n",
      "Epoch 19/100\n",
      "\u001b[1m27/27\u001b[0m \u001b[32m━━━━━━━━━━━━━━━━━━━━\u001b[0m\u001b[37m\u001b[0m \u001b[1m0s\u001b[0m 4ms/step - loss: 0.9598 - mae: 0.6715 - rmse: 0.9795 - val_loss: 0.4062 - val_mae: 0.4185 - val_rmse: 0.6881\n",
      "Epoch 20/100\n",
      "\u001b[1m27/27\u001b[0m \u001b[32m━━━━━━━━━━━━━━━━━━━━\u001b[0m\u001b[37m\u001b[0m \u001b[1m0s\u001b[0m 4ms/step - loss: 0.9606 - mae: 0.6720 - rmse: 0.9799 - val_loss: 0.4062 - val_mae: 0.4183 - val_rmse: 0.6881\n",
      "Epoch 20: early stopping\n",
      "Restoring model weights from the end of the best epoch: 15.\n",
      "\u001b[1m12/12\u001b[0m \u001b[32m━━━━━━━━━━━━━━━━━━━━\u001b[0m\u001b[37m\u001b[0m \u001b[1m1s\u001b[0m 42ms/step\n",
      "naive: 430132.6457969352\n",
      "model: 427987.1383585876\n"
     ]
    }
   ],
   "source": [
    "callbacks = [tf.keras.callbacks.EarlyStopping(\n",
    "    monitor='val_rmse', min_delta=0, patience=5, verbose=1,\n",
    "    mode='min', baseline=None, restore_best_weights=True)]\n",
    "tf.keras.utils.set_random_seed(4012)\n",
    "hp_lstm_depth = 2\n",
    "hp_lstm_size = 8\n",
    "hp_lstm_dropout = 0.5\n",
    "\n",
    "hp_dense_depth = 1\n",
    "hp_dense_size = 4\n",
    "hp_dense_dropout = 0.5\n",
    "\n",
    "hp_lr = 0.001\n",
    "    \n",
    "model = Sequential()\n",
    "model.add(LSTM(hp_lstm_size, return_sequences=True))\n",
    "model.add(LSTM(hp_lstm_size, return_sequences=True, dropout = hp_lstm_dropout))\n",
    "model.add(LSTM(hp_lstm_size, return_sequences=True, dropout = hp_lstm_dropout))\n",
    "model.add(LSTM(hp_lstm_size, return_sequences=False, dropout = hp_lstm_dropout))\n",
    "model.add(Dense(1))\n",
    "\n",
    "model.compile(optimizer = Adam(learning_rate = hp_lr), loss='mse', metrics = metrics)\n",
    "model.fit(X_train_day_5[:(len(y_train_day_5)-100), :, [1,2,3,4]], y_train_day_5[:(len(y_train_day_5)-100)]\n",
    "          , batch_size=64, epochs=100, shuffle=True, validation_data = (X_train_day_5[-100:, :, [1,2,3,4]], y_train_day_5[-100:]), callbacks = callbacks)\n",
    "test_close = df_day[(df_day.index >= \"2023-01-01\")*(df_day.index < \"2024-01-01\")].close.copy()\n",
    "naive_pred = df_day[(df_day.index >= \"2022-12-31\")*(df_day.index < \"2023-12-31\")].close.values\n",
    "pred_return = pp_day_5.scaler_y.inverse_transform(model.predict(X_test_day_5[:,:,[1,2,3,4]]))[:,0]\n",
    "pred_close = naive_pred*(pred_return+1)\n",
    "print(f\"naive: {np.mean((test_close - naive_pred)**2)}\")\n",
    "print(f\"model: {np.mean((test_close - pred_close)**2)}\")"
   ]
  },
  {
   "cell_type": "code",
   "execution_count": 146,
   "metadata": {},
   "outputs": [
    {
     "data": {
      "text/plain": [
       "(1782, 5, 6)"
      ]
     },
     "execution_count": 146,
     "metadata": {},
     "output_type": "execute_result"
    }
   ],
   "source": [
    "X_train_day_5"
   ]
  },
  {
   "cell_type": "code",
   "execution_count": 144,
   "metadata": {},
   "outputs": [
    {
     "data": {
      "text/html": [
       "<div>\n",
       "<style scoped>\n",
       "    .dataframe tbody tr th:only-of-type {\n",
       "        vertical-align: middle;\n",
       "    }\n",
       "\n",
       "    .dataframe tbody tr th {\n",
       "        vertical-align: top;\n",
       "    }\n",
       "\n",
       "    .dataframe thead th {\n",
       "        text-align: right;\n",
       "    }\n",
       "</style>\n",
       "<table border=\"1\" class=\"dataframe\">\n",
       "  <thead>\n",
       "    <tr style=\"text-align: right;\">\n",
       "      <th></th>\n",
       "      <th>open</th>\n",
       "      <th>high</th>\n",
       "      <th>low</th>\n",
       "      <th>close</th>\n",
       "      <th>Volume_BTC</th>\n",
       "      <th>fng_value</th>\n",
       "      <th>RSI</th>\n",
       "      <th>EMA</th>\n",
       "      <th>EMA_return</th>\n",
       "    </tr>\n",
       "  </thead>\n",
       "  <tbody>\n",
       "    <tr>\n",
       "      <th>2018-01-01</th>\n",
       "      <td>NaN</td>\n",
       "      <td>NaN</td>\n",
       "      <td>NaN</td>\n",
       "      <td>NaN</td>\n",
       "      <td>13.532534</td>\n",
       "      <td>NaN</td>\n",
       "      <td>NaN</td>\n",
       "      <td>NaN</td>\n",
       "      <td>NaN</td>\n",
       "    </tr>\n",
       "    <tr>\n",
       "      <th>2018-01-02</th>\n",
       "      <td>-0.034523</td>\n",
       "      <td>0.094415</td>\n",
       "      <td>0.000677</td>\n",
       "      <td>0.097011</td>\n",
       "      <td>13.932804</td>\n",
       "      <td>NaN</td>\n",
       "      <td>NaN</td>\n",
       "      <td>NaN</td>\n",
       "      <td>NaN</td>\n",
       "    </tr>\n",
       "    <tr>\n",
       "      <th>2018-01-03</th>\n",
       "      <td>0.099317</td>\n",
       "      <td>0.008301</td>\n",
       "      <td>0.127693</td>\n",
       "      <td>0.014611</td>\n",
       "      <td>13.919800</td>\n",
       "      <td>NaN</td>\n",
       "      <td>NaN</td>\n",
       "      <td>NaN</td>\n",
       "      <td>NaN</td>\n",
       "    </tr>\n",
       "    <tr>\n",
       "      <th>2018-01-04</th>\n",
       "      <td>0.019528</td>\n",
       "      <td>0.010717</td>\n",
       "      <td>-0.021712</td>\n",
       "      <td>0.026196</td>\n",
       "      <td>14.149431</td>\n",
       "      <td>NaN</td>\n",
       "      <td>NaN</td>\n",
       "      <td>NaN</td>\n",
       "      <td>NaN</td>\n",
       "    </tr>\n",
       "    <tr>\n",
       "      <th>2018-01-05</th>\n",
       "      <td>0.013523</td>\n",
       "      <td>0.124875</td>\n",
       "      <td>0.046866</td>\n",
       "      <td>0.117333</td>\n",
       "      <td>14.128750</td>\n",
       "      <td>NaN</td>\n",
       "      <td>NaN</td>\n",
       "      <td>NaN</td>\n",
       "      <td>NaN</td>\n",
       "    </tr>\n",
       "    <tr>\n",
       "      <th>...</th>\n",
       "      <td>...</td>\n",
       "      <td>...</td>\n",
       "      <td>...</td>\n",
       "      <td>...</td>\n",
       "      <td>...</td>\n",
       "      <td>...</td>\n",
       "      <td>...</td>\n",
       "      <td>...</td>\n",
       "      <td>...</td>\n",
       "    </tr>\n",
       "    <tr>\n",
       "      <th>2024-04-06</th>\n",
       "      <td>NaN</td>\n",
       "      <td>NaN</td>\n",
       "      <td>NaN</td>\n",
       "      <td>NaN</td>\n",
       "      <td>NaN</td>\n",
       "      <td>75.0</td>\n",
       "      <td>51.750421</td>\n",
       "      <td>41886.577281</td>\n",
       "      <td>-0.001882</td>\n",
       "    </tr>\n",
       "    <tr>\n",
       "      <th>2024-04-07</th>\n",
       "      <td>NaN</td>\n",
       "      <td>NaN</td>\n",
       "      <td>NaN</td>\n",
       "      <td>NaN</td>\n",
       "      <td>NaN</td>\n",
       "      <td>78.0</td>\n",
       "      <td>51.750421</td>\n",
       "      <td>41886.577281</td>\n",
       "      <td>-0.001882</td>\n",
       "    </tr>\n",
       "    <tr>\n",
       "      <th>2024-04-08</th>\n",
       "      <td>NaN</td>\n",
       "      <td>NaN</td>\n",
       "      <td>NaN</td>\n",
       "      <td>NaN</td>\n",
       "      <td>NaN</td>\n",
       "      <td>76.0</td>\n",
       "      <td>51.750421</td>\n",
       "      <td>41886.577281</td>\n",
       "      <td>-0.001882</td>\n",
       "    </tr>\n",
       "    <tr>\n",
       "      <th>2024-04-09</th>\n",
       "      <td>NaN</td>\n",
       "      <td>NaN</td>\n",
       "      <td>NaN</td>\n",
       "      <td>NaN</td>\n",
       "      <td>NaN</td>\n",
       "      <td>80.0</td>\n",
       "      <td>51.750421</td>\n",
       "      <td>41886.577281</td>\n",
       "      <td>-0.001882</td>\n",
       "    </tr>\n",
       "    <tr>\n",
       "      <th>2024-04-10</th>\n",
       "      <td>NaN</td>\n",
       "      <td>NaN</td>\n",
       "      <td>NaN</td>\n",
       "      <td>NaN</td>\n",
       "      <td>NaN</td>\n",
       "      <td>78.0</td>\n",
       "      <td>51.750421</td>\n",
       "      <td>41886.577281</td>\n",
       "      <td>-0.001882</td>\n",
       "    </tr>\n",
       "  </tbody>\n",
       "</table>\n",
       "<p>2292 rows × 9 columns</p>\n",
       "</div>"
      ],
      "text/plain": [
       "                open      high       low     close  Volume_BTC  fng_value  \\\n",
       "2018-01-01       NaN       NaN       NaN       NaN   13.532534        NaN   \n",
       "2018-01-02 -0.034523  0.094415  0.000677  0.097011   13.932804        NaN   \n",
       "2018-01-03  0.099317  0.008301  0.127693  0.014611   13.919800        NaN   \n",
       "2018-01-04  0.019528  0.010717 -0.021712  0.026196   14.149431        NaN   \n",
       "2018-01-05  0.013523  0.124875  0.046866  0.117333   14.128750        NaN   \n",
       "...              ...       ...       ...       ...         ...        ...   \n",
       "2024-04-06       NaN       NaN       NaN       NaN         NaN       75.0   \n",
       "2024-04-07       NaN       NaN       NaN       NaN         NaN       78.0   \n",
       "2024-04-08       NaN       NaN       NaN       NaN         NaN       76.0   \n",
       "2024-04-09       NaN       NaN       NaN       NaN         NaN       80.0   \n",
       "2024-04-10       NaN       NaN       NaN       NaN         NaN       78.0   \n",
       "\n",
       "                  RSI           EMA  EMA_return  \n",
       "2018-01-01        NaN           NaN         NaN  \n",
       "2018-01-02        NaN           NaN         NaN  \n",
       "2018-01-03        NaN           NaN         NaN  \n",
       "2018-01-04        NaN           NaN         NaN  \n",
       "2018-01-05        NaN           NaN         NaN  \n",
       "...               ...           ...         ...  \n",
       "2024-04-06  51.750421  41886.577281   -0.001882  \n",
       "2024-04-07  51.750421  41886.577281   -0.001882  \n",
       "2024-04-08  51.750421  41886.577281   -0.001882  \n",
       "2024-04-09  51.750421  41886.577281   -0.001882  \n",
       "2024-04-10  51.750421  41886.577281   -0.001882  \n",
       "\n",
       "[2292 rows x 9 columns]"
      ]
     },
     "execution_count": 144,
     "metadata": {},
     "output_type": "execute_result"
    }
   ],
   "source": [
    "df_day_diff"
   ]
  },
  {
   "cell_type": "code",
   "execution_count": 138,
   "metadata": {},
   "outputs": [
    {
     "data": {
      "text/plain": [
       "1782"
      ]
     },
     "execution_count": 138,
     "metadata": {},
     "output_type": "execute_result"
    }
   ],
   "source": [
    "len(y_train_day_5)"
   ]
  },
  {
   "cell_type": "code",
   "execution_count": 40,
   "metadata": {},
   "outputs": [
    {
     "data": {
      "text/plain": [
       "<Sequential name=sequential_12, built=True>"
      ]
     },
     "execution_count": 40,
     "metadata": {},
     "output_type": "execute_result"
    }
   ],
   "source": [
    "model.add(BatchNormalization())"
   ]
  },
  {
   "cell_type": "code",
   "execution_count": 204,
   "metadata": {},
   "outputs": [
    {
     "data": {
      "text/plain": [
       "[<matplotlib.lines.Line2D at 0x1ca4af085d0>]"
      ]
     },
     "execution_count": 204,
     "metadata": {},
     "output_type": "execute_result"
    },
    {
     "data": {
      "image/png": "[encoded data removed]",
      "text/plain": [
       "<Figure size 640x480 with 1 Axes>"
      ]
     },
     "metadata": {},
     "output_type": "display_data"
    }
   ],
   "source": [
    "plt.plot(pred_return)"
   ]
  },
  {
   "cell_type": "code",
   "execution_count": 48,
   "metadata": {},
   "outputs": [
    {
     "data": {
      "text/html": [
       "<pre style=\"white-space:pre;overflow-x:auto;line-height:normal;font-family:Menlo,'DejaVu Sans Mono',consolas,'Courier New',monospace\"><span style=\"font-weight: bold\">Model: \"sequential_17\"</span>\n",
       "</pre>\n"
      ],
      "text/plain": [
       "\u001b[1mModel: \"sequential_17\"\u001b[0m\n"
      ]
     },
     "metadata": {},
     "output_type": "display_data"
    },
    {
     "data": {
      "text/html": [
       "<pre style=\"white-space:pre;overflow-x:auto;line-height:normal;font-family:Menlo,'DejaVu Sans Mono',consolas,'Courier New',monospace\">┏━━━━━━━━━━━━━━━━━━━━━━━━━━━━━━━━━┳━━━━━━━━━━━━━━━━━━━━━━━━┳━━━━━━━━━━━━━━━┓\n",
       "┃<span style=\"font-weight: bold\"> Layer (type)                    </span>┃<span style=\"font-weight: bold\"> Output Shape           </span>┃<span style=\"font-weight: bold\">       Param # </span>┃\n",
       "┡━━━━━━━━━━━━━━━━━━━━━━━━━━━━━━━━━╇━━━━━━━━━━━━━━━━━━━━━━━━╇━━━━━━━━━━━━━━━┩\n",
       "│ lstm_46 (<span style=\"color: #0087ff; text-decoration-color: #0087ff\">LSTM</span>)                  │ (<span style=\"color: #00d7ff; text-decoration-color: #00d7ff\">None</span>, <span style=\"color: #00af00; text-decoration-color: #00af00\">30</span>, <span style=\"color: #00af00; text-decoration-color: #00af00\">8</span>)          │           <span style=\"color: #00af00; text-decoration-color: #00af00\">480</span> │\n",
       "├─────────────────────────────────┼────────────────────────┼───────────────┤\n",
       "│ batch_normalization_10          │ (<span style=\"color: #00d7ff; text-decoration-color: #00d7ff\">None</span>, <span style=\"color: #00af00; text-decoration-color: #00af00\">30</span>, <span style=\"color: #00af00; text-decoration-color: #00af00\">8</span>)          │            <span style=\"color: #00af00; text-decoration-color: #00af00\">32</span> │\n",
       "│ (<span style=\"color: #0087ff; text-decoration-color: #0087ff\">BatchNormalization</span>)            │                        │               │\n",
       "├─────────────────────────────────┼────────────────────────┼───────────────┤\n",
       "│ lstm_47 (<span style=\"color: #0087ff; text-decoration-color: #0087ff\">LSTM</span>)                  │ (<span style=\"color: #00d7ff; text-decoration-color: #00d7ff\">None</span>, <span style=\"color: #00af00; text-decoration-color: #00af00\">30</span>, <span style=\"color: #00af00; text-decoration-color: #00af00\">8</span>)          │           <span style=\"color: #00af00; text-decoration-color: #00af00\">544</span> │\n",
       "├─────────────────────────────────┼────────────────────────┼───────────────┤\n",
       "│ batch_normalization_11          │ (<span style=\"color: #00d7ff; text-decoration-color: #00d7ff\">None</span>, <span style=\"color: #00af00; text-decoration-color: #00af00\">30</span>, <span style=\"color: #00af00; text-decoration-color: #00af00\">8</span>)          │            <span style=\"color: #00af00; text-decoration-color: #00af00\">32</span> │\n",
       "│ (<span style=\"color: #0087ff; text-decoration-color: #0087ff\">BatchNormalization</span>)            │                        │               │\n",
       "├─────────────────────────────────┼────────────────────────┼───────────────┤\n",
       "│ lstm_48 (<span style=\"color: #0087ff; text-decoration-color: #0087ff\">LSTM</span>)                  │ (<span style=\"color: #00d7ff; text-decoration-color: #00d7ff\">None</span>, <span style=\"color: #00af00; text-decoration-color: #00af00\">30</span>, <span style=\"color: #00af00; text-decoration-color: #00af00\">8</span>)          │           <span style=\"color: #00af00; text-decoration-color: #00af00\">544</span> │\n",
       "├─────────────────────────────────┼────────────────────────┼───────────────┤\n",
       "│ batch_normalization_12          │ (<span style=\"color: #00d7ff; text-decoration-color: #00d7ff\">None</span>, <span style=\"color: #00af00; text-decoration-color: #00af00\">30</span>, <span style=\"color: #00af00; text-decoration-color: #00af00\">8</span>)          │            <span style=\"color: #00af00; text-decoration-color: #00af00\">32</span> │\n",
       "│ (<span style=\"color: #0087ff; text-decoration-color: #0087ff\">BatchNormalization</span>)            │                        │               │\n",
       "├─────────────────────────────────┼────────────────────────┼───────────────┤\n",
       "│ lstm_49 (<span style=\"color: #0087ff; text-decoration-color: #0087ff\">LSTM</span>)                  │ (<span style=\"color: #00d7ff; text-decoration-color: #00d7ff\">None</span>, <span style=\"color: #00af00; text-decoration-color: #00af00\">8</span>)              │           <span style=\"color: #00af00; text-decoration-color: #00af00\">544</span> │\n",
       "├─────────────────────────────────┼────────────────────────┼───────────────┤\n",
       "│ batch_normalization_13          │ (<span style=\"color: #00d7ff; text-decoration-color: #00d7ff\">None</span>, <span style=\"color: #00af00; text-decoration-color: #00af00\">8</span>)              │            <span style=\"color: #00af00; text-decoration-color: #00af00\">32</span> │\n",
       "│ (<span style=\"color: #0087ff; text-decoration-color: #0087ff\">BatchNormalization</span>)            │                        │               │\n",
       "├─────────────────────────────────┼────────────────────────┼───────────────┤\n",
       "│ dense_17 (<span style=\"color: #0087ff; text-decoration-color: #0087ff\">Dense</span>)                │ (<span style=\"color: #00d7ff; text-decoration-color: #00d7ff\">None</span>, <span style=\"color: #00af00; text-decoration-color: #00af00\">1</span>)              │             <span style=\"color: #00af00; text-decoration-color: #00af00\">9</span> │\n",
       "└─────────────────────────────────┴────────────────────────┴───────────────┘\n",
       "</pre>\n"
      ],
      "text/plain": [
       "┏━━━━━━━━━━━━━━━━━━━━━━━━━━━━━━━━━┳━━━━━━━━━━━━━━━━━━━━━━━━┳━━━━━━━━━━━━━━━┓\n",
       "┃\u001b[1m \u001b[0m\u001b[1mLayer (type)                   \u001b[0m\u001b[1m \u001b[0m┃\u001b[1m \u001b[0m\u001b[1mOutput Shape          \u001b[0m\u001b[1m \u001b[0m┃\u001b[1m \u001b[0m\u001b[1m      Param #\u001b[0m\u001b[1m \u001b[0m┃\n",
       "┡━━━━━━━━━━━━━━━━━━━━━━━━━━━━━━━━━╇━━━━━━━━━━━━━━━━━━━━━━━━╇━━━━━━━━━━━━━━━┩\n",
       "│ lstm_46 (\u001b[38;5;33mLSTM\u001b[0m)                  │ (\u001b[38;5;45mNone\u001b[0m, \u001b[38;5;34m30\u001b[0m, \u001b[38;5;34m8\u001b[0m)          │           \u001b[38;5;34m480\u001b[0m │\n",
       "├─────────────────────────────────┼────────────────────────┼───────────────┤\n",
       "│ batch_normalization_10          │ (\u001b[38;5;45mNone\u001b[0m, \u001b[38;5;34m30\u001b[0m, \u001b[38;5;34m8\u001b[0m)          │            \u001b[38;5;34m32\u001b[0m │\n",
       "│ (\u001b[38;5;33mBatchNormalization\u001b[0m)            │                        │               │\n",
       "├─────────────────────────────────┼────────────────────────┼───────────────┤\n",
       "│ lstm_47 (\u001b[38;5;33mLSTM\u001b[0m)                  │ (\u001b[38;5;45mNone\u001b[0m, \u001b[38;5;34m30\u001b[0m, \u001b[38;5;34m8\u001b[0m)          │           \u001b[38;5;34m544\u001b[0m │\n",
       "├─────────────────────────────────┼────────────────────────┼───────────────┤\n",
       "│ batch_normalization_11          │ (\u001b[38;5;45mNone\u001b[0m, \u001b[38;5;34m30\u001b[0m, \u001b[38;5;34m8\u001b[0m)          │            \u001b[38;5;34m32\u001b[0m │\n",
       "│ (\u001b[38;5;33mBatchNormalization\u001b[0m)            │                        │               │\n",
       "├─────────────────────────────────┼────────────────────────┼───────────────┤\n",
       "│ lstm_48 (\u001b[38;5;33mLSTM\u001b[0m)                  │ (\u001b[38;5;45mNone\u001b[0m, \u001b[38;5;34m30\u001b[0m, \u001b[38;5;34m8\u001b[0m)          │           \u001b[38;5;34m544\u001b[0m │\n",
       "├─────────────────────────────────┼────────────────────────┼───────────────┤\n",
       "│ batch_normalization_12          │ (\u001b[38;5;45mNone\u001b[0m, \u001b[38;5;34m30\u001b[0m, \u001b[38;5;34m8\u001b[0m)          │            \u001b[38;5;34m32\u001b[0m │\n",
       "│ (\u001b[38;5;33mBatchNormalization\u001b[0m)            │                        │               │\n",
       "├─────────────────────────────────┼────────────────────────┼───────────────┤\n",
       "│ lstm_49 (\u001b[38;5;33mLSTM\u001b[0m)                  │ (\u001b[38;5;45mNone\u001b[0m, \u001b[38;5;34m8\u001b[0m)              │           \u001b[38;5;34m544\u001b[0m │\n",
       "├─────────────────────────────────┼────────────────────────┼───────────────┤\n",
       "│ batch_normalization_13          │ (\u001b[38;5;45mNone\u001b[0m, \u001b[38;5;34m8\u001b[0m)              │            \u001b[38;5;34m32\u001b[0m │\n",
       "│ (\u001b[38;5;33mBatchNormalization\u001b[0m)            │                        │               │\n",
       "├─────────────────────────────────┼────────────────────────┼───────────────┤\n",
       "│ dense_17 (\u001b[38;5;33mDense\u001b[0m)                │ (\u001b[38;5;45mNone\u001b[0m, \u001b[38;5;34m1\u001b[0m)              │             \u001b[38;5;34m9\u001b[0m │\n",
       "└─────────────────────────────────┴────────────────────────┴───────────────┘\n"
      ]
     },
     "metadata": {},
     "output_type": "display_data"
    },
    {
     "data": {
      "text/html": [
       "<pre style=\"white-space:pre;overflow-x:auto;line-height:normal;font-family:Menlo,'DejaVu Sans Mono',consolas,'Courier New',monospace\"><span style=\"font-weight: bold\"> Total params: </span><span style=\"color: #00af00; text-decoration-color: #00af00\">6,621</span> (25.87 KB)\n",
       "</pre>\n"
      ],
      "text/plain": [
       "\u001b[1m Total params: \u001b[0m\u001b[38;5;34m6,621\u001b[0m (25.87 KB)\n"
      ]
     },
     "metadata": {},
     "output_type": "display_data"
    },
    {
     "data": {
      "text/html": [
       "<pre style=\"white-space:pre;overflow-x:auto;line-height:normal;font-family:Menlo,'DejaVu Sans Mono',consolas,'Courier New',monospace\"><span style=\"font-weight: bold\"> Trainable params: </span><span style=\"color: #00af00; text-decoration-color: #00af00\">2,185</span> (8.54 KB)\n",
       "</pre>\n"
      ],
      "text/plain": [
       "\u001b[1m Trainable params: \u001b[0m\u001b[38;5;34m2,185\u001b[0m (8.54 KB)\n"
      ]
     },
     "metadata": {},
     "output_type": "display_data"
    },
    {
     "data": {
      "text/html": [
       "<pre style=\"white-space:pre;overflow-x:auto;line-height:normal;font-family:Menlo,'DejaVu Sans Mono',consolas,'Courier New',monospace\"><span style=\"font-weight: bold\"> Non-trainable params: </span><span style=\"color: #00af00; text-decoration-color: #00af00\">64</span> (256.00 B)\n",
       "</pre>\n"
      ],
      "text/plain": [
       "\u001b[1m Non-trainable params: \u001b[0m\u001b[38;5;34m64\u001b[0m (256.00 B)\n"
      ]
     },
     "metadata": {},
     "output_type": "display_data"
    },
    {
     "data": {
      "text/html": [
       "<pre style=\"white-space:pre;overflow-x:auto;line-height:normal;font-family:Menlo,'DejaVu Sans Mono',consolas,'Courier New',monospace\"><span style=\"font-weight: bold\"> Optimizer params: </span><span style=\"color: #00af00; text-decoration-color: #00af00\">4,372</span> (17.08 KB)\n",
       "</pre>\n"
      ],
      "text/plain": [
       "\u001b[1m Optimizer params: \u001b[0m\u001b[38;5;34m4,372\u001b[0m (17.08 KB)\n"
      ]
     },
     "metadata": {},
     "output_type": "display_data"
    }
   ],
   "source": [
    "model.summary()"
   ]
  },
  {
   "cell_type": "markdown",
   "metadata": {},
   "source": [
    "#### Conv1D-Lstm"
   ]
  },
  {
   "cell_type": "code",
   "execution_count": 335,
   "metadata": {},
   "outputs": [],
   "source": [
    "tuner_day_30_CL = kt.RandomSearch(\n",
    "    model_builder_conv_lstm,\n",
    "    objective='val_loss',\n",
    "    max_trials=30,  # Number of different configurations to try\n",
    "    executions_per_trial=1,  # Number of models to train for each trial\n",
    "    seed = 4012,\n",
    "    overwrite=True\n",
    ")"
   ]
  },
  {
   "cell_type": "code",
   "execution_count": 336,
   "metadata": {},
   "outputs": [
    {
     "name": "stdout",
     "output_type": "stream",
     "text": [
      "Trial 30 Complete [00h 00m 10s]\n",
      "val_loss: 0.529258668422699\n",
      "\n",
      "Best val_loss So Far: 0.526638388633728\n",
      "Total elapsed time: 00h 08m 40s\n"
     ]
    }
   ],
   "source": [
    "callbacks = [tf.keras.callbacks.EarlyStopping(\n",
    "    monitor='val_rmse', min_delta=0, patience=5, verbose=1,\n",
    "    mode='min', baseline=None, restore_best_weights=True)]\n",
    "tuner_day_30_CL.search(\n",
    "    X_train_day_30, y_train_day_30,\n",
    "    epochs=50,\n",
    "    validation_split = 0.1,\n",
    "    callbacks=callbacks\n",
    ")"
   ]
  },
  {
   "cell_type": "code",
   "execution_count": 141,
   "metadata": {},
   "outputs": [
    {
     "ename": "NameError",
     "evalue": "name 'tuner_day_30_CL' is not defined",
     "output_type": "error",
     "traceback": [
      "\u001b[1;31m---------------------------------------------------------------------------\u001b[0m",
      "\u001b[1;31mNameError\u001b[0m                                 Traceback (most recent call last)",
      "Cell \u001b[1;32mIn[141], line 5\u001b[0m\n\u001b[0;32m      1\u001b[0m tf\u001b[38;5;241m.\u001b[39mkeras\u001b[38;5;241m.\u001b[39mutils\u001b[38;5;241m.\u001b[39mset_random_seed(\u001b[38;5;241m4012\u001b[39m)\n\u001b[0;32m      2\u001b[0m callbacks \u001b[38;5;241m=\u001b[39m [tf\u001b[38;5;241m.\u001b[39mkeras\u001b[38;5;241m.\u001b[39mcallbacks\u001b[38;5;241m.\u001b[39mEarlyStopping(\n\u001b[0;32m      3\u001b[0m     monitor\u001b[38;5;241m=\u001b[39m\u001b[38;5;124m'\u001b[39m\u001b[38;5;124mval_rmse\u001b[39m\u001b[38;5;124m'\u001b[39m, min_delta\u001b[38;5;241m=\u001b[39m\u001b[38;5;241m0\u001b[39m, patience\u001b[38;5;241m=\u001b[39m\u001b[38;5;241m5\u001b[39m, verbose\u001b[38;5;241m=\u001b[39m\u001b[38;5;241m1\u001b[39m,\n\u001b[0;32m      4\u001b[0m     mode\u001b[38;5;241m=\u001b[39m\u001b[38;5;124m'\u001b[39m\u001b[38;5;124mmin\u001b[39m\u001b[38;5;124m'\u001b[39m, baseline\u001b[38;5;241m=\u001b[39m\u001b[38;5;28;01mNone\u001b[39;00m, restore_best_weights\u001b[38;5;241m=\u001b[39m\u001b[38;5;28;01mTrue\u001b[39;00m)]\n\u001b[1;32m----> 5\u001b[0m best_hps_CL \u001b[38;5;241m=\u001b[39m tuner_day_30_CL\u001b[38;5;241m.\u001b[39mget_best_hyperparameters(num_trials\u001b[38;5;241m=\u001b[39m\u001b[38;5;241m1\u001b[39m)[\u001b[38;5;241m0\u001b[39m]\n\u001b[0;32m      6\u001b[0m model_CL \u001b[38;5;241m=\u001b[39m tuner_day_30_CL\u001b[38;5;241m.\u001b[39mhypermodel\u001b[38;5;241m.\u001b[39mbuild(best_hps_CL)\n\u001b[0;32m      7\u001b[0m model_CL\u001b[38;5;241m.\u001b[39mfit(X_train_day_30, y_train_day_30, batch_size\u001b[38;5;241m=\u001b[39m\u001b[38;5;241m64\u001b[39m, epochs\u001b[38;5;241m=\u001b[39m\u001b[38;5;241m5\u001b[39m)\n",
      "\u001b[1;31mNameError\u001b[0m: name 'tuner_day_30_CL' is not defined"
     ]
    }
   ],
   "source": [
    "tf.keras.utils.set_random_seed(4012)\n",
    "callbacks = [tf.keras.callbacks.EarlyStopping(\n",
    "    monitor='val_rmse', min_delta=0, patience=5, verbose=1,\n",
    "    mode='min', baseline=None, restore_best_weights=True)]\n",
    "best_hps_CL = tuner_day_30_CL.get_best_hyperparameters(num_trials=1)[0]\n",
    "model_CL = tuner_day_30_CL.hypermodel.build(best_hps_CL)\n",
    "model_CL.fit(X_train_day_30, y_train_day_30, batch_size=64, epochs=5)\n",
    "test_close = df_day[(df_day.index >= \"2023-01-01\")*(df_day.index < \"2024-01-01\")].close.copy()\n",
    "naive_pred = df_day[(df_day.index >= \"2022-12-31\")*(df_day.index < \"2023-12-31\")].close.values\n",
    "pred_return = pp_day_30.scaler_y.inverse_transform(model_CL.predict(X_test_day_30))[:,0]\n",
    "pred_close = naive_pred*(pred_return+1)\n",
    "print(f\"naive: {np.mean((test_close - naive_pred)**2)}\")\n",
    "print(f\"model: {np.mean((test_close - pred_close)**2)}\")"
   ]
  },
  {
   "cell_type": "code",
   "execution_count": 368,
   "metadata": {},
   "outputs": [
    {
     "name": "stdout",
     "output_type": "stream",
     "text": [
      "naive: 0.015177906984877114\n",
      "model: 0.015209226193191367\n"
     ]
    }
   ],
   "source": [
    "print(f\"naive: {np.mean(abs(naive_pred/test_close-1))}\")\n",
    "print(f\"model: {np.mean(abs(pred_close/test_close-1))}\")"
   ]
  },
  {
   "cell_type": "code",
   "execution_count": 340,
   "metadata": {},
   "outputs": [
    {
     "data": {
      "text/plain": [
       "{'conv_filters': 8,\n",
       " 'kernel_size': 7,\n",
       " 'lstm_depth': 6,\n",
       " 'lstm_size': 256,\n",
       " 'lstm_dropout': 0.5,\n",
       " 'dense_depth': 3,\n",
       " 'dense_size': 128,\n",
       " 'dense_dropout': 0.2,\n",
       " 'learning_rate': 0.0001}"
      ]
     },
     "execution_count": 340,
     "metadata": {},
     "output_type": "execute_result"
    }
   ],
   "source": [
    "best_hps.values"
   ]
  },
  {
   "cell_type": "markdown",
   "metadata": {},
   "source": [
    "### Lag 120"
   ]
  },
  {
   "cell_type": "code",
   "execution_count": 302,
   "metadata": {},
   "outputs": [
    {
     "name": "stdout",
     "output_type": "stream",
     "text": [
      "Epoch 1/100\n",
      "\u001b[1m25/25\u001b[0m \u001b[32m━━━━━━━━━━━━━━━━━━━━\u001b[0m\u001b[37m\u001b[0m \u001b[1m5s\u001b[0m 38ms/step - loss: 1.6078 - mae: 0.7251 - rmse: 1.0759 - val_loss: 0.3548 - val_mae: 0.4003 - val_rmse: 0.5970\n",
      "Epoch 2/100\n",
      "\u001b[1m25/25\u001b[0m \u001b[32m━━━━━━━━━━━━━━━━━━━━\u001b[0m\u001b[37m\u001b[0m \u001b[1m0s\u001b[0m 18ms/step - loss: 1.3979 - mae: 0.8260 - rmse: 1.1813 - val_loss: 0.3559 - val_mae: 0.3994 - val_rmse: 0.5980\n",
      "Epoch 3/100\n",
      "\u001b[1m25/25\u001b[0m \u001b[32m━━━━━━━━━━━━━━━━━━━━\u001b[0m\u001b[37m\u001b[0m \u001b[1m0s\u001b[0m 19ms/step - loss: 1.2861 - mae: 0.8025 - rmse: 1.1336 - val_loss: 0.3556 - val_mae: 0.4000 - val_rmse: 0.5977\n",
      "Epoch 4/100\n",
      "\u001b[1m25/25\u001b[0m \u001b[32m━━━━━━━━━━━━━━━━━━━━\u001b[0m\u001b[37m\u001b[0m \u001b[1m0s\u001b[0m 18ms/step - loss: 1.2785 - mae: 0.8039 - rmse: 1.1303 - val_loss: 0.3563 - val_mae: 0.3997 - val_rmse: 0.5982\n",
      "Epoch 5/100\n",
      "\u001b[1m25/25\u001b[0m \u001b[32m━━━━━━━━━━━━━━━━━━━━\u001b[0m\u001b[37m\u001b[0m \u001b[1m0s\u001b[0m 18ms/step - loss: 1.1824 - mae: 0.7634 - rmse: 1.0869 - val_loss: 0.3565 - val_mae: 0.3989 - val_rmse: 0.5983\n",
      "Epoch 6/100\n",
      "\u001b[1m25/25\u001b[0m \u001b[32m━━━━━━━━━━━━━━━━━━━━\u001b[0m\u001b[37m\u001b[0m \u001b[1m0s\u001b[0m 19ms/step - loss: 1.1304 - mae: 0.7351 - rmse: 1.0625 - val_loss: 0.3572 - val_mae: 0.3991 - val_rmse: 0.5988\n",
      "Epoch 7/100\n",
      "\u001b[1m25/25\u001b[0m \u001b[32m━━━━━━━━━━━━━━━━━━━━\u001b[0m\u001b[37m\u001b[0m \u001b[1m0s\u001b[0m 18ms/step - loss: 1.0726 - mae: 0.7220 - rmse: 1.0347 - val_loss: 0.3574 - val_mae: 0.3992 - val_rmse: 0.5990\n",
      "Epoch 8/100\n",
      "\u001b[1m25/25\u001b[0m \u001b[32m━━━━━━━━━━━━━━━━━━━━\u001b[0m\u001b[37m\u001b[0m \u001b[1m0s\u001b[0m 19ms/step - loss: 1.0049 - mae: 0.6832 - rmse: 1.0016 - val_loss: 0.3573 - val_mae: 0.3993 - val_rmse: 0.5990\n",
      "Epoch 9/100\n",
      "\u001b[1m25/25\u001b[0m \u001b[32m━━━━━━━━━━━━━━━━━━━━\u001b[0m\u001b[37m\u001b[0m \u001b[1m0s\u001b[0m 19ms/step - loss: 0.9974 - mae: 0.6858 - rmse: 0.9978 - val_loss: 0.3571 - val_mae: 0.3992 - val_rmse: 0.5988\n",
      "Epoch 10/100\n",
      "\u001b[1m25/25\u001b[0m \u001b[32m━━━━━━━━━━━━━━━━━━━━\u001b[0m\u001b[37m\u001b[0m \u001b[1m0s\u001b[0m 18ms/step - loss: 1.0055 - mae: 0.6762 - rmse: 1.0017 - val_loss: 0.3571 - val_mae: 0.3992 - val_rmse: 0.5987\n",
      "Epoch 11/100\n",
      "\u001b[1m25/25\u001b[0m \u001b[32m━━━━━━━━━━━━━━━━━━━━\u001b[0m\u001b[37m\u001b[0m \u001b[1m0s\u001b[0m 18ms/step - loss: 0.9983 - mae: 0.6722 - rmse: 0.9983 - val_loss: 0.3570 - val_mae: 0.3993 - val_rmse: 0.5987\n",
      "Epoch 12/100\n",
      "\u001b[1m25/25\u001b[0m \u001b[32m━━━━━━━━━━━━━━━━━━━━\u001b[0m\u001b[37m\u001b[0m \u001b[1m0s\u001b[0m 19ms/step - loss: 0.9907 - mae: 0.6803 - rmse: 0.9943 - val_loss: 0.3568 - val_mae: 0.3993 - val_rmse: 0.5985\n",
      "Epoch 13/100\n",
      "\u001b[1m25/25\u001b[0m \u001b[32m━━━━━━━━━━━━━━━━━━━━\u001b[0m\u001b[37m\u001b[0m \u001b[1m0s\u001b[0m 18ms/step - loss: 0.9792 - mae: 0.6662 - rmse: 0.9887 - val_loss: 0.3566 - val_mae: 0.3992 - val_rmse: 0.5983\n",
      "Epoch 14/100\n",
      "\u001b[1m25/25\u001b[0m \u001b[32m━━━━━━━━━━━━━━━━━━━━\u001b[0m\u001b[37m\u001b[0m \u001b[1m0s\u001b[0m 18ms/step - loss: 0.9430 - mae: 0.6573 - rmse: 0.9702 - val_loss: 0.3565 - val_mae: 0.3993 - val_rmse: 0.5983\n",
      "Epoch 15/100\n",
      "\u001b[1m25/25\u001b[0m \u001b[32m━━━━━━━━━━━━━━━━━━━━\u001b[0m\u001b[37m\u001b[0m \u001b[1m0s\u001b[0m 18ms/step - loss: 0.9658 - mae: 0.6557 - rmse: 0.9820 - val_loss: 0.3564 - val_mae: 0.3993 - val_rmse: 0.5982\n",
      "Epoch 16/100\n",
      "\u001b[1m25/25\u001b[0m \u001b[32m━━━━━━━━━━━━━━━━━━━━\u001b[0m\u001b[37m\u001b[0m \u001b[1m0s\u001b[0m 18ms/step - loss: 0.9839 - mae: 0.6596 - rmse: 0.9910 - val_loss: 0.3564 - val_mae: 0.3993 - val_rmse: 0.5982\n",
      "Epoch 17/100\n",
      "\u001b[1m25/25\u001b[0m \u001b[32m━━━━━━━━━━━━━━━━━━━━\u001b[0m\u001b[37m\u001b[0m \u001b[1m0s\u001b[0m 18ms/step - loss: 0.9323 - mae: 0.6416 - rmse: 0.9645 - val_loss: 0.3562 - val_mae: 0.3993 - val_rmse: 0.5980\n",
      "Epoch 18/100\n",
      "\u001b[1m25/25\u001b[0m \u001b[32m━━━━━━━━━━━━━━━━━━━━\u001b[0m\u001b[37m\u001b[0m \u001b[1m0s\u001b[0m 19ms/step - loss: 0.9511 - mae: 0.6489 - rmse: 0.9741 - val_loss: 0.3561 - val_mae: 0.3993 - val_rmse: 0.5979\n",
      "Epoch 19/100\n",
      "\u001b[1m25/25\u001b[0m \u001b[32m━━━━━━━━━━━━━━━━━━━━\u001b[0m\u001b[37m\u001b[0m \u001b[1m0s\u001b[0m 19ms/step - loss: 0.9443 - mae: 0.6554 - rmse: 0.9707 - val_loss: 0.3560 - val_mae: 0.3993 - val_rmse: 0.5979\n",
      "Epoch 20/100\n",
      "\u001b[1m25/25\u001b[0m \u001b[32m━━━━━━━━━━━━━━━━━━━━\u001b[0m\u001b[37m\u001b[0m \u001b[1m0s\u001b[0m 19ms/step - loss: 0.9518 - mae: 0.6583 - rmse: 0.9748 - val_loss: 0.3559 - val_mae: 0.3994 - val_rmse: 0.5977\n",
      "Epoch 21/100\n",
      "\u001b[1m25/25\u001b[0m \u001b[32m━━━━━━━━━━━━━━━━━━━━\u001b[0m\u001b[37m\u001b[0m \u001b[1m0s\u001b[0m 19ms/step - loss: 0.9443 - mae: 0.6514 - rmse: 0.9705 - val_loss: 0.3557 - val_mae: 0.3994 - val_rmse: 0.5976\n",
      "Epoch 22/100\n",
      "\u001b[1m25/25\u001b[0m \u001b[32m━━━━━━━━━━━━━━━━━━━━\u001b[0m\u001b[37m\u001b[0m \u001b[1m0s\u001b[0m 18ms/step - loss: 0.9455 - mae: 0.6528 - rmse: 0.9715 - val_loss: 0.3557 - val_mae: 0.3994 - val_rmse: 0.5976\n",
      "Epoch 23/100\n",
      "\u001b[1m25/25\u001b[0m \u001b[32m━━━━━━━━━━━━━━━━━━━━\u001b[0m\u001b[37m\u001b[0m \u001b[1m0s\u001b[0m 19ms/step - loss: 0.9422 - mae: 0.6486 - rmse: 0.9696 - val_loss: 0.3556 - val_mae: 0.3994 - val_rmse: 0.5975\n",
      "Epoch 24/100\n",
      "\u001b[1m25/25\u001b[0m \u001b[32m━━━━━━━━━━━━━━━━━━━━\u001b[0m\u001b[37m\u001b[0m \u001b[1m0s\u001b[0m 19ms/step - loss: 0.9327 - mae: 0.6419 - rmse: 0.9648 - val_loss: 0.3556 - val_mae: 0.3994 - val_rmse: 0.5975\n",
      "Epoch 25/100\n",
      "\u001b[1m25/25\u001b[0m \u001b[32m━━━━━━━━━━━━━━━━━━━━\u001b[0m\u001b[37m\u001b[0m \u001b[1m0s\u001b[0m 19ms/step - loss: 0.9320 - mae: 0.6433 - rmse: 0.9645 - val_loss: 0.3555 - val_mae: 0.3995 - val_rmse: 0.5974\n",
      "Epoch 26/100\n",
      "\u001b[1m25/25\u001b[0m \u001b[32m━━━━━━━━━━━━━━━━━━━━\u001b[0m\u001b[37m\u001b[0m \u001b[1m0s\u001b[0m 18ms/step - loss: 0.9426 - mae: 0.6517 - rmse: 0.9701 - val_loss: 0.3554 - val_mae: 0.3995 - val_rmse: 0.5974\n",
      "Epoch 27/100\n",
      "\u001b[1m25/25\u001b[0m \u001b[32m━━━━━━━━━━━━━━━━━━━━\u001b[0m\u001b[37m\u001b[0m \u001b[1m0s\u001b[0m 19ms/step - loss: 0.9306 - mae: 0.6433 - rmse: 0.9638 - val_loss: 0.3553 - val_mae: 0.3996 - val_rmse: 0.5973\n",
      "Epoch 28/100\n",
      "\u001b[1m25/25\u001b[0m \u001b[32m━━━━━━━━━━━━━━━━━━━━\u001b[0m\u001b[37m\u001b[0m \u001b[1m0s\u001b[0m 18ms/step - loss: 0.9268 - mae: 0.6413 - rmse: 0.9616 - val_loss: 0.3553 - val_mae: 0.3996 - val_rmse: 0.5973\n",
      "Epoch 29/100\n",
      "\u001b[1m25/25\u001b[0m \u001b[32m━━━━━━━━━━━━━━━━━━━━\u001b[0m\u001b[37m\u001b[0m \u001b[1m0s\u001b[0m 19ms/step - loss: 0.9423 - mae: 0.6505 - rmse: 0.9699 - val_loss: 0.3552 - val_mae: 0.3996 - val_rmse: 0.5972\n",
      "Epoch 30/100\n",
      "\u001b[1m25/25\u001b[0m \u001b[32m━━━━━━━━━━━━━━━━━━━━\u001b[0m\u001b[37m\u001b[0m \u001b[1m0s\u001b[0m 19ms/step - loss: 0.9365 - mae: 0.6420 - rmse: 0.9669 - val_loss: 0.3552 - val_mae: 0.3997 - val_rmse: 0.5972\n",
      "Epoch 31/100\n",
      "\u001b[1m25/25\u001b[0m \u001b[32m━━━━━━━━━━━━━━━━━━━━\u001b[0m\u001b[37m\u001b[0m \u001b[1m0s\u001b[0m 18ms/step - loss: 0.9303 - mae: 0.6363 - rmse: 0.9634 - val_loss: 0.3551 - val_mae: 0.3998 - val_rmse: 0.5971\n",
      "Epoch 32/100\n",
      "\u001b[1m25/25\u001b[0m \u001b[32m━━━━━━━━━━━━━━━━━━━━\u001b[0m\u001b[37m\u001b[0m \u001b[1m0s\u001b[0m 19ms/step - loss: 0.9276 - mae: 0.6388 - rmse: 0.9621 - val_loss: 0.3550 - val_mae: 0.3998 - val_rmse: 0.5970\n",
      "Epoch 33/100\n",
      "\u001b[1m25/25\u001b[0m \u001b[32m━━━━━━━━━━━━━━━━━━━━\u001b[0m\u001b[37m\u001b[0m \u001b[1m0s\u001b[0m 19ms/step - loss: 0.9244 - mae: 0.6406 - rmse: 0.9604 - val_loss: 0.3550 - val_mae: 0.3998 - val_rmse: 0.5970\n",
      "Epoch 34/100\n",
      "\u001b[1m25/25\u001b[0m \u001b[32m━━━━━━━━━━━━━━━━━━━━\u001b[0m\u001b[37m\u001b[0m \u001b[1m0s\u001b[0m 18ms/step - loss: 0.9279 - mae: 0.6385 - rmse: 0.9624 - val_loss: 0.3549 - val_mae: 0.3999 - val_rmse: 0.5970\n",
      "Epoch 35/100\n",
      "\u001b[1m25/25\u001b[0m \u001b[32m━━━━━━━━━━━━━━━━━━━━\u001b[0m\u001b[37m\u001b[0m \u001b[1m0s\u001b[0m 18ms/step - loss: 0.9300 - mae: 0.6397 - rmse: 0.9633 - val_loss: 0.3548 - val_mae: 0.3999 - val_rmse: 0.5969\n",
      "Epoch 36/100\n",
      "\u001b[1m25/25\u001b[0m \u001b[32m━━━━━━━━━━━━━━━━━━━━\u001b[0m\u001b[37m\u001b[0m \u001b[1m0s\u001b[0m 19ms/step - loss: 0.9290 - mae: 0.6399 - rmse: 0.9629 - val_loss: 0.3548 - val_mae: 0.4000 - val_rmse: 0.5969\n",
      "Epoch 37/100\n",
      "\u001b[1m25/25\u001b[0m \u001b[32m━━━━━━━━━━━━━━━━━━━━\u001b[0m\u001b[37m\u001b[0m \u001b[1m0s\u001b[0m 18ms/step - loss: 0.9357 - mae: 0.6397 - rmse: 0.9663 - val_loss: 0.3547 - val_mae: 0.4000 - val_rmse: 0.5968\n",
      "Epoch 38/100\n",
      "\u001b[1m25/25\u001b[0m \u001b[32m━━━━━━━━━━━━━━━━━━━━\u001b[0m\u001b[37m\u001b[0m \u001b[1m0s\u001b[0m 18ms/step - loss: 0.9216 - mae: 0.6372 - rmse: 0.9591 - val_loss: 0.3547 - val_mae: 0.4001 - val_rmse: 0.5968\n",
      "Epoch 39/100\n",
      "\u001b[1m25/25\u001b[0m \u001b[32m━━━━━━━━━━━━━━━━━━━━\u001b[0m\u001b[37m\u001b[0m \u001b[1m0s\u001b[0m 19ms/step - loss: 0.9263 - mae: 0.6397 - rmse: 0.9615 - val_loss: 0.3546 - val_mae: 0.4001 - val_rmse: 0.5967\n",
      "Epoch 40/100\n",
      "\u001b[1m25/25\u001b[0m \u001b[32m━━━━━━━━━━━━━━━━━━━━\u001b[0m\u001b[37m\u001b[0m \u001b[1m0s\u001b[0m 19ms/step - loss: 0.9309 - mae: 0.6416 - rmse: 0.9639 - val_loss: 0.3546 - val_mae: 0.4001 - val_rmse: 0.5967\n",
      "Epoch 41/100\n",
      "\u001b[1m25/25\u001b[0m \u001b[32m━━━━━━━━━━━━━━━━━━━━\u001b[0m\u001b[37m\u001b[0m \u001b[1m0s\u001b[0m 18ms/step - loss: 0.9240 - mae: 0.6377 - rmse: 0.9602 - val_loss: 0.3546 - val_mae: 0.4001 - val_rmse: 0.5967\n",
      "Epoch 42/100\n",
      "\u001b[1m25/25\u001b[0m \u001b[32m━━━━━━━━━━━━━━━━━━━━\u001b[0m\u001b[37m\u001b[0m \u001b[1m0s\u001b[0m 18ms/step - loss: 0.9335 - mae: 0.6415 - rmse: 0.9652 - val_loss: 0.3546 - val_mae: 0.4002 - val_rmse: 0.5967\n",
      "Epoch 43/100\n",
      "\u001b[1m25/25\u001b[0m \u001b[32m━━━━━━━━━━━━━━━━━━━━\u001b[0m\u001b[37m\u001b[0m \u001b[1m0s\u001b[0m 18ms/step - loss: 0.9223 - mae: 0.6351 - rmse: 0.9594 - val_loss: 0.3546 - val_mae: 0.4002 - val_rmse: 0.5967\n",
      "Epoch 44/100\n",
      "\u001b[1m25/25\u001b[0m \u001b[32m━━━━━━━━━━━━━━━━━━━━\u001b[0m\u001b[37m\u001b[0m \u001b[1m0s\u001b[0m 18ms/step - loss: 0.9236 - mae: 0.6383 - rmse: 0.9600 - val_loss: 0.3545 - val_mae: 0.4002 - val_rmse: 0.5967\n",
      "Epoch 45/100\n",
      "\u001b[1m25/25\u001b[0m \u001b[32m━━━━━━━━━━━━━━━━━━━━\u001b[0m\u001b[37m\u001b[0m \u001b[1m0s\u001b[0m 18ms/step - loss: 0.9301 - mae: 0.6381 - rmse: 0.9636 - val_loss: 0.3545 - val_mae: 0.4002 - val_rmse: 0.5967\n",
      "Epoch 46/100\n",
      "\u001b[1m25/25\u001b[0m \u001b[32m━━━━━━━━━━━━━━━━━━━━\u001b[0m\u001b[37m\u001b[0m \u001b[1m0s\u001b[0m 19ms/step - loss: 0.9168 - mae: 0.6360 - rmse: 0.9565 - val_loss: 0.3545 - val_mae: 0.4002 - val_rmse: 0.5967\n",
      "Epoch 47/100\n",
      "\u001b[1m25/25\u001b[0m \u001b[32m━━━━━━━━━━━━━━━━━━━━\u001b[0m\u001b[37m\u001b[0m \u001b[1m0s\u001b[0m 18ms/step - loss: 0.9187 - mae: 0.6334 - rmse: 0.9576 - val_loss: 0.3545 - val_mae: 0.4002 - val_rmse: 0.5966\n",
      "Epoch 48/100\n",
      "\u001b[1m25/25\u001b[0m \u001b[32m━━━━━━━━━━━━━━━━━━━━\u001b[0m\u001b[37m\u001b[0m \u001b[1m0s\u001b[0m 18ms/step - loss: 0.9216 - mae: 0.6365 - rmse: 0.9591 - val_loss: 0.3545 - val_mae: 0.4002 - val_rmse: 0.5966\n",
      "Epoch 49/100\n",
      "\u001b[1m25/25\u001b[0m \u001b[32m━━━━━━━━━━━━━━━━━━━━\u001b[0m\u001b[37m\u001b[0m \u001b[1m0s\u001b[0m 19ms/step - loss: 0.9179 - mae: 0.6355 - rmse: 0.9571 - val_loss: 0.3545 - val_mae: 0.4003 - val_rmse: 0.5966\n",
      "Epoch 50/100\n",
      "\u001b[1m25/25\u001b[0m \u001b[32m━━━━━━━━━━━━━━━━━━━━\u001b[0m\u001b[37m\u001b[0m \u001b[1m0s\u001b[0m 18ms/step - loss: 0.9223 - mae: 0.6360 - rmse: 0.9594 - val_loss: 0.3545 - val_mae: 0.4003 - val_rmse: 0.5966\n",
      "Epoch 51/100\n",
      "\u001b[1m25/25\u001b[0m \u001b[32m━━━━━━━━━━━━━━━━━━━━\u001b[0m\u001b[37m\u001b[0m \u001b[1m0s\u001b[0m 19ms/step - loss: 0.9294 - mae: 0.6392 - rmse: 0.9631 - val_loss: 0.3544 - val_mae: 0.4003 - val_rmse: 0.5966\n",
      "Epoch 52/100\n",
      "\u001b[1m25/25\u001b[0m \u001b[32m━━━━━━━━━━━━━━━━━━━━\u001b[0m\u001b[37m\u001b[0m \u001b[1m0s\u001b[0m 19ms/step - loss: 0.9253 - mae: 0.6377 - rmse: 0.9610 - val_loss: 0.3544 - val_mae: 0.4003 - val_rmse: 0.5966\n",
      "Epoch 53/100\n",
      "\u001b[1m25/25\u001b[0m \u001b[32m━━━━━━━━━━━━━━━━━━━━\u001b[0m\u001b[37m\u001b[0m \u001b[1m0s\u001b[0m 18ms/step - loss: 0.9231 - mae: 0.6362 - rmse: 0.9598 - val_loss: 0.3544 - val_mae: 0.4003 - val_rmse: 0.5965\n",
      "Epoch 54/100\n",
      "\u001b[1m25/25\u001b[0m \u001b[32m━━━━━━━━━━━━━━━━━━━━\u001b[0m\u001b[37m\u001b[0m \u001b[1m0s\u001b[0m 18ms/step - loss: 0.9309 - mae: 0.6372 - rmse: 0.9638 - val_loss: 0.3544 - val_mae: 0.4004 - val_rmse: 0.5965\n",
      "Epoch 55/100\n",
      "\u001b[1m25/25\u001b[0m \u001b[32m━━━━━━━━━━━━━━━━━━━━\u001b[0m\u001b[37m\u001b[0m \u001b[1m0s\u001b[0m 19ms/step - loss: 0.9238 - mae: 0.6379 - rmse: 0.9602 - val_loss: 0.3544 - val_mae: 0.4004 - val_rmse: 0.5965\n",
      "Epoch 56/100\n",
      "\u001b[1m25/25\u001b[0m \u001b[32m━━━━━━━━━━━━━━━━━━━━\u001b[0m\u001b[37m\u001b[0m \u001b[1m0s\u001b[0m 18ms/step - loss: 0.9242 - mae: 0.6356 - rmse: 0.9603 - val_loss: 0.3543 - val_mae: 0.4004 - val_rmse: 0.5965\n",
      "Epoch 57/100\n",
      "\u001b[1m25/25\u001b[0m \u001b[32m━━━━━━━━━━━━━━━━━━━━\u001b[0m\u001b[37m\u001b[0m \u001b[1m0s\u001b[0m 18ms/step - loss: 0.9242 - mae: 0.6357 - rmse: 0.9605 - val_loss: 0.3544 - val_mae: 0.4004 - val_rmse: 0.5965\n",
      "Epoch 58/100\n",
      "\u001b[1m25/25\u001b[0m \u001b[32m━━━━━━━━━━━━━━━━━━━━\u001b[0m\u001b[37m\u001b[0m \u001b[1m0s\u001b[0m 19ms/step - loss: 0.9226 - mae: 0.6343 - rmse: 0.9596 - val_loss: 0.3544 - val_mae: 0.4004 - val_rmse: 0.5965\n",
      "Epoch 59/100\n",
      "\u001b[1m25/25\u001b[0m \u001b[32m━━━━━━━━━━━━━━━━━━━━\u001b[0m\u001b[37m\u001b[0m \u001b[1m0s\u001b[0m 19ms/step - loss: 0.9236 - mae: 0.6372 - rmse: 0.9600 - val_loss: 0.3543 - val_mae: 0.4004 - val_rmse: 0.5965\n",
      "Epoch 60/100\n",
      "\u001b[1m25/25\u001b[0m \u001b[32m━━━━━━━━━━━━━━━━━━━━\u001b[0m\u001b[37m\u001b[0m \u001b[1m0s\u001b[0m 18ms/step - loss: 0.9213 - mae: 0.6337 - rmse: 0.9589 - val_loss: 0.3543 - val_mae: 0.4004 - val_rmse: 0.5965\n",
      "Epoch 61/100\n",
      "\u001b[1m25/25\u001b[0m \u001b[32m━━━━━━━━━━━━━━━━━━━━\u001b[0m\u001b[37m\u001b[0m \u001b[1m0s\u001b[0m 19ms/step - loss: 0.9183 - mae: 0.6341 - rmse: 0.9573 - val_loss: 0.3543 - val_mae: 0.4004 - val_rmse: 0.5965\n",
      "Epoch 62/100\n",
      "\u001b[1m25/25\u001b[0m \u001b[32m━━━━━━━━━━━━━━━━━━━━\u001b[0m\u001b[37m\u001b[0m \u001b[1m0s\u001b[0m 18ms/step - loss: 0.9243 - mae: 0.6366 - rmse: 0.9605 - val_loss: 0.3543 - val_mae: 0.4005 - val_rmse: 0.5965\n",
      "Epoch 63/100\n",
      "\u001b[1m25/25\u001b[0m \u001b[32m━━━━━━━━━━━━━━━━━━━━\u001b[0m\u001b[37m\u001b[0m \u001b[1m0s\u001b[0m 18ms/step - loss: 0.9193 - mae: 0.6343 - rmse: 0.9578 - val_loss: 0.3543 - val_mae: 0.4005 - val_rmse: 0.5965\n",
      "Epoch 64/100\n",
      "\u001b[1m25/25\u001b[0m \u001b[32m━━━━━━━━━━━━━━━━━━━━\u001b[0m\u001b[37m\u001b[0m \u001b[1m0s\u001b[0m 19ms/step - loss: 0.9205 - mae: 0.6352 - rmse: 0.9585 - val_loss: 0.3543 - val_mae: 0.4005 - val_rmse: 0.5965\n",
      "Epoch 65/100\n",
      "\u001b[1m25/25\u001b[0m \u001b[32m━━━━━━━━━━━━━━━━━━━━\u001b[0m\u001b[37m\u001b[0m \u001b[1m0s\u001b[0m 19ms/step - loss: 0.9219 - mae: 0.6350 - rmse: 0.9592 - val_loss: 0.3543 - val_mae: 0.4005 - val_rmse: 0.5964\n",
      "Epoch 66/100\n",
      "\u001b[1m25/25\u001b[0m \u001b[32m━━━━━━━━━━━━━━━━━━━━\u001b[0m\u001b[37m\u001b[0m \u001b[1m0s\u001b[0m 18ms/step - loss: 0.9210 - mae: 0.6352 - rmse: 0.9587 - val_loss: 0.3543 - val_mae: 0.4005 - val_rmse: 0.5964\n",
      "Epoch 67/100\n",
      "\u001b[1m25/25\u001b[0m \u001b[32m━━━━━━━━━━━━━━━━━━━━\u001b[0m\u001b[37m\u001b[0m \u001b[1m0s\u001b[0m 19ms/step - loss: 0.9209 - mae: 0.6345 - rmse: 0.9587 - val_loss: 0.3543 - val_mae: 0.4005 - val_rmse: 0.5964\n",
      "Epoch 68/100\n",
      "\u001b[1m25/25\u001b[0m \u001b[32m━━━━━━━━━━━━━━━━━━━━\u001b[0m\u001b[37m\u001b[0m \u001b[1m0s\u001b[0m 18ms/step - loss: 0.9235 - mae: 0.6353 - rmse: 0.9600 - val_loss: 0.3543 - val_mae: 0.4005 - val_rmse: 0.5964\n",
      "Epoch 69/100\n",
      "\u001b[1m25/25\u001b[0m \u001b[32m━━━━━━━━━━━━━━━━━━━━\u001b[0m\u001b[37m\u001b[0m \u001b[1m0s\u001b[0m 18ms/step - loss: 0.9250 - mae: 0.6369 - rmse: 0.9609 - val_loss: 0.3543 - val_mae: 0.4005 - val_rmse: 0.5965\n",
      "Epoch 70/100\n",
      "\u001b[1m25/25\u001b[0m \u001b[32m━━━━━━━━━━━━━━━━━━━━\u001b[0m\u001b[37m\u001b[0m \u001b[1m0s\u001b[0m 19ms/step - loss: 0.9197 - mae: 0.6341 - rmse: 0.9580 - val_loss: 0.3543 - val_mae: 0.4005 - val_rmse: 0.5964\n",
      "Epoch 71/100\n",
      "\u001b[1m25/25\u001b[0m \u001b[32m━━━━━━━━━━━━━━━━━━━━\u001b[0m\u001b[37m\u001b[0m \u001b[1m0s\u001b[0m 18ms/step - loss: 0.9255 - mae: 0.6356 - rmse: 0.9611 - val_loss: 0.3543 - val_mae: 0.4005 - val_rmse: 0.5964\n",
      "Epoch 72/100\n",
      "\u001b[1m25/25\u001b[0m \u001b[32m━━━━━━━━━━━━━━━━━━━━\u001b[0m\u001b[37m\u001b[0m \u001b[1m0s\u001b[0m 19ms/step - loss: 0.9213 - mae: 0.6371 - rmse: 0.9589 - val_loss: 0.3543 - val_mae: 0.4005 - val_rmse: 0.5964\n",
      "Epoch 73/100\n",
      "\u001b[1m25/25\u001b[0m \u001b[32m━━━━━━━━━━━━━━━━━━━━\u001b[0m\u001b[37m\u001b[0m \u001b[1m0s\u001b[0m 19ms/step - loss: 0.9205 - mae: 0.6333 - rmse: 0.9585 - val_loss: 0.3543 - val_mae: 0.4005 - val_rmse: 0.5964\n",
      "Epoch 74/100\n",
      "\u001b[1m25/25\u001b[0m \u001b[32m━━━━━━━━━━━━━━━━━━━━\u001b[0m\u001b[37m\u001b[0m \u001b[1m0s\u001b[0m 18ms/step - loss: 0.9215 - mae: 0.6366 - rmse: 0.9590 - val_loss: 0.3543 - val_mae: 0.4005 - val_rmse: 0.5964\n",
      "Epoch 75/100\n",
      "\u001b[1m25/25\u001b[0m \u001b[32m━━━━━━━━━━━━━━━━━━━━\u001b[0m\u001b[37m\u001b[0m \u001b[1m0s\u001b[0m 18ms/step - loss: 0.9233 - mae: 0.6356 - rmse: 0.9599 - val_loss: 0.3543 - val_mae: 0.4005 - val_rmse: 0.5964\n",
      "Epoch 76/100\n",
      "\u001b[1m25/25\u001b[0m \u001b[32m━━━━━━━━━━━━━━━━━━━━\u001b[0m\u001b[37m\u001b[0m \u001b[1m0s\u001b[0m 19ms/step - loss: 0.9246 - mae: 0.6362 - rmse: 0.9606 - val_loss: 0.3543 - val_mae: 0.4005 - val_rmse: 0.5964\n",
      "Epoch 77/100\n",
      "\u001b[1m25/25\u001b[0m \u001b[32m━━━━━━━━━━━━━━━━━━━━\u001b[0m\u001b[37m\u001b[0m \u001b[1m0s\u001b[0m 18ms/step - loss: 0.9218 - mae: 0.6347 - rmse: 0.9592 - val_loss: 0.3543 - val_mae: 0.4005 - val_rmse: 0.5964\n",
      "Epoch 78/100\n",
      "\u001b[1m25/25\u001b[0m \u001b[32m━━━━━━━━━━━━━━━━━━━━\u001b[0m\u001b[37m\u001b[0m \u001b[1m0s\u001b[0m 18ms/step - loss: 0.9208 - mae: 0.6354 - rmse: 0.9586 - val_loss: 0.3543 - val_mae: 0.4005 - val_rmse: 0.5964\n",
      "Epoch 79/100\n",
      "\u001b[1m25/25\u001b[0m \u001b[32m━━━━━━━━━━━━━━━━━━━━\u001b[0m\u001b[37m\u001b[0m \u001b[1m0s\u001b[0m 18ms/step - loss: 0.9237 - mae: 0.6375 - rmse: 0.9601 - val_loss: 0.3543 - val_mae: 0.4005 - val_rmse: 0.5964\n",
      "Epoch 80/100\n",
      "\u001b[1m25/25\u001b[0m \u001b[32m━━━━━━━━━━━━━━━━━━━━\u001b[0m\u001b[37m\u001b[0m \u001b[1m0s\u001b[0m 18ms/step - loss: 0.9228 - mae: 0.6348 - rmse: 0.9597 - val_loss: 0.3543 - val_mae: 0.4005 - val_rmse: 0.5964\n",
      "Epoch 81/100\n",
      "\u001b[1m25/25\u001b[0m \u001b[32m━━━━━━━━━━━━━━━━━━━━\u001b[0m\u001b[37m\u001b[0m \u001b[1m0s\u001b[0m 19ms/step - loss: 0.9211 - mae: 0.6352 - rmse: 0.9589 - val_loss: 0.3542 - val_mae: 0.4005 - val_rmse: 0.5964\n",
      "Epoch 82/100\n",
      "\u001b[1m25/25\u001b[0m \u001b[32m━━━━━━━━━━━━━━━━━━━━\u001b[0m\u001b[37m\u001b[0m \u001b[1m0s\u001b[0m 18ms/step - loss: 0.9254 - mae: 0.6366 - rmse: 0.9611 - val_loss: 0.3542 - val_mae: 0.4005 - val_rmse: 0.5964\n",
      "Epoch 83/100\n",
      "\u001b[1m25/25\u001b[0m \u001b[32m━━━━━━━━━━━━━━━━━━━━\u001b[0m\u001b[37m\u001b[0m \u001b[1m0s\u001b[0m 18ms/step - loss: 0.9237 - mae: 0.6361 - rmse: 0.9602 - val_loss: 0.3543 - val_mae: 0.4005 - val_rmse: 0.5964\n",
      "Epoch 84/100\n",
      "\u001b[1m25/25\u001b[0m \u001b[32m━━━━━━━━━━━━━━━━━━━━\u001b[0m\u001b[37m\u001b[0m \u001b[1m0s\u001b[0m 19ms/step - loss: 0.9228 - mae: 0.6349 - rmse: 0.9598 - val_loss: 0.3543 - val_mae: 0.4005 - val_rmse: 0.5964\n",
      "Epoch 85/100\n",
      "\u001b[1m25/25\u001b[0m \u001b[32m━━━━━━━━━━━━━━━━━━━━\u001b[0m\u001b[37m\u001b[0m \u001b[1m0s\u001b[0m 19ms/step - loss: 0.9243 - mae: 0.6362 - rmse: 0.9604 - val_loss: 0.3542 - val_mae: 0.4005 - val_rmse: 0.5964\n",
      "Epoch 86/100\n",
      "\u001b[1m25/25\u001b[0m \u001b[32m━━━━━━━━━━━━━━━━━━━━\u001b[0m\u001b[37m\u001b[0m \u001b[1m0s\u001b[0m 18ms/step - loss: 0.9194 - mae: 0.6343 - rmse: 0.9579 - val_loss: 0.3542 - val_mae: 0.4005 - val_rmse: 0.5964\n",
      "Epoch 87/100\n",
      "\u001b[1m25/25\u001b[0m \u001b[32m━━━━━━━━━━━━━━━━━━━━\u001b[0m\u001b[37m\u001b[0m \u001b[1m0s\u001b[0m 19ms/step - loss: 0.9180 - mae: 0.6326 - rmse: 0.9572 - val_loss: 0.3542 - val_mae: 0.4005 - val_rmse: 0.5964\n",
      "Epoch 88/100\n",
      "\u001b[1m25/25\u001b[0m \u001b[32m━━━━━━━━━━━━━━━━━━━━\u001b[0m\u001b[37m\u001b[0m \u001b[1m0s\u001b[0m 18ms/step - loss: 0.9221 - mae: 0.6353 - rmse: 0.9593 - val_loss: 0.3542 - val_mae: 0.4005 - val_rmse: 0.5964\n",
      "Epoch 89/100\n",
      "\u001b[1m25/25\u001b[0m \u001b[32m━━━━━━━━━━━━━━━━━━━━\u001b[0m\u001b[37m\u001b[0m \u001b[1m0s\u001b[0m 19ms/step - loss: 0.9231 - mae: 0.6356 - rmse: 0.9599 - val_loss: 0.3542 - val_mae: 0.4005 - val_rmse: 0.5964\n",
      "Epoch 90/100\n",
      "\u001b[1m25/25\u001b[0m \u001b[32m━━━━━━━━━━━━━━━━━━━━\u001b[0m\u001b[37m\u001b[0m \u001b[1m0s\u001b[0m 18ms/step - loss: 0.9278 - mae: 0.6359 - rmse: 0.9623 - val_loss: 0.3542 - val_mae: 0.4005 - val_rmse: 0.5964\n",
      "Epoch 91/100\n",
      "\u001b[1m25/25\u001b[0m \u001b[32m━━━━━━━━━━━━━━━━━━━━\u001b[0m\u001b[37m\u001b[0m \u001b[1m0s\u001b[0m 19ms/step - loss: 0.9208 - mae: 0.6349 - rmse: 0.9586 - val_loss: 0.3542 - val_mae: 0.4005 - val_rmse: 0.5964\n",
      "Epoch 92/100\n",
      "\u001b[1m25/25\u001b[0m \u001b[32m━━━━━━━━━━━━━━━━━━━━\u001b[0m\u001b[37m\u001b[0m \u001b[1m0s\u001b[0m 19ms/step - loss: 0.9192 - mae: 0.6350 - rmse: 0.9578 - val_loss: 0.3542 - val_mae: 0.4005 - val_rmse: 0.5964\n",
      "Epoch 93/100\n",
      "\u001b[1m25/25\u001b[0m \u001b[32m━━━━━━━━━━━━━━━━━━━━\u001b[0m\u001b[37m\u001b[0m \u001b[1m0s\u001b[0m 19ms/step - loss: 0.9240 - mae: 0.6360 - rmse: 0.9603 - val_loss: 0.3542 - val_mae: 0.4005 - val_rmse: 0.5964\n",
      "Epoch 94/100\n",
      "\u001b[1m25/25\u001b[0m \u001b[32m━━━━━━━━━━━━━━━━━━━━\u001b[0m\u001b[37m\u001b[0m \u001b[1m0s\u001b[0m 18ms/step - loss: 0.9235 - mae: 0.6355 - rmse: 0.9600 - val_loss: 0.3542 - val_mae: 0.4006 - val_rmse: 0.5964\n",
      "Epoch 95/100\n",
      "\u001b[1m25/25\u001b[0m \u001b[32m━━━━━━━━━━━━━━━━━━━━\u001b[0m\u001b[37m\u001b[0m \u001b[1m0s\u001b[0m 19ms/step - loss: 0.9234 - mae: 0.6356 - rmse: 0.9600 - val_loss: 0.3542 - val_mae: 0.4006 - val_rmse: 0.5964\n",
      "Epoch 96/100\n",
      "\u001b[1m25/25\u001b[0m \u001b[32m━━━━━━━━━━━━━━━━━━━━\u001b[0m\u001b[37m\u001b[0m \u001b[1m0s\u001b[0m 18ms/step - loss: 0.9210 - mae: 0.6353 - rmse: 0.9587 - val_loss: 0.3542 - val_mae: 0.4006 - val_rmse: 0.5964\n",
      "Epoch 97/100\n",
      "\u001b[1m25/25\u001b[0m \u001b[32m━━━━━━━━━━━━━━━━━━━━\u001b[0m\u001b[37m\u001b[0m \u001b[1m0s\u001b[0m 18ms/step - loss: 0.9215 - mae: 0.6341 - rmse: 0.9590 - val_loss: 0.3542 - val_mae: 0.4006 - val_rmse: 0.5964\n",
      "Epoch 98/100\n",
      "\u001b[1m25/25\u001b[0m \u001b[32m━━━━━━━━━━━━━━━━━━━━\u001b[0m\u001b[37m\u001b[0m \u001b[1m0s\u001b[0m 20ms/step - loss: 0.9238 - mae: 0.6374 - rmse: 0.9603 - val_loss: 0.3542 - val_mae: 0.4006 - val_rmse: 0.5964\n",
      "Epoch 99/100\n",
      "\u001b[1m25/25\u001b[0m \u001b[32m━━━━━━━━━━━━━━━━━━━━\u001b[0m\u001b[37m\u001b[0m \u001b[1m0s\u001b[0m 18ms/step - loss: 0.9216 - mae: 0.6353 - rmse: 0.9590 - val_loss: 0.3542 - val_mae: 0.4006 - val_rmse: 0.5964\n",
      "Epoch 100/100\n",
      "\u001b[1m25/25\u001b[0m \u001b[32m━━━━━━━━━━━━━━━━━━━━\u001b[0m\u001b[37m\u001b[0m \u001b[1m0s\u001b[0m 19ms/step - loss: 0.9205 - mae: 0.6344 - rmse: 0.9585 - val_loss: 0.3542 - val_mae: 0.4006 - val_rmse: 0.5964\n",
      "\u001b[1m12/12\u001b[0m \u001b[32m━━━━━━━━━━━━━━━━━━━━\u001b[0m\u001b[37m\u001b[0m \u001b[1m1s\u001b[0m 40ms/step\n",
      "naive: 430132.6457969352\n",
      "model: 426741.0818533084\n"
     ]
    }
   ],
   "source": [
    "callbacks = [tf.keras.callbacks.EarlyStopping(\n",
    "    monitor='val_rmse', min_delta=0, patience=5, verbose=1,\n",
    "    mode='min', baseline=None, restore_best_weights=True)]\n",
    "tf.keras.utils.set_random_seed(4013)\n",
    "hp_conv_filters = 64\n",
    "hp_conv_kernel_size = 31\n",
    "\n",
    "hp_lstm_depth = 2\n",
    "hp_lstm_size = 32\n",
    "hp_lstm_dropout = 0.8\n",
    "\n",
    "hp_dense_depth = 1\n",
    "hp_dense_size = 32\n",
    "hp_dense_dropout = 0.8\n",
    "\n",
    "hp_lr = 0.0005\n",
    "   \n",
    "model = Sequential()\n",
    "model.add(Conv1D(hp_conv_filters, hp_conv_kernel_size, padding = \"same\"))\n",
    "model.add(AveragePooling1D(pool_size=2)) \n",
    "\n",
    "model.add(Conv1D(hp_conv_filters, 15, padding = \"same\"))\n",
    "model.add(AveragePooling1D(pool_size=2))\n",
    "\n",
    "model.add(LSTM(hp_lstm_size, return_sequences=True, dropout = hp_lstm_dropout))\n",
    "model.add(LSTM(hp_lstm_size, return_sequences=True, dropout = hp_lstm_dropout))\n",
    "model.add(LSTM(hp_lstm_size, return_sequences=False, dropout = hp_lstm_dropout))\n",
    "\n",
    "model.add(Dense(hp_dense_size, activation = \"relu\"))\n",
    "model.add(Dropout(hp_dense_dropout))\n",
    "model.add(Dense(hp_dense_size, activation = \"relu\"))\n",
    "model.add(Dropout(hp_dense_dropout))\n",
    "model.add(Dense(1))\n",
    "\n",
    "model.compile(optimizer = Adam(learning_rate = hp_lr), loss='mse', metrics = metrics)\n",
    "model.fit(X_train_day_120, y_train_day_120\n",
    "          , batch_size=64, epochs=100, shuffle=True, validation_data = (X_test_day_120, y_test_day_120), callbacks = None)\n",
    "test_close = df_day[(df_day.index >= \"2023-01-01\")*(df_day.index < \"2024-01-01\")].close.copy()\n",
    "naive_pred = df_day[(df_day.index >= \"2022-12-31\")*(df_day.index < \"2023-12-31\")].close.values\n",
    "pred_return = pp_day_120.scaler_y.inverse_transform(model.predict(X_test_day_120))[:,0]\n",
    "pred_close = naive_pred*(pred_return+1)\n",
    "print(f\"naive: {np.mean((test_close - naive_pred)**2)}\")\n",
    "print(f\"model: {np.mean((test_close - pred_close)**2)}\")"
   ]
  },
  {
   "cell_type": "code",
   "execution_count": 303,
   "metadata": {},
   "outputs": [],
   "source": [
    "feature_extractor = tf.keras.Model(\n",
    "    inputs= model.inputs,\n",
    "    outputs=[layer.output for layer in model.layers],\n",
    ")\n",
    "\n",
    "# Call feature extractor on test input.\n",
    "x = X_train_day_120\n",
    "features = feature_extractor(x)"
   ]
  },
  {
   "cell_type": "code",
   "execution_count": 305,
   "metadata": {},
   "outputs": [],
   "source": [
    "conv_out = np.array(features[1])"
   ]
  },
  {
   "cell_type": "code",
   "execution_count": 308,
   "metadata": {},
   "outputs": [
    {
     "data": {
      "text/plain": [
       "array([-0.5315848 , -0.21858472,  0.0363284 , -0.41186708,  0.23668115,\n",
       "        0.5214778 ,  0.00257657,  0.3846956 , -0.29069442, -0.2699097 ,\n",
       "        0.34909987,  0.27215675, -0.15261565, -0.16219117,  0.06584486,\n",
       "       -0.3428703 , -0.27519995,  0.0343767 ,  0.0340385 , -0.00390295,\n",
       "        0.42331085,  0.43910047,  0.55098575,  0.5355447 ,  0.03230629,\n",
       "       -0.22646838, -0.0102107 , -0.5282755 ,  0.5943944 ,  0.09364085,\n",
       "       -0.19627412, -0.00776936,  1.1471385 , -0.41828746, -0.24241105,\n",
       "        0.12670685, -0.0200521 , -0.00904432,  0.10321371,  0.08159857,\n",
       "        0.49652785,  0.32974967, -0.13855301, -0.01985857, -0.47980666,\n",
       "        0.13392276, -0.01476617,  0.14453444,  0.049753  , -0.2025559 ,\n",
       "       -0.14799082, -0.31978208, -0.23807816, -0.19024494,  0.3879264 ,\n",
       "       -0.32397896, -0.18015431, -0.13391478,  0.02244563, -0.08256441,\n",
       "        0.48274824, -0.12944388,  0.1590339 , -0.32073677], dtype=float32)"
      ]
     },
     "execution_count": 308,
     "metadata": {},
     "output_type": "execute_result"
    }
   ],
   "source": [
    "conv_out[0,0,:]"
   ]
  },
  {
   "cell_type": "code",
   "execution_count": 330,
   "metadata": {},
   "outputs": [
    {
     "data": {
      "text/plain": [
       "[<matplotlib.lines.Line2D at 0x1ca90f12350>]"
      ]
     },
     "execution_count": 330,
     "metadata": {},
     "output_type": "execute_result"
    },
    {
     "data": {
      "image/png": "[encoded data removed]",
      "text/plain": [
       "<Figure size 640x480 with 1 Axes>"
      ]
     },
     "metadata": {},
     "output_type": "display_data"
    }
   ],
   "source": [
    "plt.plot(conv_out[10,:,1])"
   ]
  },
  {
   "cell_type": "code",
   "execution_count": 325,
   "metadata": {},
   "outputs": [
    {
     "data": {
      "text/plain": [
       "[<matplotlib.lines.Line2D at 0x1ca8fb61a10>]"
      ]
     },
     "execution_count": 325,
     "metadata": {},
     "output_type": "execute_result"
    },
    {
     "data": {
      "image/png": "[encoded data removed]",
      "text/plain": [
       "<Figure size 640x480 with 1 Axes>"
      ]
     },
     "metadata": {},
     "output_type": "display_data"
    }
   ],
   "source": [
    "plt.plot(X_test_day_120[2,:,1])"
   ]
  },
  {
   "cell_type": "code",
   "execution_count": null,
   "metadata": {},
   "outputs": [],
   "source": [
    "426260.15959292813"
   ]
  },
  {
   "cell_type": "code",
   "execution_count": 246,
   "metadata": {},
   "outputs": [
    {
     "data": {
      "text/plain": [
       "array([16547.49609375, 16625.08007812, 16688.47070312, 16679.85742188,\n",
       "       16863.23828125, 16836.73632812, 16951.96875   , 16955.078125  ,\n",
       "       17091.14453125, 17196.5546875 , 17446.29296875, 17934.89648438,\n",
       "       18869.58789062, 19909.57421875, 20976.29882812, 20880.79882812,\n",
       "       21169.6328125 , 21161.51953125, 20688.78125   , 21086.79296875,\n",
       "       22676.55273438, 22777.625     , 22720.41601562, 22934.43164062,\n",
       "       22636.46875   , 23117.859375  , 23032.77734375, 23078.72851562,\n",
       "       23031.08984375, 23774.56640625, 22840.13867188, 23139.28320312,\n",
       "       23723.76953125, 23471.87109375, 23449.32226562, 23331.84765625,\n",
       "       22955.66601562, 22760.109375  , 23264.29101562, 22939.3984375 ,\n",
       "       21819.0390625 , 21651.18359375, 21870.875     , 21788.203125  ,\n",
       "       21808.1015625 , 22220.8046875 , 24307.84179688, 23623.47460938,\n",
       "       24565.6015625 , 24641.27734375, 24327.64257812, 24829.1484375 ,\n",
       "       24436.35351562, 24188.84375   , 23947.4921875 , 23198.12695312,\n",
       "       23175.375     , 23561.21289062, 23522.87109375, 23147.35351562,\n",
       "       23646.55078125, 23475.46679688, 22362.6796875 , 22353.34960938,\n",
       "       22435.51367188, 22429.7578125 , 22219.76953125, 21718.08007812,\n",
       "       20363.02148438, 20187.24414062, 20632.41015625, 22163.94921875,\n",
       "       24197.53320312, 24746.07421875, 24375.9609375 , 25052.7890625 ,\n",
       "       27423.9296875 , 26965.87890625, 28038.67578125, 27767.23632812,\n",
       "       28175.81640625, 27307.4375    , 28333.97265625, 27493.28515625,\n",
       "       27494.70703125, 27994.33007812, 27139.88867188, 27268.13085938,\n",
       "       28348.44140625, 28033.5625    , 28478.484375  , 28411.03515625,\n",
       "       28199.30859375, 27790.22070312, 28168.08984375, 28177.984375  ,\n",
       "       28044.140625  , 27925.859375  , 27947.79492188, 28333.05078125,\n",
       "       29652.98046875, 30235.05859375, 30139.05273438, 30399.06640625,\n",
       "       30485.69921875, 30318.49609375, 30315.35546875, 29445.04492188,\n",
       "       30397.55273438, 28822.6796875 , 28245.98828125, 27276.91015625,\n",
       "       27817.5       , 27591.38476562, 27525.33984375, 28307.59765625,\n",
       "       28422.70117188, 29473.78710938, 29340.26171875, 29248.48828125,\n",
       "       29268.80664062, 28091.56835938, 28680.53710938, 29006.30859375,\n",
       "       28847.7109375 , 29534.38476562, 28904.62304688, 28454.97851562,\n",
       "       27694.2734375 , 27658.77539062, 27621.75585938, 27000.7890625 ,\n",
       "       26804.99023438, 26784.078125  , 26930.63867188, 27192.69335938,\n",
       "       27036.65039062, 27398.80273438, 26832.20898438, 26890.12890625,\n",
       "       27129.5859375 , 26753.82617188, 26851.27734375, 27225.7265625 ,\n",
       "       26334.81835938, 26476.20703125, 26719.29101562, 26868.35351562,\n",
       "       28085.64648438, 27745.88476562, 27702.34960938, 27219.65820312,\n",
       "       26819.97265625, 27249.58984375, 27075.12890625, 27119.06640625,\n",
       "       25760.09765625, 27238.78320312, 26345.99804688, 26508.21679688,\n",
       "       26480.375     , 25851.24023438, 25940.16796875, 25902.5       ,\n",
       "       25918.72851562, 25124.67578125, 25576.39453125, 26327.46289062,\n",
       "       26510.67578125, 26336.21289062, 26851.02929688, 28327.48828125,\n",
       "       30027.296875  , 29912.28125   , 30695.46875   , 30548.6953125 ,\n",
       "       30480.26171875, 30271.13085938, 30688.1640625 , 30086.24609375,\n",
       "       30445.3515625 , 30477.25195312, 30590.078125  , 30620.76953125,\n",
       "       31156.43945312, 30777.58203125, 30514.16601562, 29909.33789062,\n",
       "       30342.265625  , 30292.54101562, 30171.234375  , 30414.47070312,\n",
       "       30620.95117188, 30391.64648438, 31476.04882812, 30334.06835938,\n",
       "       30295.80664062, 30249.1328125 , 30145.88867188, 29856.5625    ,\n",
       "       29913.92382812, 29792.015625  , 29908.74414062, 29771.80273438,\n",
       "       30084.5390625 , 29176.91601562, 29227.390625  , 29354.97265625,\n",
       "       29210.68945312, 29319.24609375, 29356.91796875, 29275.30859375,\n",
       "       29230.11132812, 29675.73242188, 29151.95898438, 29178.6796875 ,\n",
       "       29074.09179688, 29042.12695312, 29041.85546875, 29180.578125  ,\n",
       "       29765.4921875 , 29561.49414062, 29429.59179688, 29397.71484375,\n",
       "       29415.96484375, 29282.9140625 , 29408.44335938, 29170.34765625,\n",
       "       28701.77929688, 26664.55078125, 26049.55664062, 26096.20507812,\n",
       "       26189.58398438, 26124.140625  , 26031.65625   , 26431.640625  ,\n",
       "       26162.37304688, 26047.66796875, 26008.46289062, 26089.69335938,\n",
       "       26106.15039062, 27727.39257812, 27297.265625  , 25931.47265625,\n",
       "       25800.72460938, 25868.79882812, 25969.56640625, 25812.41601562,\n",
       "       25779.98242188, 25753.23632812, 26240.1953125 , 25905.65429688,\n",
       "       25895.67773438, 25832.2265625 , 25162.65429688, 25833.34375   ,\n",
       "       26228.32421875, 26539.67382812, 26608.69335938, 26568.28125   ,\n",
       "       26534.1875    , 26754.28125   , 27211.1171875 , 27132.0078125 ,\n",
       "       26567.6328125 , 26579.56835938, 26579.390625  , 26256.82617188,\n",
       "       26298.48046875, 26217.25      , 26352.71679688, 27021.546875  ,\n",
       "       26911.72070312, 26967.91601562, 27983.75      , 27530.78515625,\n",
       "       27429.97851562, 27799.39453125, 27415.91210938, 27946.59765625,\n",
       "       27968.83984375, 27935.08984375, 27583.67773438, 27391.01953125,\n",
       "       26873.3203125 , 26756.79882812, 26862.375     , 26861.70703125,\n",
       "       27159.65234375, 28519.46679688, 28415.74804688, 28328.34179688,\n",
       "       28719.80664062, 29682.94921875, 29918.41210938, 29993.89648438,\n",
       "       33086.234375  , 33901.52734375, 34502.8203125 , 34156.6484375 ,\n",
       "       33909.80078125, 34089.57421875, 34538.48046875, 34502.36328125,\n",
       "       34667.78125   , 35437.25390625, 34938.2421875 , 34732.32421875,\n",
       "       35082.1953125 , 35049.35546875, 35037.37109375, 35443.5625    ,\n",
       "       35655.27734375, 36693.125     , 37313.96875   , 37138.05078125,\n",
       "       37054.51953125, 36502.35546875, 35537.640625  , 37880.58203125,\n",
       "       36154.76953125, 36596.68359375, 36585.703125  , 37386.546875  ,\n",
       "       37476.95703125, 35813.8125    , 37432.33984375, 37289.62109375,\n",
       "       37720.28125   , 37796.79296875, 37479.12109375, 37254.16796875,\n",
       "       37831.0859375 , 37858.4921875 , 37712.74609375, 38688.75      ,\n",
       "       39476.33203125, 39978.390625  , 41980.09765625, 44080.6484375 ,\n",
       "       43746.4453125 , 43292.6640625 , 44166.6015625 , 43725.984375  ,\n",
       "       43779.69921875, 41243.83203125, 41450.22265625, 42890.7421875 ,\n",
       "       43023.97265625, 41929.7578125 , 42240.1171875 , 41364.6640625 ,\n",
       "       42623.5390625 , 42270.52734375, 43652.25      , 43869.15234375,\n",
       "       43997.90234375, 43739.54296875, 43016.1171875 , 43613.140625  ,\n",
       "       42520.40234375, 43442.85546875, 42627.85546875, 42099.40234375,\n",
       "       42156.90234375])"
      ]
     },
     "execution_count": 246,
     "metadata": {},
     "output_type": "execute_result"
    }
   ],
   "source": [
    "naive_pred"
   ]
  },
  {
   "cell_type": "code",
   "execution_count": 245,
   "metadata": {},
   "outputs": [
    {
     "data": {
      "text/plain": [
       "array([16558.64136993, 16636.9950444 , 16700.48879379, 16692.58513157,\n",
       "       16876.16220843, 16850.35045606, 16965.70636696, 16969.60046724,\n",
       "       17105.84861446, 17212.12435446, 17461.82461785, 17951.58148529,\n",
       "       18886.62057585, 19928.08441369, 20995.07310529, 20899.56230611,\n",
       "       21187.94922387, 21179.60440701, 20705.52985876, 21103.30322364,\n",
       "       22693.02907812, 22793.37648137, 22734.80890306, 22948.58554466,\n",
       "       22649.41064741, 23131.47058528, 23045.08091966, 23092.95496478,\n",
       "       23044.37541434, 23789.31531853, 22853.08538   , 23151.19680836,\n",
       "       23735.26573219, 23483.52783286, 23462.33754116, 23346.8726331 ,\n",
       "       22972.61333747, 22779.83717194, 23286.4415193 , 22964.7097969 ,\n",
       "       21847.29147366, 21684.33424307, 21908.61177883, 21829.83874513,\n",
       "       21851.95377936, 22268.06683126, 24361.24968435, 23679.85086849,\n",
       "       24627.3068884 , 24706.05735126, 24394.83455454, 24899.69090351,\n",
       "       24508.81248109, 24261.97019452, 24023.28615923, 23272.57238884,\n",
       "       23252.12059857, 23639.12103977, 23601.37873435, 23224.16912403,\n",
       "       23725.09910983, 23552.82835724, 22435.93694756, 22425.87281739,\n",
       "       22508.48264593, 22501.70537796, 22291.23423457, 21785.62182916,\n",
       "       20427.24482863, 20248.70873673, 20696.69360731, 22230.58949175,\n",
       "       24272.62434868, 24821.06225093, 24451.36460523, 25128.27945961,\n",
       "       27508.00010489, 27046.31742333, 28123.12330146, 27847.69192293,\n",
       "       28257.02257457, 27382.14338484, 28410.82146667, 27562.01666486,\n",
       "       27564.70725752, 28059.14153247, 27200.90693621, 27323.05974332,\n",
       "       28400.48412867, 28078.79793143, 28522.43474897, 28451.64698631,\n",
       "       28240.23295007, 27828.52059049, 28206.85677591, 28215.47503896,\n",
       "       28081.58024917, 27962.67169869, 27985.63565239, 28370.90988329,\n",
       "       29693.73798952, 30276.014253  , 30180.89871731, 30442.09601432,\n",
       "       30530.29422368, 30366.34510157, 30364.46437519, 29496.21198318,\n",
       "       30452.33176383, 28876.73032071, 28300.49289183, 27331.54456573,\n",
       "       27874.65969175, 27649.7178298 , 27584.66859886, 28369.91845054,\n",
       "       28485.96657613, 29540.63238332, 29406.82864631, 29315.33513085,\n",
       "       29334.32172755, 28155.11473098, 28743.78152078, 29070.58257868,\n",
       "       28910.03095741, 29597.6389738 , 28965.16054276, 28513.6550229 ,\n",
       "       27749.14294917, 27712.1798631 , 27672.65549637, 27048.60673646,\n",
       "       26849.52457772, 26827.55280015, 26974.16182476, 27235.48600686,\n",
       "       27079.3715192 , 27441.58984707, 26874.56868739, 26932.43259134,\n",
       "       27171.62598605, 26795.56141201, 26892.16271657, 27268.17198992,\n",
       "       26375.72729421, 26518.08362328, 26761.36415994, 26911.40126219,\n",
       "       28131.06640151, 27791.80041365, 27748.79424535, 27266.09829762,\n",
       "       26864.9731039 , 27294.56724894, 27118.56281205, 27162.17315667,\n",
       "       25800.23971517, 27280.71645907, 26385.98528279, 26547.84351905,\n",
       "       26519.64127453, 25888.96034008, 25977.89413848, 25939.37472999,\n",
       "       25955.79010541, 25159.82022305, 25612.74099054, 26364.12345386,\n",
       "       26548.45739281, 26373.03005607, 26889.78889963, 28367.68689591,\n",
       "       30071.87279606, 29955.69156455, 30742.25143051, 30593.93600581,\n",
       "       30527.87913392, 30316.83738702, 30736.77208375, 30132.13254267,\n",
       "       30493.94880979, 30523.71295094, 30638.59277718, 30666.96382694,\n",
       "       31205.33606689, 30823.7303823 , 30561.9491621 , 29954.63719867,\n",
       "       30390.27512689, 30339.32710474, 30220.02709073, 30463.08754607,\n",
       "       30672.01889454, 30442.29918021, 31529.26681143, 30386.51992959,\n",
       "       30347.43723914, 30301.9784147 , 30197.38955624, 29908.12077574,\n",
       "       29964.8144654 , 29843.45888547, 29959.86128244, 29823.62278506,\n",
       "       30136.31887805, 29227.16150674, 29277.49656684, 29405.07335752,\n",
       "       29260.25836424, 29368.73358982, 29405.89861296, 29324.37991931,\n",
       "       29279.48670453, 29726.33458097, 29202.55766807, 29230.14912359,\n",
       "       29126.38878955, 29095.30121373, 29096.10593262, 29236.2287036 ,\n",
       "       29821.44569567, 29616.15850176, 29482.27915688, 29449.6582567 ,\n",
       "       29466.15561495, 29332.36117908, 29456.39513973, 29217.33396644,\n",
       "       28746.87491359, 26706.24529273, 26089.42311289, 26135.95006515,\n",
       "       26228.71565505, 26163.1651695 , 26069.84441683, 26470.63612752,\n",
       "       26200.5783212 , 26086.19324213, 26046.22327585, 26128.30567063,\n",
       "       26144.5816597 , 27769.50620518, 27339.03509397, 25972.3176389 ,\n",
       "       25841.94187814, 25911.16100425, 26012.71275985, 25856.00592771,\n",
       "       25823.95088583, 25797.63809979, 26285.65562707, 25950.89943661,\n",
       "       25940.82210054, 25877.78689766, 25206.74574274, 25879.35567343,\n",
       "       26274.545632  , 26587.38989266, 26655.72148225, 26616.31162466,\n",
       "       26581.59636715, 26803.49305721, 27260.90006154, 27183.00439825,\n",
       "       26617.21073104, 26630.49299701, 26629.95054343, 26307.38286213,\n",
       "       26348.46841324, 26267.08979294, 26402.51567491, 27072.22631991,\n",
       "       26961.78352661, 27017.1896554 , 28034.842996  , 27580.03372789,\n",
       "       27479.64188214, 27848.32825895, 27465.27547652, 27995.4673425 ,\n",
       "       28018.83535593, 27983.57975331, 27632.77430585, 27438.01321043,\n",
       "       26920.72643685, 26802.04095108, 26908.96125501, 26906.11785779,\n",
       "       27205.68248098, 28565.49309128, 28463.03983336, 28373.36060387,\n",
       "       28767.34769094, 29730.38612571, 29968.16908542, 30042.63482129,\n",
       "       33141.87106968, 33957.70652528, 34561.32443096, 34214.44749362,\n",
       "       33968.26952344, 34148.54799617, 34599.37544991, 34563.20281001,\n",
       "       34729.03231644, 35499.39978817, 34998.75910032, 34792.09525972,\n",
       "       35142.03313667, 35109.83504062, 35095.69147451, 35503.88148239,\n",
       "       35712.63703534, 36753.26971874, 37369.83333844, 37194.06815106,\n",
       "       37106.042253  , 36556.19123529, 35588.45644561, 37936.26534093,\n",
       "       36208.01938838, 36652.81799982, 36645.39700015, 37454.09003805,\n",
       "       37548.03656988, 35886.2546466 , 37510.01033536, 37372.0541665 ,\n",
       "       37804.57466225, 37885.28097738, 37566.74028442, 37346.61271768,\n",
       "       37924.09640078, 37956.57504114, 37809.87590115, 38792.80264959,\n",
       "       39584.01818202, 40091.05403166, 42099.42298991, 44208.27757326,\n",
       "       43872.85127734, 43417.64528055, 44293.95832124, 43849.45910619,\n",
       "       43903.16384416, 41357.05259943, 41562.37918494, 43002.56294866,\n",
       "       43133.73020063, 42032.17037103, 42342.42673648, 41458.31953723,\n",
       "       42719.43507442, 42359.50670383, 43743.1387623 , 43957.88314483,\n",
       "       44086.46347106, 43825.22725744, 43099.87664534, 43696.25850095,\n",
       "       42601.11327535, 43525.0325392 , 42708.80085442, 42178.8875616 ,\n",
       "       42236.75242392])"
      ]
     },
     "execution_count": 245,
     "metadata": {},
     "output_type": "execute_result"
    }
   ],
   "source": [
    "pred_close"
   ]
  },
  {
   "cell_type": "code",
   "execution_count": 299,
   "metadata": {},
   "outputs": [
    {
     "name": "stdout",
     "output_type": "stream",
     "text": [
      "\u001b[1m50/50\u001b[0m \u001b[32m━━━━━━━━━━━━━━━━━━━━\u001b[0m\u001b[37m\u001b[0m \u001b[1m0s\u001b[0m 5ms/step\n"
     ]
    },
    {
     "data": {
      "text/plain": [
       "[<matplotlib.lines.Line2D at 0x1ca1b793a50>]"
      ]
     },
     "execution_count": 299,
     "metadata": {},
     "output_type": "execute_result"
    },
    {
     "data": {
      "image/png": "[encoded data removed]",
      "text/plain": [
       "<Figure size 640x480 with 1 Axes>"
      ]
     },
     "metadata": {},
     "output_type": "display_data"
    }
   ],
   "source": [
    "plt.plot(pp_day_120.scaler_y.inverse_transform(y_train_day_120.reshape((-1,1)))[:,0])\n",
    "plt.plot(pp_day_120.scaler_y.inverse_transform(model.predict(X_train_day_120))[:,0])"
   ]
  },
  {
   "cell_type": "code",
   "execution_count": 282,
   "metadata": {},
   "outputs": [
    {
     "data": {
      "text/plain": [
       "[<matplotlib.lines.Line2D at 0x1ca4a765690>]"
      ]
     },
     "execution_count": 282,
     "metadata": {},
     "output_type": "execute_result"
    },
    {
     "data": {
      "image/png": "[encoded data removed]",
      "text/plain": [
       "<Figure size 640x480 with 1 Axes>"
      ]
     },
     "metadata": {},
     "output_type": "display_data"
    }
   ],
   "source": [
    "plt.plot(pred_return[:200])"
   ]
  },
  {
   "cell_type": "code",
   "execution_count": 271,
   "metadata": {},
   "outputs": [
    {
     "data": {
      "text/plain": [
       "[<matplotlib.lines.Line2D at 0x1ca163ed710>]"
      ]
     },
     "execution_count": 271,
     "metadata": {},
     "output_type": "execute_result"
    },
    {
     "data": {
      "image/png": "[encoded data removed]",
      "text/plain": [
       "<Figure size 640x480 with 1 Axes>"
      ]
     },
     "metadata": {},
     "output_type": "display_data"
    }
   ],
   "source": [
    "plt.plot(pred_return[:200])"
   ]
  },
  {
   "cell_type": "code",
   "execution_count": 297,
   "metadata": {},
   "outputs": [
    {
     "data": {
      "text/html": [
       "<pre style=\"white-space:pre;overflow-x:auto;line-height:normal;font-family:Menlo,'DejaVu Sans Mono',consolas,'Courier New',monospace\"><span style=\"font-weight: bold\">Model: \"sequential_33\"</span>\n",
       "</pre>\n"
      ],
      "text/plain": [
       "\u001b[1mModel: \"sequential_33\"\u001b[0m\n"
      ]
     },
     "metadata": {},
     "output_type": "display_data"
    },
    {
     "data": {
      "text/html": [
       "<pre style=\"white-space:pre;overflow-x:auto;line-height:normal;font-family:Menlo,'DejaVu Sans Mono',consolas,'Courier New',monospace\">┏━━━━━━━━━━━━━━━━━━━━━━━━━━━━━━━━━┳━━━━━━━━━━━━━━━━━━━━━━━━┳━━━━━━━━━━━━━━━┓\n",
       "┃<span style=\"font-weight: bold\"> Layer (type)                    </span>┃<span style=\"font-weight: bold\"> Output Shape           </span>┃<span style=\"font-weight: bold\">       Param # </span>┃\n",
       "┡━━━━━━━━━━━━━━━━━━━━━━━━━━━━━━━━━╇━━━━━━━━━━━━━━━━━━━━━━━━╇━━━━━━━━━━━━━━━┩\n",
       "│ conv1d_32 (<span style=\"color: #0087ff; text-decoration-color: #0087ff\">Conv1D</span>)              │ (<span style=\"color: #00af00; text-decoration-color: #00af00\">64</span>, <span style=\"color: #00af00; text-decoration-color: #00af00\">120</span>, <span style=\"color: #00af00; text-decoration-color: #00af00\">64</span>)          │        <span style=\"color: #00af00; text-decoration-color: #00af00\">11,968</span> │\n",
       "├─────────────────────────────────┼────────────────────────┼───────────────┤\n",
       "│ average_pooling1d_14            │ (<span style=\"color: #00af00; text-decoration-color: #00af00\">64</span>, <span style=\"color: #00af00; text-decoration-color: #00af00\">60</span>, <span style=\"color: #00af00; text-decoration-color: #00af00\">64</span>)           │             <span style=\"color: #00af00; text-decoration-color: #00af00\">0</span> │\n",
       "│ (<span style=\"color: #0087ff; text-decoration-color: #0087ff\">AveragePooling1D</span>)              │                        │               │\n",
       "├─────────────────────────────────┼────────────────────────┼───────────────┤\n",
       "│ conv1d_33 (<span style=\"color: #0087ff; text-decoration-color: #0087ff\">Conv1D</span>)              │ (<span style=\"color: #00af00; text-decoration-color: #00af00\">64</span>, <span style=\"color: #00af00; text-decoration-color: #00af00\">60</span>, <span style=\"color: #00af00; text-decoration-color: #00af00\">64</span>)           │        <span style=\"color: #00af00; text-decoration-color: #00af00\">61,504</span> │\n",
       "├─────────────────────────────────┼────────────────────────┼───────────────┤\n",
       "│ average_pooling1d_15            │ (<span style=\"color: #00af00; text-decoration-color: #00af00\">64</span>, <span style=\"color: #00af00; text-decoration-color: #00af00\">30</span>, <span style=\"color: #00af00; text-decoration-color: #00af00\">64</span>)           │             <span style=\"color: #00af00; text-decoration-color: #00af00\">0</span> │\n",
       "│ (<span style=\"color: #0087ff; text-decoration-color: #0087ff\">AveragePooling1D</span>)              │                        │               │\n",
       "├─────────────────────────────────┼────────────────────────┼───────────────┤\n",
       "│ lstm_134 (<span style=\"color: #0087ff; text-decoration-color: #0087ff\">LSTM</span>)                 │ (<span style=\"color: #00af00; text-decoration-color: #00af00\">64</span>, <span style=\"color: #00af00; text-decoration-color: #00af00\">30</span>, <span style=\"color: #00af00; text-decoration-color: #00af00\">32</span>)           │        <span style=\"color: #00af00; text-decoration-color: #00af00\">12,416</span> │\n",
       "├─────────────────────────────────┼────────────────────────┼───────────────┤\n",
       "│ lstm_135 (<span style=\"color: #0087ff; text-decoration-color: #0087ff\">LSTM</span>)                 │ (<span style=\"color: #00af00; text-decoration-color: #00af00\">64</span>, <span style=\"color: #00af00; text-decoration-color: #00af00\">30</span>, <span style=\"color: #00af00; text-decoration-color: #00af00\">32</span>)           │         <span style=\"color: #00af00; text-decoration-color: #00af00\">8,320</span> │\n",
       "├─────────────────────────────────┼────────────────────────┼───────────────┤\n",
       "│ lstm_136 (<span style=\"color: #0087ff; text-decoration-color: #0087ff\">LSTM</span>)                 │ (<span style=\"color: #00af00; text-decoration-color: #00af00\">64</span>, <span style=\"color: #00af00; text-decoration-color: #00af00\">32</span>)               │         <span style=\"color: #00af00; text-decoration-color: #00af00\">8,320</span> │\n",
       "├─────────────────────────────────┼────────────────────────┼───────────────┤\n",
       "│ dense_74 (<span style=\"color: #0087ff; text-decoration-color: #0087ff\">Dense</span>)                │ (<span style=\"color: #00af00; text-decoration-color: #00af00\">64</span>, <span style=\"color: #00af00; text-decoration-color: #00af00\">32</span>)               │         <span style=\"color: #00af00; text-decoration-color: #00af00\">1,056</span> │\n",
       "├─────────────────────────────────┼────────────────────────┼───────────────┤\n",
       "│ dropout_41 (<span style=\"color: #0087ff; text-decoration-color: #0087ff\">Dropout</span>)            │ (<span style=\"color: #00af00; text-decoration-color: #00af00\">64</span>, <span style=\"color: #00af00; text-decoration-color: #00af00\">32</span>)               │             <span style=\"color: #00af00; text-decoration-color: #00af00\">0</span> │\n",
       "├─────────────────────────────────┼────────────────────────┼───────────────┤\n",
       "│ dense_75 (<span style=\"color: #0087ff; text-decoration-color: #0087ff\">Dense</span>)                │ (<span style=\"color: #00af00; text-decoration-color: #00af00\">64</span>, <span style=\"color: #00af00; text-decoration-color: #00af00\">32</span>)               │         <span style=\"color: #00af00; text-decoration-color: #00af00\">1,056</span> │\n",
       "├─────────────────────────────────┼────────────────────────┼───────────────┤\n",
       "│ dropout_42 (<span style=\"color: #0087ff; text-decoration-color: #0087ff\">Dropout</span>)            │ (<span style=\"color: #00af00; text-decoration-color: #00af00\">64</span>, <span style=\"color: #00af00; text-decoration-color: #00af00\">32</span>)               │             <span style=\"color: #00af00; text-decoration-color: #00af00\">0</span> │\n",
       "├─────────────────────────────────┼────────────────────────┼───────────────┤\n",
       "│ dense_76 (<span style=\"color: #0087ff; text-decoration-color: #0087ff\">Dense</span>)                │ (<span style=\"color: #00af00; text-decoration-color: #00af00\">64</span>, <span style=\"color: #00af00; text-decoration-color: #00af00\">1</span>)                │            <span style=\"color: #00af00; text-decoration-color: #00af00\">33</span> │\n",
       "└─────────────────────────────────┴────────────────────────┴───────────────┘\n",
       "</pre>\n"
      ],
      "text/plain": [
       "┏━━━━━━━━━━━━━━━━━━━━━━━━━━━━━━━━━┳━━━━━━━━━━━━━━━━━━━━━━━━┳━━━━━━━━━━━━━━━┓\n",
       "┃\u001b[1m \u001b[0m\u001b[1mLayer (type)                   \u001b[0m\u001b[1m \u001b[0m┃\u001b[1m \u001b[0m\u001b[1mOutput Shape          \u001b[0m\u001b[1m \u001b[0m┃\u001b[1m \u001b[0m\u001b[1m      Param #\u001b[0m\u001b[1m \u001b[0m┃\n",
       "┡━━━━━━━━━━━━━━━━━━━━━━━━━━━━━━━━━╇━━━━━━━━━━━━━━━━━━━━━━━━╇━━━━━━━━━━━━━━━┩\n",
       "│ conv1d_32 (\u001b[38;5;33mConv1D\u001b[0m)              │ (\u001b[38;5;34m64\u001b[0m, \u001b[38;5;34m120\u001b[0m, \u001b[38;5;34m64\u001b[0m)          │        \u001b[38;5;34m11,968\u001b[0m │\n",
       "├─────────────────────────────────┼────────────────────────┼───────────────┤\n",
       "│ average_pooling1d_14            │ (\u001b[38;5;34m64\u001b[0m, \u001b[38;5;34m60\u001b[0m, \u001b[38;5;34m64\u001b[0m)           │             \u001b[38;5;34m0\u001b[0m │\n",
       "│ (\u001b[38;5;33mAveragePooling1D\u001b[0m)              │                        │               │\n",
       "├─────────────────────────────────┼────────────────────────┼───────────────┤\n",
       "│ conv1d_33 (\u001b[38;5;33mConv1D\u001b[0m)              │ (\u001b[38;5;34m64\u001b[0m, \u001b[38;5;34m60\u001b[0m, \u001b[38;5;34m64\u001b[0m)           │        \u001b[38;5;34m61,504\u001b[0m │\n",
       "├─────────────────────────────────┼────────────────────────┼───────────────┤\n",
       "│ average_pooling1d_15            │ (\u001b[38;5;34m64\u001b[0m, \u001b[38;5;34m30\u001b[0m, \u001b[38;5;34m64\u001b[0m)           │             \u001b[38;5;34m0\u001b[0m │\n",
       "│ (\u001b[38;5;33mAveragePooling1D\u001b[0m)              │                        │               │\n",
       "├─────────────────────────────────┼────────────────────────┼───────────────┤\n",
       "│ lstm_134 (\u001b[38;5;33mLSTM\u001b[0m)                 │ (\u001b[38;5;34m64\u001b[0m, \u001b[38;5;34m30\u001b[0m, \u001b[38;5;34m32\u001b[0m)           │        \u001b[38;5;34m12,416\u001b[0m │\n",
       "├─────────────────────────────────┼────────────────────────┼───────────────┤\n",
       "│ lstm_135 (\u001b[38;5;33mLSTM\u001b[0m)                 │ (\u001b[38;5;34m64\u001b[0m, \u001b[38;5;34m30\u001b[0m, \u001b[38;5;34m32\u001b[0m)           │         \u001b[38;5;34m8,320\u001b[0m │\n",
       "├─────────────────────────────────┼────────────────────────┼───────────────┤\n",
       "│ lstm_136 (\u001b[38;5;33mLSTM\u001b[0m)                 │ (\u001b[38;5;34m64\u001b[0m, \u001b[38;5;34m32\u001b[0m)               │         \u001b[38;5;34m8,320\u001b[0m │\n",
       "├─────────────────────────────────┼────────────────────────┼───────────────┤\n",
       "│ dense_74 (\u001b[38;5;33mDense\u001b[0m)                │ (\u001b[38;5;34m64\u001b[0m, \u001b[38;5;34m32\u001b[0m)               │         \u001b[38;5;34m1,056\u001b[0m │\n",
       "├─────────────────────────────────┼────────────────────────┼───────────────┤\n",
       "│ dropout_41 (\u001b[38;5;33mDropout\u001b[0m)            │ (\u001b[38;5;34m64\u001b[0m, \u001b[38;5;34m32\u001b[0m)               │             \u001b[38;5;34m0\u001b[0m │\n",
       "├─────────────────────────────────┼────────────────────────┼───────────────┤\n",
       "│ dense_75 (\u001b[38;5;33mDense\u001b[0m)                │ (\u001b[38;5;34m64\u001b[0m, \u001b[38;5;34m32\u001b[0m)               │         \u001b[38;5;34m1,056\u001b[0m │\n",
       "├─────────────────────────────────┼────────────────────────┼───────────────┤\n",
       "│ dropout_42 (\u001b[38;5;33mDropout\u001b[0m)            │ (\u001b[38;5;34m64\u001b[0m, \u001b[38;5;34m32\u001b[0m)               │             \u001b[38;5;34m0\u001b[0m │\n",
       "├─────────────────────────────────┼────────────────────────┼───────────────┤\n",
       "│ dense_76 (\u001b[38;5;33mDense\u001b[0m)                │ (\u001b[38;5;34m64\u001b[0m, \u001b[38;5;34m1\u001b[0m)                │            \u001b[38;5;34m33\u001b[0m │\n",
       "└─────────────────────────────────┴────────────────────────┴───────────────┘\n"
      ]
     },
     "metadata": {},
     "output_type": "display_data"
    },
    {
     "data": {
      "text/html": [
       "<pre style=\"white-space:pre;overflow-x:auto;line-height:normal;font-family:Menlo,'DejaVu Sans Mono',consolas,'Courier New',monospace\"><span style=\"font-weight: bold\"> Total params: </span><span style=\"color: #00af00; text-decoration-color: #00af00\">314,021</span> (1.20 MB)\n",
       "</pre>\n"
      ],
      "text/plain": [
       "\u001b[1m Total params: \u001b[0m\u001b[38;5;34m314,021\u001b[0m (1.20 MB)\n"
      ]
     },
     "metadata": {},
     "output_type": "display_data"
    },
    {
     "data": {
      "text/html": [
       "<pre style=\"white-space:pre;overflow-x:auto;line-height:normal;font-family:Menlo,'DejaVu Sans Mono',consolas,'Courier New',monospace\"><span style=\"font-weight: bold\"> Trainable params: </span><span style=\"color: #00af00; text-decoration-color: #00af00\">104,673</span> (408.88 KB)\n",
       "</pre>\n"
      ],
      "text/plain": [
       "\u001b[1m Trainable params: \u001b[0m\u001b[38;5;34m104,673\u001b[0m (408.88 KB)\n"
      ]
     },
     "metadata": {},
     "output_type": "display_data"
    },
    {
     "data": {
      "text/html": [
       "<pre style=\"white-space:pre;overflow-x:auto;line-height:normal;font-family:Menlo,'DejaVu Sans Mono',consolas,'Courier New',monospace\"><span style=\"font-weight: bold\"> Non-trainable params: </span><span style=\"color: #00af00; text-decoration-color: #00af00\">0</span> (0.00 B)\n",
       "</pre>\n"
      ],
      "text/plain": [
       "\u001b[1m Non-trainable params: \u001b[0m\u001b[38;5;34m0\u001b[0m (0.00 B)\n"
      ]
     },
     "metadata": {},
     "output_type": "display_data"
    },
    {
     "data": {
      "text/html": [
       "<pre style=\"white-space:pre;overflow-x:auto;line-height:normal;font-family:Menlo,'DejaVu Sans Mono',consolas,'Courier New',monospace\"><span style=\"font-weight: bold\"> Optimizer params: </span><span style=\"color: #00af00; text-decoration-color: #00af00\">209,348</span> (817.77 KB)\n",
       "</pre>\n"
      ],
      "text/plain": [
       "\u001b[1m Optimizer params: \u001b[0m\u001b[38;5;34m209,348\u001b[0m (817.77 KB)\n"
      ]
     },
     "metadata": {},
     "output_type": "display_data"
    }
   ],
   "source": [
    "model.summary()"
   ]
  },
  {
   "cell_type": "markdown",
   "metadata": {},
   "source": [
    "# result"
   ]
  },
  {
   "cell_type": "code",
   "execution_count": 283,
   "metadata": {},
   "outputs": [
    {
     "data": {
      "text/plain": [
       "[<matplotlib.lines.Line2D at 0x1ca5598e990>]"
      ]
     },
     "execution_count": 283,
     "metadata": {},
     "output_type": "execute_result"
    },
    {
     "data": {
      "image/png": "[encoded data removed]",
      "text/plain": [
       "<Figure size 640x480 with 1 Axes>"
      ]
     },
     "metadata": {},
     "output_type": "display_data"
    }
   ],
   "source": [
    "plt.plot(test_close.values)\n",
    "plt.plot(naive_pred)\n",
    "plt.plot(pred_close)"
   ]
  },
  {
   "cell_type": "code",
   "execution_count": 229,
   "metadata": {},
   "outputs": [
    {
     "data": {
      "text/plain": [
       "[<matplotlib.lines.Line2D at 0x2a30e49d950>]"
      ]
     },
     "execution_count": 229,
     "metadata": {},
     "output_type": "execute_result"
    },
    {
     "data": {
      "image/png": "[encoded data removed]",
      "text/plain": [
       "<Figure size 640x480 with 1 Axes>"
      ]
     },
     "metadata": {},
     "output_type": "display_data"
    }
   ],
   "source": [
    "from matplotlib import pyplot as plt\n",
    "plt.plot(y_test[:10])\n",
    "plt.plot(LSTM_pred[:10])"
   ]
  },
  {
   "cell_type": "code",
   "execution_count": 120,
   "metadata": {},
   "outputs": [
    {
     "data": {
      "text/plain": [
       "array([0.47907782, 0.70409165, 0.66390678, ..., 0.48045181, 0.43266537,\n",
       "       0.58660623])"
      ]
     },
     "execution_count": 120,
     "metadata": {},
     "output_type": "execute_result"
    }
   ],
   "source": [
    "y_test"
   ]
  },
  {
   "cell_type": "code",
   "execution_count": 412,
   "metadata": {},
   "outputs": [
    {
     "data": {
      "text/plain": [
       "[<matplotlib.lines.Line2D at 0x1cbfb3b18d0>]"
      ]
     },
     "execution_count": 412,
     "metadata": {},
     "output_type": "execute_result"
    },
    {
     "data": {
      "image/png": "[encoded data removed]",
      "text/plain": [
       "<Figure size 640x480 with 1 Axes>"
      ]
     },
     "metadata": {},
     "output_type": "display_data"
    }
   ],
   "source": [
    "plt.plot(df_diff.Volume_BTC[:100])"
   ]
  },
  {
   "cell_type": "code",
   "execution_count": 413,
   "metadata": {},
   "outputs": [
    {
     "data": {
      "text/html": [
       "<div>\n",
       "<style scoped>\n",
       "    .dataframe tbody tr th:only-of-type {\n",
       "        vertical-align: middle;\n",
       "    }\n",
       "\n",
       "    .dataframe tbody tr th {\n",
       "        vertical-align: top;\n",
       "    }\n",
       "\n",
       "    .dataframe thead th {\n",
       "        text-align: right;\n",
       "    }\n",
       "</style>\n",
       "<table border=\"1\" class=\"dataframe\">\n",
       "  <thead>\n",
       "    <tr style=\"text-align: right;\">\n",
       "      <th></th>\n",
       "      <th>return</th>\n",
       "      <th>Volume_BTC</th>\n",
       "    </tr>\n",
       "  </thead>\n",
       "  <tbody>\n",
       "    <tr>\n",
       "      <th>return</th>\n",
       "      <td>1.000000</td>\n",
       "      <td>-0.014384</td>\n",
       "    </tr>\n",
       "    <tr>\n",
       "      <th>Volume_BTC</th>\n",
       "      <td>-0.014384</td>\n",
       "      <td>1.000000</td>\n",
       "    </tr>\n",
       "  </tbody>\n",
       "</table>\n",
       "</div>"
      ],
      "text/plain": [
       "              return  Volume_BTC\n",
       "return      1.000000   -0.014384\n",
       "Volume_BTC -0.014384    1.000000"
      ]
     },
     "execution_count": 413,
     "metadata": {},
     "output_type": "execute_result"
    }
   ],
   "source": [
    "df_diff.corr()"
   ]
  },
  {
   "cell_type": "code",
   "execution_count": 402,
   "metadata": {},
   "outputs": [
    {
     "data": {
      "text/plain": [
       "array([-3.5762787e-07, -1.1920929e-07, -1.7881393e-07, -1.1920929e-07,\n",
       "        0.0000000e+00, -5.3644180e-07, -8.9406967e-07, -8.9406967e-07,\n",
       "       -8.9406967e-07, -7.7486038e-07], dtype=float32)"
      ]
     },
     "execution_count": 402,
     "metadata": {},
     "output_type": "execute_result"
    }
   ],
   "source": [
    "LSTM_pred[:10] - LSTM_pred.mean()"
   ]
  },
  {
   "cell_type": "code",
   "execution_count": 394,
   "metadata": {},
   "outputs": [
    {
     "data": {
      "text/plain": [
       "[<matplotlib.lines.Line2D at 0x1cbf9bffd10>]"
      ]
     },
     "execution_count": 394,
     "metadata": {},
     "output_type": "execute_result"
    },
    {
     "data": {
      "image/png": "[encoded data removed]",
      "text/plain": [
       "<Figure size 640x480 with 1 Axes>"
      ]
     },
     "metadata": {},
     "output_type": "display_data"
    }
   ],
   "source": [
    "plt.plot(LSTM_pred)"
   ]
  }
 ],
 "metadata": {
  "kernelspec": {
   "display_name": "tf2",
   "language": "python",
   "name": "python3"
  },
  "language_info": {
   "codemirror_mode": {
    "name": "ipython",
    "version": 3
   },
   "file_extension": ".py",
   "mimetype": "text/x-python",
   "name": "python",
   "nbconvert_exporter": "python",
   "pygments_lexer": "ipython3",
   "version": "3.11.5"
  }
 },
 "nbformat": 4,
 "nbformat_minor": 2
}
