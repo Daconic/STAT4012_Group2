{
 "cells": [
  {
   "cell_type": "code",
   "execution_count": 1,
   "id": "9ad62c83-a4ed-469f-91f9-fd12bd4ba499",
   "metadata": {},
   "outputs": [],
   "source": [
    "import numpy as np\n",
    "import pandas as pd\n",
    "df1 = pd.read_csv('BTC-USD_day_yfin.csv')"
   ]
  },
  {
   "cell_type": "code",
   "execution_count": 2,
   "id": "34a3518a-7938-4f34-b896-142e3a24880a",
   "metadata": {},
   "outputs": [],
   "source": [
    "df1['Price'] = df1['Adj Close']\n",
    "df2 = df1[['Date','Price']]\n",
    "df2 = df2.iloc[::-1]"
   ]
  },
  {
   "cell_type": "code",
   "execution_count": 3,
   "id": "5679d39d-e3cd-406c-96d3-d65f03286fd1",
   "metadata": {},
   "outputs": [
    {
     "data": {
      "text/html": [
       "<div>\n",
       "<style scoped>\n",
       "    .dataframe tbody tr th:only-of-type {\n",
       "        vertical-align: middle;\n",
       "    }\n",
       "\n",
       "    .dataframe tbody tr th {\n",
       "        vertical-align: top;\n",
       "    }\n",
       "\n",
       "    .dataframe thead th {\n",
       "        text-align: right;\n",
       "    }\n",
       "</style>\n",
       "<table border=\"1\" class=\"dataframe\">\n",
       "  <thead>\n",
       "    <tr style=\"text-align: right;\">\n",
       "      <th></th>\n",
       "      <th>Date</th>\n",
       "      <th>Price</th>\n",
       "    </tr>\n",
       "  </thead>\n",
       "  <tbody>\n",
       "    <tr>\n",
       "      <th>2190</th>\n",
       "      <td>2023-12-31</td>\n",
       "      <td>42265.187500</td>\n",
       "    </tr>\n",
       "    <tr>\n",
       "      <th>2189</th>\n",
       "      <td>2023-12-30</td>\n",
       "      <td>42156.902344</td>\n",
       "    </tr>\n",
       "    <tr>\n",
       "      <th>2188</th>\n",
       "      <td>2023-12-29</td>\n",
       "      <td>42099.402344</td>\n",
       "    </tr>\n",
       "    <tr>\n",
       "      <th>2187</th>\n",
       "      <td>2023-12-28</td>\n",
       "      <td>42627.855469</td>\n",
       "    </tr>\n",
       "    <tr>\n",
       "      <th>2186</th>\n",
       "      <td>2023-12-27</td>\n",
       "      <td>43442.855469</td>\n",
       "    </tr>\n",
       "    <tr>\n",
       "      <th>...</th>\n",
       "      <td>...</td>\n",
       "      <td>...</td>\n",
       "    </tr>\n",
       "    <tr>\n",
       "      <th>4</th>\n",
       "      <td>2018-01-05</td>\n",
       "      <td>17429.500000</td>\n",
       "    </tr>\n",
       "    <tr>\n",
       "      <th>3</th>\n",
       "      <td>2018-01-04</td>\n",
       "      <td>15599.200195</td>\n",
       "    </tr>\n",
       "    <tr>\n",
       "      <th>2</th>\n",
       "      <td>2018-01-03</td>\n",
       "      <td>15201.000000</td>\n",
       "    </tr>\n",
       "    <tr>\n",
       "      <th>1</th>\n",
       "      <td>2018-01-02</td>\n",
       "      <td>14982.099609</td>\n",
       "    </tr>\n",
       "    <tr>\n",
       "      <th>0</th>\n",
       "      <td>2018-01-01</td>\n",
       "      <td>13657.200195</td>\n",
       "    </tr>\n",
       "  </tbody>\n",
       "</table>\n",
       "<p>2191 rows × 2 columns</p>\n",
       "</div>"
      ],
      "text/plain": [
       "            Date         Price\n",
       "2190  2023-12-31  42265.187500\n",
       "2189  2023-12-30  42156.902344\n",
       "2188  2023-12-29  42099.402344\n",
       "2187  2023-12-28  42627.855469\n",
       "2186  2023-12-27  43442.855469\n",
       "...          ...           ...\n",
       "4     2018-01-05  17429.500000\n",
       "3     2018-01-04  15599.200195\n",
       "2     2018-01-03  15201.000000\n",
       "1     2018-01-02  14982.099609\n",
       "0     2018-01-01  13657.200195\n",
       "\n",
       "[2191 rows x 2 columns]"
      ]
     },
     "execution_count": 3,
     "metadata": {},
     "output_type": "execute_result"
    }
   ],
   "source": [
    "df2"
   ]
  },
  {
   "cell_type": "code",
   "execution_count": 4,
   "id": "7ceef497-c693-480f-b411-34f02994a852",
   "metadata": {},
   "outputs": [
    {
     "data": {
      "text/html": [
       "<div>\n",
       "<style scoped>\n",
       "    .dataframe tbody tr th:only-of-type {\n",
       "        vertical-align: middle;\n",
       "    }\n",
       "\n",
       "    .dataframe tbody tr th {\n",
       "        vertical-align: top;\n",
       "    }\n",
       "\n",
       "    .dataframe thead th {\n",
       "        text-align: right;\n",
       "    }\n",
       "</style>\n",
       "<table border=\"1\" class=\"dataframe\">\n",
       "  <thead>\n",
       "    <tr style=\"text-align: right;\">\n",
       "      <th></th>\n",
       "      <th>Date</th>\n",
       "      <th>Price</th>\n",
       "      <th>Price_lag1</th>\n",
       "    </tr>\n",
       "  </thead>\n",
       "  <tbody>\n",
       "    <tr>\n",
       "      <th>2190</th>\n",
       "      <td>2023-12-31</td>\n",
       "      <td>42265.187500</td>\n",
       "      <td>42156.902344</td>\n",
       "    </tr>\n",
       "    <tr>\n",
       "      <th>2189</th>\n",
       "      <td>2023-12-30</td>\n",
       "      <td>42156.902344</td>\n",
       "      <td>42099.402344</td>\n",
       "    </tr>\n",
       "    <tr>\n",
       "      <th>2188</th>\n",
       "      <td>2023-12-29</td>\n",
       "      <td>42099.402344</td>\n",
       "      <td>42627.855469</td>\n",
       "    </tr>\n",
       "    <tr>\n",
       "      <th>2187</th>\n",
       "      <td>2023-12-28</td>\n",
       "      <td>42627.855469</td>\n",
       "      <td>43442.855469</td>\n",
       "    </tr>\n",
       "    <tr>\n",
       "      <th>2186</th>\n",
       "      <td>2023-12-27</td>\n",
       "      <td>43442.855469</td>\n",
       "      <td>42520.402344</td>\n",
       "    </tr>\n",
       "    <tr>\n",
       "      <th>...</th>\n",
       "      <td>...</td>\n",
       "      <td>...</td>\n",
       "      <td>...</td>\n",
       "    </tr>\n",
       "    <tr>\n",
       "      <th>4</th>\n",
       "      <td>2018-01-05</td>\n",
       "      <td>17429.500000</td>\n",
       "      <td>15599.200195</td>\n",
       "    </tr>\n",
       "    <tr>\n",
       "      <th>3</th>\n",
       "      <td>2018-01-04</td>\n",
       "      <td>15599.200195</td>\n",
       "      <td>15201.000000</td>\n",
       "    </tr>\n",
       "    <tr>\n",
       "      <th>2</th>\n",
       "      <td>2018-01-03</td>\n",
       "      <td>15201.000000</td>\n",
       "      <td>14982.099609</td>\n",
       "    </tr>\n",
       "    <tr>\n",
       "      <th>1</th>\n",
       "      <td>2018-01-02</td>\n",
       "      <td>14982.099609</td>\n",
       "      <td>13657.200195</td>\n",
       "    </tr>\n",
       "    <tr>\n",
       "      <th>0</th>\n",
       "      <td>2018-01-01</td>\n",
       "      <td>13657.200195</td>\n",
       "      <td>NaN</td>\n",
       "    </tr>\n",
       "  </tbody>\n",
       "</table>\n",
       "<p>2191 rows × 3 columns</p>\n",
       "</div>"
      ],
      "text/plain": [
       "            Date         Price    Price_lag1\n",
       "2190  2023-12-31  42265.187500  42156.902344\n",
       "2189  2023-12-30  42156.902344  42099.402344\n",
       "2188  2023-12-29  42099.402344  42627.855469\n",
       "2187  2023-12-28  42627.855469  43442.855469\n",
       "2186  2023-12-27  43442.855469  42520.402344\n",
       "...          ...           ...           ...\n",
       "4     2018-01-05  17429.500000  15599.200195\n",
       "3     2018-01-04  15599.200195  15201.000000\n",
       "2     2018-01-03  15201.000000  14982.099609\n",
       "1     2018-01-02  14982.099609  13657.200195\n",
       "0     2018-01-01  13657.200195           NaN\n",
       "\n",
       "[2191 rows x 3 columns]"
      ]
     },
     "execution_count": 4,
     "metadata": {},
     "output_type": "execute_result"
    }
   ],
   "source": [
    "df2['Price_lag1'] = df2['Price'].shift(-1)\n",
    "df2"
   ]
  },
  {
   "cell_type": "code",
   "execution_count": 5,
   "id": "4e14e0ff-ffc2-4890-b663-be9d56080b49",
   "metadata": {},
   "outputs": [],
   "source": [
    "df3 = df2.head(365)\n"
   ]
  },
  {
   "cell_type": "code",
   "execution_count": 6,
   "id": "ab52e960-cf6d-49fb-9549-b37e14fbffac",
   "metadata": {},
   "outputs": [
    {
     "data": {
      "text/plain": [
       "430132.64581044327"
      ]
     },
     "execution_count": 6,
     "metadata": {},
     "output_type": "execute_result"
    }
   ],
   "source": [
    "sum((df3['Price_lag1']-df3['Price'])**2)/365"
   ]
  },
  {
   "cell_type": "code",
   "execution_count": null,
   "id": "4c10f71c-2fee-42b9-acce-a8d810527852",
   "metadata": {},
   "outputs": [],
   "source": []
  }
 ],
 "metadata": {
  "kernelspec": {
   "display_name": "Python 3 (ipykernel)",
   "language": "python",
   "name": "python3"
  },
  "language_info": {
   "codemirror_mode": {
    "name": "ipython",
    "version": 3
   },
   "file_extension": ".py",
   "mimetype": "text/x-python",
   "name": "python",
   "nbconvert_exporter": "python",
   "pygments_lexer": "ipython3",
   "version": "3.11.7"
  }
 },
 "nbformat": 4,
 "nbformat_minor": 5
}
